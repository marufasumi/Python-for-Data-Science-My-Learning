{
 "cells": [
  {
   "cell_type": "markdown",
   "id": "9764becd",
   "metadata": {},
   "source": [
    "## Exercise 1: Reverse the tuple\n",
    "\n",
    "Given:\n",
    "    \n",
    "tuple1 = (10, 20, 30, 40, 50)\n",
    "\n",
    "Expected output:\n",
    "\n",
    "(50, 40, 30, 20, 10)"
   ]
  },
  {
   "cell_type": "code",
   "execution_count": 2,
   "id": "93b97d4c",
   "metadata": {},
   "outputs": [
    {
     "data": {
      "text/plain": [
       "(50, 40, 30, 20, 10)"
      ]
     },
     "execution_count": 2,
     "metadata": {},
     "output_type": "execute_result"
    }
   ],
   "source": [
    "## Use tuple slicing to reverse the given tuple. Note: the last element starts at -1.\n",
    "tuple1 = (10, 20, 30, 40, 50)\n",
    "tuple1 =tuple1[::-1]\n",
    "tuple1"
   ]
  },
  {
   "cell_type": "markdown",
   "id": "a0eb56f3",
   "metadata": {},
   "source": [
    "## Exercise 2: Access value 20 from the tuple\n",
    "\n",
    "The given tuple is a nested tuple. write a Python program to print the value 20.\n",
    "\n",
    "Given:\n",
    "\n",
    "tuple1 = (\"Orange\", [10, 20, 30], (5, 15, 25))\n",
    "\n",
    "Expected output:\n",
    "\n",
    "20"
   ]
  },
  {
   "cell_type": "code",
   "execution_count": 4,
   "id": "ee9776ed",
   "metadata": {},
   "outputs": [
    {
     "data": {
      "text/plain": [
       "20"
      ]
     },
     "execution_count": 4,
     "metadata": {},
     "output_type": "execute_result"
    }
   ],
   "source": [
    "tuple1 = (\"Orange\", [10, 20, 30], (5, 15, 25))\n",
    "tuple1[1][1]"
   ]
  },
  {
   "cell_type": "code",
   "execution_count": 3,
   "id": "c10fa661",
   "metadata": {},
   "outputs": [
    {
     "name": "stdout",
     "output_type": "stream",
     "text": [
      "(50,)\n"
     ]
    }
   ],
   "source": [
    "## Exercise 3: Create a tuple with single item 50\n",
    "tuple1 = (50,)\n",
    "print(tuple1)"
   ]
  },
  {
   "cell_type": "markdown",
   "id": "25d4c7fd",
   "metadata": {},
   "source": [
    "## Exercise 4: Unpack the tuple into 4 variables\n",
    "\n",
    "Write a program to unpack the following tuple into four variables and display each variable.\n",
    "\n",
    "Given:\n",
    "\n",
    "tuple1 = (10, 20, 30, 40)\n",
    "\n",
    "Expected output:\n",
    "\n",
    "tuple1 = (10, 20, 30, 40)\n",
    "\n",
    "# Your code\n",
    "print(a) # should print 10\n",
    "\n",
    "print(b) # should print 20\n",
    "\n",
    "print(c) # should print 30\n",
    "\n",
    "print(d) # should print 40"
   ]
  },
  {
   "cell_type": "code",
   "execution_count": 6,
   "id": "d96ec922",
   "metadata": {},
   "outputs": [
    {
     "name": "stdout",
     "output_type": "stream",
     "text": [
      "10\n",
      "20\n",
      "30\n",
      "40\n"
     ]
    }
   ],
   "source": [
    "tuple1 = (10, 20, 30, 40)\n",
    "##a =tuple1[0]\n",
    "#b =tuple1[1]\n",
    "#c =tuple1[2]\n",
    "#d =tuple1[3]*/\n",
    "\n",
    "## Another way\n",
    "a,b,c,d= tuple1\n",
    "print(a)\n",
    "print(b)\n",
    "print(c)\n",
    "print(d)"
   ]
  },
  {
   "cell_type": "markdown",
   "id": "2dcfabe0",
   "metadata": {},
   "source": [
    "## Exercise 5: Swap two tuples in Python\n",
    "\n",
    "Given:\n",
    "\n",
    "tuple1 = (11, 22)\n",
    "\n",
    "tuple2 = (99, 88)\n",
    "\n",
    "Expected output:\n",
    "\n",
    "tuple1: (99, 88)\n",
    "    \n",
    "tuple2: (11, 22)"
   ]
  },
  {
   "cell_type": "code",
   "execution_count": 8,
   "id": "526fa450",
   "metadata": {},
   "outputs": [
    {
     "name": "stdout",
     "output_type": "stream",
     "text": [
      "(99, 88)\n",
      "(11, 22)\n"
     ]
    }
   ],
   "source": [
    "tuple1 = (11, 22)\n",
    "tuple2 = (99, 88)\n",
    "\n",
    "tuple1,tuple2 =tuple2,tuple1\n",
    "\n",
    "print(tuple1)\n",
    "print(tuple2)"
   ]
  },
  {
   "cell_type": "markdown",
   "id": "1368cd8d",
   "metadata": {},
   "source": [
    "## Exercise 6: Copy specific elements from one tuple to a new tuple\n",
    "\n",
    "Write a program to copy elements 44 and 55 from the following tuple into a new tuple.\n",
    "\n",
    "Given:\n",
    "\n",
    "tuple1 = (11, 22, 33, 44, 55, 66)\n",
    "\n",
    "Expected output:\n",
    "\n",
    "tuple2: (44, 55)"
   ]
  },
  {
   "cell_type": "code",
   "execution_count": 9,
   "id": "6bb8796c",
   "metadata": {},
   "outputs": [
    {
     "data": {
      "text/plain": [
       "(44, 55)"
      ]
     },
     "execution_count": 9,
     "metadata": {},
     "output_type": "execute_result"
    }
   ],
   "source": [
    "tuple1 = (11, 22, 33, 44, 55, 66)\n",
    "tuple2=(tuple1[3],tuple1[4])\n",
    "tuple2"
   ]
  },
  {
   "cell_type": "markdown",
   "id": "339a8e3f",
   "metadata": {},
   "source": [
    "## Exercise 7: Modify the tuple\n",
    "\n",
    "Given is a nested tuple. Write a program to modify the first item (22) of a list inside a following tuple to 222\n",
    "\n",
    "Given:\n",
    "\n",
    "tuple1 = (11, [22, 33], 44, 55)\n",
    "\n",
    "Expected output:\n",
    "\n",
    "tuple1: (11, [222, 33], 44, 55)"
   ]
  },
  {
   "cell_type": "code",
   "execution_count": 11,
   "id": "8b174768",
   "metadata": {},
   "outputs": [
    {
     "data": {
      "text/plain": [
       "(11, [222, 33], 44, 55)"
      ]
     },
     "execution_count": 11,
     "metadata": {},
     "output_type": "execute_result"
    }
   ],
   "source": [
    "tuple1 = (11, [22, 33], 44, 55)\n",
    "tuple1[1][0]=222\n",
    "tuple1"
   ]
  },
  {
   "cell_type": "markdown",
   "id": "66092232",
   "metadata": {},
   "source": [
    "## Exercise 8: Sort a tuple of tuples by 2nd item\n",
    "\n",
    "Given:\n",
    "\n",
    "tuple1 = (('a', 23),('b', 37),('c', 11), ('d',29))\n",
    "\n",
    "Expected output:\n",
    "\n",
    "(('c', 11), ('a', 23), ('d', 29), ('b', 37))"
   ]
  },
  {
   "cell_type": "raw",
   "id": "95d756c3",
   "metadata": {},
   "source": [
    "sorted(): This is a built-in Python function used to sort iterables like lists, tuples, etc.\n",
    "\n",
    "tuple1: This is the tuple of tuples that we want to sort.\n",
    "\n",
    "key=lambda x: x[1]: This is a key function that tells Python how to sort the tuples within tuple1. Here, lambda x: x[1] is a lambda function that takes a tuple x as input and returns its second element (x[1]). This means we want to sort the tuples based on their second elements."
   ]
  },
  {
   "cell_type": "code",
   "execution_count": 14,
   "id": "3aecf87d",
   "metadata": {},
   "outputs": [
    {
     "data": {
      "text/plain": [
       "(('c', 11), ('a', 23), ('d', 29), ('b', 37))"
      ]
     },
     "execution_count": 14,
     "metadata": {},
     "output_type": "execute_result"
    }
   ],
   "source": [
    "tuple1 = (('a', 23),('b', 37),('c', 11), ('d',29))\n",
    "tuple1= tuple(sorted(tuple1,key = lambda x: x[1]))\n",
    "tuple1"
   ]
  },
  {
   "cell_type": "markdown",
   "id": "5b87ac7c",
   "metadata": {},
   "source": [
    "## Exercise 9: Counts the number of occurrences of item 50 from a tuple\n",
    "\n",
    "tuple1 = (50, 10, 60, 70, 50)\n",
    "\n",
    "Expected output:\n",
    "\n",
    "2"
   ]
  },
  {
   "cell_type": "code",
   "execution_count": 15,
   "id": "194228e0",
   "metadata": {},
   "outputs": [
    {
     "data": {
      "text/plain": [
       "2"
      ]
     },
     "execution_count": 15,
     "metadata": {},
     "output_type": "execute_result"
    }
   ],
   "source": [
    "tuple1 = (50, 10, 60, 70, 50)\n",
    "tuple1.count(50)"
   ]
  },
  {
   "cell_type": "markdown",
   "id": "f5cde3f3",
   "metadata": {},
   "source": [
    "## Exercise 10: Check if all items in the tuple are the same\n",
    "\n",
    "tuple1 = (45, 45, 45, 45)\n",
    "\n",
    "Expected output:\n",
    "\n",
    "True\n"
   ]
  },
  {
   "cell_type": "raw",
   "id": "a7480864",
   "metadata": {},
   "source": [
    "You can achieve this by converting the tuple to a set and then checking if the length of the set is 1, meaning that all elements in the tuple are the same. Here's the code:"
   ]
  },
  {
   "cell_type": "code",
   "execution_count": 16,
   "id": "a10477ed",
   "metadata": {},
   "outputs": [
    {
     "name": "stdout",
     "output_type": "stream",
     "text": [
      "True\n"
     ]
    }
   ],
   "source": [
    "tuple1 = (45, 45, 45, 45)\n",
    "\n",
    "result = len(set(tuple1)) == 1\n",
    "\n",
    "print(result)\n"
   ]
  },
  {
   "cell_type": "code",
   "execution_count": null,
   "id": "d93c297b",
   "metadata": {},
   "outputs": [],
   "source": []
  }
 ],
 "metadata": {
  "kernelspec": {
   "display_name": "Python 3 (ipykernel)",
   "language": "python",
   "name": "python3"
  },
  "language_info": {
   "codemirror_mode": {
    "name": "ipython",
    "version": 3
   },
   "file_extension": ".py",
   "mimetype": "text/x-python",
   "name": "python",
   "nbconvert_exporter": "python",
   "pygments_lexer": "ipython3",
   "version": "3.9.13"
  }
 },
 "nbformat": 4,
 "nbformat_minor": 5
}
