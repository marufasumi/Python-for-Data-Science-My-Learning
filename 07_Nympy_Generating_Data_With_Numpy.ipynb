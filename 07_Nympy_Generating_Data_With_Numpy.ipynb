{
 "cells": [
  {
   "cell_type": "raw",
   "id": "1e10c83d",
   "metadata": {},
   "source": [
    "=>Function that quickly generate arrays of data\n",
    "=>np.empty(), np.zeros(), np.ones(), np.full()"
   ]
  },
  {
   "cell_type": "code",
   "execution_count": 1,
   "id": "ad1f9b11",
   "metadata": {},
   "outputs": [],
   "source": [
    "import numpy as np"
   ]
  },
  {
   "cell_type": "raw",
   "id": "99303c01",
   "metadata": {},
   "source": [
    "np.empty()\n",
    "=> Creates an empty N-D array\n",
    "=> Return an array withpout initializing entries\n",
    "=> Fastest way to generate an N-D array"
   ]
  },
  {
   "cell_type": "code",
   "execution_count": 2,
   "id": "50e703b5",
   "metadata": {},
   "outputs": [
    {
     "data": {
      "text/plain": [
       "array([[0., 0., 0.],\n",
       "       [0., 0., 0.]])"
      ]
     },
     "execution_count": 2,
     "metadata": {},
     "output_type": "execute_result"
    }
   ],
   "source": [
    "array_empty =np.empty(shape=(2,3))\n",
    "array_empty"
   ]
  },
  {
   "cell_type": "raw",
   "id": "8af2fd9c",
   "metadata": {},
   "source": [
    "np.zeroes()\n",
    "=> Creates an array full of zeros with a given shape and size"
   ]
  },
  {
   "cell_type": "code",
   "execution_count": 4,
   "id": "d2577390",
   "metadata": {},
   "outputs": [
    {
     "data": {
      "text/plain": [
       "array([[0, 0, 0],\n",
       "       [0, 0, 0]], dtype=int8)"
      ]
     },
     "execution_count": 4,
     "metadata": {},
     "output_type": "execute_result"
    }
   ],
   "source": [
    "array_zeros =np.zeros(shape=(2,3), dtype=np.int8)\n",
    "array_zeros"
   ]
  },
  {
   "cell_type": "raw",
   "id": "cae61d0d",
   "metadata": {},
   "source": [
    "np.ones()\n",
    "=> Creates an array full of ones with a given shape and size"
   ]
  },
  {
   "cell_type": "code",
   "execution_count": 5,
   "id": "c411caf6",
   "metadata": {},
   "outputs": [
    {
     "data": {
      "text/plain": [
       "array([[1, 1, 1],\n",
       "       [1, 1, 1]], dtype=int8)"
      ]
     },
     "execution_count": 5,
     "metadata": {},
     "output_type": "execute_result"
    }
   ],
   "source": [
    "array_ones =np.ones(shape=(2,3), dtype=np.int8)\n",
    "array_ones"
   ]
  },
  {
   "cell_type": "raw",
   "id": "6b924aad",
   "metadata": {},
   "source": [
    "np.full()\n",
    "=>Generates an array filled entirely with a specified value\n",
    "=> Contains an additional mandatory argument called: fill_value\n",
    "=>fill_value takes scalar value"
   ]
  },
  {
   "cell_type": "code",
   "execution_count": 7,
   "id": "0d4a4e3b",
   "metadata": {},
   "outputs": [
    {
     "data": {
      "text/plain": [
       "array([[2, 2, 2],\n",
       "       [2, 2, 2]])"
      ]
     },
     "execution_count": 7,
     "metadata": {},
     "output_type": "execute_result"
    }
   ],
   "source": [
    "array_full = np.full(shape=(2,3), fill_value=2)\n",
    "array_full"
   ]
  },
  {
   "cell_type": "code",
   "execution_count": 8,
   "id": "e5745485",
   "metadata": {},
   "outputs": [
    {
     "data": {
      "text/plain": [
       "array([['Text', 'Text', 'Text'],\n",
       "       ['Text', 'Text', 'Text']], dtype='<U4')"
      ]
     },
     "execution_count": 8,
     "metadata": {},
     "output_type": "execute_result"
    }
   ],
   "source": [
    "array_full = np.full(shape=(2,3), fill_value=\"Text\")\n",
    "array_full"
   ]
  },
  {
   "cell_type": "markdown",
   "id": "3be4cc19",
   "metadata": {},
   "source": [
    "### _like Function\n"
   ]
  },
  {
   "cell_type": "raw",
   "id": "997f1c21",
   "metadata": {},
   "source": [
    "=>Equilalent to np.empty, np.zeros, np.ones, np.full\n",
    "=> Don't need to specify a shape or type\n",
    "=> We need to provide another array (whose shape and type we take)\n",
    "=> Why are like function useful?\n",
    "A second array where we store a value or each element of the original one\n",
    "Very convinient when working with huge databases (faster loading time)"
   ]
  },
  {
   "cell_type": "code",
   "execution_count": 9,
   "id": "eb4ca700",
   "metadata": {},
   "outputs": [
    {
     "data": {
      "text/plain": [
       "array([[1, 2, 3, 4, 5],\n",
       "       [6, 3, 4, 5, 5],\n",
       "       [0, 3, 2, 4, 6]])"
      ]
     },
     "execution_count": 9,
     "metadata": {},
     "output_type": "execute_result"
    }
   ],
   "source": [
    "matrix_A = np.array([[1,2,3,4,5],[6,3,4,5,5],[0,3,2,4,6]])\n",
    "matrix_A"
   ]
  },
  {
   "cell_type": "code",
   "execution_count": 11,
   "id": "446c138f",
   "metadata": {},
   "outputs": [
    {
     "data": {
      "text/plain": [
       "array([[4128860, 6029375, 3801155, 5570652, 6619251],\n",
       "       [7536754, 3211356, 3538995, 3276849, 4259932],\n",
       "       [7340144, 6357060, 6357108, 4980828, 6488175]])"
      ]
     },
     "execution_count": 11,
     "metadata": {},
     "output_type": "execute_result"
    }
   ],
   "source": [
    "array_empty_like = np.empty_like(matrix_A) # empty funtion does not provide consistent output\n",
    "array_empty_like"
   ]
  },
  {
   "cell_type": "code",
   "execution_count": 12,
   "id": "b8ceaef2",
   "metadata": {},
   "outputs": [
    {
     "data": {
      "text/plain": [
       "array([[0, 0, 0, 0, 0],\n",
       "       [0, 0, 0, 0, 0],\n",
       "       [0, 0, 0, 0, 0]])"
      ]
     },
     "execution_count": 12,
     "metadata": {},
     "output_type": "execute_result"
    }
   ],
   "source": [
    "array_zeros_like = np.zeros_like(matrix_A) # empty funtion does not provide consistent output\n",
    "array_zeros_like"
   ]
  },
  {
   "cell_type": "markdown",
   "id": "0a291268",
   "metadata": {},
   "source": [
    "## np.arange()"
   ]
  },
  {
   "cell_type": "raw",
   "id": "ba34a876",
   "metadata": {},
   "source": [
    "=> Examine how to generate a sequence of non-random values using Numpy\n",
    "=> We'll use np.arrange() to generate an array of consecutive values\n",
    "arange = array range\n",
    "Numpy's equivlent of Python's range function\n",
    "Creates a sequence of consecutive integer values within a given range\n",
    "range -> range object\n",
    "array range -> array"
   ]
  },
  {
   "cell_type": "code",
   "execution_count": 13,
   "id": "4b24c4f0",
   "metadata": {},
   "outputs": [
    {
     "data": {
      "text/plain": [
       "range(0, 30)"
      ]
     },
     "execution_count": 13,
     "metadata": {},
     "output_type": "execute_result"
    }
   ],
   "source": [
    "range(30)"
   ]
  },
  {
   "cell_type": "code",
   "execution_count": 15,
   "id": "4e19e03e",
   "metadata": {},
   "outputs": [
    {
     "data": {
      "text/plain": [
       "[0, 1, 2, 3, 4]"
      ]
     },
     "execution_count": 15,
     "metadata": {},
     "output_type": "execute_result"
    }
   ],
   "source": [
    "list(range(5))"
   ]
  },
  {
   "cell_type": "code",
   "execution_count": 19,
   "id": "b8412fb6",
   "metadata": {},
   "outputs": [
    {
     "data": {
      "text/plain": [
       "array([ 0,  1,  2,  3,  4,  5,  6,  7,  8,  9, 10, 11, 12, 13, 14, 15, 16,\n",
       "       17, 18, 19, 20, 21, 22, 23, 24, 25, 26, 27, 28, 29])"
      ]
     },
     "execution_count": 19,
     "metadata": {},
     "output_type": "execute_result"
    }
   ],
   "source": [
    "array_rng = np.arange(start=0 ,stop=30) # it include the lower bound but not the upper one \n",
    "array_rng"
   ]
  },
  {
   "cell_type": "code",
   "execution_count": 22,
   "id": "1d37e0c5",
   "metadata": {},
   "outputs": [
    {
     "data": {
      "text/plain": [
       "array([ 0.,  3.,  6.,  9., 12., 15., 18., 21., 24., 27.])"
      ]
     },
     "execution_count": 22,
     "metadata": {},
     "output_type": "execute_result"
    }
   ],
   "source": [
    "array_rng = np.arange(start=0 ,stop=30, step=3, dtype=np.float64) # it include the lower bound but not the upper one \n",
    "array_rng"
   ]
  },
  {
   "cell_type": "code",
   "execution_count": 24,
   "id": "788419c6",
   "metadata": {},
   "outputs": [
    {
     "data": {
      "text/plain": [
       "array([ 0,  2,  4,  6,  8, 10, 12, 14, 16, 18, 20, 22])"
      ]
     },
     "execution_count": 24,
     "metadata": {},
     "output_type": "execute_result"
    }
   ],
   "source": [
    "array_rng = np.arange(start=0 ,stop=30, step=2.5, dtype=np.int32) # it include the lower bound but not the upper one \n",
    "array_rng"
   ]
  },
  {
   "cell_type": "markdown",
   "id": "9eaa7751",
   "metadata": {},
   "source": [
    "## Random Generator and Seeds"
   ]
  },
  {
   "cell_type": "raw",
   "id": "fab5881f",
   "metadata": {},
   "source": [
    "=>The generator function takes a bit generator as an input and creates a generator object as an output\n",
    "=> These objects are instances of the numpy.random.Generator class\n",
    "=> Permutation Congruential Generator\n",
    "=> Function pointers can produce values of up to 64 bits in size\n",
    "=> Every time we call a method the Generator randomly selects a seed\n",
    "=> seed - A set of starting parameter for the algorithm\n",
    "=> We can use PCG to specify a seed for the Generator object"
   ]
  },
  {
   "cell_type": "code",
   "execution_count": 25,
   "id": "98eb290f",
   "metadata": {},
   "outputs": [],
   "source": [
    "from numpy.random import Generator as gen\n",
    "from numpy.random import PCG64 as pcg"
   ]
  },
  {
   "cell_type": "code",
   "execution_count": 27,
   "id": "3a5ae7c9",
   "metadata": {},
   "outputs": [
    {
     "data": {
      "text/plain": [
       "array([[-0.45482968, -1.63545462,  1.19571105,  0.28447506, -0.91130021],\n",
       "       [-0.0931147 ,  1.23464657,  1.36727685, -0.05818258, -0.29249835],\n",
       "       [-0.93280375, -1.67090547, -0.59582813,  0.06101153,  0.81672593],\n",
       "       [ 0.38323549,  1.2598384 , -1.84914361, -1.44609967, -0.48366127],\n",
       "       [ 0.24510074,  0.46771873, -1.83939341,  0.0902766 , -0.53701846]])"
      ]
     },
     "execution_count": 27,
     "metadata": {},
     "output_type": "execute_result"
    }
   ],
   "source": [
    "array_RG = gen(pcg())\n",
    "array_RG.normal(size=(5,5))  # Clarification: The shape of the array will be equal to the tuple(5,5) in this case"
   ]
  },
  {
   "cell_type": "code",
   "execution_count": 28,
   "id": "e9299a36",
   "metadata": {},
   "outputs": [
    {
     "data": {
      "text/plain": [
       "array([[-0.13640899,  0.09414431, -0.06300442,  1.05391641, -0.6866818 ],\n",
       "       [-0.50922173, -0.7999526 ,  0.73041825,  0.08825439, -2.1177576 ],\n",
       "       [ 0.65526774, -0.48095012, -0.5519114 , -0.58578662, -0.98257896],\n",
       "       [ 1.12378166, -1.30984316, -0.04703774,  0.955272  ,  0.26071745],\n",
       "       [-0.20023668, -1.50172484, -1.4929163 ,  0.96535084,  1.18694633]])"
      ]
     },
     "execution_count": 28,
     "metadata": {},
     "output_type": "execute_result"
    }
   ],
   "source": [
    "array_RG = gen(pcg(seed=365))\n",
    "array_RG.normal(size=(5,5))"
   ]
  },
  {
   "cell_type": "code",
   "execution_count": 29,
   "id": "a7b26d3c",
   "metadata": {},
   "outputs": [
    {
     "data": {
      "text/plain": [
       "array([[-0.76065577,  1.48158358,  0.01200258, -0.06846959,  0.25301664],\n",
       "       [-0.52640788,  0.79613109,  0.28203421,  1.80238008,  0.93932117],\n",
       "       [-0.53693283, -0.26317689, -1.77723035,  1.14900013, -2.20733915],\n",
       "       [ 1.54116775, -0.5124932 , -2.14564563,  1.98878673,  0.32208907],\n",
       "       [-1.2651495 ,  3.2714633 ,  1.78650493, -0.20233675,  0.20427467]])"
      ]
     },
     "execution_count": 29,
     "metadata": {},
     "output_type": "execute_result"
    }
   ],
   "source": [
    "# A seed only last for one execution of a method or function before it is reset\n",
    "# Hence Whenever we intend to use a seed , we'll have to reset it every time\n",
    "array_RG.normal(size=(5,5))"
   ]
  },
  {
   "cell_type": "code",
   "execution_count": 30,
   "id": "b303ae7d",
   "metadata": {},
   "outputs": [
    {
     "data": {
      "text/plain": [
       "array([[ 0.58830139,  0.43063835,  0.42871861, -0.49041682,  0.58326844],\n",
       "       [-0.10015833, -1.27535497,  0.94226986,  0.01434193, -1.20783944],\n",
       "       [ 0.16767707, -1.35242456,  0.51855231,  0.66726422,  0.5453976 ],\n",
       "       [-0.46037542,  2.10611129,  0.79579772, -1.44055324, -0.62070809],\n",
       "       [ 2.16041849, -0.50664074,  0.08321514,  0.87416817,  1.98530199]])"
      ]
     },
     "execution_count": 30,
     "metadata": {},
     "output_type": "execute_result"
    }
   ],
   "source": [
    "array_RG.normal(size=(5,5))"
   ]
  },
  {
   "cell_type": "markdown",
   "id": "4e8be825",
   "metadata": {},
   "source": [
    "## Random Integers, Probabilities and Choices"
   ]
  },
  {
   "cell_type": "raw",
   "id": "f6bf1fcd",
   "metadata": {},
   "source": [
    "numpy.integers() \n",
    "=> Generate whole numbers(integers)\n",
    "=> Require defining a fixed range of values to chose from\n",
    "=> If we only provide a single value it automatically assumes we only want integers between 0 and it\n"
   ]
  },
  {
   "cell_type": "code",
   "execution_count": 32,
   "id": "9971c33d",
   "metadata": {},
   "outputs": [
    {
     "data": {
      "text/plain": [
       "array([[18, 78, 64, 78, 84],\n",
       "       [66, 67, 28, 10, 69],\n",
       "       [45, 15, 37, 74, 96],\n",
       "       [19, 21, 89, 73, 54],\n",
       "       [53, 84, 66, 51, 92]], dtype=int64)"
      ]
     },
     "execution_count": 32,
     "metadata": {},
     "output_type": "execute_result"
    }
   ],
   "source": [
    "# numpy.integers()\n",
    "array_RG = gen(pcg(seed=365))\n",
    "array_RG.integers(low=10, high =100, size =(5,5))"
   ]
  },
  {
   "cell_type": "code",
   "execution_count": 33,
   "id": "346c5b69",
   "metadata": {},
   "outputs": [
    {
     "data": {
      "text/plain": [
       "array([[0.75915734, 0.7662218 , 0.6291028 , 0.20336599, 0.66501486],\n",
       "       [0.06559111, 0.71326309, 0.10812106, 0.87969046, 0.49405844],\n",
       "       [0.82472673, 0.45652944, 0.07367232, 0.69628564, 0.36690736],\n",
       "       [0.29787156, 0.4996155 , 0.4865245 , 0.62740703, 0.54952637],\n",
       "       [0.64894629, 0.04411757, 0.7206516 , 0.84594003, 0.17159792]])"
      ]
     },
     "execution_count": 33,
     "metadata": {},
     "output_type": "execute_result"
    }
   ],
   "source": [
    "#numpy.random()\n",
    "array_RG = gen(pcg(seed=365))  # probability stay between 0 to 1\n",
    "array_RG.random(size =(5,5)) "
   ]
  },
  {
   "cell_type": "code",
   "execution_count": 34,
   "id": "814de9a7",
   "metadata": {},
   "outputs": [],
   "source": [
    "#numpy.choices()\n",
    "# Stimulates the idea of making an arbitrary  choice out of a given sequence\n",
    "# We can manually set the probability for each argument of the method\n"
   ]
  },
  {
   "cell_type": "code",
   "execution_count": 37,
   "id": "d6334d8e",
   "metadata": {},
   "outputs": [
    {
     "data": {
      "text/plain": [
       "array([[4, 4, 4, 2, 4],\n",
       "       [1, 4, 1, 4, 3],\n",
       "       [4, 3, 1, 4, 2],\n",
       "       [2, 3, 3, 4, 3],\n",
       "       [4, 1, 4, 4, 1]])"
      ]
     },
     "execution_count": 37,
     "metadata": {},
     "output_type": "execute_result"
    }
   ],
   "source": [
    "array_RG = gen(pcg(seed=365))  # probability stay between 0 to 1\n",
    "array_RG.choice([1,2,3,4,5],p=[0.2,0.2,0.2,0.3,0.1],size =(5,5)) "
   ]
  },
  {
   "cell_type": "markdown",
   "id": "0f7356f6",
   "metadata": {},
   "source": [
    "## Random Probability Distribution"
   ]
  },
  {
   "cell_type": "markdown",
   "id": "57aa51ee",
   "metadata": {},
   "source": [
    "#### Generating Arrays From known distribution"
   ]
  },
  {
   "cell_type": "code",
   "execution_count": 38,
   "id": "37064e16",
   "metadata": {},
   "outputs": [],
   "source": [
    "array_RG = gen(pcg(seed=365))  \n"
   ]
  },
  {
   "cell_type": "code",
   "execution_count": 40,
   "id": "acc7dbdb",
   "metadata": {},
   "outputs": [
    {
     "data": {
      "text/plain": [
       "array([[1, 0, 2, 4, 0],\n",
       "       [0, 0, 0, 0, 1],\n",
       "       [2, 3, 1, 1, 0],\n",
       "       [1, 0, 4, 1, 2],\n",
       "       [2, 2, 0, 0, 1]], dtype=int64)"
      ]
     },
     "execution_count": 40,
     "metadata": {},
     "output_type": "execute_result"
    }
   ],
   "source": [
    "## Poisson Distribution \n",
    "# Default value for lamda is 1 This means over a fixed interval of time distance or space,\n",
    "#we expect an event to occur exacly once\n",
    "array_RG.poisson(size =(5,5))"
   ]
  },
  {
   "cell_type": "code",
   "execution_count": 41,
   "id": "7d86674f",
   "metadata": {},
   "outputs": [
    {
     "data": {
      "text/plain": [
       "array([[15, 11,  9,  6, 14],\n",
       "       [10, 16, 12,  9,  4],\n",
       "       [ 9,  6, 10,  9,  7],\n",
       "       [ 9, 18, 11, 11,  4],\n",
       "       [11,  6,  8,  4,  7]], dtype=int64)"
      ]
     },
     "execution_count": 41,
     "metadata": {},
     "output_type": "execute_result"
    }
   ],
   "source": [
    "array_RG.poisson(lam=10,size =(5,5))"
   ]
  },
  {
   "cell_type": "code",
   "execution_count": 42,
   "id": "c14e1eb9",
   "metadata": {},
   "outputs": [],
   "source": [
    "## Binomial Distribution\n",
    "#Measures how many times a certain outcome can appear over a series of trials, where there are only 2 possible outcomes"
   ]
  },
  {
   "cell_type": "code",
   "execution_count": 45,
   "id": "c8150251",
   "metadata": {},
   "outputs": [
    {
     "data": {
      "text/plain": [
       "array([[42, 44, 30, 36, 45],\n",
       "       [36, 41, 38, 42, 41],\n",
       "       [35, 31, 35, 46, 29],\n",
       "       [41, 41, 46, 34, 48],\n",
       "       [45, 45, 45, 40, 43]], dtype=int64)"
      ]
     },
     "execution_count": 45,
     "metadata": {},
     "output_type": "execute_result"
    }
   ],
   "source": [
    "array_RG = gen(pcg(seed=365))     # on average most of the outcomes are around 40 \n",
    "#//40 % probability of getting what we want on each of the 100 individual trials\n",
    "array_RG.binomial(n=100, p=0.4 ,size =(5,5))"
   ]
  },
  {
   "cell_type": "code",
   "execution_count": 46,
   "id": "2f7d3e83",
   "metadata": {},
   "outputs": [
    {
     "data": {
      "text/plain": [
       "array([[10.37767822, 10.42451863,  9.63404367,  7.36153427,  9.82286787],\n",
       "       [ 5.81223125, 10.09354231,  6.46790532, 11.38740256,  8.97147918],\n",
       "       [10.85844698,  8.79081317,  5.962079  ,  9.99560681,  8.34539118],\n",
       "       [ 7.97105522,  8.9981544 ,  8.93530194,  9.6253307 ,  9.23850869],\n",
       "       [ 9.73729284,  5.3090678 , 10.13723528, 11.04372782,  7.11078651]])"
      ]
     },
     "execution_count": 46,
     "metadata": {},
     "output_type": "execute_result"
    }
   ],
   "source": [
    "## Logistic Distribution\n",
    "array_RG = gen(pcg(seed=365))\n",
    "array_RG.logistic(loc=9, scale=1.2 ,size =(5,5))"
   ]
  },
  {
   "cell_type": "markdown",
   "id": "3f3a4931",
   "metadata": {},
   "source": [
    "## Application of random Generator"
   ]
  },
  {
   "cell_type": "raw",
   "id": "e2899a26",
   "metadata": {},
   "source": [
    "=> When real data isn't available, we sometimes need pseudo-random data to test how well a program performs\n",
    "=> Test Creation\n",
    "Generate 5 diffrent arrays\n",
    "Create a bigger array with all of them in it\n",
    "Export that array into a CSV file"
   ]
  },
  {
   "cell_type": "code",
   "execution_count": 47,
   "id": "764e35da",
   "metadata": {},
   "outputs": [],
   "source": [
    "array_column_1 = array_RG.normal(loc=2, scale=3 ,size =(1000))\n",
    "array_column_2 = array_RG.normal(loc=7, scale=3 ,size =(1000))\n",
    "array_column_3 = array_RG.logistic(loc=11, scale=3 ,size =(1000))\n",
    "array_column_4 = array_RG.exponential(scale=4 ,size =(1000))\n",
    "array_column_5 = array_RG.geometric(p=0.7,size =(1000))"
   ]
  },
  {
   "cell_type": "code",
   "execution_count": 51,
   "id": "24819bea",
   "metadata": {},
   "outputs": [
    {
     "data": {
      "text/plain": [
       "array([[ 5.560839  ,  4.59454548,  6.64872801,  4.09900697,  1.        ],\n",
       "       [-0.28196732,  7.05082384, 14.07400141,  5.7882515 ,  1.        ],\n",
       "       [ 6.44475073,  7.4344136 , 14.09121743,  2.20135186,  1.        ],\n",
       "       ...,\n",
       "       [ 1.04822206,  5.58282466, 14.96507816,  7.07574646,  1.        ],\n",
       "       [ 2.13294147,  4.78671485,  8.84971156,  5.52128051,  2.        ],\n",
       "       [ 1.57375454,  8.96572808,  7.93037608,  6.02450182,  1.        ]])"
      ]
     },
     "execution_count": 51,
     "metadata": {},
     "output_type": "execute_result"
    }
   ],
   "source": [
    "random_test_data =np.array([array_column_1,array_column_2,array_column_3,array_column_4,array_column_5]).transpose()\n",
    "random_test_data"
   ]
  },
  {
   "cell_type": "code",
   "execution_count": 49,
   "id": "baed7e61",
   "metadata": {},
   "outputs": [
    {
     "data": {
      "text/plain": [
       "(5, 1000)"
      ]
     },
     "execution_count": 49,
     "metadata": {},
     "output_type": "execute_result"
    }
   ],
   "source": [
    "random_test_data.shape"
   ]
  },
  {
   "cell_type": "code",
   "execution_count": 50,
   "id": "9c0a59f7",
   "metadata": {},
   "outputs": [],
   "source": [
    "# Transposing a matrix : transforming rows into columns and (vice versa)"
   ]
  },
  {
   "cell_type": "code",
   "execution_count": 52,
   "id": "d31c8854",
   "metadata": {},
   "outputs": [],
   "source": [
    "np.savetxt('Random_Test_from.Numpy.csv', random_test_data,fmt=\"%s\", delimiter=',')"
   ]
  },
  {
   "cell_type": "code",
   "execution_count": 53,
   "id": "6381a2fa",
   "metadata": {},
   "outputs": [],
   "source": [
    "#we can import the newly created csv back into python and display its contents"
   ]
  },
  {
   "cell_type": "code",
   "execution_count": 54,
   "id": "33cb227f",
   "metadata": {},
   "outputs": [
    {
     "data": {
      "text/plain": [
       "array([[ 5.560839  ,  4.59454548,  6.64872801,  4.09900697,  1.        ],\n",
       "       [-0.28196732,  7.05082384, 14.07400141,  5.7882515 ,  1.        ],\n",
       "       [ 6.44475073,  7.4344136 , 14.09121743,  2.20135186,  1.        ],\n",
       "       ...,\n",
       "       [ 1.04822206,  5.58282466, 14.96507816,  7.07574646,  1.        ],\n",
       "       [ 2.13294147,  4.78671485,  8.84971156,  5.52128051,  2.        ],\n",
       "       [ 1.57375454,  8.96572808,  7.93037608,  6.02450182,  1.        ]])"
      ]
     },
     "execution_count": 54,
     "metadata": {},
     "output_type": "execute_result"
    }
   ],
   "source": [
    "np.genfromtxt(\"Random_Test_from.Numpy.csv\",delimiter=',' )"
   ]
  },
  {
   "cell_type": "code",
   "execution_count": null,
   "id": "6d5794a5",
   "metadata": {},
   "outputs": [],
   "source": []
  }
 ],
 "metadata": {
  "kernelspec": {
   "display_name": "Python 3 (ipykernel)",
   "language": "python",
   "name": "python3"
  },
  "language_info": {
   "codemirror_mode": {
    "name": "ipython",
    "version": 3
   },
   "file_extension": ".py",
   "mimetype": "text/x-python",
   "name": "python",
   "nbconvert_exporter": "python",
   "pygments_lexer": "ipython3",
   "version": "3.9.13"
  }
 },
 "nbformat": 4,
 "nbformat_minor": 5
}
