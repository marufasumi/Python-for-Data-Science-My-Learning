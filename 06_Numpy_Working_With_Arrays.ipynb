{
 "cells": [
  {
   "cell_type": "markdown",
   "id": "9535ed7c",
   "metadata": {},
   "source": [
    "Basic Slicing"
   ]
  },
  {
   "cell_type": "raw",
   "id": "c8740ef5",
   "metadata": {},
   "source": [
    "=> creating a new array by taking chunks of values out of an existing one\n",
    "=> the newly crated variable is called Slice and it can contain entire rows and columns of the original array , or just parts of them\n",
    "=> The slices consist of adjuscent pieces of data like two colum side by side or severale consecutive rows\n",
    "=> Slicing Syntax array[1:13]  \":\" =express an interval of values, startig from the row before the colon, ending right before the row after the colon\n",
    "=> If we don't specify anything we take the entire NDarray\n",
    "=> We don't get an error if we go out of bounds when indexing\n",
    "=> Another Syntax\n",
    " array[:,:]  Second colon indicate going through all the columns of array\n",
    " => We can omit to specify a slice for the second dimension if we are using all the columns\n",
    " => Slices are just smaller arrays\n",
    " \n",
    " => Syntax for stepwise slicing\n",
    "  array[1:2:3,2:3:5]  start: end:step, start:end:step  By default step =1\n",
    "  \n",
    "  => The step argument can be positive or negative but can't be zero\n",
    "  "
   ]
  },
  {
   "cell_type": "code",
   "execution_count": 1,
   "id": "99be3ce0",
   "metadata": {},
   "outputs": [],
   "source": [
    "import numpy as np"
   ]
  },
  {
   "cell_type": "code",
   "execution_count": 2,
   "id": "dfaf2053",
   "metadata": {},
   "outputs": [
    {
     "data": {
      "text/plain": [
       "array([[1, 2, 3],\n",
       "       [4, 5, 6]])"
      ]
     },
     "execution_count": 2,
     "metadata": {},
     "output_type": "execute_result"
    }
   ],
   "source": [
    "matrix_A = np.array([[1,2,3],[4,5,6]])\n",
    "matrix_A"
   ]
  },
  {
   "cell_type": "code",
   "execution_count": 4,
   "id": "f3c1fa55",
   "metadata": {},
   "outputs": [
    {
     "data": {
      "text/plain": [
       "array([[1, 2, 3]])"
      ]
     },
     "execution_count": 4,
     "metadata": {},
     "output_type": "execute_result"
    }
   ],
   "source": [
    "matrix_A[0:1]    # Here 0 and 1 are now index 0 index is first row and before 1 index is 0 which is also first row"
   ]
  },
  {
   "cell_type": "code",
   "execution_count": 5,
   "id": "0bcb4950",
   "metadata": {},
   "outputs": [
    {
     "data": {
      "text/plain": [
       "array([[1, 2, 3],\n",
       "       [4, 5, 6]])"
      ]
     },
     "execution_count": 5,
     "metadata": {},
     "output_type": "execute_result"
    }
   ],
   "source": [
    "matrix_A[:,:]"
   ]
  },
  {
   "cell_type": "code",
   "execution_count": 6,
   "id": "bd1d9185",
   "metadata": {},
   "outputs": [
    {
     "data": {
      "text/plain": [
       "array([[1, 2, 3]])"
      ]
     },
     "execution_count": 6,
     "metadata": {},
     "output_type": "execute_result"
    }
   ],
   "source": [
    "matrix_A[:1] # Give all rows before index 1 rows"
   ]
  },
  {
   "cell_type": "code",
   "execution_count": 7,
   "id": "5d973f3a",
   "metadata": {},
   "outputs": [
    {
     "data": {
      "text/plain": [
       "array([[4, 5, 6]])"
      ]
     },
     "execution_count": 7,
     "metadata": {},
     "output_type": "execute_result"
    }
   ],
   "source": [
    "matrix_A[1:] # Slicing will start with the  row with index 1 and give all the rows after that"
   ]
  },
  {
   "cell_type": "code",
   "execution_count": 8,
   "id": "5bc945fe",
   "metadata": {},
   "outputs": [
    {
     "data": {
      "text/plain": [
       "array([], shape=(0, 3), dtype=int32)"
      ]
     },
     "execution_count": 8,
     "metadata": {},
     "output_type": "execute_result"
    }
   ],
   "source": [
    "matrix_A[2:] # we don't have third row , O-dimension output"
   ]
  },
  {
   "cell_type": "code",
   "execution_count": 9,
   "id": "6b73d649",
   "metadata": {},
   "outputs": [
    {
     "data": {
      "text/plain": [
       "array([[1, 2, 3],\n",
       "       [4, 5, 6]])"
      ]
     },
     "execution_count": 9,
     "metadata": {},
     "output_type": "execute_result"
    }
   ],
   "source": [
    "matrix_A[:2] # Slicing all the rows prior to the index 2"
   ]
  },
  {
   "cell_type": "code",
   "execution_count": 10,
   "id": "1617a42b",
   "metadata": {},
   "outputs": [],
   "source": [
    "# Indexing is very similar to slicing\n",
    "#indexing =specific indexing\n",
    "# slicing = interval indexing\n",
    "# The numerical values are identical but the output vary in dimensions"
   ]
  },
  {
   "cell_type": "code",
   "execution_count": 11,
   "id": "df8ba473",
   "metadata": {},
   "outputs": [
    {
     "data": {
      "text/plain": [
       "array([1, 2, 3])"
      ]
     },
     "execution_count": 11,
     "metadata": {},
     "output_type": "execute_result"
    }
   ],
   "source": [
    "matrix_A[0]"
   ]
  },
  {
   "cell_type": "code",
   "execution_count": 12,
   "id": "c174dd8c",
   "metadata": {},
   "outputs": [
    {
     "data": {
      "text/plain": [
       "array([[1, 2, 3]])"
      ]
     },
     "execution_count": 12,
     "metadata": {},
     "output_type": "execute_result"
    }
   ],
   "source": [
    "matrix_A[:1]"
   ]
  },
  {
   "cell_type": "code",
   "execution_count": 13,
   "id": "08cfa932",
   "metadata": {},
   "outputs": [
    {
     "data": {
      "text/plain": [
       "array([[1, 2, 3]])"
      ]
     },
     "execution_count": 13,
     "metadata": {},
     "output_type": "execute_result"
    }
   ],
   "source": [
    "matrix_A[:-1] # comprises all the rows but not include the last one"
   ]
  },
  {
   "cell_type": "code",
   "execution_count": 14,
   "id": "a0085762",
   "metadata": {},
   "outputs": [],
   "source": [
    "# slicing column"
   ]
  },
  {
   "cell_type": "code",
   "execution_count": 15,
   "id": "1f7a3764",
   "metadata": {},
   "outputs": [
    {
     "data": {
      "text/plain": [
       "array([[2, 3],\n",
       "       [5, 6]])"
      ]
     },
     "execution_count": 15,
     "metadata": {},
     "output_type": "execute_result"
    }
   ],
   "source": [
    "matrix_A[:,1:]  # It will give all the rows and the column starting from the one with index one"
   ]
  },
  {
   "cell_type": "code",
   "execution_count": 16,
   "id": "0af78f9e",
   "metadata": {},
   "outputs": [
    {
     "data": {
      "text/plain": [
       "array([[1, 2, 3],\n",
       "       [4, 5, 6]])"
      ]
     },
     "execution_count": 16,
     "metadata": {},
     "output_type": "execute_result"
    }
   ],
   "source": [
    "matrix_A"
   ]
  },
  {
   "cell_type": "code",
   "execution_count": 17,
   "id": "b2a7d70b",
   "metadata": {},
   "outputs": [
    {
     "data": {
      "text/plain": [
       "array([[5, 6]])"
      ]
     },
     "execution_count": 17,
     "metadata": {},
     "output_type": "execute_result"
    }
   ],
   "source": [
    "matrix_A[1:,1:] "
   ]
  },
  {
   "cell_type": "markdown",
   "id": "c6a076c2",
   "metadata": {},
   "source": [
    "# Stepwise slicing"
   ]
  },
  {
   "cell_type": "raw",
   "id": "99dcd67e",
   "metadata": {},
   "source": [
    "=> Slicing where we don't take consecutive values\n",
    "=> We take values which are certain distance apart"
   ]
  },
  {
   "cell_type": "code",
   "execution_count": 18,
   "id": "f4b6023a",
   "metadata": {},
   "outputs": [
    {
     "data": {
      "text/plain": [
       "array([[1, 1, 1, 2, 0],\n",
       "       [3, 6, 6, 7, 4],\n",
       "       [4, 5, 3, 8, 0]])"
      ]
     },
     "execution_count": 18,
     "metadata": {},
     "output_type": "execute_result"
    }
   ],
   "source": [
    "matrix_B =np.array([[1,1,1,2,0],[3,6,6,7,4],[4,5,3,8,0]])\n",
    "matrix_B"
   ]
  },
  {
   "cell_type": "code",
   "execution_count": 19,
   "id": "2611f454",
   "metadata": {},
   "outputs": [
    {
     "data": {
      "text/plain": [
       "array([[1, 1, 1, 2, 0],\n",
       "       [3, 6, 6, 7, 4],\n",
       "       [4, 5, 3, 8, 0]])"
      ]
     },
     "execution_count": 19,
     "metadata": {},
     "output_type": "execute_result"
    }
   ],
   "source": [
    "matrix_B[:,:] # entire dataset"
   ]
  },
  {
   "cell_type": "code",
   "execution_count": 21,
   "id": "a3224144",
   "metadata": {},
   "outputs": [
    {
     "data": {
      "text/plain": [
       "array([[1, 1, 1, 2, 0],\n",
       "       [4, 5, 3, 8, 0]])"
      ]
     },
     "execution_count": 21,
     "metadata": {},
     "output_type": "execute_result"
    }
   ],
   "source": [
    "matrix_B[::2,::]  # started with the row with index 0 and jump to the row with index 2/we are slicing every other row"
   ]
  },
  {
   "cell_type": "code",
   "execution_count": 22,
   "id": "5d14f742",
   "metadata": {},
   "outputs": [
    {
     "data": {
      "text/plain": [
       "array([[1, 1, 0],\n",
       "       [3, 6, 4],\n",
       "       [4, 3, 0]])"
      ]
     },
     "execution_count": 22,
     "metadata": {},
     "output_type": "execute_result"
    }
   ],
   "source": [
    "matrix_B[::,::2]  # started with the column with index 0 and jump to the column with index 2/we are slicing every other column"
   ]
  },
  {
   "cell_type": "code",
   "execution_count": 23,
   "id": "4020d726",
   "metadata": {},
   "outputs": [
    {
     "data": {
      "text/plain": [
       "array([[1, 1, 0],\n",
       "       [4, 3, 0]])"
      ]
     },
     "execution_count": 23,
     "metadata": {},
     "output_type": "execute_result"
    }
   ],
   "source": [
    "matrix_B[::2,::2] # Every other value of every other row, starting from the first// Every second value of the row"
   ]
  },
  {
   "cell_type": "code",
   "execution_count": 24,
   "id": "fba49814",
   "metadata": {},
   "outputs": [
    {
     "data": {
      "text/plain": [
       "array([[4, 3, 0],\n",
       "       [1, 1, 0]])"
      ]
     },
     "execution_count": 24,
     "metadata": {},
     "output_type": "execute_result"
    }
   ],
   "source": [
    "matrix_B[-1::-2,::2] "
   ]
  },
  {
   "cell_type": "code",
   "execution_count": 25,
   "id": "00ebbdff",
   "metadata": {},
   "outputs": [
    {
     "data": {
      "text/plain": [
       "array([[4, 3, 0],\n",
       "       [3, 6, 4],\n",
       "       [1, 1, 0]])"
      ]
     },
     "execution_count": 25,
     "metadata": {},
     "output_type": "execute_result"
    }
   ],
   "source": [
    "matrix_B[-1::-1,::2] "
   ]
  },
  {
   "cell_type": "markdown",
   "id": "c158fecf",
   "metadata": {},
   "source": [
    "## CONDITIONAL SLICING"
   ]
  },
  {
   "cell_type": "code",
   "execution_count": 26,
   "id": "54f962cf",
   "metadata": {},
   "outputs": [
    {
     "data": {
      "text/plain": [
       "array([[1, 1, 1, 2, 0],\n",
       "       [3, 6, 6, 7, 4],\n",
       "       [4, 5, 3, 8, 0]])"
      ]
     },
     "execution_count": 26,
     "metadata": {},
     "output_type": "execute_result"
    }
   ],
   "source": [
    "matrix_c = np.array([[1,1,1,2,0],[3,6,6,7,4],[4,5,3,8,0]])\n",
    "matrix_c"
   ]
  },
  {
   "cell_type": "code",
   "execution_count": 28,
   "id": "96ea3c94",
   "metadata": {},
   "outputs": [
    {
     "data": {
      "text/plain": [
       "array([1, 3, 4])"
      ]
     },
     "execution_count": 28,
     "metadata": {},
     "output_type": "execute_result"
    }
   ],
   "source": [
    "matrix_c[:,0]"
   ]
  },
  {
   "cell_type": "code",
   "execution_count": 29,
   "id": "d8588c0c",
   "metadata": {},
   "outputs": [
    {
     "data": {
      "text/plain": [
       "array([False,  True,  True])"
      ]
     },
     "execution_count": 29,
     "metadata": {},
     "output_type": "execute_result"
    }
   ],
   "source": [
    "matrix_c[:,0]>2"
   ]
  },
  {
   "cell_type": "code",
   "execution_count": 30,
   "id": "fa4d15c4",
   "metadata": {},
   "outputs": [
    {
     "data": {
      "text/plain": [
       "array([[False, False, False, False, False],\n",
       "       [ True,  True,  True,  True,  True],\n",
       "       [ True,  True,  True,  True, False]])"
      ]
     },
     "execution_count": 30,
     "metadata": {},
     "output_type": "execute_result"
    }
   ],
   "source": [
    "matrix_c[:,:]>2"
   ]
  },
  {
   "cell_type": "markdown",
   "id": "270edeae",
   "metadata": {},
   "source": [
    "=>what if we want to know the exact values which satisfies the consition?\n",
    "=>we need to write the conditional part as an index within the square bracket Reason why the output is a 1-D array:\n",
    "=>1. Numpy does not know how many of the elements would fit this condition\n",
    "=>2. Python takes the flattened array(which is 1-D) and applies the condition on it\n",
    "=>Multiple conditions: & =\"and\" || = OR \n",
    "=> Conditional slicing is a fantasti tool to filter out certain data\n",
    "=> Helps us slice only the parts of the array we are interested in"
   ]
  },
  {
   "cell_type": "code",
   "execution_count": 32,
   "id": "c1a62fe1",
   "metadata": {},
   "outputs": [
    {
     "data": {
      "text/plain": [
       "array([3, 6, 6, 7, 4, 4, 5, 3, 8])"
      ]
     },
     "execution_count": 32,
     "metadata": {},
     "output_type": "execute_result"
    }
   ],
   "source": [
    "matrix_c[matrix_c[:,:]>2]"
   ]
  },
  {
   "cell_type": "code",
   "execution_count": 33,
   "id": "14990eec",
   "metadata": {},
   "outputs": [
    {
     "data": {
      "text/plain": [
       "array([2, 0, 4, 4, 0])"
      ]
     },
     "execution_count": 33,
     "metadata": {},
     "output_type": "execute_result"
    }
   ],
   "source": [
    "matrix_c[(matrix_c[:,:]%2==0) &(matrix_c[:,:]<=4) ] # Even number < or = to 4"
   ]
  },
  {
   "cell_type": "markdown",
   "id": "09959835",
   "metadata": {},
   "source": [
    "## Dimension and  Squeze Function"
   ]
  },
  {
   "cell_type": "code",
   "execution_count": 34,
   "id": "d2596188",
   "metadata": {},
   "outputs": [
    {
     "data": {
      "text/plain": [
       "array([[1, 1, 1, 2, 0],\n",
       "       [3, 6, 6, 7, 4],\n",
       "       [4, 5, 3, 8, 0]])"
      ]
     },
     "execution_count": 34,
     "metadata": {},
     "output_type": "execute_result"
    }
   ],
   "source": [
    "matrix_D =np.array([[1,1,1,2,0],[3,6,6,7,4],[4,5,3,8,0]])\n",
    "matrix_D"
   ]
  },
  {
   "cell_type": "code",
   "execution_count": 36,
   "id": "2c44c500",
   "metadata": {},
   "outputs": [
    {
     "data": {
      "text/plain": [
       "numpy.int32"
      ]
     },
     "execution_count": 36,
     "metadata": {},
     "output_type": "execute_result"
    }
   ],
   "source": [
    "type(matrix_D[0,0])"
   ]
  },
  {
   "cell_type": "code",
   "execution_count": 37,
   "id": "d761fa6e",
   "metadata": {},
   "outputs": [
    {
     "name": "stdout",
     "output_type": "stream",
     "text": [
      "1\n"
     ]
    }
   ],
   "source": [
    "print(matrix_D[0,0])"
   ]
  },
  {
   "cell_type": "code",
   "execution_count": 38,
   "id": "f6ca0a02",
   "metadata": {},
   "outputs": [
    {
     "data": {
      "text/plain": [
       "numpy.ndarray"
      ]
     },
     "execution_count": 38,
     "metadata": {},
     "output_type": "execute_result"
    }
   ],
   "source": [
    "type(matrix_D[0,0:1]) # only include the first element of the first column of the row"
   ]
  },
  {
   "cell_type": "code",
   "execution_count": 39,
   "id": "df5a6b05",
   "metadata": {},
   "outputs": [
    {
     "name": "stdout",
     "output_type": "stream",
     "text": [
      "[1]\n"
     ]
    }
   ],
   "source": [
    "print(matrix_D[0,0:1]) # 1-d array"
   ]
  },
  {
   "cell_type": "code",
   "execution_count": 40,
   "id": "e6c4490a",
   "metadata": {},
   "outputs": [
    {
     "data": {
      "text/plain": [
       "numpy.ndarray"
      ]
     },
     "execution_count": 40,
     "metadata": {},
     "output_type": "execute_result"
    }
   ],
   "source": [
    "type(matrix_D[0:1,0:1])"
   ]
  },
  {
   "cell_type": "code",
   "execution_count": 41,
   "id": "286b8d68",
   "metadata": {},
   "outputs": [
    {
     "name": "stdout",
     "output_type": "stream",
     "text": [
      "[[1]]\n"
     ]
    }
   ],
   "source": [
    "print(matrix_D[0:1,0:1]) # 2-d array"
   ]
  },
  {
   "cell_type": "code",
   "execution_count": 42,
   "id": "14fd2fba",
   "metadata": {},
   "outputs": [
    {
     "name": "stdout",
     "output_type": "stream",
     "text": [
      "()\n",
      "(1,)\n",
      "(1, 1)\n"
     ]
    }
   ],
   "source": [
    "print(matrix_D[0,0].shape)\n",
    "print(matrix_D[0,0:1].shape)\n",
    "print(matrix_D[0:1,0:1].shape)"
   ]
  },
  {
   "cell_type": "code",
   "execution_count": 43,
   "id": "4df29574",
   "metadata": {},
   "outputs": [],
   "source": [
    "# What difference does it make whether we're storing it as a scaler, vector or matrix?\n",
    "# Certain function or methods can only be executed with inputs of a fixed size.\n",
    "# So its important to be consistent when working with arrays\n",
    "# the squeze method removes all the unnecessary dimensions of an array\n",
    "# when we squeeze an array(holding a single value) along all its axes, we get a single numeric value\n",
    "# As long as we apply the squeeze method or function we can use any slicing variation to get the same chunk of data"
   ]
  },
  {
   "cell_type": "code",
   "execution_count": 44,
   "id": "bf20d7f7",
   "metadata": {},
   "outputs": [
    {
     "data": {
      "text/plain": [
       "array(1)"
      ]
     },
     "execution_count": 44,
     "metadata": {},
     "output_type": "execute_result"
    }
   ],
   "source": [
    "matrix_D[0:1,0:1].squeeze() # This output is a 0-D array rather than a scalar"
   ]
  },
  {
   "cell_type": "code",
   "execution_count": 45,
   "id": "850b14c5",
   "metadata": {},
   "outputs": [
    {
     "data": {
      "text/plain": [
       "numpy.ndarray"
      ]
     },
     "execution_count": 45,
     "metadata": {},
     "output_type": "execute_result"
    }
   ],
   "source": [
    "type(matrix_D[0:1,0:1].squeeze())"
   ]
  },
  {
   "cell_type": "code",
   "execution_count": 46,
   "id": "138a4464",
   "metadata": {},
   "outputs": [
    {
     "data": {
      "text/plain": [
       "()"
      ]
     },
     "execution_count": 46,
     "metadata": {},
     "output_type": "execute_result"
    }
   ],
   "source": [
    "matrix_D[0:1,0:1].squeeze().shape"
   ]
  },
  {
   "cell_type": "code",
   "execution_count": 47,
   "id": "43f0818c",
   "metadata": {},
   "outputs": [
    {
     "name": "stdout",
     "output_type": "stream",
     "text": [
      "1\n"
     ]
    }
   ],
   "source": [
    "print(matrix_D[0:1,0:1].squeeze()) # The value that will be actually used in further calculations"
   ]
  },
  {
   "cell_type": "code",
   "execution_count": 48,
   "id": "911bce15",
   "metadata": {},
   "outputs": [
    {
     "data": {
      "text/plain": [
       "array(1)"
      ]
     },
     "execution_count": 48,
     "metadata": {},
     "output_type": "execute_result"
    }
   ],
   "source": [
    "# Equivalent function\n",
    "np.squeeze(matrix_D[0:1,0:1])"
   ]
  },
  {
   "cell_type": "code",
   "execution_count": 49,
   "id": "b1317210",
   "metadata": {},
   "outputs": [
    {
     "name": "stdout",
     "output_type": "stream",
     "text": [
      "()\n",
      "()\n",
      "()\n"
     ]
    }
   ],
   "source": [
    "print(matrix_D[0,0].squeeze().shape)   # shape is an attribute rather than a method\n",
    "print(matrix_D[0,0:1].squeeze().shape)\n",
    "print(matrix_D[0:1,0:1].squeeze().shape)"
   ]
  },
  {
   "cell_type": "code",
   "execution_count": null,
   "id": "acbf8cd2",
   "metadata": {},
   "outputs": [],
   "source": []
  }
 ],
 "metadata": {
  "kernelspec": {
   "display_name": "Python 3 (ipykernel)",
   "language": "python",
   "name": "python3"
  },
  "language_info": {
   "codemirror_mode": {
    "name": "ipython",
    "version": 3
   },
   "file_extension": ".py",
   "mimetype": "text/x-python",
   "name": "python",
   "nbconvert_exporter": "python",
   "pygments_lexer": "ipython3",
   "version": "3.9.13"
  }
 },
 "nbformat": 4,
 "nbformat_minor": 5
}
