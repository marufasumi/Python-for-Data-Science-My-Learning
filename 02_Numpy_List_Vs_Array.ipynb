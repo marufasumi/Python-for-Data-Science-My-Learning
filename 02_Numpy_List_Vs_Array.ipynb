{
 "cells": [
  {
   "cell_type": "code",
   "execution_count": 7,
   "id": "1ad66d0f",
   "metadata": {},
   "outputs": [],
   "source": [
    "import numpy as np\n"
   ]
  },
  {
   "cell_type": "raw",
   "id": "5d9d687f",
   "metadata": {},
   "source": [
    "=> Array compute the the element of one array to it's corresponding element in a diffrent array\n",
    "=>While list only concanetate\n",
    "=> Element wise functinality is the great advantage arrays have over lists when it comes to computation"
   ]
  },
  {
   "cell_type": "code",
   "execution_count": 1,
   "id": "2502ffb0",
   "metadata": {},
   "outputs": [],
   "source": [
    "list_a =[1,2,3,4,5,6]"
   ]
  },
  {
   "cell_type": "code",
   "execution_count": 2,
   "id": "2e17af5c",
   "metadata": {},
   "outputs": [
    {
     "data": {
      "text/plain": [
       "6"
      ]
     },
     "execution_count": 2,
     "metadata": {},
     "output_type": "execute_result"
    }
   ],
   "source": [
    "len(list_a)"
   ]
  },
  {
   "cell_type": "code",
   "execution_count": 3,
   "id": "b2c68515",
   "metadata": {},
   "outputs": [],
   "source": [
    "list_b =[[1,2,3,4],[2,4,5,6]] # A list of lists"
   ]
  },
  {
   "cell_type": "code",
   "execution_count": 4,
   "id": "2d77035a",
   "metadata": {},
   "outputs": [
    {
     "data": {
      "text/plain": [
       "2"
      ]
     },
     "execution_count": 4,
     "metadata": {},
     "output_type": "execute_result"
    }
   ],
   "source": [
    "len(list_b)"
   ]
  },
  {
   "cell_type": "code",
   "execution_count": 5,
   "id": "7a12d31e",
   "metadata": {},
   "outputs": [],
   "source": [
    "# we can jusr plug in list as inputs of the np.array() function"
   ]
  },
  {
   "cell_type": "code",
   "execution_count": 13,
   "id": "7c4b67e3",
   "metadata": {},
   "outputs": [],
   "source": [
    "array_b =np.array(list_b)"
   ]
  },
  {
   "cell_type": "code",
   "execution_count": 14,
   "id": "45abdb2c",
   "metadata": {},
   "outputs": [
    {
     "data": {
      "text/plain": [
       "list"
      ]
     },
     "execution_count": 14,
     "metadata": {},
     "output_type": "execute_result"
    }
   ],
   "source": [
    "type(list_b)"
   ]
  },
  {
   "cell_type": "code",
   "execution_count": 15,
   "id": "84eecd15",
   "metadata": {},
   "outputs": [
    {
     "data": {
      "text/plain": [
       "numpy.ndarray"
      ]
     },
     "execution_count": 15,
     "metadata": {},
     "output_type": "execute_result"
    }
   ],
   "source": [
    "type(array_b)"
   ]
  },
  {
   "cell_type": "code",
   "execution_count": 17,
   "id": "ec17161a",
   "metadata": {},
   "outputs": [
    {
     "name": "stdout",
     "output_type": "stream",
     "text": [
      "[[1, 2, 3, 4], [2, 4, 5, 6]]\n"
     ]
    }
   ],
   "source": [
    "print(list_b)"
   ]
  },
  {
   "cell_type": "code",
   "execution_count": 16,
   "id": "77457137",
   "metadata": {},
   "outputs": [
    {
     "name": "stdout",
     "output_type": "stream",
     "text": [
      "[[1 2 3 4]\n",
      " [2 4 5 6]]\n"
     ]
    }
   ],
   "source": [
    "print(array_b)"
   ]
  },
  {
   "cell_type": "code",
   "execution_count": 18,
   "id": "74f69a3d",
   "metadata": {},
   "outputs": [
    {
     "data": {
      "text/plain": [
       "(2, 4)"
      ]
     },
     "execution_count": 18,
     "metadata": {},
     "output_type": "execute_result"
    }
   ],
   "source": [
    "array_b.shape"
   ]
  },
  {
   "cell_type": "code",
   "execution_count": 19,
   "id": "3b55e595",
   "metadata": {},
   "outputs": [
    {
     "data": {
      "text/plain": [
       "2"
      ]
     },
     "execution_count": 19,
     "metadata": {},
     "output_type": "execute_result"
    }
   ],
   "source": [
    "#list_b.shape  # list don't have shape\n",
    "len(list_b) # determine how many sublist insode the  list"
   ]
  },
  {
   "cell_type": "code",
   "execution_count": 20,
   "id": "860cca80",
   "metadata": {},
   "outputs": [],
   "source": [
    "# Array operation works elemnet wise while list operation don't"
   ]
  },
  {
   "cell_type": "code",
   "execution_count": 21,
   "id": "97a52599",
   "metadata": {},
   "outputs": [],
   "source": [
    "list_c = list_b[0] + list_b[1]\n",
    "array_c = array_b[0] + array_b[1]"
   ]
  },
  {
   "cell_type": "code",
   "execution_count": 22,
   "id": "e658c9ab",
   "metadata": {},
   "outputs": [
    {
     "name": "stdout",
     "output_type": "stream",
     "text": [
      "[1, 2, 3, 4, 2, 4, 5, 6]\n"
     ]
    }
   ],
   "source": [
    "print(list_c) # it just concanetate first sublist with the second sublist"
   ]
  },
  {
   "cell_type": "code",
   "execution_count": 23,
   "id": "ce7fd08f",
   "metadata": {},
   "outputs": [
    {
     "name": "stdout",
     "output_type": "stream",
     "text": [
      "[ 3  6  8 10]\n"
     ]
    }
   ],
   "source": [
    "print(array_c) # It did the element wise addition"
   ]
  },
  {
   "cell_type": "code",
   "execution_count": 24,
   "id": "b8500307",
   "metadata": {},
   "outputs": [
    {
     "data": {
      "text/plain": [
       "array([1.        , 1.41421356, 1.73205081, 2.        , 2.23606798,\n",
       "       2.44948974])"
      ]
     },
     "execution_count": 24,
     "metadata": {},
     "output_type": "execute_result"
    }
   ],
   "source": [
    "# To find the square route\n",
    "np.sqrt(array_a)"
   ]
  },
  {
   "cell_type": "code",
   "execution_count": null,
   "id": "ef391fd8",
   "metadata": {},
   "outputs": [],
   "source": []
  }
 ],
 "metadata": {
  "kernelspec": {
   "display_name": "Python 3 (ipykernel)",
   "language": "python",
   "name": "python3"
  },
  "language_info": {
   "codemirror_mode": {
    "name": "ipython",
    "version": 3
   },
   "file_extension": ".py",
   "mimetype": "text/x-python",
   "name": "python",
   "nbconvert_exporter": "python",
   "pygments_lexer": "ipython3",
   "version": "3.9.13"
  }
 },
 "nbformat": 4,
 "nbformat_minor": 5
}
