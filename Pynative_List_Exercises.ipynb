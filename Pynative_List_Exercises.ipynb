{
 "cells": [
  {
   "cell_type": "markdown",
   "id": "e9c86088",
   "metadata": {},
   "source": [
    "## Exercise 1: Reverse a list in Python\n",
    "\n",
    "Given:\n",
    "    \n",
    "list1 = [100, 200, 300, 400, 500]\n",
    "\n",
    "Expected output:\n",
    "    \n",
    "[500, 400, 300, 200, 100]"
   ]
  },
  {
   "cell_type": "code",
   "execution_count": 1,
   "id": "636c9000",
   "metadata": {},
   "outputs": [
    {
     "data": {
      "text/plain": [
       "[500, 400, 300, 200, 100]"
      ]
     },
     "execution_count": 1,
     "metadata": {},
     "output_type": "execute_result"
    }
   ],
   "source": [
    "## using inbuilt reverse() function\n",
    "list1 = [100, 200, 300, 400, 500]\n",
    "\n",
    "list1.reverse()\n",
    "\n",
    "list1"
   ]
  },
  {
   "cell_type": "code",
   "execution_count": 5,
   "id": "f69f7120",
   "metadata": {},
   "outputs": [
    {
     "data": {
      "text/plain": [
       "[500, 400, 300, 200, 100]"
      ]
     },
     "execution_count": 5,
     "metadata": {},
     "output_type": "execute_result"
    }
   ],
   "source": [
    "## use negative slicing\n",
    "list1 = [100, 200, 300, 400, 500]\n",
    "list2 = list1[-1::-1]\n",
    "list2\n"
   ]
  },
  {
   "cell_type": "markdown",
   "id": "22547667",
   "metadata": {},
   "source": [
    "## Exercise 2: Concatenate two lists index-wise\n",
    "\n",
    "Write a program to add two lists index-wise. Create a new list that contains the 0th index item from both the list, then the 1st\n",
    "\n",
    "index item, and so on till the last element. any leftover items will get added at the end of the new list.\n",
    "\n",
    "Given:\n",
    "\n",
    "list1 = [\"M\", \"na\", \"i\", \"Ke\"]\n",
    "\n",
    "list2 = [\"y\", \"me\", \"s\", \"lly\"]\n",
    "\n",
    "Expected output:\n",
    "\n",
    "['My', 'name', 'is', 'Kelly']"
   ]
  },
  {
   "cell_type": "code",
   "execution_count": 12,
   "id": "af30558e",
   "metadata": {},
   "outputs": [
    {
     "data": {
      "text/plain": [
       "['My', 'name', 'is', 'Kelly']"
      ]
     },
     "execution_count": 12,
     "metadata": {},
     "output_type": "execute_result"
    }
   ],
   "source": [
    "list1 = [\"M\", \"na\", \"i\", \"Ke\"]\n",
    "list2 = [\"y\", \"me\", \"s\", \"lly\"]\n",
    "\n",
    "list3 =[i+j for i,j in zip(list1,list2)]\n",
    "list3\n",
    "\n",
    "\n"
   ]
  },
  {
   "cell_type": "markdown",
   "id": "d8faacf3",
   "metadata": {},
   "source": [
    "## Exercise 3: Turn every item of a list into its square\n",
    "\n",
    "Given a list of numbers. write a program to turn every item of a list into its square.\n",
    "\n",
    "Given:\n",
    "    \n",
    "numbers = [1, 2, 3, 4, 5, 6, 7]\n",
    "\n",
    "Expected output:\n",
    "    \n",
    "[1, 4, 9, 16, 25, 36, 49]"
   ]
  },
  {
   "cell_type": "code",
   "execution_count": 14,
   "id": "7e1e6a53",
   "metadata": {},
   "outputs": [
    {
     "data": {
      "text/plain": [
       "[1, 4, 9, 16, 25, 36, 49]"
      ]
     },
     "execution_count": 14,
     "metadata": {},
     "output_type": "execute_result"
    }
   ],
   "source": [
    "numbers = [1, 2, 3, 4, 5, 6, 7]\n",
    "square =[i*i for i in numbers ]\n",
    "square"
   ]
  },
  {
   "cell_type": "markdown",
   "id": "3984ebd9",
   "metadata": {},
   "source": [
    "## Exercise 4: Concatenate two lists in the following order\n",
    "\n",
    "list1 = [\"Hello \", \"take \"]\n",
    "\n",
    "list2 = [\"Dear\", \"Sir\"]\n",
    "\n",
    "Expected output:\n",
    "\n",
    "['Hello Dear', 'Hello Sir', 'take Dear', 'take Sir']"
   ]
  },
  {
   "cell_type": "code",
   "execution_count": 16,
   "id": "2f3d0cf2",
   "metadata": {},
   "outputs": [
    {
     "data": {
      "text/plain": [
       "['Hello Dear', 'Hello Sir', 'take Dear', 'take Sir']"
      ]
     },
     "execution_count": 16,
     "metadata": {},
     "output_type": "execute_result"
    }
   ],
   "source": [
    "list1 = [\"Hello \", \"take \"]\n",
    "\n",
    "list2 = [\"Dear\", \"Sir\"]\n",
    "\n",
    "list3 =[i+j for i in list1 for j in  list2]\n",
    "\n",
    "list3\n"
   ]
  },
  {
   "cell_type": "markdown",
   "id": "f5b7b517",
   "metadata": {},
   "source": [
    "## Exercise 5: Iterate both lists simultaneously\n",
    "\n",
    "Given a two Python list. Write a program to iterate both lists simultaneously and display items from list1 in original order and items from list2 in reverse order.\n",
    "\n",
    "Given\n",
    "\n",
    "list1 = [10, 20, 30, 40]\n",
    "\n",
    "list2 = [100, 200, 300, 400]\n",
    "\n",
    "Expected output:\n",
    "\n",
    "10 400\n",
    "\n",
    "20 300\n",
    "\n",
    "30 200\n",
    "\n",
    "40 100"
   ]
  },
  {
   "cell_type": "code",
   "execution_count": 19,
   "id": "d7af70f2",
   "metadata": {},
   "outputs": [
    {
     "name": "stdout",
     "output_type": "stream",
     "text": [
      "10 400\n",
      "20 300\n",
      "30 200\n",
      "40 100\n"
     ]
    }
   ],
   "source": [
    "list1 = [10, 20, 30, 40]\n",
    "\n",
    "list2 = [100, 200, 300, 400]\n",
    "for i,j in zip(list1, list2[::-1]):\n",
    "    print(i,j)"
   ]
  },
  {
   "cell_type": "markdown",
   "id": "6b5db3eb",
   "metadata": {},
   "source": [
    "## Exercise 6: Remove empty strings from the list of strings\n",
    "\n",
    "list1 = [\"Mike\", \"\", \"Emma\", \"Kelly\", \"\", \"Brad\"]\n",
    "\n",
    "Expected output:\n",
    "    \n",
    "[\"Mike\", \"Emma\", \"Kelly\", \"Brad\"]\n",
    "    \n"
   ]
  },
  {
   "cell_type": "code",
   "execution_count": 20,
   "id": "ae090484",
   "metadata": {},
   "outputs": [
    {
     "data": {
      "text/plain": [
       "['Mike', 'Emma', 'Kelly', 'Brad']"
      ]
     },
     "execution_count": 20,
     "metadata": {},
     "output_type": "execute_result"
    }
   ],
   "source": [
    "list1 = [\"Mike\", \"\", \"Emma\", \"Kelly\", \"\", \"Brad\"]\n",
    "res = list(filter(None,list1))\n",
    "res"
   ]
  },
  {
   "cell_type": "markdown",
   "id": "3656d893",
   "metadata": {},
   "source": [
    "## Exercise 7: Add new item to list after a specified item\n",
    "\n",
    "Write a program to add item 7000 after 6000 in the following Python List\n",
    "\n",
    "Given:\n",
    "\n",
    "list1 = [10, 20, [300, 400, [5000, 6000], 500], 30, 40]\n",
    "\n",
    "Expected output:\n",
    "\n",
    "[10, 20, [300, 400, [5000, 6000, 7000], 500], 30, 40]"
   ]
  },
  {
   "cell_type": "code",
   "execution_count": 25,
   "id": "6a60ebd3",
   "metadata": {},
   "outputs": [
    {
     "data": {
      "text/plain": [
       "[10, 20, [300, 400, [5000, 6000, 7000], 500], 30, 40]"
      ]
     },
     "execution_count": 25,
     "metadata": {},
     "output_type": "execute_result"
    }
   ],
   "source": [
    "# understand indexing\n",
    "# list1[0] = 10\n",
    "# list1[1] = 20\n",
    "# list1[2] = [300, 400, [5000, 6000], 500]\n",
    "# list1[2][2] = [5000, 6000]\n",
    "# list1[2][2][1] = 6000\n",
    "\n",
    "list1 = [10, 20, [300, 400, [5000, 6000], 500], 30, 40]\n",
    "\n",
    "list1[2][2].append(7000)\n",
    "list1\n",
    "\n"
   ]
  },
  {
   "cell_type": "markdown",
   "id": "21832149",
   "metadata": {},
   "source": [
    "## Exercise 8: Extend nested list by adding the sublist\n",
    "\n",
    "You have given a nested list. Write a program to extend it by adding the sublist [\"h\", \"i\", \"j\"] in such a way that it will look\n",
    "\n",
    "like the following list.\n",
    "\n",
    "Given List:\n",
    "\n",
    "list1 = [\"a\", \"b\", [\"c\", [\"d\", \"e\", [\"f\", \"g\"], \"k\"], \"l\"], \"m\", \"n\"]\n",
    "\n",
    "# sub list to add\n",
    "\n",
    "sub_list = [\"h\", \"i\", \"j\"]\n",
    "\n",
    "Expected Output:\n",
    "\n",
    "['a', 'b', ['c', ['d', 'e', ['f', 'g', 'h', 'i', 'j'], 'k'], 'l'], 'm', 'n']"
   ]
  },
  {
   "cell_type": "code",
   "execution_count": 28,
   "id": "5601ba7c",
   "metadata": {},
   "outputs": [
    {
     "data": {
      "text/plain": [
       "['a', 'b', ['c', ['d', 'e', ['f', 'g', 'h', 'i', 'j'], 'k'], 'l'], 'm', 'n']"
      ]
     },
     "execution_count": 28,
     "metadata": {},
     "output_type": "execute_result"
    }
   ],
   "source": [
    "list1 = [\"a\", \"b\", [\"c\", [\"d\", \"e\", [\"f\", \"g\"], \"k\"], \"l\"], \"m\", \"n\"]\n",
    "list1[2][1][2].extend( [\"h\", \"i\", \"j\"])\n",
    "list1"
   ]
  },
  {
   "cell_type": "markdown",
   "id": "2391ec9c",
   "metadata": {},
   "source": [
    "## Exercise 9: Replace list’s item with new value if found\n",
    "\n",
    "You have given a Python list. Write a program to find value 20 in the list, and if it is present, replace it with 200. Only update the first occurrence of an item.\n",
    "\n",
    "Given:\n",
    "\n",
    "list1 = [5, 10, 15, 20, 25, 50, 20]\n",
    "\n",
    "Expected output:\n",
    "\n",
    "[5, 10, 15, 200, 25, 50, 20]"
   ]
  },
  {
   "cell_type": "code",
   "execution_count": 30,
   "id": "e29137d5",
   "metadata": {},
   "outputs": [
    {
     "data": {
      "text/plain": [
       "[5, 10, 15, 200, 25, 50, 20]"
      ]
     },
     "execution_count": 30,
     "metadata": {},
     "output_type": "execute_result"
    }
   ],
   "source": [
    "list1 = [5, 10, 15, 20, 25, 50, 20]\n",
    "## get the first occurance\n",
    "inx = list1.index(20)\n",
    "## update the index\n",
    "\n",
    "list1[inx] =200\n",
    "\n",
    "list1"
   ]
  },
  {
   "cell_type": "markdown",
   "id": "ab9333e0",
   "metadata": {},
   "source": [
    "## Exercise 10: Remove all occurrences of a specific item from a list.\n",
    "\n",
    "Given a Python list, write a program to remove all occurrences of item 20.\n",
    "\n",
    "Given:\n",
    "\n",
    "list1 = [5, 20, 15, 20, 25, 50, 20]\n",
    "\n",
    "Expected output:\n",
    "\n",
    "[5, 15, 25, 50]"
   ]
  },
  {
   "cell_type": "code",
   "execution_count": 44,
   "id": "14d2ea9a",
   "metadata": {},
   "outputs": [],
   "source": [
    "def remove_value(sample_list, val):\n",
    "    new_list=[]\n",
    "    for i in sample_list:\n",
    "        if i!=val:\n",
    "            new_list.append(i)\n",
    "    return new_list\n",
    "        \n"
   ]
  },
  {
   "cell_type": "code",
   "execution_count": 45,
   "id": "1686ebb6",
   "metadata": {},
   "outputs": [
    {
     "data": {
      "text/plain": [
       "[5, 15, 25, 50]"
      ]
     },
     "execution_count": 45,
     "metadata": {},
     "output_type": "execute_result"
    }
   ],
   "source": [
    "remove_value([5, 20, 15, 20, 25, 50, 20],20)"
   ]
  },
  {
   "cell_type": "code",
   "execution_count": 46,
   "id": "7c0371ec",
   "metadata": {},
   "outputs": [],
   "source": [
    "## using list comprehension\n",
    "def remove_value(sample_list, val):\n",
    "    return [i for i in sample_list if i!=val]\n",
    "   \n",
    "        \n"
   ]
  },
  {
   "cell_type": "code",
   "execution_count": 47,
   "id": "c99a4aa2",
   "metadata": {},
   "outputs": [
    {
     "data": {
      "text/plain": [
       "[5, 15, 25, 50]"
      ]
     },
     "execution_count": 47,
     "metadata": {},
     "output_type": "execute_result"
    }
   ],
   "source": [
    "remove_value([5, 20, 15, 20, 25, 50, 20],20)"
   ]
  },
  {
   "cell_type": "code",
   "execution_count": 48,
   "id": "e77cc6ba",
   "metadata": {},
   "outputs": [
    {
     "name": "stdout",
     "output_type": "stream",
     "text": [
      "[5, 15, 25, 50]\n"
     ]
    }
   ],
   "source": [
    "##Solution 2: while loop (slow solution)\n",
    "\n",
    "list1 = [5, 20, 15, 20, 25, 50, 20]\n",
    "\n",
    "while 20 in list1:\n",
    "    list1.remove(20)\n",
    "print(list1)"
   ]
  },
  {
   "cell_type": "code",
   "execution_count": null,
   "id": "fa509a7c",
   "metadata": {},
   "outputs": [],
   "source": []
  }
 ],
 "metadata": {
  "kernelspec": {
   "display_name": "Python 3 (ipykernel)",
   "language": "python",
   "name": "python3"
  },
  "language_info": {
   "codemirror_mode": {
    "name": "ipython",
    "version": 3
   },
   "file_extension": ".py",
   "mimetype": "text/x-python",
   "name": "python",
   "nbconvert_exporter": "python",
   "pygments_lexer": "ipython3",
   "version": "3.9.13"
  }
 },
 "nbformat": 4,
 "nbformat_minor": 5
}
