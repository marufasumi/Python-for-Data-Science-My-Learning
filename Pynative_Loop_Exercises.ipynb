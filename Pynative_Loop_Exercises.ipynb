{
 "cells": [
  {
   "cell_type": "markdown",
   "id": "8b565aef",
   "metadata": {},
   "source": [
    "## WHILE LOOP\n",
    "\n",
    "We use a while loop when the number of iteration is not known beforehand. For example, if you want to ask a user to guess your\n",
    "\n",
    "luck number between 1 and 10, we don’t know how many attempts the user may need to guess the correct number. In such cases, use\n",
    "\n",
    "a while loop.\n",
    "\n",
    "=>The while statement checks the condition. The condition must return a boolean value. Either True or False.\n",
    "\n",
    "=>Next, If the condition evaluates to true, the while statement executes the statements present inside its block.\n",
    "\n",
    "=>The while statement continues checking the condition in each iteration and keeps executing its block until the condition \n",
    "\n",
    "becomes false.\n",
    "\n",
    "\n",
    "### run loop till count is less than 5\n",
    "\n",
    "while count < 5:\n",
    "\n",
    "    print(count)\n",
    "    \n",
    "    count = count + 1\n",
    "    \n",
    " Note: The loop with continuing forever if you forgot to increment counter in the above example"
   ]
  },
  {
   "cell_type": "markdown",
   "id": "958ab4f2",
   "metadata": {},
   "source": [
    "## Exercise 1: Print First 10 natural numbers using while loop"
   ]
  },
  {
   "cell_type": "code",
   "execution_count": 3,
   "id": "a9ccdf1b",
   "metadata": {},
   "outputs": [
    {
     "name": "stdout",
     "output_type": "stream",
     "text": [
      "1\n",
      "2\n",
      "3\n",
      "4\n",
      "5\n",
      "6\n",
      "7\n",
      "8\n",
      "9\n",
      "10\n"
     ]
    }
   ],
   "source": [
    "i=1\n",
    "while i<11:\n",
    "    print(i)\n",
    "    i=i+1"
   ]
  },
  {
   "cell_type": "markdown",
   "id": "f70025d3",
   "metadata": {},
   "source": [
    "## Exercise 2: Print the following pattern\n",
    "\n",
    "Write a program to print the following number pattern using a loop.\n",
    "\n",
    "1 \n",
    "\n",
    "1 2 \n",
    "\n",
    "1 2 3 \n",
    "\n",
    "1 2 3 4 \n",
    "\n",
    "1 2 3 4 5"
   ]
  },
  {
   "cell_type": "code",
   "execution_count": 6,
   "id": "27cb96f1",
   "metadata": {},
   "outputs": [
    {
     "name": "stdout",
     "output_type": "stream",
     "text": [
      "Number Pattern \n",
      "1 \n",
      "1 2 \n",
      "1 2 3 \n",
      "1 2 3 4 \n",
      "1 2 3 4 5 \n"
     ]
    }
   ],
   "source": [
    "print(\"Number Pattern \")\n",
    "\n",
    "# Decide the row count. (above pattern contains 5 rows)\n",
    "row = 5\n",
    "# start: 1\n",
    "# stop: row+1 (range never include stop number in result)\n",
    "# step: 1\n",
    "# run loop 5 times\n",
    "for i in range(1, row + 1, 1):\n",
    "    # Run inner loop i+1 times\n",
    "    for j in range(1, i + 1):\n",
    "        print(j, end=' ')\n",
    "    # empty line after each row\n",
    "    print(\"\")\n"
   ]
  },
  {
   "cell_type": "markdown",
   "id": "c658a441",
   "metadata": {},
   "source": [
    "## Exercise 3: Calculate the sum of all numbers from 1 to a given number\n",
    "\n",
    "Write a program to accept a number from a user and calculate the sum of all numbers from 1 to a given number\n",
    "\n",
    "\n",
    "For example, if the user entered 10 the output should be 55 (1+2+3+4+5+6+7+8+9+10)\n",
    "\n",
    "\n",
    "Expected Output:\n",
    "\n",
    "Enter number 10\n",
    "\n",
    "Sum is:  55"
   ]
  },
  {
   "cell_type": "code",
   "execution_count": 9,
   "id": "e9187435",
   "metadata": {},
   "outputs": [
    {
     "name": "stdout",
     "output_type": "stream",
     "text": [
      "Enter your number:5\n",
      "15\n"
     ]
    }
   ],
   "source": [
    "## Save the input number in a variale\n",
    "## run a loop with range and add\n",
    "n =int(input(\"Enter your number:\"))\n",
    "sum_=0\n",
    "for i in range(1,n+1,1):\n",
    "    sum_ +=i\n",
    "print (sum_)"
   ]
  },
  {
   "cell_type": "markdown",
   "id": "1aa3f78f",
   "metadata": {},
   "source": [
    "## Exercise 4: Write a program to print multiplication table of a given number\n",
    "\n",
    "For example, num = 2 so the output should be\n",
    "\n",
    "2\n",
    "\n",
    "4\n",
    "\n",
    "6\n",
    "\n",
    "8\n",
    "\n",
    "10\n",
    "\n",
    "12\n",
    "\n",
    "14\n",
    "\n",
    "16\n",
    "\n",
    "18\n",
    "\n",
    "20"
   ]
  },
  {
   "cell_type": "code",
   "execution_count": 13,
   "id": "2735d877",
   "metadata": {},
   "outputs": [
    {
     "name": "stdout",
     "output_type": "stream",
     "text": [
      "2\n",
      "4\n",
      "6\n",
      "8\n",
      "10\n",
      "12\n",
      "14\n",
      "16\n",
      "18\n",
      "20\n"
     ]
    }
   ],
   "source": [
    "n=2\n",
    "for i in range(1,11,1):\n",
    "    product =n*i\n",
    "    print(product)"
   ]
  },
  {
   "cell_type": "markdown",
   "id": "40d68dd1",
   "metadata": {},
   "source": [
    "## Exercise 5: Display numbers from a list using loop"
   ]
  },
  {
   "cell_type": "raw",
   "id": "817ffd1d",
   "metadata": {},
   "source": [
    "Write a program to display only those numbers from a list that satisfy the following conditions\n",
    "\n",
    "The number must be divisible by five\n",
    "If the number is greater than 150, then skip it and move to the next number\n",
    "If the number is greater than 500, then stop the loop\n",
    "Given:\n",
    "\n",
    "numbers = [12, 75, 150, 180, 145, 525, 50]\n",
    "Expected output:\n",
    "\n",
    "75\n",
    "150\n",
    "145"
   ]
  },
  {
   "cell_type": "markdown",
   "id": "7d9c91fc",
   "metadata": {},
   "source": [
    "## Exercise 6: Count the total number of digits in a number\n",
    "\n",
    "Write a program to count the total number of digits in a number using a while loop.\n",
    "\n",
    "For example, the number is 75869, so the output should be 5."
   ]
  },
  {
   "cell_type": "code",
   "execution_count": 14,
   "id": "5303cdbd",
   "metadata": {},
   "outputs": [
    {
     "name": "stdout",
     "output_type": "stream",
     "text": [
      "5\n"
     ]
    }
   ],
   "source": [
    "num=75869\n",
    "count=0\n",
    "while num!=0:\n",
    "    # floor division\n",
    "    # to reduce the last digit from number\n",
    "    num=num//10\n",
    "    # increment counter by 1\n",
    "    count+=1\n",
    "print(count)\n",
    "    "
   ]
  },
  {
   "cell_type": "markdown",
   "id": "9ff2a533",
   "metadata": {},
   "source": [
    "## Exercise 7: Print the following pattern\n",
    "\n",
    "Write a program to use for loop to print the following reverse number pattern\n",
    "\n",
    "5 4 3 2 1 \n",
    "\n",
    "4 3 2 1 \n",
    "\n",
    "3 2 1 \n",
    "\n",
    "2 1 \n",
    "\n",
    "1"
   ]
  },
  {
   "cell_type": "code",
   "execution_count": 28,
   "id": "e10c1175",
   "metadata": {},
   "outputs": [
    {
     "name": "stdout",
     "output_type": "stream",
     "text": [
      "5 4 3 2 1 \n",
      "4 3 2 1 \n",
      "3 2 1 \n",
      "2 1 \n",
      "1 \n"
     ]
    }
   ],
   "source": [
    "for i in range(0,5,1):\n",
    "    for j in range(5-i,0,-1):\n",
    "        print(j,end=' ')\n",
    "    print(\"\")"
   ]
  },
  {
   "cell_type": "markdown",
   "id": "1b629204",
   "metadata": {},
   "source": [
    "## Exercise 8: Print list in reverse order using a loop\n",
    "\n",
    "Given:\n",
    "    \n",
    "list1 = [10, 20, 30, 40, 50]\n",
    "\n",
    "Expected output:\n",
    "\n",
    "50\n",
    "\n",
    "40\n",
    "\n",
    "30\n",
    "\n",
    "20\n",
    "\n",
    "10"
   ]
  },
  {
   "cell_type": "code",
   "execution_count": 29,
   "id": "67e55fa4",
   "metadata": {},
   "outputs": [
    {
     "name": "stdout",
     "output_type": "stream",
     "text": [
      "50\n",
      "40\n",
      "30\n",
      "20\n",
      "10\n"
     ]
    }
   ],
   "source": [
    "# Using a reverse function and for loop\n",
    "list1 = [10, 20, 30, 40, 50]\n",
    "\n",
    "rev_list = reversed(list1)\n",
    "\n",
    "for i in rev_list:\n",
    "    print(i)\n",
    "    "
   ]
  },
  {
   "cell_type": "code",
   "execution_count": 31,
   "id": "a15f1daf",
   "metadata": {},
   "outputs": [
    {
     "name": "stdout",
     "output_type": "stream",
     "text": [
      "50\n",
      "40\n",
      "30\n",
      "20\n",
      "10\n"
     ]
    }
   ],
   "source": [
    "# using for loop and len() function\n",
    "\n",
    "list1 = [10, 20, 30, 40, 50]\n",
    "l = len(list1)-1\n",
    "for i in range(l,-1,-1):\n",
    "    print(list1[i])\n"
   ]
  },
  {
   "cell_type": "markdown",
   "id": "a15156ae",
   "metadata": {},
   "source": [
    "## Exercise 9: Display numbers from -10 to -1 using for loop\n",
    "\n",
    "Expected output:\n",
    "\n",
    "-10\n",
    "\n",
    "-9\n",
    "\n",
    "-8\n",
    "\n",
    "-7\n",
    "\n",
    "-6\n",
    "\n",
    "-5\n",
    "\n",
    "-4\n",
    "\n",
    "-3\n",
    "\n",
    "-2\n",
    "\n",
    "-1"
   ]
  },
  {
   "cell_type": "code",
   "execution_count": 36,
   "id": "1a6890ea",
   "metadata": {},
   "outputs": [
    {
     "name": "stdout",
     "output_type": "stream",
     "text": [
      "-10\n",
      "-9\n",
      "-8\n",
      "-7\n",
      "-6\n",
      "-5\n",
      "-4\n",
      "-3\n",
      "-2\n",
      "-1\n"
     ]
    }
   ],
   "source": [
    "for i in range(-10,0,1):\n",
    "    print(i)\n"
   ]
  },
  {
   "cell_type": "markdown",
   "id": "7d1d90df",
   "metadata": {},
   "source": [
    "## Exercise 10: Use else block to display a message “Done” after successful execution of for loop"
   ]
  },
  {
   "cell_type": "raw",
   "id": "fc8f2397",
   "metadata": {},
   "source": [
    "For example, the following loop will execute without any error.\n",
    "\n",
    "Given:\n",
    "\n",
    "for i in range(5):\n",
    "    print(i)\n",
    "Expected output:\n",
    "\n",
    "0\n",
    "1\n",
    "2\n",
    "3\n",
    "4\n",
    "Done!"
   ]
  },
  {
   "cell_type": "code",
   "execution_count": 37,
   "id": "682b90e6",
   "metadata": {},
   "outputs": [
    {
     "name": "stdout",
     "output_type": "stream",
     "text": [
      "0\n",
      "1\n",
      "2\n",
      "3\n",
      "4\n",
      "Done\n"
     ]
    }
   ],
   "source": [
    "for i in range(5):\n",
    "    print(i)\n",
    "else:\n",
    "    print('Done')"
   ]
  },
  {
   "cell_type": "markdown",
   "id": "bbabb579",
   "metadata": {},
   "source": [
    "## Exercise 11: Write a program to display all prime numbers within a range"
   ]
  },
  {
   "cell_type": "raw",
   "id": "ba527269",
   "metadata": {},
   "source": [
    "Note: A Prime Number is a number that cannot be made by multiplying other whole numbers. A prime number is a natural number greater than 1 that is not a product of two smaller natural numbers\n",
    "\n",
    "Examples:\n",
    "\n",
    "6 is not a prime mumber because it can be made by 2×3 = 6\n",
    "37 is a prime number because no other whole numbers multiply together to make it.\n",
    "Given:\n",
    "\n",
    "# range\n",
    "start = 25\n",
    "end = 50\n",
    "Expected output:\n",
    "\n",
    "Prime numbers between 25 and 50 are:\n",
    "29\n",
    "31\n",
    "37\n",
    "41\n",
    "43\n",
    "47"
   ]
  },
  {
   "cell_type": "code",
   "execution_count": 41,
   "id": "984ae5ac",
   "metadata": {},
   "outputs": [
    {
     "name": "stdout",
     "output_type": "stream",
     "text": [
      "Prime numbers between 25 and 50 are:\n",
      "29\n",
      "31\n",
      "37\n",
      "41\n",
      "43\n",
      "47\n"
     ]
    }
   ],
   "source": [
    "# all prime numbers are greater than 1\n",
    "# if number is less than or equal to 1, it is not prime\n",
    "# If number is divisible by 0 it's not a prime number\n",
    "\n",
    "start = 25\n",
    "end = 50\n",
    "print(\"Prime numbers between\", start, \"and\", end, \"are:\")\n",
    "\n",
    "for num in range(start, end + 1):\n",
    "    # all prime numbers are greater than 1\n",
    "    # if number is less than or equal to 1, it is not prime\n",
    "    if num > 1:\n",
    "        for i in range(2, num):\n",
    "            # check for factors\n",
    "            if (num % i) == 0:\n",
    "                # not a prime number so break inner loop and\n",
    "                # look for next number\n",
    "                break\n",
    "        else:\n",
    "            print(num)\n",
    "        "
   ]
  },
  {
   "cell_type": "markdown",
   "id": "0bd36acb",
   "metadata": {},
   "source": [
    "## Exercise 12: Display Fibonacci series up to 10 terms\n",
    "\n",
    "The Fibonacci Sequence is a series of numbers. The next number is found by adding up the two numbers before it. The first two\n",
    "\n",
    "numbers are 0 and 1.\n",
    "\n",
    "For example, 0, 1, 1, 2, 3, 5, 8, 13, 21. The next number in this series above is 13+21 = 34.\n",
    "\n",
    "Expected output:\n",
    "\n",
    "Fibonacci sequence:\n",
    "    \n",
    "0  1  1  2  3  5  8  13  21  34"
   ]
  },
  {
   "cell_type": "code",
   "execution_count": 5,
   "id": "6dfd8b26",
   "metadata": {},
   "outputs": [
    {
     "name": "stdout",
     "output_type": "stream",
     "text": [
      "Fibonacci sequence:\n",
      "0  1  1  2  3  5  8  13  21  34  "
     ]
    }
   ],
   "source": [
    "# first two numbers\n",
    "num1, num2 = 0, 1\n",
    "\n",
    "print(\"Fibonacci sequence:\")\n",
    "# run loop 10 times\n",
    "for i in range(10):\n",
    "    # print next number of a series\n",
    "    print(num1, end=\"  \")\n",
    "    # add last two numbers to get next number\n",
    "    res = num1 + num2\n",
    "\n",
    "    # update values\n",
    "    num1 = num2\n",
    "    num2 = res\n",
    "\n"
   ]
  },
  {
   "cell_type": "markdown",
   "id": "01bc0539",
   "metadata": {},
   "source": [
    "## Exercise 13: Find the factorial of a given number\n",
    "\n",
    "Write a program to use the loop to find the factorial of a given number.\n",
    "\n",
    "The factorial (symbol: !) means to multiply all whole numbers from the chosen number down to 1\n",
    "\n",
    "For example: calculate the factorial of 5\n",
    "\n",
    "5! = 5 × 4 × 3 × 2 × 1 = 120\n",
    "\n",
    "Expected output:\n",
    "\n",
    "120"
   ]
  },
  {
   "cell_type": "code",
   "execution_count": 9,
   "id": "4f31be1c",
   "metadata": {},
   "outputs": [
    {
     "name": "stdout",
     "output_type": "stream",
     "text": [
      "120\n"
     ]
    }
   ],
   "source": [
    "num =5\n",
    "Factorial =1\n",
    "if num<1:\n",
    "    print('Factorial does not exists for negative number')\n",
    "elif num==0:\n",
    "    print('Factorial for 0 i 1')\n",
    "else:\n",
    "    for i in range(1,num+1):\n",
    "        Factorial=Factorial*i\n",
    "    print(Factorial)"
   ]
  },
  {
   "cell_type": "markdown",
   "id": "35f06321",
   "metadata": {},
   "source": [
    "## Exercise 14: Reverse a given integer number\n",
    "\n",
    "Given:\n",
    "\n",
    "76542\n",
    "\n",
    "Expected output:\n",
    "\n",
    "24567"
   ]
  },
  {
   "cell_type": "code",
   "execution_count": 10,
   "id": "d1a5ef97",
   "metadata": {},
   "outputs": [
    {
     "name": "stdout",
     "output_type": "stream",
     "text": [
      "Given Number  76542\n",
      "Reverse Number  24567\n"
     ]
    }
   ],
   "source": [
    "## Using for loop\n",
    "num = 76542\n",
    "reverse_number = 0\n",
    "\n",
    "print(\"Given Number \", num)\n",
    "\n",
    "# Convert the number to a string and iterate over its characters in reverse order\n",
    "for digit in str(num)[::-1]:\n",
    "    reverse_number = (reverse_number * 10) + int(digit)\n",
    "\n",
    "print(\"Reverse Number \", reverse_number)\n"
   ]
  },
  {
   "cell_type": "code",
   "execution_count": 11,
   "id": "f77cd612",
   "metadata": {},
   "outputs": [
    {
     "name": "stdout",
     "output_type": "stream",
     "text": [
      "Given Number  76542\n",
      "Revere Number  24567\n"
     ]
    }
   ],
   "source": [
    "## Using while loop\n",
    "num = 76542\n",
    "reverse_number = 0\n",
    "print(\"Given Number \", num)\n",
    "while num > 0:\n",
    "    reminder = num % 10\n",
    "    reverse_number = (reverse_number * 10) + reminder\n",
    "    num = num // 10\n",
    "print(\"Revere Number \", reverse_number)"
   ]
  },
  {
   "cell_type": "markdown",
   "id": "04acdf68",
   "metadata": {},
   "source": [
    "## Exercise 15: Use a loop to display elements from a given list present at odd index positions\n",
    "\n",
    "Given:\n",
    "\n",
    "my_list = [10, 20, 30, 40, 50, 60, 70, 80, 90, 100]\n",
    "\n",
    "Note: list index always starts at 0\n",
    "\n",
    "Expected output:\n",
    "\n",
    "20 40 60 80 100\n"
   ]
  },
  {
   "cell_type": "code",
   "execution_count": 9,
   "id": "ed469cc1",
   "metadata": {},
   "outputs": [
    {
     "name": "stdout",
     "output_type": "stream",
     "text": [
      "20 40 60 80 100 "
     ]
    }
   ],
   "source": [
    "my_list = [10, 20, 30, 40, 50, 60, 70, 80, 90, 100]\n",
    "# stat from index 1 with step 2( means 1, 3, 5, an so on)\n",
    "for i in my_list[1::2]:\n",
    "    print(i, end=\" \")"
   ]
  },
  {
   "cell_type": "code",
   "execution_count": 7,
   "id": "7df9a657",
   "metadata": {},
   "outputs": [
    {
     "name": "stdout",
     "output_type": "stream",
     "text": [
      "20 40 60 80 100 "
     ]
    }
   ],
   "source": [
    "my_list = [10, 20, 30, 40, 50, 60, 70, 80, 90, 100]\n",
    "# stat from index 1 with step 2( means 1, 3, 5, an so on)\n",
    "for i in range(1,len(my_list)+1,2):\n",
    "    print(my_list[i], end=\" \")"
   ]
  },
  {
   "cell_type": "markdown",
   "id": "cdfbeac0",
   "metadata": {},
   "source": [
    "## Exercise 16: Calculate the cube of all numbers from 1 to a given number\n",
    "\n",
    "Write a program to rint the cube of all numbers from 1 to a given number\n",
    "\n",
    "Given:\n",
    "\n",
    "input_number = 6\n",
    "\n",
    "Expected output:\n",
    "\n",
    "Current Number is : 1  and the cube is 1\n",
    "    \n",
    "Current Number is : 2  and the cube is 8\n",
    "    \n",
    "Current Number is : 3  and the cube is 27\n",
    "    \n",
    "Current Number is : 4  and the cube is 64\n",
    "    \n",
    "Current Number is : 5  and the cube is 125\n",
    "    \n",
    "Current Number is : 6  and the cube is 216"
   ]
  },
  {
   "cell_type": "markdown",
   "id": "6726cf61",
   "metadata": {},
   "source": [
    "## Exercise 17: Find the sum of the series upto n terms\n",
    "\n",
    "Write a program to calculate the sum of series up to n term. For example, if n =5 the series will become 2 + 22 + 222 + 2222 +\n",
    "22222 = 24690\n",
    "\n",
    "Given:\n",
    "\n",
    "# number of terms\n",
    "\n",
    "n = 5\n",
    "\n",
    "Expected output:\n",
    "\n",
    "24690"
   ]
  },
  {
   "cell_type": "code",
   "execution_count": 11,
   "id": "f2cc21e1",
   "metadata": {},
   "outputs": [
    {
     "name": "stdout",
     "output_type": "stream",
     "text": [
      "2+22+222+2222+22222+"
     ]
    }
   ],
   "source": [
    "n=5\n",
    "# first number of sequence \n",
    "start=2\n",
    "sum_seq=0\n",
    "\n",
    "for i in range(0,n):\n",
    "    print(start,end='+')\n",
    "    sum_seq =sum_seq+start\n",
    "    ## calculate the next number\n",
    "    start = start*10+2"
   ]
  },
  {
   "cell_type": "markdown",
   "id": "1eb8b032",
   "metadata": {},
   "source": [
    "## Exercise 18: Print the following pattern\n",
    "\n",
    "Write a program to print the following start pattern using the for loop"
   ]
  },
  {
   "cell_type": "raw",
   "id": "95a8658c",
   "metadata": {},
   "source": [
    "* \n",
    "* * \n",
    "* * * \n",
    "* * * * \n",
    "* * * * * \n",
    "* * * * \n",
    "* * * \n",
    "* * \n",
    "*"
   ]
  },
  {
   "cell_type": "code",
   "execution_count": 13,
   "id": "85fc054b",
   "metadata": {},
   "outputs": [
    {
     "name": "stdout",
     "output_type": "stream",
     "text": [
      "* \r\n",
      "* * \r\n",
      "* * * \r\n",
      "* * * * \r\n",
      "* * * * * \r\n",
      "* * * * \r\n",
      "* * * \r\n",
      "* * \r\n",
      "* \r\n",
      "\r\n"
     ]
    }
   ],
   "source": [
    "rows =5\n",
    "for i in range(0,rows):\n",
    "    for j in range(0,i+1):\n",
    "        print(\"*\",end=' ')\n",
    "    print(\"\\r\")\n",
    "    \n",
    "for i in range(rows,0,-1):\n",
    "    for j in range(0,i-1,):\n",
    "        print(\"*\",end=' ')\n",
    "    print(\"\\r\")"
   ]
  },
  {
   "cell_type": "code",
   "execution_count": null,
   "id": "85e82abf",
   "metadata": {},
   "outputs": [],
   "source": []
  }
 ],
 "metadata": {
  "kernelspec": {
   "display_name": "Python 3 (ipykernel)",
   "language": "python",
   "name": "python3"
  },
  "language_info": {
   "codemirror_mode": {
    "name": "ipython",
    "version": 3
   },
   "file_extension": ".py",
   "mimetype": "text/x-python",
   "name": "python",
   "nbconvert_exporter": "python",
   "pygments_lexer": "ipython3",
   "version": "3.9.13"
  }
 },
 "nbformat": 4,
 "nbformat_minor": 5
}
