{
 "cells": [
  {
   "cell_type": "markdown",
   "id": "acde96fc",
   "metadata": {},
   "source": [
    "Set in Python is an unordered collection of items. Every item is unique in it. i.e., the set doesn’t allow duplicates."
   ]
  },
  {
   "cell_type": "markdown",
   "id": "d6f54058",
   "metadata": {},
   "source": [
    "## Exercise 1: Add a list of elements to a set\n",
    "\n",
    "Given a Python list, Write a program to add all its elements into a given set.\n",
    "\n",
    "Given:\n",
    "    \n",
    "sample_set = {\"Yellow\", \"Orange\", \"Black\"}\n",
    "\n",
    "sample_list = [\"Blue\", \"Green\", \"Red\"]\n",
    "\n",
    "Expected output:\n",
    "\n",
    "Note: Set is unordered.\n",
    "\n",
    "{'Green', 'Yellow', 'Black', 'Orange', 'Red', 'Blue'}"
   ]
  },
  {
   "cell_type": "code",
   "execution_count": 1,
   "id": "4585cbbc",
   "metadata": {},
   "outputs": [
    {
     "data": {
      "text/plain": [
       "{'Black', 'Blue', 'Green', 'Orange', 'Red', 'Yellow'}"
      ]
     },
     "execution_count": 1,
     "metadata": {},
     "output_type": "execute_result"
    }
   ],
   "source": [
    "## Use update () method of the set\n",
    "\n",
    "sample_set = {\"Yellow\", \"Orange\", \"Black\"}\n",
    "\n",
    "sample_list = [\"Blue\", \"Green\", \"Red\"]\n",
    "\n",
    "sample_set.update(sample_list)\n",
    "sample_set"
   ]
  },
  {
   "cell_type": "markdown",
   "id": "68a17fa8",
   "metadata": {},
   "source": [
    "## Exercise 2: Return a new set of identical items from two sets\n",
    "\n",
    "Given:\n",
    "\n",
    "set1 = {10, 20, 30, 40, 50}\n",
    "\n",
    "set2 = {30, 40, 50, 60, 70}\n",
    "\n",
    "Expected output:\n",
    "\n",
    "{40, 50, 30}"
   ]
  },
  {
   "cell_type": "code",
   "execution_count": 3,
   "id": "480f090e",
   "metadata": {},
   "outputs": [
    {
     "data": {
      "text/plain": [
       "{30, 40, 50}"
      ]
     },
     "execution_count": 3,
     "metadata": {},
     "output_type": "execute_result"
    }
   ],
   "source": [
    "## use intersection method\n",
    "set1 = {10, 20, 30, 40, 50}\n",
    "\n",
    "set2 = {30, 40, 50, 60, 70}\n",
    "\n",
    "x = set1.intersection(set2)\n",
    "x\n"
   ]
  },
  {
   "cell_type": "markdown",
   "id": "778dc564",
   "metadata": {},
   "source": [
    "## Exercise 3: Get Only unique items from two sets\n",
    "\n",
    "Write a Python program to return a new set with unique items from both sets by removing duplicates.\n",
    "\n",
    "Given:\n",
    "\n",
    "set1 = {10, 20, 30, 40, 50}\n",
    "\n",
    "set2 = {30, 40, 50, 60, 70}\n",
    "\n",
    "Expected output:\n",
    "\n",
    "{70, 40, 10, 50, 20, 60, 30}"
   ]
  },
  {
   "cell_type": "code",
   "execution_count": 5,
   "id": "bd4d38a7",
   "metadata": {},
   "outputs": [
    {
     "data": {
      "text/plain": [
       "{10, 20, 30, 40, 50, 60, 70}"
      ]
     },
     "execution_count": 5,
     "metadata": {},
     "output_type": "execute_result"
    }
   ],
   "source": [
    "set1 = {10, 20, 30, 40, 50}\n",
    "\n",
    "set2 = {30, 40, 50, 60, 70}\n",
    "\n",
    "x = set1.union(set2)\n",
    "x"
   ]
  },
  {
   "cell_type": "markdown",
   "id": "73154065",
   "metadata": {},
   "source": [
    "## Exercise 4: Update the first set with items that don’t exist in the second set\n",
    "\n",
    "Given two Python sets, write a Python program to update the first set with items that exist only in the first set and not in the\n",
    "second set.\n",
    "\n",
    "Given:\n",
    "\n",
    "set1 = {10, 20, 30}\n",
    "\n",
    "set2 = {20, 40, 50}\n",
    "\n",
    "Expected output:\n",
    "\n",
    "set1 {10, 30}"
   ]
  },
  {
   "cell_type": "code",
   "execution_count": 8,
   "id": "7ced0b5b",
   "metadata": {},
   "outputs": [
    {
     "data": {
      "text/plain": [
       "{10, 30}"
      ]
     },
     "execution_count": 8,
     "metadata": {},
     "output_type": "execute_result"
    }
   ],
   "source": [
    "## Use the difference_update() method of a set.\n",
    "\n",
    "set1 = {10, 20, 30}\n",
    "set2 = {20, 40, 50}\n",
    "\n",
    "set1.difference_update(set2)\n",
    "\n",
    "set1\n"
   ]
  },
  {
   "cell_type": "markdown",
   "id": "df004446",
   "metadata": {},
   "source": [
    "## Exercise 5: Remove items from the set at once\n",
    "\n",
    "Write a Python program to remove items 10, 20, 30 from the following set at once.\n",
    "\n",
    "Given:\n",
    "\n",
    "set1 = {10, 20, 30, 40, 50}\n",
    "\n",
    "Expected output:\n",
    "\n",
    "{40, 50}"
   ]
  },
  {
   "cell_type": "code",
   "execution_count": 9,
   "id": "ff91ea6a",
   "metadata": {},
   "outputs": [
    {
     "data": {
      "text/plain": [
       "{40, 50}"
      ]
     },
     "execution_count": 9,
     "metadata": {},
     "output_type": "execute_result"
    }
   ],
   "source": [
    "## Use the difference_update() method of a set.\n",
    "\n",
    "set1 = {10, 20, 30, 40, 50}\n",
    "set1.difference_update({10,20,30})\n",
    "set1"
   ]
  },
  {
   "cell_type": "markdown",
   "id": "5172d2d1",
   "metadata": {},
   "source": [
    "## Exercise 6: Return a set of elements present in Set A or B, but not both\n",
    "\n",
    "Given:\n",
    "\n",
    "set1 = {10, 20, 30, 40, 50}\n",
    "\n",
    "set2 = {30, 40, 50, 60, 70}\n",
    "\n",
    "Expected output:\n",
    "\n",
    "{20, 70, 10, 60}"
   ]
  },
  {
   "cell_type": "code",
   "execution_count": 10,
   "id": "284982f6",
   "metadata": {},
   "outputs": [
    {
     "data": {
      "text/plain": [
       "{10, 20, 60, 70}"
      ]
     },
     "execution_count": 10,
     "metadata": {},
     "output_type": "execute_result"
    }
   ],
   "source": [
    "## Use the symmetric_difference() method of a set.\n",
    "\n",
    "set1 = {10, 20, 30, 40, 50}\n",
    "\n",
    "set2 = {30, 40, 50, 60, 70}\n",
    "\n",
    "x = set1.symmetric_difference(set2)\n",
    "x\n",
    "\n"
   ]
  },
  {
   "cell_type": "markdown",
   "id": "c36e5b75",
   "metadata": {},
   "source": [
    "## Exercise 7: Check if two sets have any elements in common. If yes, display the common elements\n",
    "\n",
    "Given:\n",
    "\n",
    "set1 = {10, 20, 30, 40, 50}\n",
    "\n",
    "set2 = {60, 70, 80, 90, 10}\n",
    "\n",
    "Expected output:\n",
    "\n",
    "Two sets have items in common\n",
    "\n",
    "{10}"
   ]
  },
  {
   "cell_type": "code",
   "execution_count": 12,
   "id": "0f056095",
   "metadata": {},
   "outputs": [
    {
     "name": "stdout",
     "output_type": "stream",
     "text": [
      "Have common items\n",
      "{40, 50, 30}\n"
     ]
    }
   ],
   "source": [
    "## Use the isdisjoint() method check if sets has a common elements\n",
    "## If above condition is true then use the intersection() method to display common elements\n",
    "\n",
    "if set1.isdisjoint(set2):\n",
    "    print(\"No common items\")\n",
    "else:\n",
    "    print(\"Have common items\")\n",
    "    print(set1.intersection(set2))"
   ]
  },
  {
   "cell_type": "markdown",
   "id": "08ca6625",
   "metadata": {},
   "source": [
    "## Exercise 8: Update set1 by adding items from set2, except common items\n",
    "\n",
    "Given:\n",
    "\n",
    "set1 = {10, 20, 30, 40, 50}\n",
    "\n",
    "set2 = {30, 40, 50, 60, 70}\n",
    "\n",
    "Expected output:\n",
    "\n",
    "{70, 10, 20, 60}"
   ]
  },
  {
   "cell_type": "code",
   "execution_count": 13,
   "id": "8ed5c726",
   "metadata": {},
   "outputs": [
    {
     "data": {
      "text/plain": [
       "{10, 20, 60, 70}"
      ]
     },
     "execution_count": 13,
     "metadata": {},
     "output_type": "execute_result"
    }
   ],
   "source": [
    "##Use the symmetric_difference_update() method of a set.\n",
    "set1 = {10, 20, 30, 40, 50}\n",
    "set2 = {30, 40, 50, 60, 70}\n",
    "\n",
    "set1.symmetric_difference_update(set2)\n",
    "set1"
   ]
  },
  {
   "cell_type": "markdown",
   "id": "4dc2f9f6",
   "metadata": {},
   "source": [
    "## Exercise 9: Remove items from set1 that are not common to both set1 and set2\n",
    "Given:\n",
    "\n",
    "set1 = {10, 20, 30, 40, 50}\n",
    "\n",
    "set2 = {30, 40, 50, 60, 70}\n",
    "\n",
    "Expected output:\n",
    "\n",
    "{40, 50, 30}"
   ]
  },
  {
   "cell_type": "code",
   "execution_count": 14,
   "id": "728b4968",
   "metadata": {},
   "outputs": [
    {
     "data": {
      "text/plain": [
       "{30, 40, 50}"
      ]
     },
     "execution_count": 14,
     "metadata": {},
     "output_type": "execute_result"
    }
   ],
   "source": [
    "## Use the intersection_update() method of a set.\n",
    "set1 = {10, 20, 30, 40, 50}\n",
    "set2 = {30, 40, 50, 60, 70}\n",
    "set1.intersection_update(set2)\n",
    "set1\n"
   ]
  },
  {
   "cell_type": "code",
   "execution_count": null,
   "id": "ea447800",
   "metadata": {},
   "outputs": [],
   "source": []
  }
 ],
 "metadata": {
  "kernelspec": {
   "display_name": "Python 3 (ipykernel)",
   "language": "python",
   "name": "python3"
  },
  "language_info": {
   "codemirror_mode": {
    "name": "ipython",
    "version": 3
   },
   "file_extension": ".py",
   "mimetype": "text/x-python",
   "name": "python",
   "nbconvert_exporter": "python",
   "pygments_lexer": "ipython3",
   "version": "3.9.13"
  }
 },
 "nbformat": 4,
 "nbformat_minor": 5
}
