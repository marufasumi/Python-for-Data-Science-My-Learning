{
 "cells": [
  {
   "cell_type": "raw",
   "id": "83f2932e",
   "metadata": {},
   "source": [
    "# Numpy - Numeric Python\n",
    "Numpy is a Python library. A collection of prewritten function, classes and methods which are capable of handling and manupulating data and calculating results.\n",
    "Main Feature: Arrays\n",
    "Numpy is a Linear Algebra Library for Python.\n",
    "\n",
    "N-D Array = N-Dimentional Array\n",
    "\n"
   ]
  },
  {
   "cell_type": "code",
   "execution_count": 1,
   "id": "398c21b0",
   "metadata": {},
   "outputs": [],
   "source": [
    "import numpy as np\n"
   ]
  },
  {
   "cell_type": "code",
   "execution_count": 2,
   "id": "df67d5ce",
   "metadata": {},
   "outputs": [],
   "source": [
    "# How to generate 1-D Array\n",
    "#shift+tab\n",
    "array_a = np.array([1,2,3,4])"
   ]
  },
  {
   "cell_type": "code",
   "execution_count": 3,
   "id": "47e9e557",
   "metadata": {},
   "outputs": [
    {
     "data": {
      "text/plain": [
       "array([1, 2, 3, 4])"
      ]
     },
     "execution_count": 3,
     "metadata": {},
     "output_type": "execute_result"
    }
   ],
   "source": [
    "array_a"
   ]
  },
  {
   "cell_type": "code",
   "execution_count": 4,
   "id": "e7bdca59",
   "metadata": {},
   "outputs": [],
   "source": [
    "#How to create 2-D array : We need double square bracket on the outside\n",
    "array_b = np.array([[1,2,3,4],[5,6,7,8]])\n"
   ]
  },
  {
   "cell_type": "code",
   "execution_count": 5,
   "id": "c6d047fd",
   "metadata": {},
   "outputs": [
    {
     "data": {
      "text/plain": [
       "array([[1, 2, 3, 4],\n",
       "       [5, 6, 7, 8]])"
      ]
     },
     "execution_count": 5,
     "metadata": {},
     "output_type": "execute_result"
    }
   ],
   "source": [
    "array_b"
   ]
  },
  {
   "cell_type": "markdown",
   "id": "e579f4da",
   "metadata": {},
   "source": [
    "type(arra_a)"
   ]
  },
  {
   "cell_type": "code",
   "execution_count": 6,
   "id": "9e5acc2c",
   "metadata": {},
   "outputs": [
    {
     "data": {
      "text/plain": [
       "numpy.ndarray"
      ]
     },
     "execution_count": 6,
     "metadata": {},
     "output_type": "execute_result"
    }
   ],
   "source": [
    "type(array_a)"
   ]
  },
  {
   "cell_type": "code",
   "execution_count": 7,
   "id": "9b00f85b",
   "metadata": {},
   "outputs": [
    {
     "data": {
      "text/plain": [
       "(4,)"
      ]
     },
     "execution_count": 7,
     "metadata": {},
     "output_type": "execute_result"
    }
   ],
   "source": [
    "array_a.shape"
   ]
  },
  {
   "cell_type": "code",
   "execution_count": null,
   "id": "71ca8000",
   "metadata": {},
   "outputs": [],
   "source": [
    "## The shape of the array_a is 4. or We have one dimentional array of size 4"
   ]
  },
  {
   "cell_type": "code",
   "execution_count": 8,
   "id": "9ed9b048",
   "metadata": {},
   "outputs": [
    {
     "data": {
      "text/plain": [
       "(2, 4)"
      ]
     },
     "execution_count": 8,
     "metadata": {},
     "output_type": "execute_result"
    }
   ],
   "source": [
    "array_b.shape"
   ]
  },
  {
   "cell_type": "code",
   "execution_count": 9,
   "id": "fced5ad3",
   "metadata": {},
   "outputs": [],
   "source": [
    "# (2,4) means two rows and three columns"
   ]
  },
  {
   "cell_type": "code",
   "execution_count": 10,
   "id": "9da77ab4",
   "metadata": {},
   "outputs": [
    {
     "data": {
      "text/plain": [
       "2"
      ]
     },
     "execution_count": 10,
     "metadata": {},
     "output_type": "execute_result"
    }
   ],
   "source": [
    "# To find the number of rows\n",
    "array_b.shape[0]"
   ]
  },
  {
   "cell_type": "code",
   "execution_count": 11,
   "id": "c34a05a7",
   "metadata": {},
   "outputs": [
    {
     "data": {
      "text/plain": [
       "4"
      ]
     },
     "execution_count": 11,
     "metadata": {},
     "output_type": "execute_result"
    }
   ],
   "source": [
    "# To find the number of columns\n",
    "array_b.shape[1]"
   ]
  },
  {
   "cell_type": "code",
   "execution_count": 12,
   "id": "d1e979ec",
   "metadata": {},
   "outputs": [],
   "source": [
    "array_c =np.array(13)"
   ]
  },
  {
   "cell_type": "code",
   "execution_count": 13,
   "id": "d13077bf",
   "metadata": {},
   "outputs": [
    {
     "data": {
      "text/plain": [
       "numpy.ndarray"
      ]
     },
     "execution_count": 13,
     "metadata": {},
     "output_type": "execute_result"
    }
   ],
   "source": [
    "type(array_c)"
   ]
  },
  {
   "cell_type": "code",
   "execution_count": 14,
   "id": "3b27dfb2",
   "metadata": {},
   "outputs": [
    {
     "data": {
      "text/plain": [
       "()"
      ]
     },
     "execution_count": 14,
     "metadata": {},
     "output_type": "execute_result"
    }
   ],
   "source": [
    "array_c.shape  # No length or shape"
   ]
  },
  {
   "cell_type": "code",
   "execution_count": 15,
   "id": "0eb5d3de",
   "metadata": {},
   "outputs": [],
   "source": [
    "array_d = np.array([15])"
   ]
  },
  {
   "cell_type": "code",
   "execution_count": 16,
   "id": "2ef2663d",
   "metadata": {},
   "outputs": [
    {
     "data": {
      "text/plain": [
       "numpy.ndarray"
      ]
     },
     "execution_count": 16,
     "metadata": {},
     "output_type": "execute_result"
    }
   ],
   "source": [
    "type(array_d)"
   ]
  },
  {
   "cell_type": "code",
   "execution_count": 17,
   "id": "73416836",
   "metadata": {},
   "outputs": [
    {
     "data": {
      "text/plain": [
       "(1,)"
      ]
     },
     "execution_count": 17,
     "metadata": {},
     "output_type": "execute_result"
    }
   ],
   "source": [
    "array_d.shape"
   ]
  },
  {
   "cell_type": "code",
   "execution_count": 18,
   "id": "41b8669b",
   "metadata": {},
   "outputs": [],
   "source": [
    "array_e=np.array([[15]]) # This is two diemntional array"
   ]
  },
  {
   "cell_type": "code",
   "execution_count": 19,
   "id": "04409ada",
   "metadata": {},
   "outputs": [
    {
     "data": {
      "text/plain": [
       "array([[15]])"
      ]
     },
     "execution_count": 19,
     "metadata": {},
     "output_type": "execute_result"
    }
   ],
   "source": [
    "array_e"
   ]
  },
  {
   "cell_type": "code",
   "execution_count": null,
   "id": "cb0b08b1",
   "metadata": {},
   "outputs": [],
   "source": [
    "## The number of opening and closing brackets an array has indicates how many dimensions it requires."
   ]
  }
 ],
 "metadata": {
  "kernelspec": {
   "display_name": "Python 3 (ipykernel)",
   "language": "python",
   "name": "python3"
  },
  "language_info": {
   "codemirror_mode": {
    "name": "ipython",
    "version": 3
   },
   "file_extension": ".py",
   "mimetype": "text/x-python",
   "name": "python",
   "nbconvert_exporter": "python",
   "pygments_lexer": "ipython3",
   "version": "3.9.13"
  }
 },
 "nbformat": 4,
 "nbformat_minor": 5
}
