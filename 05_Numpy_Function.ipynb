{
 "cells": [
  {
   "cell_type": "markdown",
   "id": "4db69899",
   "metadata": {},
   "source": [
    "Charecteristic of Numpy Functions"
   ]
  },
  {
   "cell_type": "code",
   "execution_count": 1,
   "id": "26a20c5c",
   "metadata": {},
   "outputs": [],
   "source": [
    "# Universal Functions: Work with NDarrays on an element-by-element bases"
   ]
  },
  {
   "cell_type": "code",
   "execution_count": 2,
   "id": "ca8e1007",
   "metadata": {},
   "outputs": [],
   "source": [
    "import numpy as np"
   ]
  },
  {
   "cell_type": "code",
   "execution_count": 3,
   "id": "752ce716",
   "metadata": {},
   "outputs": [
    {
     "data": {
      "text/plain": [
       "array([1, 2, 3])"
      ]
     },
     "execution_count": 3,
     "metadata": {},
     "output_type": "execute_result"
    }
   ],
   "source": [
    "array_a = np.array([1,2,3])\n",
    "array_a"
   ]
  },
  {
   "cell_type": "code",
   "execution_count": 5,
   "id": "14507414",
   "metadata": {},
   "outputs": [
    {
     "data": {
      "text/plain": [
       "array([[1],\n",
       "       [2]])"
      ]
     },
     "execution_count": 5,
     "metadata": {},
     "output_type": "execute_result"
    }
   ],
   "source": [
    "array_b= np.array([[1],[2]])\n",
    "array_b"
   ]
  },
  {
   "cell_type": "code",
   "execution_count": 6,
   "id": "aa691413",
   "metadata": {},
   "outputs": [
    {
     "data": {
      "text/plain": [
       "array([[1, 2, 3],\n",
       "       [4, 5, 6]])"
      ]
     },
     "execution_count": 6,
     "metadata": {},
     "output_type": "execute_result"
    }
   ],
   "source": [
    "matrix_c=np.array([[1,2,3],[4,5,6]])\n",
    "matrix_c\n"
   ]
  },
  {
   "cell_type": "markdown",
   "id": "df49468e",
   "metadata": {},
   "source": [
    "BROADCASTING"
   ]
  },
  {
   "cell_type": "raw",
   "id": "eb4f7ed4",
   "metadata": {},
   "source": [
    "=>When we want elementwise operation but have elements of diffrent sizes and/or dimension [1 2 3] + [[1 2 3\n",
    "                                                                                                   4,5,6]]\n",
    "                                                                                                   \n",
    "=>In those cases we broadcast the smaller variable and create a broadcasted version with the size of the larger one\n",
    "Broad casted version [[1 2 3] + [[1 2 3]\n",
    "                     [1 2 3 ]]  [4,5,6]]\n",
    "=>Stretching one variable over the other to produce an output with the same shape\n",
    "\n",
    "=> The function complies if the sizes of the two variables(array) are broadcastable\n",
    "\n",
    "Broadcasting Rule\n",
    "=> The arrays have the same shape\n",
    "=> The arrays have the same number of dimensions and the length of each dimension is either common or 1\n",
    "=>The arrays that have too few dimensions can have their shapes altered with a dimension 1, to satisfy the second rule.\n",
    "\n",
    "                                                                                                   \n",
    "\n"
   ]
  },
  {
   "cell_type": "code",
   "execution_count": 8,
   "id": "2aa189cb",
   "metadata": {},
   "outputs": [
    {
     "data": {
      "text/plain": [
       "array([[2, 4, 6],\n",
       "       [5, 7, 9]])"
      ]
     },
     "execution_count": 8,
     "metadata": {},
     "output_type": "execute_result"
    }
   ],
   "source": [
    "# np.add() function to add to array\n",
    "\n",
    "np.add(array_a,matrix_c)"
   ]
  },
  {
   "cell_type": "code",
   "execution_count": 9,
   "id": "dbf135ad",
   "metadata": {},
   "outputs": [
    {
     "data": {
      "text/plain": [
       "array([[2, 3, 4],\n",
       "       [6, 7, 8]])"
      ]
     },
     "execution_count": 9,
     "metadata": {},
     "output_type": "execute_result"
    }
   ],
   "source": [
    "np.add(array_b,matrix_c)"
   ]
  },
  {
   "cell_type": "markdown",
   "id": "45298506",
   "metadata": {},
   "source": [
    "TYPE CASTING"
   ]
  },
  {
   "cell_type": "raw",
   "id": "33d6dc9b",
   "metadata": {},
   "source": [
    "Taking every elemnt of an array and changing it to a specific datatype\n",
    "This does not only change the result, but rather changes the input themselves \n",
    "casting is very widely used and it's the preferred way to unify datatypes accross a project\n"
   ]
  },
  {
   "cell_type": "code",
   "execution_count": 10,
   "id": "116e2222",
   "metadata": {},
   "outputs": [
    {
     "data": {
      "text/plain": [
       "array([[2., 4., 6.],\n",
       "       [5., 7., 9.]])"
      ]
     },
     "execution_count": 10,
     "metadata": {},
     "output_type": "execute_result"
    }
   ],
   "source": [
    "np.add(array_a,matrix_c, dtype=np.float64)"
   ]
  },
  {
   "cell_type": "markdown",
   "id": "bd5bc8e2",
   "metadata": {},
   "source": [
    "Running Over an axis"
   ]
  },
  {
   "cell_type": "raw",
   "id": "f85f7b69",
   "metadata": {},
   "source": [
    "=> Numpy breakdown an ND-array into smaller arrays of (N-1)-many dimensions\n",
    "=> apply the function to each one\n",
    "=> We can use this feature to run a funtion along each row or column\n",
    "=> axis=0: means Finding the mean for each column of the array\n",
    "=> axis=1: means Finding the mean for each row of the array\n",
    "=>This is useful when we have a large array, where each column is a diffrent catagory\n",
    "=> Type Casting, Broadcasting, Running a function along a given axis. These three features are standard for Most Numpy functions"
   ]
  },
  {
   "cell_type": "code",
   "execution_count": 11,
   "id": "d39fbcd0",
   "metadata": {},
   "outputs": [
    {
     "data": {
      "text/plain": [
       "array([2.5, 3.5, 4.5])"
      ]
     },
     "execution_count": 11,
     "metadata": {},
     "output_type": "execute_result"
    }
   ],
   "source": [
    "np.mean(matrix_c, axis=0)"
   ]
  },
  {
   "cell_type": "code",
   "execution_count": 12,
   "id": "c20b6697",
   "metadata": {},
   "outputs": [
    {
     "data": {
      "text/plain": [
       "array([[1, 2, 3],\n",
       "       [4, 5, 6]])"
      ]
     },
     "execution_count": 12,
     "metadata": {},
     "output_type": "execute_result"
    }
   ],
   "source": [
    "matrix_c"
   ]
  },
  {
   "cell_type": "code",
   "execution_count": 13,
   "id": "2a7cf59b",
   "metadata": {},
   "outputs": [
    {
     "data": {
      "text/plain": [
       "array([2., 5.])"
      ]
     },
     "execution_count": 13,
     "metadata": {},
     "output_type": "execute_result"
    }
   ],
   "source": [
    "np.mean(matrix_c, axis=1)"
   ]
  },
  {
   "cell_type": "code",
   "execution_count": null,
   "id": "33f70473",
   "metadata": {},
   "outputs": [],
   "source": []
  }
 ],
 "metadata": {
  "kernelspec": {
   "display_name": "Python 3 (ipykernel)",
   "language": "python",
   "name": "python3"
  },
  "language_info": {
   "codemirror_mode": {
    "name": "ipython",
    "version": 3
   },
   "file_extension": ".py",
   "mimetype": "text/x-python",
   "name": "python",
   "nbconvert_exporter": "python",
   "pygments_lexer": "ipython3",
   "version": "3.9.13"
  }
 },
 "nbformat": 4,
 "nbformat_minor": 5
}
