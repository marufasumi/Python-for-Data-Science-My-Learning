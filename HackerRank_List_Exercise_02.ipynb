{
 "cells": [
  {
   "cell_type": "raw",
   "id": "2d074856",
   "metadata": {},
   "source": [
    "Problems\n",
    "\n",
    "Given the names and grades for each student in a class of  students, store them in a nested list and print the name(s) of any student(s) having the second lowest grade.\n",
    "\n",
    "Note: If there are multiple students with the second lowest grade, order their names alphabetically and print each name on a new line.\n",
    "\n",
    "Example\n",
    "\n",
    "The ordered list of scores is , so the second lowest score is . There are two students with that score: . Ordered alphabetically, the names are printed as:\n",
    "\n",
    "alpha\n",
    "beta\n",
    "Input Format\n",
    "\n",
    "The first line contains an integer, , the number of students.\n",
    "The  subsequent lines describe each student over  lines.\n",
    "- The first line contains a student's name.\n",
    "- The second line contains their grade.\n",
    "\n",
    "Constraints\n",
    "\n",
    "There will always be one or more students having the second lowest grade.\n",
    "Output Format\n",
    "\n",
    "Print the name(s) of any student(s) having the second lowest grade in. If there are multiple students, order their names alphabetically and print each one on a new line.\n",
    "\n",
    "Sample Input 0\n",
    "\n",
    "5\n",
    "Harry\n",
    "37.21\n",
    "Berry\n",
    "37.21\n",
    "Tina\n",
    "37.2\n",
    "Akriti\n",
    "41\n",
    "Harsh\n",
    "39\n",
    "Sample Output 0\n",
    "\n",
    "Berry\n",
    "Harry\n",
    "Explanation 0\n",
    "\n",
    "There are  students in this class whose names and grades are assembled to build the following list:\n",
    "\n",
    "python students = [['Harry', 37.21], ['Berry', 37.21], ['Tina', 37.2], ['Akriti', 41], ['Harsh', 39]]\n",
    "\n",
    "The lowest grade of  belongs to Tina. The second lowest grade of  belongs to both Harry and Berry, so we order their names alphabetically and print each name on a new line."
   ]
  },
  {
   "cell_type": "markdown",
   "id": "30865537",
   "metadata": {},
   "source": [
    "#### strip()\n",
    "\n",
    "Definition and Usage\n",
    "\n",
    "The strip() method removes any leading, and trailing whitespaces.\n",
    "\n",
    "Leading means at the beginning of the string, trailing means at the end.\n",
    "\n",
    "You can specify which character(s) to remove, if not, any whitespaces will be removed.\n",
    "\n",
    "string.strip(characters)"
   ]
  },
  {
   "cell_type": "code",
   "execution_count": null,
   "id": "63fec25d",
   "metadata": {},
   "outputs": [],
   "source": [
    "# Read the number of students\n",
    "n = int(input())\n",
    "\n",
    "# Initialize an empty list to store student names and grades\n",
    "students = []\n",
    "\n",
    "# Read student names and grades, adding them to the list\n",
    "for _ in range(n):\n",
    "    name = input().strip()  # Read student name\n",
    "    grade = float(input().strip())  # Read student grade\n",
    "    students.append([name, grade])\n",
    "\n",
    "# Extract all grades and find the unique set of grades\n",
    "grades = {student[1] for student in students}\n",
    "\n",
    "# Convert the set to a sorted list\n",
    "sorted_grades = sorted(grades)\n",
    "\n",
    "# Find the second lowest grade\n",
    "second_lowest_grade = sorted_grades[1]\n",
    "\n",
    "# Find all students with the second lowest grade\n",
    "second_lowest_students = [student[0] for student in students if student[1] == second_lowest_grade]\n",
    "\n",
    "# Sort the names alphabetically\n",
    "second_lowest_students.sort()\n",
    "\n",
    "# Print each student's name on a new line\n",
    "for student in second_lowest_students:\n",
    "    print(student)\n"
   ]
  },
  {
   "cell_type": "raw",
   "id": "80fd5447",
   "metadata": {},
   "source": [
    "Step:1 Take input from user name and grade\n",
    "\n",
    "step:2 split the input into name and grade and stored them in a list as [name,grade]\n",
    "\n",
    "step3: Exract the grade and added them in list and sort the list\n",
    "\n",
    "step 4: Find the second lowest grade\n",
    "\n",
    "step 5: Find all the name with second lowest grade and and added them into a list\n",
    "\n",
    "step 6: print the list"
   ]
  },
  {
   "cell_type": "code",
   "execution_count": null,
   "id": "bf9305ea",
   "metadata": {},
   "outputs": [],
   "source": [
    "n = int(input())\n",
    "\n",
    "students =[]\n",
    "\n",
    "for _ in range(n):\n",
    "    name =input().strip()\n",
    "    grade =float(input().strip())\n",
    "    students.append([name,grade])\n"
   ]
  },
  {
   "cell_type": "code",
   "execution_count": null,
   "id": "75c43e68",
   "metadata": {},
   "outputs": [],
   "source": []
  },
  {
   "cell_type": "code",
   "execution_count": 1,
   "id": "f4044102",
   "metadata": {},
   "outputs": [
    {
     "name": "stdout",
     "output_type": "stream",
     "text": [
      "[80, 20]\n"
     ]
    }
   ],
   "source": [
    "students = [['name', 80], ['b', 20]]  # Correct initialization with proper syntax\n",
    "\n",
    "grade = []  # Initialize an empty list to store grades\n",
    "\n",
    "# Iterate through the `students` list and append each grade to `grade`\n",
    "for student in students:\n",
    "    grade.append(student[1])  # Use `student[1]` to get the grade from the nested list\n",
    "    \n",
    "print(grade)  # Should print the list of grades\n",
    "\n"
   ]
  },
  {
   "cell_type": "code",
   "execution_count": 2,
   "id": "950b9ecf",
   "metadata": {},
   "outputs": [
    {
     "data": {
      "text/plain": [
       "[80, 20]"
      ]
     },
     "execution_count": 2,
     "metadata": {},
     "output_type": "execute_result"
    }
   ],
   "source": [
    "grade = [student[1] for student in students]\n",
    "grade"
   ]
  },
  {
   "cell_type": "code",
   "execution_count": 3,
   "id": "0eab5a18",
   "metadata": {},
   "outputs": [],
   "source": [
    "sorted_grade =sorted(grade)"
   ]
  },
  {
   "cell_type": "code",
   "execution_count": 4,
   "id": "14b7eac5",
   "metadata": {},
   "outputs": [
    {
     "data": {
      "text/plain": [
       "[20, 80]"
      ]
     },
     "execution_count": 4,
     "metadata": {},
     "output_type": "execute_result"
    }
   ],
   "source": [
    "sorted_grade"
   ]
  },
  {
   "cell_type": "code",
   "execution_count": 9,
   "id": "5360d0d5",
   "metadata": {},
   "outputs": [],
   "source": [
    "sec_lowest_grade = sorted_grade[1]\n",
    "std=[]\n",
    "\n",
    "for i in students:\n",
    "    if i[1]==sec_lowest_grade:\n",
    "        std.append(i[0])\n",
    "    "
   ]
  },
  {
   "cell_type": "code",
   "execution_count": 10,
   "id": "f3521f72",
   "metadata": {},
   "outputs": [
    {
     "data": {
      "text/plain": [
       "['name']"
      ]
     },
     "execution_count": 10,
     "metadata": {},
     "output_type": "execute_result"
    }
   ],
   "source": [
    "std"
   ]
  },
  {
   "cell_type": "code",
   "execution_count": 11,
   "id": "6a1e77c7",
   "metadata": {},
   "outputs": [
    {
     "data": {
      "text/plain": [
       "['name']"
      ]
     },
     "execution_count": 11,
     "metadata": {},
     "output_type": "execute_result"
    }
   ],
   "source": [
    "std =[ i[0] for i in students if i[1]==sec_lowest_grade]\n",
    "std"
   ]
  },
  {
   "cell_type": "code",
   "execution_count": null,
   "id": "f23bfd24",
   "metadata": {},
   "outputs": [],
   "source": []
  }
 ],
 "metadata": {
  "kernelspec": {
   "display_name": "Python 3 (ipykernel)",
   "language": "python",
   "name": "python3"
  },
  "language_info": {
   "codemirror_mode": {
    "name": "ipython",
    "version": 3
   },
   "file_extension": ".py",
   "mimetype": "text/x-python",
   "name": "python",
   "nbconvert_exporter": "python",
   "pygments_lexer": "ipython3",
   "version": "3.9.13"
  }
 },
 "nbformat": 4,
 "nbformat_minor": 5
}
