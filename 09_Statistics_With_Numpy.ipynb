{
 "cells": [
  {
   "cell_type": "markdown",
   "id": "2899e7a3",
   "metadata": {},
   "source": [
    "## Statistics With Numpy"
   ]
  },
  {
   "cell_type": "code",
   "execution_count": 1,
   "id": "9f061814",
   "metadata": {},
   "outputs": [],
   "source": [
    "import numpy as np"
   ]
  },
  {
   "cell_type": "raw",
   "id": "6b3207a4",
   "metadata": {},
   "source": [
    "np.mean()\n",
    "=> 2-D arrays are equivalent to matrix\n",
    "=> Numpy also contain the standard methods from python. If the outputs are identical then why do we prefer using the functions?\n",
    "Beacuse of abundance. There are more statistical numpy functions than methods. Not all functions have equivalent methods that perform the same task\n"
   ]
  },
  {
   "cell_type": "code",
   "execution_count": 4,
   "id": "60a152e8",
   "metadata": {},
   "outputs": [
    {
     "data": {
      "text/plain": [
       "array([[1, 0, 0, 3, 1],\n",
       "       [3, 6, 6, 2, 9],\n",
       "       [4, 5, 3, 8, 0]])"
      ]
     },
     "execution_count": 4,
     "metadata": {},
     "output_type": "execute_result"
    }
   ],
   "source": [
    "matrix_A = np.array([[1,0,0,3,1],[3,6,6,2,9],[4,5,3,8,0]])\n",
    "matrix_A"
   ]
  },
  {
   "cell_type": "code",
   "execution_count": 6,
   "id": "962996e9",
   "metadata": {},
   "outputs": [
    {
     "data": {
      "text/plain": [
       "3.4"
      ]
     },
     "execution_count": 6,
     "metadata": {},
     "output_type": "execute_result"
    }
   ],
   "source": [
    "# The mean value for the flattened array. Ignoring the shape of the array and flattening it down to a long 1-dimensional array\n",
    "#[1,0,0,3,1,3,6,6,2,9,4,5,3,8,0] mean =Addition of all elements/ total number of elements\n",
    "np.mean(matrix_A) "
   ]
  },
  {
   "cell_type": "code",
   "execution_count": 7,
   "id": "75071949",
   "metadata": {},
   "outputs": [
    {
     "data": {
      "text/plain": [
       "1.0"
      ]
     },
     "execution_count": 7,
     "metadata": {},
     "output_type": "execute_result"
    }
   ],
   "source": [
    "#To find the mean only for the data in  first row\n",
    "np.mean(matrix_A[0])"
   ]
  },
  {
   "cell_type": "code",
   "execution_count": 8,
   "id": "6ecff13b",
   "metadata": {},
   "outputs": [],
   "source": [
    "# An integer is displayed as a decimal because the default datatype for the output of np.mean() is actually float64"
   ]
  },
  {
   "cell_type": "code",
   "execution_count": 10,
   "id": "ed21fcb8",
   "metadata": {},
   "outputs": [
    {
     "data": {
      "text/plain": [
       "2.6666666666666665"
      ]
     },
     "execution_count": 10,
     "metadata": {},
     "output_type": "execute_result"
    }
   ],
   "source": [
    "#To find the mean only for the data in  first column\n",
    "np.mean(matrix_A[:,0])"
   ]
  },
  {
   "cell_type": "code",
   "execution_count": 11,
   "id": "5cc9598f",
   "metadata": {},
   "outputs": [
    {
     "data": {
      "text/plain": [
       "array([2.66666667, 3.66666667, 3.        , 4.33333333, 3.33333333])"
      ]
     },
     "execution_count": 11,
     "metadata": {},
     "output_type": "execute_result"
    }
   ],
   "source": [
    "#To find the mean  for the data in  all column separately\n",
    "np.mean(matrix_A, axis =0)"
   ]
  },
  {
   "cell_type": "code",
   "execution_count": 12,
   "id": "36ae2def",
   "metadata": {},
   "outputs": [
    {
     "data": {
      "text/plain": [
       "array([1. , 5.2, 4. ])"
      ]
     },
     "execution_count": 12,
     "metadata": {},
     "output_type": "execute_result"
    }
   ],
   "source": [
    "#To find the mean  for the data in  all row separately\n",
    "np.mean(matrix_A, axis =1)"
   ]
  },
  {
   "cell_type": "code",
   "execution_count": 13,
   "id": "fd3ea558",
   "metadata": {},
   "outputs": [
    {
     "data": {
      "text/plain": [
       "array([2, 3, 3, 4, 3], dtype=int64)"
      ]
     },
     "execution_count": 13,
     "metadata": {},
     "output_type": "execute_result"
    }
   ],
   "source": [
    "np.mean(matrix_A, axis =0, dtype=np.int64)"
   ]
  },
  {
   "cell_type": "markdown",
   "id": "f14fa8d0",
   "metadata": {},
   "source": [
    "### Minimal and Maximal Values "
   ]
  },
  {
   "cell_type": "raw",
   "id": "e1c72bd6",
   "metadata": {},
   "source": [
    "np.min() =Find the lowest value of an array along a given axis. \n",
    "If no axis is specified (default is axis = None), the funtion works on the flattened array\n"
   ]
  },
  {
   "cell_type": "code",
   "execution_count": 14,
   "id": "3e6e7282",
   "metadata": {},
   "outputs": [
    {
     "data": {
      "text/plain": [
       "array([[1, 0, 0, 3, 1],\n",
       "       [3, 6, 6, 2, 9],\n",
       "       [4, 5, 3, 8, 0]])"
      ]
     },
     "execution_count": 14,
     "metadata": {},
     "output_type": "execute_result"
    }
   ],
   "source": [
    "matrix_A = np.array([[1,0,0,3,1],[3,6,6,2,9],[4,5,3,8,0]])\n",
    "matrix_A"
   ]
  },
  {
   "cell_type": "code",
   "execution_count": 15,
   "id": "18cbc33c",
   "metadata": {},
   "outputs": [
    {
     "data": {
      "text/plain": [
       "0"
      ]
     },
     "execution_count": 15,
     "metadata": {},
     "output_type": "execute_result"
    }
   ],
   "source": [
    "np.min(matrix_A)"
   ]
  },
  {
   "cell_type": "code",
   "execution_count": 16,
   "id": "2b8955d2",
   "metadata": {},
   "outputs": [
    {
     "data": {
      "text/plain": [
       "2"
      ]
     },
     "execution_count": 16,
     "metadata": {},
     "output_type": "execute_result"
    }
   ],
   "source": [
    "np.min(matrix_A[1])# second row"
   ]
  },
  {
   "cell_type": "code",
   "execution_count": 17,
   "id": "a3aa6e4c",
   "metadata": {},
   "outputs": [
    {
     "data": {
      "text/plain": [
       "0"
      ]
     },
     "execution_count": 17,
     "metadata": {},
     "output_type": "execute_result"
    }
   ],
   "source": [
    "np.min(matrix_A[:,1]) # second column"
   ]
  },
  {
   "cell_type": "code",
   "execution_count": 18,
   "id": "f98a6c73",
   "metadata": {},
   "outputs": [],
   "source": [
    "#np.amin() a --> array. this function is specifically design for working with arrays\n",
    "#np.min and np.amin produce the same results. So how exactly are these two function diffrent?\n",
    "#They are absoluteltly equivalnet and interchangable. So either one is a matter of personal preference\n"
   ]
  },
  {
   "cell_type": "code",
   "execution_count": 19,
   "id": "28f86573",
   "metadata": {},
   "outputs": [
    {
     "data": {
      "text/plain": [
       "0"
      ]
     },
     "execution_count": 19,
     "metadata": {},
     "output_type": "execute_result"
    }
   ],
   "source": [
    "np.amin(matrix_A)"
   ]
  },
  {
   "cell_type": "raw",
   "id": "f66280ad",
   "metadata": {},
   "source": [
    "np.minimum()\n",
    "Requires atleast two input arrays\n",
    "Generates an array which holds the elementwise minimul values\n",
    "=>> In other words The function compares the values at the same position in each of the arrays before taking the lowest one\n",
    "=> The output has the same shape as the inputs"
   ]
  },
  {
   "cell_type": "code",
   "execution_count": 21,
   "id": "b1b9a024",
   "metadata": {},
   "outputs": [
    {
     "data": {
      "text/plain": [
       "array([1, 0, 0, 3, 0])"
      ]
     },
     "execution_count": 21,
     "metadata": {},
     "output_type": "execute_result"
    }
   ],
   "source": [
    "np.minimum(matrix_A[0],matrix_A[2]) # only took the minima value from each row"
   ]
  },
  {
   "cell_type": "code",
   "execution_count": 22,
   "id": "8b918bab",
   "metadata": {},
   "outputs": [],
   "source": [
    "# If we reduce the inputs of a matrix, we can essentially pass all of its rows as inputs simultaneously"
   ]
  },
  {
   "cell_type": "code",
   "execution_count": 23,
   "id": "e9c351b7",
   "metadata": {},
   "outputs": [
    {
     "data": {
      "text/plain": [
       "array([1, 0, 0, 2, 0])"
      ]
     },
     "execution_count": 23,
     "metadata": {},
     "output_type": "execute_result"
    }
   ],
   "source": [
    "np.minimum.reduce(matrix_A) # The result chhose minimal value from each column of the matrix"
   ]
  },
  {
   "cell_type": "code",
   "execution_count": 25,
   "id": "40532ba1",
   "metadata": {},
   "outputs": [
    {
     "data": {
      "text/plain": [
       "array([1, 0, 0, 2, 0])"
      ]
     },
     "execution_count": 25,
     "metadata": {},
     "output_type": "execute_result"
    }
   ],
   "source": [
    "# same as using mean over the 0 axis\n",
    "np.min(matrix_A, axis=0)"
   ]
  },
  {
   "cell_type": "code",
   "execution_count": 26,
   "id": "9608a5ba",
   "metadata": {},
   "outputs": [],
   "source": [
    "# So two exprssions are equivalent(result in the same output). We can use any of them"
   ]
  },
  {
   "cell_type": "code",
   "execution_count": 27,
   "id": "42cf049c",
   "metadata": {},
   "outputs": [
    {
     "data": {
      "text/plain": [
       "9"
      ]
     },
     "execution_count": 27,
     "metadata": {},
     "output_type": "execute_result"
    }
   ],
   "source": [
    "#np.max() and np.amax works the exact same way as min\n",
    "np.max(matrix_A)"
   ]
  },
  {
   "cell_type": "code",
   "execution_count": 28,
   "id": "09dda9a2",
   "metadata": {},
   "outputs": [
    {
     "data": {
      "text/plain": [
       "9"
      ]
     },
     "execution_count": 28,
     "metadata": {},
     "output_type": "execute_result"
    }
   ],
   "source": [
    "np.amax(matrix_A)"
   ]
  },
  {
   "cell_type": "code",
   "execution_count": 29,
   "id": "6159e616",
   "metadata": {},
   "outputs": [
    {
     "data": {
      "text/plain": [
       "array([4, 6, 6, 8, 9])"
      ]
     },
     "execution_count": 29,
     "metadata": {},
     "output_type": "execute_result"
    }
   ],
   "source": [
    "np.maximum.reduce(matrix_A)"
   ]
  },
  {
   "cell_type": "markdown",
   "id": "721f88fc",
   "metadata": {},
   "source": [
    "### Statistical Order Function\n",
    "#### Percentiles and Quantiles"
   ]
  },
  {
   "cell_type": "code",
   "execution_count": 30,
   "id": "d67b127d",
   "metadata": {},
   "outputs": [],
   "source": [
    "import numpy as np"
   ]
  },
  {
   "cell_type": "code",
   "execution_count": 31,
   "id": "74da9420",
   "metadata": {},
   "outputs": [
    {
     "data": {
      "text/plain": [
       "array([[1, 0, 0, 3, 1],\n",
       "       [3, 6, 6, 2, 9],\n",
       "       [4, 5, 3, 8, 0]])"
      ]
     },
     "execution_count": 31,
     "metadata": {},
     "output_type": "execute_result"
    }
   ],
   "source": [
    "matrix_A = np.array([[1,0,0,3,1],[3,6,6,2,9],[4,5,3,8,0]])\n",
    "matrix_A"
   ]
  },
  {
   "cell_type": "raw",
   "id": "5d3d379a",
   "metadata": {},
   "source": [
    "np.ptp()  ptp= peak to peak\n",
    "Return the diffrence between the highest and lowest values within an array\n"
   ]
  },
  {
   "cell_type": "code",
   "execution_count": 32,
   "id": "12b1e2c9",
   "metadata": {},
   "outputs": [
    {
     "data": {
      "text/plain": [
       "9"
      ]
     },
     "execution_count": 32,
     "metadata": {},
     "output_type": "execute_result"
    }
   ],
   "source": [
    "np.ptp(matrix_A) # highest =9 , lowest =0 , diffrence =9"
   ]
  },
  {
   "cell_type": "code",
   "execution_count": 33,
   "id": "6c33649f",
   "metadata": {},
   "outputs": [
    {
     "data": {
      "text/plain": [
       "array([3, 6, 6, 6, 9])"
      ]
     },
     "execution_count": 33,
     "metadata": {},
     "output_type": "execute_result"
    }
   ],
   "source": [
    "np.ptp(matrix_A, axis=0)4-1, 6-0, 6-0,8-2,9-0 (column -higest and lowest value)"
   ]
  },
  {
   "cell_type": "code",
   "execution_count": 35,
   "id": "c72ae04f",
   "metadata": {},
   "outputs": [
    {
     "data": {
      "text/plain": [
       "array([3, 7, 8])"
      ]
     },
     "execution_count": 35,
     "metadata": {},
     "output_type": "execute_result"
    }
   ],
   "source": [
    "np.ptp(matrix_A, axis=1) # 3-0, 9-2, 8-0 (row -higest and lowest value)"
   ]
  },
  {
   "cell_type": "raw",
   "id": "6e33795f",
   "metadata": {},
   "source": [
    "np.percentile() \n",
    "Returns a specific percentile to a given set\n",
    "Requires a second input - percentile\n",
    "we need to keep track of what interpolation we set when computing the percentile"
   ]
  },
  {
   "cell_type": "code",
   "execution_count": 37,
   "id": "eaaa4af2",
   "metadata": {},
   "outputs": [
    {
     "data": {
      "text/plain": [
       "array([0, 0, 0, 1, 1, 2, 3, 3, 3, 4, 5, 6, 6, 8, 9])"
      ]
     },
     "execution_count": 37,
     "metadata": {},
     "output_type": "execute_result"
    }
   ],
   "source": [
    "np.sort(matrix_A, axis=None)"
   ]
  },
  {
   "cell_type": "code",
   "execution_count": 39,
   "id": "46595a54",
   "metadata": {},
   "outputs": [
    {
     "data": {
      "text/plain": [
       "4.5"
      ]
     },
     "execution_count": 39,
     "metadata": {},
     "output_type": "execute_result"
    }
   ],
   "source": [
    "np.percentile(matrix_A,70, interpolation=\"midpoint\") # linear interpolation ,interpolation=midpoint/higher/lower/nearest"
   ]
  },
  {
   "cell_type": "code",
   "execution_count": 40,
   "id": "a47b91ff",
   "metadata": {},
   "outputs": [
    {
     "data": {
      "text/plain": [
       "3.0"
      ]
     },
     "execution_count": 40,
     "metadata": {},
     "output_type": "execute_result"
    }
   ],
   "source": [
    "np.percentile(matrix_A,50) # we will get the median of the set, median = middle value of the sorted dataset"
   ]
  },
  {
   "cell_type": "raw",
   "id": "795c8f94",
   "metadata": {},
   "source": [
    "np.quantile()\n",
    "=>A value that is greater than the corresponding part of the dataset\n",
    "=>70-th percentile = 0.7 quantile\n",
    "=> The quantile function takes an argument between 0 and 1"
   ]
  },
  {
   "cell_type": "code",
   "execution_count": 41,
   "id": "0926df5b",
   "metadata": {},
   "outputs": [
    {
     "data": {
      "text/plain": [
       "4.799999999999999"
      ]
     },
     "execution_count": 41,
     "metadata": {},
     "output_type": "execute_result"
    }
   ],
   "source": [
    "np.quantile(matrix_A,0.70, interpolation=\"nearest\")"
   ]
  },
  {
   "cell_type": "markdown",
   "id": "bea5d1af",
   "metadata": {},
   "source": [
    "### Average and variance"
   ]
  },
  {
   "cell_type": "code",
   "execution_count": 42,
   "id": "e853a71e",
   "metadata": {},
   "outputs": [],
   "source": [
    "import numpy as np"
   ]
  },
  {
   "cell_type": "code",
   "execution_count": 43,
   "id": "c3a40d7d",
   "metadata": {},
   "outputs": [
    {
     "data": {
      "text/plain": [
       "array([[1, 0, 0, 3, 1],\n",
       "       [3, 6, 6, 2, 9],\n",
       "       [4, 5, 3, 8, 0]])"
      ]
     },
     "execution_count": 43,
     "metadata": {},
     "output_type": "execute_result"
    }
   ],
   "source": [
    "matrix_A = np.array([[1,0,0,3,1],[3,6,6,2,9],[4,5,3,8,0]])\n",
    "matrix_A"
   ]
  },
  {
   "cell_type": "raw",
   "id": "d27dbde8",
   "metadata": {},
   "source": [
    "np.median()\n",
    "=> takes an input array and return its median value\n",
    "=>median : middle value f a sorted dataset\n",
    "=> If there are an even number of elements, it's the average of the two middle ones"
   ]
  },
  {
   "cell_type": "code",
   "execution_count": 44,
   "id": "4b31a4f8",
   "metadata": {},
   "outputs": [
    {
     "data": {
      "text/plain": [
       "3.0"
      ]
     },
     "execution_count": 44,
     "metadata": {},
     "output_type": "execute_result"
    }
   ],
   "source": [
    "np.median(matrix_A)"
   ]
  },
  {
   "cell_type": "code",
   "execution_count": 45,
   "id": "876b07de",
   "metadata": {},
   "outputs": [
    {
     "data": {
      "text/plain": [
       "array([0, 0, 0, 1, 1, 2, 3, 3, 3, 4, 5, 6, 6, 8, 9])"
      ]
     },
     "execution_count": 45,
     "metadata": {},
     "output_type": "execute_result"
    }
   ],
   "source": [
    "np.sort(matrix_A, axis=None)"
   ]
  },
  {
   "cell_type": "raw",
   "id": "963ffda2",
   "metadata": {},
   "source": [
    "np.mean()\n",
    "calculates the arithmetic average of all the values in the dataset"
   ]
  },
  {
   "cell_type": "code",
   "execution_count": 46,
   "id": "82b82271",
   "metadata": {},
   "outputs": [
    {
     "data": {
      "text/plain": [
       "3.4"
      ]
     },
     "execution_count": 46,
     "metadata": {},
     "output_type": "execute_result"
    }
   ],
   "source": [
    "np.mean(matrix_A)"
   ]
  },
  {
   "cell_type": "code",
   "execution_count": 47,
   "id": "54ef33d3",
   "metadata": {},
   "outputs": [
    {
     "data": {
      "text/plain": [
       "3.4"
      ]
     },
     "execution_count": 47,
     "metadata": {},
     "output_type": "execute_result"
    }
   ],
   "source": [
    "#np,average() Compute the average of an array\n",
    "np.average(matrix_A)"
   ]
  },
  {
   "cell_type": "code",
   "execution_count": 48,
   "id": "9a3db593",
   "metadata": {},
   "outputs": [
    {
     "data": {
      "text/plain": [
       "array([[0.75915734, 0.7662218 , 0.6291028 , 0.20336599, 0.66501486],\n",
       "       [0.06559111, 0.71326309, 0.10812106, 0.87969046, 0.49405844],\n",
       "       [0.82472673, 0.45652944, 0.07367232, 0.69628564, 0.36690736]])"
      ]
     },
     "execution_count": 48,
     "metadata": {},
     "output_type": "execute_result"
    }
   ],
   "source": [
    "## Create an array with random generator\n",
    "from numpy.random import Generator as gen\n",
    "from numpy.random import PCG64 as pcg\n",
    "\n",
    "array_RG = gen(pcg(365))\n",
    "array_weights = array_RG.random(size=(3,5))\n",
    "array_weights\n"
   ]
  },
  {
   "cell_type": "code",
   "execution_count": 49,
   "id": "a99bdecd",
   "metadata": {},
   "outputs": [
    {
     "data": {
      "text/plain": [
       "3.2120290871899306"
      ]
     },
     "execution_count": 49,
     "metadata": {},
     "output_type": "execute_result"
    }
   ],
   "source": [
    "np.average(matrix_A, weights=array_weights)"
   ]
  },
  {
   "cell_type": "raw",
   "id": "1a330c37",
   "metadata": {},
   "source": [
    "np.var()\n",
    "only requires a single output"
   ]
  },
  {
   "cell_type": "code",
   "execution_count": 50,
   "id": "2e669915",
   "metadata": {},
   "outputs": [
    {
     "data": {
      "text/plain": [
       "7.84"
      ]
     },
     "execution_count": 50,
     "metadata": {},
     "output_type": "execute_result"
    }
   ],
   "source": [
    "np.var(matrix_A)"
   ]
  },
  {
   "cell_type": "raw",
   "id": "3bf10f69",
   "metadata": {},
   "source": [
    "np.std()"
   ]
  },
  {
   "cell_type": "code",
   "execution_count": 51,
   "id": "6a4542ab",
   "metadata": {},
   "outputs": [
    {
     "data": {
      "text/plain": [
       "2.8"
      ]
     },
     "execution_count": 51,
     "metadata": {},
     "output_type": "execute_result"
    }
   ],
   "source": [
    "np.std(matrix_A)"
   ]
  },
  {
   "cell_type": "markdown",
   "id": "d7f11aa2",
   "metadata": {},
   "source": [
    "### Covariance and Correlation"
   ]
  },
  {
   "cell_type": "code",
   "execution_count": 52,
   "id": "247d6713",
   "metadata": {},
   "outputs": [],
   "source": [
    "import numpy as np"
   ]
  },
  {
   "cell_type": "code",
   "execution_count": 53,
   "id": "a73b3419",
   "metadata": {},
   "outputs": [
    {
     "data": {
      "text/plain": [
       "array([[1, 0, 0, 3, 1],\n",
       "       [3, 6, 6, 2, 9],\n",
       "       [4, 5, 3, 8, 0]])"
      ]
     },
     "execution_count": 53,
     "metadata": {},
     "output_type": "execute_result"
    }
   ],
   "source": [
    "matrix_A = np.array([[1,0,0,3,1],[3,6,6,2,9],[4,5,3,8,0]])\n",
    "matrix_A"
   ]
  },
  {
   "cell_type": "raw",
   "id": "40373a8c",
   "metadata": {},
   "source": [
    "np.cov()\n",
    "=> Requires a single input variable: the dataset\n",
    "cov(x,x)= Var(x)\n",
    "cov(A,B) =cov(B,A)\n",
    "corr(x,x) =1"
   ]
  },
  {
   "cell_type": "code",
   "execution_count": 59,
   "id": "61f45af0",
   "metadata": {},
   "outputs": [
    {
     "data": {
      "text/plain": [
       "array([[ 1.5, -2. ,  2. ],\n",
       "       [-2. ,  7.7, -7. ],\n",
       "       [ 2. , -7. ,  8.5]])"
      ]
     },
     "execution_count": 59,
     "metadata": {},
     "output_type": "execute_result"
    }
   ],
   "source": [
    "np.cov(matrix_A)"
   ]
  },
  {
   "cell_type": "raw",
   "id": "45a95296",
   "metadata": {},
   "source": [
    "Correlation\n",
    "Corr(x,y) = Cov(x,y)/sigmax sigmay\n",
    "Expect a symetrical matrix\n",
    "corrcoef= correlation coefficient\n",
    "Finds the relationship between every two rows of the array\n"
   ]
  },
  {
   "cell_type": "code",
   "execution_count": 60,
   "id": "2d387aa4",
   "metadata": {},
   "outputs": [
    {
     "data": {
      "text/plain": [
       "array([[ 1.        , -0.58848989,  0.56011203],\n",
       "       [-0.58848989,  1.        , -0.8652532 ],\n",
       "       [ 0.56011203, -0.8652532 ,  1.        ]])"
      ]
     },
     "execution_count": 60,
     "metadata": {},
     "output_type": "execute_result"
    }
   ],
   "source": [
    "np.corrcoef(matrix_A)"
   ]
  },
  {
   "cell_type": "code",
   "execution_count": null,
   "id": "e5427949",
   "metadata": {},
   "outputs": [],
   "source": []
  },
  {
   "cell_type": "code",
   "execution_count": null,
   "id": "4a6bc74d",
   "metadata": {},
   "outputs": [],
   "source": []
  }
 ],
 "metadata": {
  "kernelspec": {
   "display_name": "Python 3 (ipykernel)",
   "language": "python",
   "name": "python3"
  },
  "language_info": {
   "codemirror_mode": {
    "name": "ipython",
    "version": 3
   },
   "file_extension": ".py",
   "mimetype": "text/x-python",
   "name": "python",
   "nbconvert_exporter": "python",
   "pygments_lexer": "ipython3",
   "version": "3.9.13"
  }
 },
 "nbformat": 4,
 "nbformat_minor": 5
}
