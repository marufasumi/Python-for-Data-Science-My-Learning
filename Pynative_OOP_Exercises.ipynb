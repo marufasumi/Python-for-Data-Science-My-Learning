{
 "cells": [
  {
   "cell_type": "markdown",
   "id": "245fcbfa",
   "metadata": {},
   "source": [
    "## OOP Exercise 1: Create a Class with instance attributes\n",
    "\n",
    "Write a Python program to create a Vehicle class with max_speed and mileage instance attributes.\n",
    "\n"
   ]
  },
  {
   "cell_type": "raw",
   "id": "20d7aceb",
   "metadata": {},
   "source": [
    "Introduction to the Python __init__() method\n",
    "When you create a new object of a class, Python automatically calls the __init__() method to initialize the object’s attributes.\n",
    "\n",
    "Unlike regular methods, the __init__() method has two underscores (__) on each side. Therefore, the __init__() is often called dunder init. The name comes abbreviation of the double underscores init.\n",
    "\n",
    "The double underscores at both sides of the __init__() method indicate that Python will use the method internally. In other words, you should not explicitly call this method.\n",
    "\n",
    "Since Python will automatically call the __init__() method immediately after creating a new object, you can use the __init__() method to initialize the object’s attributes.\n",
    "\n",
    "The following defines the Person class with the __init__() method:\n",
    "\n",
    "class Person:\n",
    "    def __init__(self, name, age):\n",
    "        self.name = name\n",
    "        self.age = age\n",
    "\n",
    "\n",
    "if __name__ == '__main__':\n",
    "    person = Person('John', 25)\n",
    "    print(f\"I'm {person.name}. I'm {person.age} years old.\")\n",
    "    \n",
    "    \n",
    "When you create an instance of the Person class, Python performs two things:\n",
    "\n",
    "First, create a new instance of the Person class by setting the object’s namespace such as __dict__ attribute to empty ({}).\n",
    "Second, call the __init__ method to initialize the attributes of the newly created object.\n",
    "Note that the __init__ method doesn’t create the object but only initializes the object’s attributes. Hence, the __init__() is not a constructor.\n",
    "\n",
    "If the __init__ has parameters other than the self, you need to pass the corresponding arguments when creating a new object like the example above. Otherwise, you’ll get an error.\n",
    "\n",
    "The __init__ method with default parameters\n",
    "The __init__() method’s parameters can have default values. For example\n",
    "\n",
    "\n",
    "\n",
    "class Person:\n",
    "    def __init__(self, name, age=22):\n",
    "        self.name = name\n",
    "        self.age = age\n",
    "\n",
    "\n",
    "if __name__ == '__main__':\n",
    "    person = Person('John')\n",
    "    print(f\"I'm {person.name}. I'm {person.age} years old.\")\n",
    "    \n",
    "Output:\n",
    "\n",
    "I'm John. I'm 22 years old.\n",
    "\n",
    "In this example, the age parameter has a default value of 22. Because we don’t pass an argument to the Person(), the age uses the default value.\n"
   ]
  },
  {
   "cell_type": "code",
   "execution_count": 2,
   "id": "cb58cf1f",
   "metadata": {},
   "outputs": [],
   "source": [
    "## creating vehicle class\n",
    "class Vehicle:\n",
    "    def __init__(self,max_speed,mileage):\n",
    "        self.max_speed=max_speed\n",
    "        self.mileage=mileage\n",
    "        \n"
   ]
  },
  {
   "cell_type": "code",
   "execution_count": 3,
   "id": "51ec7a02",
   "metadata": {},
   "outputs": [
    {
     "name": "stdout",
     "output_type": "stream",
     "text": [
      "240 18\n"
     ]
    }
   ],
   "source": [
    "## creating instance of Vehicle class\n",
    "x = Vehicle(240,18)\n",
    "print(x.max_speed, x.mileage)\n"
   ]
  },
  {
   "cell_type": "code",
   "execution_count": 4,
   "id": "8ee1b9a6",
   "metadata": {},
   "outputs": [],
   "source": [
    "## OOP Exercise 2: Create a Vehicle class without any variables and methods\n",
    "class Vehicle:\n",
    "    pass"
   ]
  },
  {
   "cell_type": "markdown",
   "id": "58c075aa",
   "metadata": {},
   "source": [
    "## OOP Exercise 3: Create a child class Bus that will inherit all of the variables and methods of the Vehicle class\n",
    "\n",
    "Create a Bus object that will inherit all of the variables and methods of the parent Vehicle class and display it.\n",
    "\n",
    "Expected Output:\n",
    "\n",
    "Vehicle Name: School Volvo Speed: 180 Mileage: 12"
   ]
  },
  {
   "cell_type": "raw",
   "id": "34fdbdc2",
   "metadata": {},
   "source": [
    "The process of inheriting the properties of the parent class into a child class is called inheritance. The existing class is called a base class or parent class and the new class is called a subclass or child class or derived class.\n",
    "\n",
    "In this Python lesson, you will learn inheritance, method overloading, method overriding, types of inheritance, and MRO (Method Resolution Order).\n",
    "\n",
    "In Object-oriented programming, inheritance is an important aspect. The main purpose of inheritance is the reusability of code because we can use the existing class to create a new class instead of creating it from scratch.\n",
    "\n",
    "In inheritance, the child class acquires all the data members, properties, and functions from the parent class. Also, a child class can also provide its specific implementation to the methods of the parent class.\n",
    "\n"
   ]
  },
  {
   "cell_type": "code",
   "execution_count": 5,
   "id": "bef3304a",
   "metadata": {},
   "outputs": [],
   "source": [
    "class Vehicle:\n",
    "    def __init__(self,name, max_speed,mileage):\n",
    "        self.name =name\n",
    "        self.max_speed = max_speed\n",
    "        self.mileage=mileage\n",
    "        \n",
    "class Bus(Vehicle):\n",
    "    pass\n",
    "    "
   ]
  },
  {
   "cell_type": "code",
   "execution_count": 10,
   "id": "60ce6d87",
   "metadata": {},
   "outputs": [
    {
     "name": "stdout",
     "output_type": "stream",
     "text": [
      "Name: School Volvo Speed: 180  Mileage: 12\n"
     ]
    }
   ],
   "source": [
    "model = Bus('School Volvo',180,12)\n",
    "print('Name:', model.name, 'Speed:', model.max_speed, ' Mileage:', model.mileage)\n",
    "\n"
   ]
  },
  {
   "cell_type": "markdown",
   "id": "2b9d7502",
   "metadata": {},
   "source": [
    "## OOP Exercise 4: Class Inheritance\n",
    "\n",
    "Given:\n",
    "\n",
    "Create a Bus class that inherits from the Vehicle class. Give the capacity argument of Bus.seating_capacity() a default value of 50.\n",
    "\n",
    "Use the following code for your parent Vehicle class."
   ]
  },
  {
   "cell_type": "raw",
   "id": "815f3fce",
   "metadata": {},
   "source": [
    "class Vehicle:\n",
    "    def __init__(self, name, max_speed, mileage):\n",
    "        self.name = name\n",
    "        self.max_speed = max_speed\n",
    "        self.mileage = mileage\n",
    "\n",
    "    def seating_capacity(self, capacity):\n",
    "        return f\"The seating capacity of a {self.name} is {capacity} passengers\""
   ]
  },
  {
   "cell_type": "markdown",
   "id": "1aa29b22",
   "metadata": {},
   "source": [
    "Expected Output:\n",
    "\n",
    "The seating capacity of a bus is 50 passengers"
   ]
  },
  {
   "cell_type": "raw",
   "id": "c046ddb8",
   "metadata": {},
   "source": [
    "Polymorphism in Python is the ability of an object to take many forms. In simple words, polymorphism allows us to perform the same action in many different ways.\n",
    "\n",
    "For example, Jessa acts as an employee when she is at the office. However, when she is at home, she acts like a wife. Also, she represents herself differently in different places. Therefore, the same person takes different forms as per the situation.\n",
    "\n",
    "## Polymorphism in Built-in function len()\n",
    "\n",
    "The built-in function len() calculates the length of an object depending upon its type. If an object is a string, it returns the count of characters, and If an object is a list, it returns the count of items in a list.\n",
    "The len() method treats an object as per its class type.\n",
    "\n",
    "## Polymorphism With Inheritance\n",
    "Polymorphism is mainly used with inheritance. In inheritance, child class inherits the attributes and methods of a parent class. The existing class is called a base class or parent class, and the new class is called a subclass or child class or derived class.\n",
    "\n",
    "Using method overriding polymorphism allows us to defines methods in the child class that have the same name as the methods in the parent class. This process of re-implementing the inherited method in the child class is known as Method Overriding.\n",
    "\n",
    "Advantage of method overriding\n",
    "\n",
    "It is effective when we want to extend the functionality by altering the inherited method. Or the method inherited from the parent class doesn’t fulfill the need of a child class, so we need to re-implement the same method in the child class in a different way.\n",
    "Method overriding is useful when a parent class has multiple child classes, and one of that child class wants to redefine the method. The other child classes can use the parent class method. Due to this, we don’t need to modification the parent class code\n",
    "In polymorphism, Python first checks the object’s class type and executes the appropriate method when we call the method. For example, If you create the Car object, then Python calls the speed() method from a Car class.\n",
    "\n",
    "\n",
    "\n"
   ]
  },
  {
   "cell_type": "code",
   "execution_count": 1,
   "id": "6b7ce6a2",
   "metadata": {},
   "outputs": [],
   "source": [
    "class Vehicle:\n",
    "    def __init__(self, name, max_speed, mileage):\n",
    "        self.name = name\n",
    "        self.max_speed = max_speed\n",
    "        self.mileage = mileage\n",
    "\n",
    "    def seating_capacity(self, capacity):\n",
    "        return f\"The seating capacity of a {self.name} is {capacity} passengers\""
   ]
  },
  {
   "cell_type": "code",
   "execution_count": 2,
   "id": "778a3237",
   "metadata": {},
   "outputs": [
    {
     "name": "stdout",
     "output_type": "stream",
     "text": [
      "The seating capacity of a School Volvo is 50 passengers\n"
     ]
    }
   ],
   "source": [
    "class Bus(Vehicle):\n",
    "    def seating_capacity(self, capacity=50):\n",
    "        return super().seating_capacity(capacity=50)\n",
    "    \n",
    "School_bus = Bus(\"School Volvo\", 180, 12)\n",
    "print(School_bus.seating_capacity())"
   ]
  },
  {
   "cell_type": "markdown",
   "id": "9680513c",
   "metadata": {},
   "source": [
    "## OOP Exercise 5: Define a property that must have the same value for every class instance (object)\n",
    "\n",
    "Define a class attribute”color” with a default value white. I.e., Every Vehicle should be white.\n",
    "\n",
    "Use the following code for this exercise."
   ]
  },
  {
   "cell_type": "raw",
   "id": "69448393",
   "metadata": {},
   "source": [
    "class Vehicle:\n",
    "\n",
    "    def __init__(self, name, max_speed, mileage):\n",
    "        self.name = name\n",
    "        self.max_speed = max_speed\n",
    "        self.mileage = mileage\n",
    "\n",
    "class Bus(Vehicle):\n",
    "    pass\n",
    "\n",
    "class Car(Vehicle):\n",
    "    pass\n",
    "    \n",
    "    \n",
    "Expected Output:\n",
    "\n",
    "Color: White, Vehicle name: School Volvo, Speed: 180, Mileage: 12\n",
    "Color: White, Vehicle name: Audi Q5, Speed: 240, Mileage: 18"
   ]
  },
  {
   "cell_type": "raw",
   "id": "7c437dc8",
   "metadata": {},
   "source": [
    "In Python, class variables (also known as class attributes) are shared across all instances (objects) of a class. They belong to the class itself, not to any specific instance.\n",
    "\n",
    "In Object-oriented programming, we use instance and class variables to design a Class.\n",
    "\n",
    "In Class, attributes can be defined into two parts:\n",
    "\n",
    "Instance variables: If the value of a variable varies from object to object, then such variables are called instance variables.\n",
    "Class Variables: A class variable is a variable that is declared inside of a Class but outside of any instance method or __init__() method.\n",
    "\n",
    "Variables created in .__init__() are called instance variables. An instance variable’s value is specific to a particular instance of the class. For example, in the solution, All Vehicle objects have a name and a max_speed, but the name and max_speed variables’ values will vary depending on the Vehicle instance.\n",
    "\n",
    "On the other hand, the class variable is shared between all class instances. You can define a class attribute by assigning a value to a variable name outside of .__init__()."
   ]
  },
  {
   "cell_type": "code",
   "execution_count": 3,
   "id": "d1e748a5",
   "metadata": {},
   "outputs": [
    {
     "name": "stdout",
     "output_type": "stream",
     "text": [
      "White School Volvo Speed: 180 Mileage: 12\n",
      "White Audi Q5 Speed: 240 Mileage: 18\n"
     ]
    }
   ],
   "source": [
    "class Vehicle:\n",
    "    # Class attribute\n",
    "    color = \"White\"\n",
    "\n",
    "    def __init__(self, name, max_speed, mileage):\n",
    "        self.name = name\n",
    "        self.max_speed = max_speed\n",
    "        self.mileage = mileage\n",
    "\n",
    "class Bus(Vehicle):\n",
    "    pass\n",
    "\n",
    "class Car(Vehicle):\n",
    "    pass\n",
    "\n",
    "School_bus = Bus(\"School Volvo\", 180, 12)\n",
    "print(School_bus.color, School_bus.name, \"Speed:\", School_bus.max_speed, \"Mileage:\", School_bus.mileage)\n",
    "\n",
    "car = Car(\"Audi Q5\", 240, 18)\n",
    "print(car.color, car.name, \"Speed:\", car.max_speed, \"Mileage:\", car.mileage)"
   ]
  },
  {
   "cell_type": "markdown",
   "id": "d3903ea0",
   "metadata": {},
   "source": [
    "## OOP Exercise 6: Class Inheritance\n",
    "\n",
    "Given:\n",
    "\n",
    "Create a Bus child class that inherits from the Vehicle class. The default fare charge of any vehicle is seating capacity * 100.\n",
    "\n",
    "If Vehicle is Bus instance, we need to add an extra 10% on full fare as a maintenance charge. So total fare for bus instance \n",
    "\n",
    "will become the final amount = total fare + 10% of the total fare.\n",
    "\n",
    "Note: The bus seating capacity is 50. so the final fare amount should be 5500. You need to override the fare() method of a \n",
    "\n",
    "Vehicle class in Bus class.\n",
    "\n",
    "Use the following code for your parent Vehicle class. We need to access the parent class from inside a method of a child class."
   ]
  },
  {
   "cell_type": "raw",
   "id": "542afc37",
   "metadata": {},
   "source": [
    "class Vehicle:\n",
    "    def __init__(self, name, mileage, capacity):\n",
    "        self.name = name\n",
    "        self.mileage = mileage\n",
    "        self.capacity = capacity\n",
    "\n",
    "    def fare(self):\n",
    "        return self.capacity * 100\n",
    "\n",
    "class Bus(Vehicle):\n",
    "    pass\n",
    "\n",
    "School_bus = Bus(\"School Volvo\", 12, 50)\n",
    "print(\"Total Bus fare is:\", School_bus.fare())\n",
    "\n",
    "Expected Output:\n",
    "\n",
    "Total Bus fare is: 5500.0"
   ]
  },
  {
   "cell_type": "code",
   "execution_count": 1,
   "id": "cb812331",
   "metadata": {},
   "outputs": [
    {
     "name": "stdout",
     "output_type": "stream",
     "text": [
      "Total Bus fare is: 5500.0\n"
     ]
    }
   ],
   "source": [
    "class Vehicle:\n",
    "    def __init__(self, name, mileage, capacity):\n",
    "        self.name = name\n",
    "        self.mileage = mileage\n",
    "        self.capacity = capacity\n",
    "\n",
    "    def fare(self):\n",
    "        return self.capacity * 100\n",
    "\n",
    "class Bus(Vehicle):\n",
    "    def fare(self):\n",
    "        amount = super().fare()\n",
    "        amount+=amount*10/100\n",
    "        return amount\n",
    "\n",
    "School_bus = Bus(\"School Volvo\", 12, 50)\n",
    "print(\"Total Bus fare is:\", School_bus.fare())"
   ]
  },
  {
   "cell_type": "markdown",
   "id": "1dc25f25",
   "metadata": {},
   "source": [
    "## OOP Exercise 7: Check type of an object\n",
    "\n",
    "Given:"
   ]
  },
  {
   "cell_type": "raw",
   "id": "f6b79783",
   "metadata": {},
   "source": [
    "class Vehicle:\n",
    "    def __init__(self, name, mileage, capacity):\n",
    "        self.name = name\n",
    "        self.mileage = mileage\n",
    "        self.capacity = capacity\n",
    "\n",
    "class Bus(Vehicle):\n",
    "    pass\n",
    "\n",
    "School_bus = Bus(\"School Volvo\", 12, 50)"
   ]
  },
  {
   "cell_type": "code",
   "execution_count": 3,
   "id": "5eab9a9a",
   "metadata": {},
   "outputs": [
    {
     "name": "stdout",
     "output_type": "stream",
     "text": [
      "<class '__main__.Bus'>\n"
     ]
    }
   ],
   "source": [
    "## Use type() function\n",
    "class Vehicle:\n",
    "    def __init__(self, name, mileage, capacity):\n",
    "        self.name = name\n",
    "        self.mileage = mileage\n",
    "        self.capacity = capacity\n",
    "\n",
    "class Bus(Vehicle):\n",
    "    pass\n",
    "\n",
    "School_bus = Bus(\"School Volvo\", 12, 50)\n",
    "\n",
    "print(type(School_bus))"
   ]
  },
  {
   "cell_type": "markdown",
   "id": "099b784c",
   "metadata": {},
   "source": [
    "## OOP Exercise 8: Determine if School_bus is also an instance of the Vehicle class\n",
    "\n",
    "Given:"
   ]
  },
  {
   "cell_type": "raw",
   "id": "1f77565b",
   "metadata": {},
   "source": [
    "class Vehicle:\n",
    "    def __init__(self, name, mileage, capacity):\n",
    "        self.name = name\n",
    "        self.mileage = mileage\n",
    "        self.capacity = capacity\n",
    "\n",
    "class Bus(Vehicle):\n",
    "    pass\n",
    "\n",
    "School_bus = Bus(\"School Volvo\", 12, 50)"
   ]
  },
  {
   "cell_type": "code",
   "execution_count": 4,
   "id": "633153ad",
   "metadata": {},
   "outputs": [
    {
     "name": "stdout",
     "output_type": "stream",
     "text": [
      "True\n"
     ]
    }
   ],
   "source": [
    "## Use isinstance() function\n",
    "class Vehicle:\n",
    "    def __init__(self, name, mileage, capacity):\n",
    "        self.name = name\n",
    "        self.mileage = mileage\n",
    "        self.capacity = capacity\n",
    "\n",
    "class Bus(Vehicle):\n",
    "    pass\n",
    "\n",
    "School_bus = Bus(\"School Volvo\", 12, 50)\n",
    "\n",
    "# Python's built-in isinstance() function\n",
    "print(isinstance(School_bus, Vehicle))"
   ]
  },
  {
   "cell_type": "code",
   "execution_count": null,
   "id": "2ba7c937",
   "metadata": {},
   "outputs": [],
   "source": []
  }
 ],
 "metadata": {
  "kernelspec": {
   "display_name": "Python 3 (ipykernel)",
   "language": "python",
   "name": "python3"
  },
  "language_info": {
   "codemirror_mode": {
    "name": "ipython",
    "version": 3
   },
   "file_extension": ".py",
   "mimetype": "text/x-python",
   "name": "python",
   "nbconvert_exporter": "python",
   "pygments_lexer": "ipython3",
   "version": "3.9.13"
  }
 },
 "nbformat": 4,
 "nbformat_minor": 5
}
