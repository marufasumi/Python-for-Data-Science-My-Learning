{
 "cells": [
  {
   "cell_type": "markdown",
   "id": "77af0e29",
   "metadata": {},
   "source": [
    "## Data Science \n",
    "\n",
    "https://github.com/krishnaik06/Perfect-Roadmap-To-Learn-Data-Science-In-2024\n",
    "    \n",
    "    \n",
    "## Generative AI\n",
    "\n",
    "https://github.com/krishnaik06/Roadmap-To-Learn-Generative-AI-In-2024?tab=readme-ov-file\n",
    "    \n",
    "## NLP-Project -Text Summarization\n",
    "\n",
    "https://www.youtube.com/watch?v=p7V4Aa7qEpw&list=PLZoTAELRMXVOjQdyqlCmOtq1nZnSsWvag&index=4\n",
    "\n",
    "\n",
    "https://github.com/krishnaik06/Text-Summarization-NLP-Project"
   ]
  },
  {
   "cell_type": "code",
   "execution_count": null,
   "id": "86a27c71",
   "metadata": {},
   "outputs": [],
   "source": []
  }
 ],
 "metadata": {
  "kernelspec": {
   "display_name": "Python 3 (ipykernel)",
   "language": "python",
   "name": "python3"
  },
  "language_info": {
   "codemirror_mode": {
    "name": "ipython",
    "version": 3
   },
   "file_extension": ".py",
   "mimetype": "text/x-python",
   "name": "python",
   "nbconvert_exporter": "python",
   "pygments_lexer": "ipython3",
   "version": "3.9.13"
  }
 },
 "nbformat": 4,
 "nbformat_minor": 5
}
