{
 "cells": [
  {
   "cell_type": "markdown",
   "id": "fad000e0",
   "metadata": {},
   "source": [
    "### Histogram"
   ]
  },
  {
   "cell_type": "raw",
   "id": "a1c2913b",
   "metadata": {},
   "source": [
    "A histogram is a way to examine a dataset by dissecting it's density\n",
    "=> Statistically, how many values form a dataset fall within some predetermined value"
   ]
  },
  {
   "cell_type": "code",
   "execution_count": 1,
   "id": "b392d344",
   "metadata": {},
   "outputs": [],
   "source": [
    "import numpy as np"
   ]
  },
  {
   "cell_type": "code",
   "execution_count": 2,
   "id": "09e381dd",
   "metadata": {},
   "outputs": [
    {
     "data": {
      "text/plain": [
       "array([[1, 0, 0, 3, 1],\n",
       "       [3, 6, 6, 2, 9],\n",
       "       [4, 5, 3, 8, 0]])"
      ]
     },
     "execution_count": 2,
     "metadata": {},
     "output_type": "execute_result"
    }
   ],
   "source": [
    "matrix_A = np.array([[1,0,0,3,1],[3,6,6,2,9],[4,5,3,8,0]])\n",
    "matrix_A"
   ]
  },
  {
   "cell_type": "code",
   "execution_count": 3,
   "id": "c1b83dd2",
   "metadata": {},
   "outputs": [
    {
     "data": {
      "text/plain": [
       "array([0, 0, 0, 1, 1, 2, 3, 3, 3, 4, 5, 6, 6, 8, 9])"
      ]
     },
     "execution_count": 3,
     "metadata": {},
     "output_type": "execute_result"
    }
   ],
   "source": [
    "np.sort(matrix_A, axis=None)"
   ]
  },
  {
   "cell_type": "code",
   "execution_count": 4,
   "id": "c3ae1c6d",
   "metadata": {},
   "outputs": [
    {
     "data": {
      "text/plain": [
       "(array([3, 2, 1, 3, 1, 1, 2, 0, 1, 1], dtype=int64),\n",
       " array([0. , 0.9, 1.8, 2.7, 3.6, 4.5, 5.4, 6.3, 7.2, 8.1, 9. ]))"
      ]
     },
     "execution_count": 4,
     "metadata": {},
     "output_type": "execute_result"
    }
   ],
   "source": [
    "#The first array represent number of times the value fall within an each bin\n",
    "#while the second array that fixed the edge of each bench\n",
    "np.histogram(matrix_A)"
   ]
  },
  {
   "cell_type": "code",
   "execution_count": 5,
   "id": "de001e60",
   "metadata": {},
   "outputs": [
    {
     "data": {
      "text/plain": [
       "array([3, 2, 1, 3, 1, 1, 2, 0, 1, 1], dtype=int64)"
      ]
     },
     "execution_count": 5,
     "metadata": {},
     "output_type": "execute_result"
    }
   ],
   "source": [
    "# To find the density of each bin\n",
    "np.histogram(matrix_A)[0]"
   ]
  },
  {
   "cell_type": "code",
   "execution_count": 6,
   "id": "42a36c94",
   "metadata": {},
   "outputs": [
    {
     "data": {
      "text/plain": [
       "array([0. , 0.9, 1.8, 2.7, 3.6, 4.5, 5.4, 6.3, 7.2, 8.1, 9. ])"
      ]
     },
     "execution_count": 6,
     "metadata": {},
     "output_type": "execute_result"
    }
   ],
   "source": [
    "# To find the edge of  bin\n",
    "np.histogram(matrix_A)[1]"
   ]
  },
  {
   "cell_type": "code",
   "execution_count": 7,
   "id": "82e66b11",
   "metadata": {},
   "outputs": [],
   "source": [
    "# bins are closed-open intervals[a,b) # if a value equlas the lower edge od a bin, it counts towards the bin\n",
    "# but if it equlas the upper edge, it doesn't\n",
    "# defualt number of bin for this function is 10\n",
    "# We can define the bin number"
   ]
  },
  {
   "cell_type": "code",
   "execution_count": 8,
   "id": "1f1684c3",
   "metadata": {},
   "outputs": [
    {
     "data": {
      "text/plain": [
       "(array([6, 4, 3, 2], dtype=int64), array([0.  , 2.25, 4.5 , 6.75, 9.  ]))"
      ]
     },
     "execution_count": 8,
     "metadata": {},
     "output_type": "execute_result"
    }
   ],
   "source": [
    "np.histogram(matrix_A, bins=4)"
   ]
  },
  {
   "cell_type": "code",
   "execution_count": 9,
   "id": "bb50a7f0",
   "metadata": {},
   "outputs": [],
   "source": [
    "#range arg: defining a fixed interval , very easy to ignore outliers\n",
    "# A fixed range implies a maximal and minimal value which are incorportaed for the bins"
   ]
  },
  {
   "cell_type": "code",
   "execution_count": 13,
   "id": "42f2e945",
   "metadata": {},
   "outputs": [
    {
     "data": {
      "image/png": "[encoded data removed]",
      "text/plain": [
       "<Figure size 640x480 with 1 Axes>"
      ]
     },
     "metadata": {},
     "output_type": "display_data"
    }
   ],
   "source": [
    "import matplotlib.pyplot as plt\n",
    "plt.hist(matrix_A.flat, bins=np.histogram(matrix_A)[1])\n",
    "plt.show()"
   ]
  },
  {
   "cell_type": "markdown",
   "id": "680dfba8",
   "metadata": {},
   "source": [
    "### Histogram- Part 2: Higher dimension Histograms"
   ]
  },
  {
   "cell_type": "code",
   "execution_count": 14,
   "id": "af9320c8",
   "metadata": {},
   "outputs": [
    {
     "data": {
      "text/plain": [
       "array([[1, 0, 0, 3, 1],\n",
       "       [3, 6, 6, 2, 9],\n",
       "       [4, 5, 3, 8, 0]])"
      ]
     },
     "execution_count": 14,
     "metadata": {},
     "output_type": "execute_result"
    }
   ],
   "source": [
    "matrix_A"
   ]
  },
  {
   "cell_type": "code",
   "execution_count": 16,
   "id": "18cf6091",
   "metadata": {},
   "outputs": [
    {
     "data": {
      "text/plain": [
       "(array([[0., 0., 2., 0.],\n",
       "        [1., 0., 0., 1.],\n",
       "        [0., 0., 0., 0.],\n",
       "        [1., 0., 0., 0.]]),\n",
       " array([0.  , 0.75, 1.5 , 2.25, 3.  ]),\n",
       " array([2.  , 3.75, 5.5 , 7.25, 9.  ]))"
      ]
     },
     "execution_count": 16,
     "metadata": {},
     "output_type": "execute_result"
    }
   ],
   "source": [
    "np.histogram2d(matrix_A[0], matrix_A[1], bins=4)"
   ]
  },
  {
   "cell_type": "code",
   "execution_count": 18,
   "id": "fbd043d1",
   "metadata": {},
   "outputs": [
    {
     "data": {
      "text/plain": [
       "(array([[[0., 0., 0., 0.],\n",
       "         [0., 0., 0., 0.],\n",
       "         [0., 1., 1., 0.],\n",
       "         [0., 0., 0., 0.]],\n",
       " \n",
       "        [[0., 0., 1., 0.],\n",
       "         [0., 0., 0., 0.],\n",
       "         [0., 0., 0., 0.],\n",
       "         [1., 0., 0., 0.]],\n",
       " \n",
       "        [[0., 0., 0., 0.],\n",
       "         [0., 0., 0., 0.],\n",
       "         [0., 0., 0., 0.],\n",
       "         [0., 0., 0., 0.]],\n",
       " \n",
       "        [[0., 0., 0., 1.],\n",
       "         [0., 0., 0., 0.],\n",
       "         [0., 0., 0., 0.],\n",
       "         [0., 0., 0., 0.]]]),\n",
       " [array([0.  , 0.75, 1.5 , 2.25, 3.  ]),\n",
       "  array([2.  , 3.75, 5.5 , 7.25, 9.  ]),\n",
       "  array([0., 2., 4., 6., 8.])])"
      ]
     },
     "execution_count": 18,
     "metadata": {},
     "output_type": "execute_result"
    }
   ],
   "source": [
    "np.histogramdd(matrix_A.transpose(), bins=4)"
   ]
  },
  {
   "cell_type": "markdown",
   "id": "4236f83d",
   "metadata": {},
   "source": [
    "### NAN- equivalent function"
   ]
  },
  {
   "cell_type": "raw",
   "id": "8f5e2fd5",
   "metadata": {},
   "source": [
    "=> Functions that work on arrays with missing values in them\n",
    "=> many of the functions we examined in this section have nan-equivalents which work the exact same way\n",
    "np.nanmean()\n",
    "The NAN equivalent of np.mean()\n",
    "Both the NAN and regular versiob return identical results when the dataset is incomplete"
   ]
  },
  {
   "cell_type": "code",
   "execution_count": 19,
   "id": "c872457f",
   "metadata": {},
   "outputs": [
    {
     "data": {
      "text/plain": [
       "3.4"
      ]
     },
     "execution_count": 19,
     "metadata": {},
     "output_type": "execute_result"
    }
   ],
   "source": [
    "np.nanmean(matrix_A)"
   ]
  },
  {
   "cell_type": "code",
   "execution_count": 20,
   "id": "5b087d6f",
   "metadata": {},
   "outputs": [
    {
     "data": {
      "text/plain": [
       "array([[ 1.,  0.,  0.,  3.,  1.],\n",
       "       [ 3.,  6., nan,  2.,  9.],\n",
       "       [ 4.,  5.,  3.,  8.,  0.]])"
      ]
     },
     "execution_count": 20,
     "metadata": {},
     "output_type": "execute_result"
    }
   ],
   "source": [
    "matrix_B = np.array([[1,0,0,3,1],[3,6,np.nan,2,9],[4,5,3,8,0]])\n",
    "matrix_B"
   ]
  },
  {
   "cell_type": "code",
   "execution_count": 21,
   "id": "2025a560",
   "metadata": {},
   "outputs": [
    {
     "data": {
      "text/plain": [
       "3.2142857142857144"
      ]
     },
     "execution_count": 21,
     "metadata": {},
     "output_type": "execute_result"
    }
   ],
   "source": [
    "np.nanmean(matrix_B)"
   ]
  },
  {
   "cell_type": "code",
   "execution_count": 22,
   "id": "f3cd9f92",
   "metadata": {},
   "outputs": [
    {
     "data": {
      "text/plain": [
       "nan"
      ]
     },
     "execution_count": 22,
     "metadata": {},
     "output_type": "execute_result"
    }
   ],
   "source": [
    "np.mean(matrix_B)"
   ]
  },
  {
   "cell_type": "code",
   "execution_count": 23,
   "id": "ff0830d0",
   "metadata": {},
   "outputs": [
    {
     "data": {
      "text/plain": [
       "4.1"
      ]
     },
     "execution_count": 23,
     "metadata": {},
     "output_type": "execute_result"
    }
   ],
   "source": [
    "np.nanquantile(matrix_B,0.7)"
   ]
  },
  {
   "cell_type": "code",
   "execution_count": 24,
   "id": "ed1d6620",
   "metadata": {},
   "outputs": [
    {
     "data": {
      "text/plain": [
       "7.882653061224489"
      ]
     },
     "execution_count": 24,
     "metadata": {},
     "output_type": "execute_result"
    }
   ],
   "source": [
    "np.nanvar(matrix_B)"
   ]
  },
  {
   "cell_type": "code",
   "execution_count": null,
   "id": "42613845",
   "metadata": {},
   "outputs": [],
   "source": []
  }
 ],
 "metadata": {
  "kernelspec": {
   "display_name": "Python 3 (ipykernel)",
   "language": "python",
   "name": "python3"
  },
  "language_info": {
   "codemirror_mode": {
    "name": "ipython",
    "version": 3
   },
   "file_extension": ".py",
   "mimetype": "text/x-python",
   "name": "python",
   "nbconvert_exporter": "python",
   "pygments_lexer": "ipython3",
   "version": "3.9.13"
  }
 },
 "nbformat": 4,
 "nbformat_minor": 5
}
