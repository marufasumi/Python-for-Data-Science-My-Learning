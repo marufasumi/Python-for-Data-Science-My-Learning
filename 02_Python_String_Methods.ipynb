{
 "cells": [
  {
   "cell_type": "markdown",
   "id": "f9ea9ae1",
   "metadata": {},
   "source": [
    "# Python in-built String methods"
   ]
  },
  {
   "cell_type": "markdown",
   "id": "1f8f82ef",
   "metadata": {},
   "source": [
    "## W3 School link\n",
    "\n",
    "https://www.w3schools.com/python/python_ref_string.asp"
   ]
  },
  {
   "cell_type": "markdown",
   "id": "797701bd",
   "metadata": {},
   "source": [
    "## Capitalize()\n",
    "\n",
    "Convert the first charecter to upper case"
   ]
  },
  {
   "cell_type": "code",
   "execution_count": 3,
   "id": "e25a471d",
   "metadata": {},
   "outputs": [
    {
     "name": "stdout",
     "output_type": "stream",
     "text": [
      "Hello, and welcome to my world\n"
     ]
    }
   ],
   "source": [
    "## Uppercase the first letter in this sentence\n",
    "\n",
    "txt =\"hello,and welcome to my world\"\n",
    "x= txt.capitalize()\n",
    "print(x)\n"
   ]
  },
  {
   "cell_type": "markdown",
   "id": "8655c99f",
   "metadata": {},
   "source": [
    "## casefold()\n",
    "\n",
    "Convert string into lower case"
   ]
  },
  {
   "cell_type": "code",
   "execution_count": 5,
   "id": "a70e402a",
   "metadata": {},
   "outputs": [
    {
     "data": {
      "text/plain": [
       "'hello,and welcome to my world'"
      ]
     },
     "execution_count": 5,
     "metadata": {},
     "output_type": "execute_result"
    }
   ],
   "source": [
    "## Make the string to lower case\n",
    "txt =\"hello,And Welcome To My World\"\n",
    "x= txt.casefold()\n",
    "x\n",
    "\n"
   ]
  },
  {
   "cell_type": "markdown",
   "id": "e07ee9a3",
   "metadata": {},
   "source": [
    "## Center(length, charecter)\n",
    "\n",
    "Returns a centered string"
   ]
  },
  {
   "cell_type": "code",
   "execution_count": 7,
   "id": "712a5c71",
   "metadata": {},
   "outputs": [
    {
     "data": {
      "text/plain": [
       "'       banana       '"
      ]
     },
     "execution_count": 7,
     "metadata": {},
     "output_type": "execute_result"
    }
   ],
   "source": [
    "## Print the word banana taking up the space of 20 charecters, with 'banana' in the middle\n",
    "\n",
    "txt = 'banana'\n",
    "x=txt.center(20)\n",
    "x\n"
   ]
  },
  {
   "cell_type": "code",
   "execution_count": 9,
   "id": "1336cb1b",
   "metadata": {},
   "outputs": [
    {
     "data": {
      "text/plain": [
       "'OOOOOOObananaOOOOOOO'"
      ]
     },
     "execution_count": 9,
     "metadata": {},
     "output_type": "execute_result"
    }
   ],
   "source": [
    "##using the letter 'o' as the padding charecter\n",
    "txt = 'banana'\n",
    "x=txt.center(20,'O')\n",
    "x\n"
   ]
  },
  {
   "cell_type": "markdown",
   "id": "747c73d7",
   "metadata": {},
   "source": [
    "## count(value, start, end)\n",
    "\n",
    "Returns the number of times a specified value occurs in a string.\n",
    "\n"
   ]
  },
  {
   "cell_type": "code",
   "execution_count": 10,
   "id": "d144faf0",
   "metadata": {},
   "outputs": [
    {
     "data": {
      "text/plain": [
       "2"
      ]
     },
     "execution_count": 10,
     "metadata": {},
     "output_type": "execute_result"
    }
   ],
   "source": [
    "## Return the number of times the value 'apple' appears in the string\n",
    "\n",
    "txt='I love apple, apple are my favorite fruit'\n",
    "\n",
    "x= txt.count('apple')\n",
    "x"
   ]
  },
  {
   "cell_type": "code",
   "execution_count": 11,
   "id": "b0825cb3",
   "metadata": {},
   "outputs": [
    {
     "data": {
      "text/plain": [
       "1"
      ]
     },
     "execution_count": 11,
     "metadata": {},
     "output_type": "execute_result"
    }
   ],
   "source": [
    "## search from position 10 to 24\n",
    "txt='I love apple, apple are my favorite fruit'\n",
    "x= txt.count('apple',10,24)\n",
    "x\n"
   ]
  },
  {
   "cell_type": "markdown",
   "id": "03275365",
   "metadata": {},
   "source": [
    "## encode()\n",
    "\n",
    "Returns a encoded version of the string"
   ]
  },
  {
   "cell_type": "code",
   "execution_count": 14,
   "id": "d6d3732a",
   "metadata": {},
   "outputs": [
    {
     "data": {
      "text/plain": [
       "b'My name is St\\xc3\\xa5le'"
      ]
     },
     "execution_count": 14,
     "metadata": {},
     "output_type": "execute_result"
    }
   ],
   "source": [
    "## UTF-8 encode the string\n",
    "\n",
    "txt = 'My name is Ståle'\n",
    "x= txt.encode()\n",
    "x"
   ]
  },
  {
   "cell_type": "markdown",
   "id": "6bfcadd7",
   "metadata": {},
   "source": [
    "## endswith(value, start, end)\n",
    "\n",
    "Returns True if the string end with the specified value."
   ]
  },
  {
   "cell_type": "code",
   "execution_count": 16,
   "id": "ab529315",
   "metadata": {},
   "outputs": [
    {
     "data": {
      "text/plain": [
       "True"
      ]
     },
     "execution_count": 16,
     "metadata": {},
     "output_type": "execute_result"
    }
   ],
   "source": [
    "## check if the string end with a (.)\n",
    "\n",
    "txt = 'Hello, welcome to my world.'\n",
    "x=txt.endswith('.')\n",
    "x"
   ]
  },
  {
   "cell_type": "code",
   "execution_count": 19,
   "id": "762c3989",
   "metadata": {},
   "outputs": [
    {
     "data": {
      "text/plain": [
       "False"
      ]
     },
     "execution_count": 19,
     "metadata": {},
     "output_type": "execute_result"
    }
   ],
   "source": [
    "## check if position 5 to 11 ends with the phrase \"my world.\"\n",
    "txt = 'Hello, welcome to my world.'\n",
    "x=txt.endswith('my world.',5,11)\n",
    "x\n"
   ]
  },
  {
   "cell_type": "markdown",
   "id": "9d745b64",
   "metadata": {},
   "source": [
    "## expandtabs()\n",
    "\n",
    "Sets the tab size of the specified number of whitespaces."
   ]
  },
  {
   "cell_type": "code",
   "execution_count": 25,
   "id": "159a7a62",
   "metadata": {},
   "outputs": [
    {
     "name": "stdout",
     "output_type": "stream",
     "text": [
      "H e l l o\n"
     ]
    }
   ],
   "source": [
    "## Set the tabsize to two white space\n",
    "\n",
    "txt ='H\\te\\tl\\tl\\to'\n",
    "x = txt.expandtabs(2)\n",
    "print(x)"
   ]
  },
  {
   "cell_type": "code",
   "execution_count": 27,
   "id": "7500a0a6",
   "metadata": {},
   "outputs": [
    {
     "name": "stdout",
     "output_type": "stream",
     "text": [
      "H\te\tl\tl\to\n",
      "H       e       l       l       o\n",
      "H e l l o\n",
      "H   e   l   l   o\n",
      "H         e         l         l         o\n"
     ]
    }
   ],
   "source": [
    "## See the result using diffrent tab sizes\n",
    "txt ='H\\te\\tl\\tl\\to'\n",
    "print(txt)\n",
    "print(txt.expandtabs())\n",
    "print(txt.expandtabs(2))\n",
    "print(txt.expandtabs(4))\n",
    "print(txt.expandtabs(10))"
   ]
  },
  {
   "cell_type": "markdown",
   "id": "83f10687",
   "metadata": {},
   "source": [
    "## find(value,start,end)\n",
    "\n",
    "Search the string for a specified value and returns the position of where it was found.\n",
    "\n",
    "The find() method finds the first occurance of the specified value.\n",
    "\n",
    "Returns -1 if the value is not found.\n",
    "\n",
    "The find () method ius almost the same as the index () method.The only diffrence is that the index() method raises an exception \n",
    "\n",
    "if the value is not found."
   ]
  },
  {
   "cell_type": "code",
   "execution_count": 28,
   "id": "75a1d439",
   "metadata": {},
   "outputs": [
    {
     "data": {
      "text/plain": [
       "7"
      ]
     },
     "execution_count": 28,
     "metadata": {},
     "output_type": "execute_result"
    }
   ],
   "source": [
    "## Where in the text is the word 'welcome'?txt = 'Hello, welcome to my world.'\n",
    "txt = 'Hello, welcome to my world.'\n",
    "\n",
    "x = txt.find('welcome')\n",
    "x\n",
    "\n"
   ]
  },
  {
   "cell_type": "code",
   "execution_count": 29,
   "id": "52a4bc22",
   "metadata": {},
   "outputs": [
    {
     "data": {
      "text/plain": [
       "1"
      ]
     },
     "execution_count": 29,
     "metadata": {},
     "output_type": "execute_result"
    }
   ],
   "source": [
    "## Where in the text is the first occurance of the letter 'e'\n",
    "\n",
    "txt = 'Hello, welcome to my world.'\n",
    "x=txt.find('e')\n",
    "x"
   ]
  },
  {
   "cell_type": "code",
   "execution_count": 30,
   "id": "1f857c2b",
   "metadata": {},
   "outputs": [
    {
     "data": {
      "text/plain": [
       "8"
      ]
     },
     "execution_count": 30,
     "metadata": {},
     "output_type": "execute_result"
    }
   ],
   "source": [
    "## Where in the text is the first occurance of the letter 'e' when you only search between position 5 and 10.\n",
    "\n",
    "txt = 'Hello, welcome to my world.'\n",
    "x=txt.find('e',5,10)\n",
    "x"
   ]
  },
  {
   "cell_type": "code",
   "execution_count": 31,
   "id": "0929b64a",
   "metadata": {},
   "outputs": [
    {
     "name": "stdout",
     "output_type": "stream",
     "text": [
      "-1\n"
     ]
    },
    {
     "ename": "ValueError",
     "evalue": "substring not found",
     "output_type": "error",
     "traceback": [
      "\u001b[1;31m---------------------------------------------------------------------------\u001b[0m",
      "\u001b[1;31mValueError\u001b[0m                                Traceback (most recent call last)",
      "\u001b[1;32m~\\AppData\\Local\\Temp\\ipykernel_9932\\3498829644.py\u001b[0m in \u001b[0;36m<module>\u001b[1;34m\u001b[0m\n\u001b[0;32m      2\u001b[0m \u001b[0mtxt\u001b[0m \u001b[1;33m=\u001b[0m \u001b[1;34m'Hello, welcome to my world.'\u001b[0m\u001b[1;33m\u001b[0m\u001b[1;33m\u001b[0m\u001b[0m\n\u001b[0;32m      3\u001b[0m \u001b[0mprint\u001b[0m\u001b[1;33m(\u001b[0m\u001b[0mtxt\u001b[0m\u001b[1;33m.\u001b[0m\u001b[0mfind\u001b[0m\u001b[1;33m(\u001b[0m\u001b[1;34m'q'\u001b[0m\u001b[1;33m)\u001b[0m\u001b[1;33m)\u001b[0m\u001b[1;33m\u001b[0m\u001b[1;33m\u001b[0m\u001b[0m\n\u001b[1;32m----> 4\u001b[1;33m \u001b[0mprint\u001b[0m\u001b[1;33m(\u001b[0m\u001b[0mtxt\u001b[0m\u001b[1;33m.\u001b[0m\u001b[0mindex\u001b[0m\u001b[1;33m(\u001b[0m\u001b[1;34m'q'\u001b[0m\u001b[1;33m)\u001b[0m\u001b[1;33m)\u001b[0m\u001b[1;33m\u001b[0m\u001b[1;33m\u001b[0m\u001b[0m\n\u001b[0m",
      "\u001b[1;31mValueError\u001b[0m: substring not found"
     ]
    }
   ],
   "source": [
    "## If the value is not found,the find method returns -1, but the index() method will raise an exeption.\n",
    "txt = 'Hello, welcome to my world.'\n",
    "print(txt.find('q'))\n",
    "print(txt.index('q'))"
   ]
  },
  {
   "cell_type": "markdown",
   "id": "962660c6",
   "metadata": {},
   "source": [
    "## format(value1, value2....)\n",
    "\n",
    "The format() method formats the sprcified values and insert them inside the string's placeholder.\n",
    "\n",
    "The placeholder is defined using curly braces.\n",
    "\n",
    "The format() method returns the formatted string."
   ]
  },
  {
   "cell_type": "code",
   "execution_count": 32,
   "id": "358d0f06",
   "metadata": {},
   "outputs": [
    {
     "name": "stdout",
     "output_type": "stream",
     "text": [
      "My name is Sumi, I am 35\n",
      "My name is Sumi, I am 35\n",
      "My name is Sumi, I am 35\n"
     ]
    }
   ],
   "source": [
    "## using diffrent placeholder values\n",
    "#named indexes\n",
    "txt1 =\"My name is {fname}, I am {age}\".format(fname='Sumi',age=35)\n",
    "# numbered indexes\n",
    "txt2 =\"My name is {0}, I am {1}\".format('Sumi',35)\n",
    "#empty indexes\n",
    "txt3 =\"My name is {}, I am {}\".format('Sumi',35)\n",
    "\n",
    "print(txt1)\n",
    "print(txt2)\n",
    "print(txt3)\n"
   ]
  },
  {
   "cell_type": "markdown",
   "id": "ec4a42f9",
   "metadata": {},
   "source": [
    "## index(value.start,end)\n",
    "\n",
    "Find the first occurance of the specified value.\n",
    "\n"
   ]
  },
  {
   "cell_type": "code",
   "execution_count": 34,
   "id": "f2a073f1",
   "metadata": {},
   "outputs": [
    {
     "data": {
      "text/plain": [
       "8"
      ]
     },
     "execution_count": 34,
     "metadata": {},
     "output_type": "execute_result"
    }
   ],
   "source": [
    "## Where in the text is the first occurance of the letter 'e' when you only search between position 5 and 10.\n",
    "\n",
    "txt = 'Hello, welcome to my world.'\n",
    "x=txt.index('e',5,10)\n",
    "x"
   ]
  },
  {
   "cell_type": "markdown",
   "id": "35e4cc43",
   "metadata": {},
   "source": [
    "## isalnum()\n",
    "\n",
    "Returns True if all the charecters are alphanumeric , meaning alphabet letter(a-z) and numbers(0-9)"
   ]
  },
  {
   "cell_type": "code",
   "execution_count": 35,
   "id": "1e62ff5c",
   "metadata": {},
   "outputs": [
    {
     "data": {
      "text/plain": [
       "True"
      ]
     },
     "execution_count": 35,
     "metadata": {},
     "output_type": "execute_result"
    }
   ],
   "source": [
    "# check if all the charecters in the text are alphanumeric\n",
    "txt='company12'\n",
    "x=txt.isalnum()\n",
    "x"
   ]
  },
  {
   "cell_type": "code",
   "execution_count": 36,
   "id": "04b15c5a",
   "metadata": {},
   "outputs": [
    {
     "data": {
      "text/plain": [
       "False"
      ]
     },
     "execution_count": 36,
     "metadata": {},
     "output_type": "execute_result"
    }
   ],
   "source": [
    "## beacuse of white space\n",
    "txt='company 12'\n",
    "x=txt.isalnum()\n",
    "x"
   ]
  },
  {
   "cell_type": "markdown",
   "id": "9a289f64",
   "metadata": {},
   "source": [
    "## isalpha()\n",
    "\n",
    "Returns True if all charecters in the string are in the alphabet."
   ]
  },
  {
   "cell_type": "code",
   "execution_count": 37,
   "id": "173be69a",
   "metadata": {},
   "outputs": [
    {
     "data": {
      "text/plain": [
       "True"
      ]
     },
     "execution_count": 37,
     "metadata": {},
     "output_type": "execute_result"
    }
   ],
   "source": [
    "## check if all charecter in the text are letetrs\n",
    "\n",
    "txt = 'CompanyX'\n",
    "x=txt.isalpha()\n",
    "x"
   ]
  },
  {
   "cell_type": "code",
   "execution_count": 38,
   "id": "54ce5b2a",
   "metadata": {},
   "outputs": [
    {
     "data": {
      "text/plain": [
       "False"
      ]
     },
     "execution_count": 38,
     "metadata": {},
     "output_type": "execute_result"
    }
   ],
   "source": [
    "txt = 'Company12'\n",
    "x=txt.isalpha()\n",
    "x"
   ]
  },
  {
   "cell_type": "markdown",
   "id": "5f7bf961",
   "metadata": {},
   "source": [
    "## isascii()\n",
    "\n",
    "Returns true if all charecters in the string are ascii charecter(a-z) and numbers 0-9"
   ]
  },
  {
   "cell_type": "code",
   "execution_count": 39,
   "id": "603ff1b6",
   "metadata": {},
   "outputs": [
    {
     "data": {
      "text/plain": [
       "True"
      ]
     },
     "execution_count": 39,
     "metadata": {},
     "output_type": "execute_result"
    }
   ],
   "source": [
    "txt = 'Company12'\n",
    "x=txt.isascii()\n",
    "x"
   ]
  },
  {
   "cell_type": "markdown",
   "id": "9724cd5c",
   "metadata": {},
   "source": [
    "## isdecimal()\n",
    "\n",
    "Returns True if all charecters in the string are decimals."
   ]
  },
  {
   "cell_type": "code",
   "execution_count": 40,
   "id": "379bdb1b",
   "metadata": {},
   "outputs": [
    {
     "data": {
      "text/plain": [
       "True"
      ]
     },
     "execution_count": 40,
     "metadata": {},
     "output_type": "execute_result"
    }
   ],
   "source": [
    "## Check if all the charecters in a string are decimals (0-9)\n",
    "\n",
    "txt ='1234'\n",
    "x=txt.isdecimal()\n",
    "x"
   ]
  },
  {
   "cell_type": "code",
   "execution_count": 41,
   "id": "c174076d",
   "metadata": {},
   "outputs": [
    {
     "name": "stdout",
     "output_type": "stream",
     "text": [
      "True\n",
      "False\n"
     ]
    }
   ],
   "source": [
    "## Check if all the characters in the unicode are decimals:\n",
    "\n",
    "a = \"\\u0030\" #unicode for 0\n",
    "b = \"\\u0047\" #unicode for G\n",
    "\n",
    "print(a.isdecimal())\n",
    "print(b.isdecimal())"
   ]
  },
  {
   "cell_type": "markdown",
   "id": "945851f9",
   "metadata": {},
   "source": [
    "## isdigit()\n",
    "\n",
    "Return True if all charecters in the string are digits."
   ]
  },
  {
   "cell_type": "code",
   "execution_count": 42,
   "id": "0c64e005",
   "metadata": {},
   "outputs": [
    {
     "data": {
      "text/plain": [
       "True"
      ]
     },
     "execution_count": 42,
     "metadata": {},
     "output_type": "execute_result"
    }
   ],
   "source": [
    "## Check if all the charecters in the text are digits:\n",
    "\n",
    "txt = '50800'\n",
    "x= txt.isdigit()\n",
    "x"
   ]
  },
  {
   "cell_type": "code",
   "execution_count": 43,
   "id": "1a2c9bfe",
   "metadata": {},
   "outputs": [
    {
     "name": "stdout",
     "output_type": "stream",
     "text": [
      "True\n",
      "True\n"
     ]
    }
   ],
   "source": [
    "## Check if all the characters in the text are digits:\n",
    "\n",
    "a = \"\\u0030\" #unicode for 0\n",
    "b = \"\\u00B2\" #unicode for ²\n",
    "\n",
    "print(a.isdigit())\n",
    "print(b.isdigit())"
   ]
  },
  {
   "cell_type": "markdown",
   "id": "0d36d872",
   "metadata": {},
   "source": [
    "## isidentifier()\n",
    "\n",
    "Return True if the string is an identifier.\n",
    "\n",
    "A string is considered a valid identifier if it only contains alphanumeric letters (a-z) and (0-9) or underscore (_)\n",
    "\n",
    "A valid identifier can not strat with a number or contain any spaces."
   ]
  },
  {
   "cell_type": "code",
   "execution_count": 45,
   "id": "8b4f4dec",
   "metadata": {},
   "outputs": [
    {
     "data": {
      "text/plain": [
       "True"
      ]
     },
     "execution_count": 45,
     "metadata": {},
     "output_type": "execute_result"
    }
   ],
   "source": [
    "## Check if the string is a valid identifier\n",
    "\n",
    "txt = 'demo'\n",
    "x= txt.isidentifier()\n",
    "x"
   ]
  },
  {
   "cell_type": "code",
   "execution_count": 46,
   "id": "49e492d1",
   "metadata": {},
   "outputs": [
    {
     "name": "stdout",
     "output_type": "stream",
     "text": [
      "True\n",
      "True\n",
      "False\n",
      "False\n"
     ]
    }
   ],
   "source": [
    "##Check if the strings are valid identifiers:\n",
    "\n",
    "a = \"MyFolder\"\n",
    "b = \"Demo002\"\n",
    "c = \"2bring\"\n",
    "d = \"my demo\"\n",
    "\n",
    "print(a.isidentifier())\n",
    "print(b.isidentifier())\n",
    "print(c.isidentifier())\n",
    "print(d.isidentifier())"
   ]
  },
  {
   "cell_type": "markdown",
   "id": "f457f470",
   "metadata": {},
   "source": [
    "## islower()\n",
    "\n",
    "Returns True if all charecters in the string are lower case, otherwise False.\n",
    "\n",
    "Numbers, symbols and spaces are not checked, only alphabet charecter."
   ]
  },
  {
   "cell_type": "code",
   "execution_count": 47,
   "id": "49f4bd4c",
   "metadata": {},
   "outputs": [
    {
     "data": {
      "text/plain": [
       "True"
      ]
     },
     "execution_count": 47,
     "metadata": {},
     "output_type": "execute_result"
    }
   ],
   "source": [
    "## Check if all the charecters in the text are in lower case\n",
    "txt = \" hello world\"\n",
    "x = txt.islower()\n",
    "x"
   ]
  },
  {
   "cell_type": "markdown",
   "id": "d24691bd",
   "metadata": {},
   "source": [
    "## isnumeric()\n",
    "\n",
    "Returns True if all charecters in the string are numeric, otherswise false.\n",
    "\n",
    "-1 and 1.5 are not considered as numeric values, beacuse all the charecters in the string must be numeric, and the - and the \n",
    "\n",
    ". are not.\n"
   ]
  },
  {
   "cell_type": "code",
   "execution_count": 48,
   "id": "3a540555",
   "metadata": {},
   "outputs": [
    {
     "data": {
      "text/plain": [
       "True"
      ]
     },
     "execution_count": 48,
     "metadata": {},
     "output_type": "execute_result"
    }
   ],
   "source": [
    "txt ='1234'\n",
    "x=txt.isnumeric()\n",
    "x"
   ]
  },
  {
   "cell_type": "code",
   "execution_count": 50,
   "id": "403137dc",
   "metadata": {},
   "outputs": [
    {
     "data": {
      "text/plain": [
       "False"
      ]
     },
     "execution_count": 50,
     "metadata": {},
     "output_type": "execute_result"
    }
   ],
   "source": [
    "txt1 ='-1'\n",
    "x=txt1.isnumeric()\n",
    "x"
   ]
  },
  {
   "cell_type": "markdown",
   "id": "48868996",
   "metadata": {},
   "source": [
    "## isprontable() \n",
    "\n",
    "Return True if all charecters in the string are printable.\n",
    "\n",
    "Non printable charecter: carriage return and line feed"
   ]
  },
  {
   "cell_type": "code",
   "execution_count": 51,
   "id": "5c57882b",
   "metadata": {},
   "outputs": [
    {
     "data": {
      "text/plain": [
       "False"
      ]
     },
     "execution_count": 51,
     "metadata": {},
     "output_type": "execute_result"
    }
   ],
   "source": [
    "## Check if all the charecters in the text are printable\n",
    "txt ='Hello! \\nAre you #1'\n",
    "x=txt.isprintable()\n",
    "x"
   ]
  },
  {
   "cell_type": "markdown",
   "id": "f8714075",
   "metadata": {},
   "source": [
    "## isspace()\n",
    "\n",
    "Return true if all the charecters in the string are whitespaces.\n",
    "\n"
   ]
  },
  {
   "cell_type": "code",
   "execution_count": 52,
   "id": "ae9e7998",
   "metadata": {},
   "outputs": [
    {
     "data": {
      "text/plain": [
       "True"
      ]
     },
     "execution_count": 52,
     "metadata": {},
     "output_type": "execute_result"
    }
   ],
   "source": [
    "## Check if all the charecters in the text are whitespaces\n",
    "\n",
    "txt ='        '\n",
    "x = txt.isspace()\n",
    "x"
   ]
  },
  {
   "cell_type": "code",
   "execution_count": 53,
   "id": "5ff339f7",
   "metadata": {},
   "outputs": [
    {
     "data": {
      "text/plain": [
       "False"
      ]
     },
     "execution_count": 53,
     "metadata": {},
     "output_type": "execute_result"
    }
   ],
   "source": [
    "txt ='   s     '\n",
    "x = txt.isspace()\n",
    "x"
   ]
  },
  {
   "cell_type": "markdown",
   "id": "7cc36283",
   "metadata": {},
   "source": [
    "## istitle()\n",
    "\n",
    "Returns True if the string follows the rules of a title.\n",
    "\n",
    "Symbols and numbers are ignored.\n"
   ]
  },
  {
   "cell_type": "code",
   "execution_count": 55,
   "id": "71b3d75a",
   "metadata": {},
   "outputs": [
    {
     "data": {
      "text/plain": [
       "True"
      ]
     },
     "execution_count": 55,
     "metadata": {},
     "output_type": "execute_result"
    }
   ],
   "source": [
    "## Check if each word start with an uppercase letter:\n",
    "\n",
    "txt = 'Hello, And Welcome To My World'\n",
    "x=txt.istitle()\n",
    "x"
   ]
  },
  {
   "cell_type": "code",
   "execution_count": 57,
   "id": "faaa20b5",
   "metadata": {},
   "outputs": [
    {
     "name": "stdout",
     "output_type": "stream",
     "text": [
      "False\n",
      "True\n",
      "True\n",
      "True\n"
     ]
    }
   ],
   "source": [
    "## Check if each word start with an upper case letter:\n",
    "\n",
    "a = \"HELLO, AND WELCOME TO MY WORLD\"\n",
    "b = \"Hello\"\n",
    "c = \"22 Names\"\n",
    "d = \"This Is %'!?\"\n",
    "\n",
    "print(a.istitle())\n",
    "print(b.istitle())\n",
    "print(c.istitle())\n",
    "print(d.istitle())"
   ]
  },
  {
   "cell_type": "markdown",
   "id": "1abbf62e",
   "metadata": {},
   "source": [
    "## isupper()\n",
    "\n",
    "Returns True if all charecters in the string are uppercase.\n",
    "\n",
    "Numbers, symbols and spaces are not checked. Only alphabet charecters."
   ]
  },
  {
   "cell_type": "code",
   "execution_count": 59,
   "id": "cf00b98f",
   "metadata": {},
   "outputs": [
    {
     "name": "stdout",
     "output_type": "stream",
     "text": [
      "False\n",
      "False\n",
      "True\n"
     ]
    }
   ],
   "source": [
    "##Check if all the characters in the texts are in upper case:\n",
    "\n",
    "a = \"Hello World!\"\n",
    "b = \"hello 123\"\n",
    "c = \"MY NAME IS PETER\"\n",
    "\n",
    "print(a.isupper())\n",
    "print(b.isupper())\n",
    "print(c.isupper())"
   ]
  },
  {
   "cell_type": "markdown",
   "id": "71fe6044",
   "metadata": {},
   "source": [
    "## join()\n",
    "\n",
    "\n",
    "separator.join(string)\n",
    "\n",
    "Convert the all elements of an iterable to a single string.\n",
    "\n",
    "A string must be specified as the separeator.\n",
    "\n",
    "When using a dictionary as an iterable, the returned values are keys, not the values."
   ]
  },
  {
   "cell_type": "code",
   "execution_count": 1,
   "id": "b3380b45",
   "metadata": {},
   "outputs": [
    {
     "data": {
      "text/plain": [
       "'john#peter#vicky'"
      ]
     },
     "execution_count": 1,
     "metadata": {},
     "output_type": "execute_result"
    }
   ],
   "source": [
    "## Join all items in a tuple into a string, using a hash charecter as separator.\n",
    "\n",
    "myTuple = ('john','peter','vicky')\n",
    "\n",
    "x ='#'.join(myTuple)\n",
    "x"
   ]
  },
  {
   "cell_type": "code",
   "execution_count": 3,
   "id": "22ec2d6c",
   "metadata": {},
   "outputs": [
    {
     "data": {
      "text/plain": [
       "'nameTESTcountry'"
      ]
     },
     "execution_count": 3,
     "metadata": {},
     "output_type": "execute_result"
    }
   ],
   "source": [
    "## join all the items in a dictionary into a string using the word TEST as separator.\n",
    "\n",
    "myDict = {\"name\":\"John\", \"country\": \"Norway\"}\n",
    "\n",
    "x=\"TEST\".join(myDict)\n",
    "x\n",
    "\n"
   ]
  },
  {
   "cell_type": "markdown",
   "id": "86658a4e",
   "metadata": {},
   "source": [
    "## ljust(length, char)\n",
    "\n",
    "This method will left align the string, using a specified charecter(space is default) as the fill charecter."
   ]
  },
  {
   "cell_type": "code",
   "execution_count": 5,
   "id": "abc36475",
   "metadata": {},
   "outputs": [
    {
     "name": "stdout",
     "output_type": "stream",
     "text": [
      "Banana               is my favourite fruits\n"
     ]
    }
   ],
   "source": [
    "## Return a 20 charecters long , left justified version of the word 'banana':\n",
    "\n",
    "txt = 'Banana'\n",
    "x= txt.ljust(20)\n",
    "\n",
    "print(x, \"is my favourite fruits\")"
   ]
  },
  {
   "cell_type": "code",
   "execution_count": 7,
   "id": "44c3fd33",
   "metadata": {},
   "outputs": [
    {
     "name": "stdout",
     "output_type": "stream",
     "text": [
      "Bananaaaaaaaaaaaaaaa is my favourite fruits\n"
     ]
    }
   ],
   "source": [
    "## use the letter 'a' as the padding charecter.\n",
    "txt = 'Banana'\n",
    "x= txt.ljust(20,'a')\n",
    "\n",
    "print(x, \"is my favourite fruits\")\n"
   ]
  },
  {
   "cell_type": "markdown",
   "id": "aae0f2d2",
   "metadata": {},
   "source": [
    "## lower()\n",
    "\n",
    "Converts the string into lower case."
   ]
  },
  {
   "cell_type": "code",
   "execution_count": 9,
   "id": "c36c765d",
   "metadata": {},
   "outputs": [
    {
     "data": {
      "text/plain": [
       "'hello world'"
      ]
     },
     "execution_count": 9,
     "metadata": {},
     "output_type": "execute_result"
    }
   ],
   "source": [
    "txt ='HELLO World'\n",
    "x=txt.lower()\n",
    "x\n"
   ]
  },
  {
   "cell_type": "markdown",
   "id": "5a62d6b1",
   "metadata": {},
   "source": [
    "## lstrip(charectere)\n",
    "\n",
    "Return a left trim version of the string.\n",
    "\n",
    "Remove any leading charecters(space is the default leading charecter to remove)"
   ]
  },
  {
   "cell_type": "code",
   "execution_count": 10,
   "id": "f583bccf",
   "metadata": {},
   "outputs": [
    {
     "name": "stdout",
     "output_type": "stream",
     "text": [
      "of all fruits Banana        is my favourite fruits\n"
     ]
    }
   ],
   "source": [
    "## Remove spaces to the left of the string\n",
    "\n",
    "txt = '       Banana       '\n",
    "x = txt.lstrip()\n",
    "\n",
    "print('of all fruits', x , 'is my favourite fruits')"
   ]
  },
  {
   "cell_type": "code",
   "execution_count": 11,
   "id": "051bff54",
   "metadata": {},
   "outputs": [
    {
     "data": {
      "text/plain": [
       "'banana'"
      ]
     },
     "execution_count": 11,
     "metadata": {},
     "output_type": "execute_result"
    }
   ],
   "source": [
    "## Remove the leading charecter\n",
    "txt = ',,,,ssaaww.....banana'\n",
    "x = txt.lstrip(',.asw')\n",
    "\n",
    "x"
   ]
  },
  {
   "cell_type": "markdown",
   "id": "b7a3379a",
   "metadata": {},
   "source": [
    "## maketrans()\n",
    "\n",
    "Returns a transltion table to be used in translation\n",
    "\n",
    "The maketrans() method returns a mapping table that can be used with the translate() method to replace specified charecters.\n",
    "\n",
    "str.maketrans(x,y,z)\n"
   ]
  },
  {
   "cell_type": "code",
   "execution_count": 12,
   "id": "4f4996c6",
   "metadata": {},
   "outputs": [
    {
     "name": "stdout",
     "output_type": "stream",
     "text": [
      "Hello Pam\n"
     ]
    }
   ],
   "source": [
    "## Create a mapping table and use it in the translate() method to replace any \"S\" charecters with \"P\" charecter.\n",
    "txt= \"Hello Sam\"\n",
    "mytable = str.maketrans(\"S\",\"P\")\n",
    "print(txt.translate(mytable))\n"
   ]
  },
  {
   "cell_type": "code",
   "execution_count": 2,
   "id": "cbd86044",
   "metadata": {},
   "outputs": [
    {
     "name": "stdout",
     "output_type": "stream",
     "text": [
      " Hi Joe\n"
     ]
    }
   ],
   "source": [
    "## Use a mappimg table to replace many charecters\n",
    "\n",
    "txt = \" Hi Sam\"\n",
    "x = \"mSa\"\n",
    "y =\"eJo\"\n",
    "mytable = str.maketrans(x,y)\n",
    "print(txt.translate(mytable))"
   ]
  },
  {
   "cell_type": "code",
   "execution_count": 16,
   "id": "d4b3eb97",
   "metadata": {},
   "outputs": [
    {
     "name": "stdout",
     "output_type": "stream",
     "text": [
      " Good night Pam!\n"
     ]
    }
   ],
   "source": [
    "## The third parameter in the mapping table describes charecters that you want to remove from the string.\n",
    "\n",
    "txt = \" Good night Sam!\"\n",
    "x = \"mSa\"\n",
    "y =\"eJo\"\n",
    "z =\"odnght\"\n",
    "\n",
    "maytable = str.maketrans(x,y,z)\n",
    "print(txt.translate(mytable))\n"
   ]
  },
  {
   "cell_type": "markdown",
   "id": "a62d6767",
   "metadata": {},
   "source": [
    "## partition()\n",
    "\n",
    "Return a tuple where the string is parted into three parts.\n",
    "\n",
    "Searches for a specified string, and split the string into a tuple containing three elements.\n",
    "\n",
    "The first element conatin the parts before the specified string.\n",
    "\n",
    "The second element contain the specified string.\n",
    "\n",
    "The third element contains the part after the string.\n",
    "\n",
    "This method search for the first occurance of the specified string."
   ]
  },
  {
   "cell_type": "raw",
   "id": "3b1247c9",
   "metadata": {},
   "source": [
    "Search for the word \"bananas\" and return a tuple with three elements.\n",
    "\n",
    "1. everything before the mathch\n",
    "2.the \"match'\n",
    "3.everything after the match"
   ]
  },
  {
   "cell_type": "code",
   "execution_count": 17,
   "id": "53978fd8",
   "metadata": {},
   "outputs": [
    {
     "data": {
      "text/plain": [
       "('I could eat ', 'bananas', ' all day')"
      ]
     },
     "execution_count": 17,
     "metadata": {},
     "output_type": "execute_result"
    }
   ],
   "source": [
    "txt = \"I could eat bananas all day\"\n",
    "x=txt.partition('bananas')\n",
    "x"
   ]
  },
  {
   "cell_type": "markdown",
   "id": "52cc522b",
   "metadata": {},
   "source": [
    "## replace(old_value, new_value, count)\n",
    "\n",
    "Returns a string where a specified value is replaced with a specified value.\n",
    "\n"
   ]
  },
  {
   "cell_type": "code",
   "execution_count": 18,
   "id": "177978b6",
   "metadata": {},
   "outputs": [
    {
     "data": {
      "text/plain": [
       "'I like apple'"
      ]
     },
     "execution_count": 18,
     "metadata": {},
     "output_type": "execute_result"
    }
   ],
   "source": [
    "## Replace the word \"bananas\"\n",
    "\n",
    "txt = \"I like bananas\"\n",
    "x = txt.replace(\"bananas\",\"apple\")\n",
    "x"
   ]
  },
  {
   "cell_type": "code",
   "execution_count": 19,
   "id": "5468e90b",
   "metadata": {},
   "outputs": [
    {
     "data": {
      "text/plain": [
       "'three three was a race horse, two two was three too.'"
      ]
     },
     "execution_count": 19,
     "metadata": {},
     "output_type": "execute_result"
    }
   ],
   "source": [
    "## replace all occurance of the word \"one\"\n",
    "\n",
    "txt =\"one one was a race horse, two two was one too.\"\n",
    "x=txt.replace(\"one\",\"three\")\n",
    "x"
   ]
  },
  {
   "cell_type": "code",
   "execution_count": 20,
   "id": "d9884d2a",
   "metadata": {},
   "outputs": [
    {
     "data": {
      "text/plain": [
       "'three three was a race horse, two two was one too.'"
      ]
     },
     "execution_count": 20,
     "metadata": {},
     "output_type": "execute_result"
    }
   ],
   "source": [
    "## replace first 2 occurance of the word \"one\"\n",
    "\n",
    "txt =\"one one was a race horse, two two was one too.\"\n",
    "x=txt.replace(\"one\",\"three\",2)\n",
    "x"
   ]
  },
  {
   "cell_type": "markdown",
   "id": "d12e5cca",
   "metadata": {},
   "source": [
    "## rfind(value, start, end)\n",
    "\n",
    "Searches the string for a specified value and returns the last position of where it was found.\n",
    "\n",
    "return -1 if the value is not found\n",
    "\n",
    "almost same as the rindex method"
   ]
  },
  {
   "cell_type": "code",
   "execution_count": 21,
   "id": "3cc52e77",
   "metadata": {},
   "outputs": [
    {
     "data": {
      "text/plain": [
       "8"
      ]
     },
     "execution_count": 21,
     "metadata": {},
     "output_type": "execute_result"
    }
   ],
   "source": [
    "## Where in the text is the last occurance of the letter \"e\", when you only search between position 5 and 10\n",
    "\n",
    "txt = \"Hello, welcome to my world\"\n",
    "x=txt.rfind(\"e\",5,10)\n",
    "x"
   ]
  },
  {
   "cell_type": "code",
   "execution_count": 22,
   "id": "289df4f7",
   "metadata": {},
   "outputs": [
    {
     "data": {
      "text/plain": [
       "13"
      ]
     },
     "execution_count": 22,
     "metadata": {},
     "output_type": "execute_result"
    }
   ],
   "source": [
    "## Where in the text is the last occurance of the letter \"e\"\n",
    "txt = \"Hello, welcome to my world\"\n",
    "x=txt.rfind(\"e\")\n",
    "x"
   ]
  },
  {
   "cell_type": "markdown",
   "id": "6917eed3",
   "metadata": {},
   "source": [
    "## rindex(value, start, end)\n",
    "\n",
    "Searches the string for a specified value and return the last position of where it was found.\n",
    "\n",
    "raises an exception if the value is not found.\n",
    "\n",
    "almost same as the rfind method"
   ]
  },
  {
   "cell_type": "code",
   "execution_count": 23,
   "id": "8fa8628d",
   "metadata": {},
   "outputs": [
    {
     "data": {
      "text/plain": [
       "13"
      ]
     },
     "execution_count": 23,
     "metadata": {},
     "output_type": "execute_result"
    }
   ],
   "source": [
    "## Where in the text is the last occurance of the letter\"e\n",
    "txt = \"Hello, welcome to my world\"\n",
    "x=txt.rindex(\"e\")\n",
    "x"
   ]
  },
  {
   "cell_type": "code",
   "execution_count": 24,
   "id": "c5ee41da",
   "metadata": {},
   "outputs": [
    {
     "data": {
      "text/plain": [
       "8"
      ]
     },
     "execution_count": 24,
     "metadata": {},
     "output_type": "execute_result"
    }
   ],
   "source": [
    "## Where in the text is the last occurance of the letter \"e\", when you only search between position 5 and 10\n",
    "\n",
    "txt = \"Hello, welcome to my world\"\n",
    "x=txt.rindex(\"e\",5,10)\n",
    "x"
   ]
  },
  {
   "cell_type": "markdown",
   "id": "61493f3b",
   "metadata": {},
   "source": [
    "## rjust()\n",
    "\n",
    "Return a right justified version of the string.\n"
   ]
  },
  {
   "cell_type": "code",
   "execution_count": 25,
   "id": "8497304c",
   "metadata": {},
   "outputs": [
    {
     "data": {
      "text/plain": [
       "'              banana'"
      ]
     },
     "execution_count": 25,
     "metadata": {},
     "output_type": "execute_result"
    }
   ],
   "source": [
    "## Return a 20 charecters long, right justified version of the word \"banana\": \n",
    "## Note: In the result there are actually 14 white spaces\n",
    "\n",
    "txt = \"banana\"\n",
    "x =txt.rjust(20)\n",
    "x"
   ]
  },
  {
   "cell_type": "code",
   "execution_count": 26,
   "id": "61d961bc",
   "metadata": {},
   "outputs": [
    {
     "data": {
      "text/plain": [
       "'OOOOOOOOOOOOOObanana'"
      ]
     },
     "execution_count": 26,
     "metadata": {},
     "output_type": "execute_result"
    }
   ],
   "source": [
    "## Use the letter \"O\" as the padding charecter\n",
    "txt = \"banana\"\n",
    "x =txt.rjust(20,'O')\n",
    "x\n"
   ]
  },
  {
   "cell_type": "code",
   "execution_count": 27,
   "id": "8ca6b232",
   "metadata": {},
   "outputs": [
    {
     "name": "stdout",
     "output_type": "stream",
     "text": [
      "OOOOOOOOOOOOOObanana\n"
     ]
    }
   ],
   "source": [
    "print(x)"
   ]
  },
  {
   "cell_type": "raw",
   "id": "076bf2bc",
   "metadata": {},
   "source": [
    "## rpartition()\n",
    "\n",
    "Return a tuple where the string is parted into three parts.\n",
    "\n",
    "Searches for a specified string, and split the string into a tuple containing three elements.\n",
    "\n",
    "The first element conatin the parts before the specified string.\n",
    "\n",
    "The second element contain the specified string.\n",
    "\n",
    "The third element contains the part after the string.\n",
    "\n",
    "This method search for the first occurance of the specified string."
   ]
  },
  {
   "cell_type": "raw",
   "id": "19c8595f",
   "metadata": {},
   "source": [
    "## Search for the word \"bananas\" and return a tuple with three elements.\n",
    "\n",
    "1. everything before the mathch\n",
    "2.the \"match'\n",
    "3.everything after the match"
   ]
  },
  {
   "cell_type": "code",
   "execution_count": 32,
   "id": "73cfef1a",
   "metadata": {},
   "outputs": [
    {
     "data": {
      "text/plain": [
       "('I could eat bananas all day, ', 'bananas', ' are my favourite fruit')"
      ]
     },
     "execution_count": 32,
     "metadata": {},
     "output_type": "execute_result"
    }
   ],
   "source": [
    "txt = \"I could eat bananas all day, bananas are my favourite fruit\"\n",
    "x=txt.rpartition('bananas')\n",
    "x"
   ]
  },
  {
   "cell_type": "code",
   "execution_count": 33,
   "id": "c711fd44",
   "metadata": {},
   "outputs": [
    {
     "data": {
      "text/plain": [
       "('', '', 'I could eat bananas all day, bananas are my favourite fruit')"
      ]
     },
     "execution_count": 33,
     "metadata": {},
     "output_type": "execute_result"
    }
   ],
   "source": [
    "## if the specifie value is not found, the rpartition() method returns a tuple caontaining:\n",
    "#1-an empty string,2-empty string, 3-whole string\n",
    "\n",
    "txt = \"I could eat bananas all day, bananas are my favourite fruit\"\n",
    "x=txt.rpartition('apple')\n",
    "x\n"
   ]
  },
  {
   "cell_type": "markdown",
   "id": "c7428cbe",
   "metadata": {},
   "source": [
    "## rsplit(separator, maxsplit)\n",
    "\n",
    "Split the string at the specified separator, and returns a list.\n",
    "\n",
    "if no \"max\" is specified , this method return the same as the split method"
   ]
  },
  {
   "cell_type": "code",
   "execution_count": 37,
   "id": "a0312ee2",
   "metadata": {},
   "outputs": [
    {
     "data": {
      "text/plain": [
       "['apple, banana', ' cherry', ' mango']"
      ]
     },
     "execution_count": 37,
     "metadata": {},
     "output_type": "execute_result"
    }
   ],
   "source": [
    "## Split the string into a list with maximum 2 items\n",
    "\n",
    "txt = \"apple, banana, cherry, mango\"\n",
    "\n",
    "x = txt.rsplit(\",\", 2)\n",
    "x"
   ]
  },
  {
   "cell_type": "markdown",
   "id": "8a6f0f32",
   "metadata": {},
   "source": [
    "## rstrip(charecter)\n",
    "\n",
    "Return a trim version of the string.\n",
    "\n",
    "Removes any trailing charecters (charecter at the end a string) , space is the default trailing charecter to remove"
   ]
  },
  {
   "cell_type": "code",
   "execution_count": 38,
   "id": "4fc3ce30",
   "metadata": {},
   "outputs": [
    {
     "name": "stdout",
     "output_type": "stream",
     "text": [
      "of all fruits       banana is my favourite\n"
     ]
    }
   ],
   "source": [
    "## Remove any white space at the end of the string\n",
    "\n",
    "txt = '      banana     '\n",
    "x =txt.rstrip()\n",
    "\n",
    "print('of all fruits',x, 'is my favourite')"
   ]
  },
  {
   "cell_type": "code",
   "execution_count": 39,
   "id": "35db2c6a",
   "metadata": {},
   "outputs": [
    {
     "name": "stdout",
     "output_type": "stream",
     "text": [
      "banana\n"
     ]
    }
   ],
   "source": [
    "##Remove the trailing characters if they are commas, periods, s, q, or w:\n",
    "\n",
    "txt = \"banana,,,,,ssqqqww.....\"\n",
    "\n",
    "x = txt.rstrip(\",.qsw\")\n",
    "\n",
    "print(x)"
   ]
  },
  {
   "cell_type": "markdown",
   "id": "18d6d842",
   "metadata": {},
   "source": [
    "## split()\n",
    "\n",
    "The split() method splits a string into a list.\n",
    "\n",
    "You can specify the separator, default separator is any whitespace.\n",
    "\n",
    " When maxsplit is specified, the list will contain the specified number of elements plus one."
   ]
  },
  {
   "cell_type": "code",
   "execution_count": 40,
   "id": "b46636f5",
   "metadata": {},
   "outputs": [
    {
     "name": "stdout",
     "output_type": "stream",
     "text": [
      "['hello', 'my name is Peter', 'I am 26 years old']\n"
     ]
    }
   ],
   "source": [
    "## Split the string, using comma, followed by a space, as a separator:\n",
    "\n",
    "txt = \"hello, my name is Peter, I am 26 years old\"\n",
    "\n",
    "x = txt.split(\", \")\n",
    "\n",
    "print(x)"
   ]
  },
  {
   "cell_type": "code",
   "execution_count": 41,
   "id": "fcc98770",
   "metadata": {},
   "outputs": [
    {
     "name": "stdout",
     "output_type": "stream",
     "text": [
      "['apple', 'banana#cherry#orange']\n"
     ]
    }
   ],
   "source": [
    "##Split the string into a list with max 2 items:\n",
    "\n",
    "txt = \"apple#banana#cherry#orange\"\n",
    "\n",
    "# setting the maxsplit parameter to 1, will return a list with 2 elements!\n",
    "x = txt.split(\"#\", 1)\n",
    "\n",
    "print(x)"
   ]
  },
  {
   "cell_type": "code",
   "execution_count": 42,
   "id": "5271a40e",
   "metadata": {},
   "outputs": [
    {
     "name": "stdout",
     "output_type": "stream",
     "text": [
      "['welcome', 'to', 'the', 'jungle']\n"
     ]
    }
   ],
   "source": [
    "##Split a string into a list where each word is a list item:\n",
    "\n",
    "txt = \"welcome to the jungle\"\n",
    "\n",
    "x = txt.split()\n",
    "\n",
    "print(x)"
   ]
  },
  {
   "cell_type": "markdown",
   "id": "7a39ae8e",
   "metadata": {},
   "source": [
    "## splitlines()\n",
    "\n",
    "Split a string into a list\n",
    "\n",
    "The splitting is done at line breaks."
   ]
  },
  {
   "cell_type": "code",
   "execution_count": 43,
   "id": "df59593b",
   "metadata": {},
   "outputs": [
    {
     "name": "stdout",
     "output_type": "stream",
     "text": [
      "['Thank you for the music', 'Welcome to the jungle']\n"
     ]
    }
   ],
   "source": [
    "## Split a string into a list where each line is a list item\n",
    "txt = \"Thank you for the music\\nWelcome to the jungle\"\n",
    "\n",
    "x = txt.splitlines()\n",
    "\n",
    "print(x)"
   ]
  },
  {
   "cell_type": "code",
   "execution_count": 44,
   "id": "5e3f0186",
   "metadata": {},
   "outputs": [
    {
     "name": "stdout",
     "output_type": "stream",
     "text": [
      "['Thank you for the music\\n', 'Welcome to the jungle']\n"
     ]
    }
   ],
   "source": [
    "## Split the string but keep the line braeks\n",
    "txt = \"Thank you for the music\\nWelcome to the jungle\"\n",
    "\n",
    "x = txt.splitlines(True)\n",
    "\n",
    "print(x)"
   ]
  },
  {
   "cell_type": "markdown",
   "id": "585fac1f",
   "metadata": {},
   "source": [
    "## startswith()\n",
    "\n",
    "Return true if the string starts with a specified value."
   ]
  },
  {
   "cell_type": "code",
   "execution_count": 46,
   "id": "ea05efd1",
   "metadata": {},
   "outputs": [
    {
     "name": "stdout",
     "output_type": "stream",
     "text": [
      "True\n"
     ]
    }
   ],
   "source": [
    "\n",
    "##Check if the string starts with \"Hello\":\n",
    "\n",
    "txt = \"Hello, welcome to my world.\"\n",
    "\n",
    "x = txt.startswith(\"Hello\")\n",
    "\n",
    "print(x)"
   ]
  },
  {
   "cell_type": "code",
   "execution_count": 47,
   "id": "5a58ff02",
   "metadata": {},
   "outputs": [
    {
     "name": "stdout",
     "output_type": "stream",
     "text": [
      "True\n"
     ]
    }
   ],
   "source": [
    "## Check if position 7 to 20 starts with the characters \"wel\":\n",
    "\n",
    "txt = \"Hello, welcome to my world.\"\n",
    "\n",
    "x = txt.startswith(\"wel\", 7, 20)\n",
    "\n",
    "print(x)"
   ]
  },
  {
   "cell_type": "markdown",
   "id": "57d27a25",
   "metadata": {},
   "source": [
    "## strip()\n",
    "\n",
    "The strip() method removes any leading, and trailing whitespaces.\n",
    "\n",
    "Leading means at the beginning of the string, trailing means at the end.\n",
    "\n",
    "You can specify which character(s) to remove, if not, any whitespaces will be removed."
   ]
  },
  {
   "cell_type": "code",
   "execution_count": 48,
   "id": "27b3ca86",
   "metadata": {},
   "outputs": [
    {
     "name": "stdout",
     "output_type": "stream",
     "text": [
      "of all fruits banana is my favorite\n"
     ]
    }
   ],
   "source": [
    "##Remove spaces at the beginning and at the end of the string:\n",
    "\n",
    "txt = \"     banana     \"\n",
    "\n",
    "x = txt.strip()\n",
    "\n",
    "print(\"of all fruits\", x, \"is my favorite\")"
   ]
  },
  {
   "cell_type": "code",
   "execution_count": 49,
   "id": "a79a7f32",
   "metadata": {},
   "outputs": [
    {
     "name": "stdout",
     "output_type": "stream",
     "text": [
      "banana\n"
     ]
    }
   ],
   "source": [
    "##Remove the leading and trailing characters:\n",
    "\n",
    "txt = \",,,,,rrttgg.....banana....rrr\"\n",
    "\n",
    "x = txt.strip(\",.grt\")\n",
    "\n",
    "print(x)"
   ]
  },
  {
   "cell_type": "markdown",
   "id": "b09599e2",
   "metadata": {},
   "source": [
    "## swapcase()\n",
    "\n",
    "The swapcase() method returns a string where all the upper case letters are lower case and vice versa."
   ]
  },
  {
   "cell_type": "code",
   "execution_count": 50,
   "id": "0365009c",
   "metadata": {},
   "outputs": [
    {
     "name": "stdout",
     "output_type": "stream",
     "text": [
      "hELLO mY nAME iS peter\n"
     ]
    }
   ],
   "source": [
    "##Make the lower case letters upper case and the upper case letters lower case:\n",
    "\n",
    "txt = \"Hello My Name Is PETER\"\n",
    "\n",
    "x = txt.swapcase()\n",
    "\n",
    "print(x)"
   ]
  },
  {
   "cell_type": "markdown",
   "id": "654d18e3",
   "metadata": {},
   "source": [
    "## title()\n",
    "\n",
    "The title() method returns a string where the first character in every word is upper case. Like a header, or a title.\n",
    "\n",
    "If the word contains a number or a symbol, the first letter after that will be converted to upper case."
   ]
  },
  {
   "cell_type": "code",
   "execution_count": 51,
   "id": "ef00f89d",
   "metadata": {},
   "outputs": [
    {
     "name": "stdout",
     "output_type": "stream",
     "text": [
      "Welcome To My 2Nd World\n"
     ]
    }
   ],
   "source": [
    "## Make the first letter in each word upper case:\n",
    "\n",
    "txt = \"Welcome to my 2nd world\"\n",
    "\n",
    "x = txt.title()\n",
    "\n",
    "print(x)"
   ]
  },
  {
   "cell_type": "markdown",
   "id": "12933a02",
   "metadata": {},
   "source": [
    "## translate(table)\n",
    "\n",
    "The translate() method returns a string where some specified characters are replaced with the character described in a dictionary, or in a mapping table.\n",
    "\n",
    "Use the maketrans() method to create a mapping table.\n",
    "\n",
    "If a character is not specified in the dictionary/table, the character will not be replaced.\n",
    "\n",
    "If you use a dictionary, you must use ascii codes instead of characters."
   ]
  },
  {
   "cell_type": "code",
   "execution_count": 52,
   "id": "99d2b351",
   "metadata": {},
   "outputs": [
    {
     "name": "stdout",
     "output_type": "stream",
     "text": [
      "Hello Pam!\n"
     ]
    }
   ],
   "source": [
    "## Replace any \"S\" characters with a \"P\" character:\n",
    "\n",
    "#use a dictionary with ascii codes to replace 83 (S) with 80 (P):\n",
    "mydict = {83:  80}\n",
    "txt = \"Hello Sam!\"\n",
    "print(txt.translate(mydict))"
   ]
  },
  {
   "cell_type": "code",
   "execution_count": 53,
   "id": "5ed605c7",
   "metadata": {},
   "outputs": [
    {
     "name": "stdout",
     "output_type": "stream",
     "text": [
      "Hello Pam!\n"
     ]
    }
   ],
   "source": [
    "##Use a mapping table to replace \"S\" with \"P\":\n",
    "\n",
    "txt = \"Hello Sam!\"\n",
    "mytable = str.maketrans(\"S\", \"P\")\n",
    "print(txt.translate(mytable))"
   ]
  },
  {
   "cell_type": "code",
   "execution_count": 54,
   "id": "82313f41",
   "metadata": {},
   "outputs": [
    {
     "name": "stdout",
     "output_type": "stream",
     "text": [
      "Hi Joe!\n"
     ]
    }
   ],
   "source": [
    "##Use a mapping table to replace many characters:\n",
    "\n",
    "txt = \"Hi Sam!\"\n",
    "x = \"mSa\"\n",
    "y = \"eJo\"\n",
    "mytable = str.maketrans(x, y)\n",
    "print(txt.translate(mytable))"
   ]
  },
  {
   "cell_type": "code",
   "execution_count": 55,
   "id": "ac2515aa",
   "metadata": {},
   "outputs": [
    {
     "name": "stdout",
     "output_type": "stream",
     "text": [
      "G i Joe!\n"
     ]
    }
   ],
   "source": [
    "##The third parameter in the mapping table describes characters that you want to remove from the string:\n",
    "\n",
    "txt = \"Good night Sam!\"\n",
    "x = \"mSa\"\n",
    "y = \"eJo\"\n",
    "z = \"odnght\"\n",
    "mytable = str.maketrans(x, y, z)\n",
    "print(txt.translate(mytable))"
   ]
  },
  {
   "cell_type": "code",
   "execution_count": 56,
   "id": "377c7daa",
   "metadata": {},
   "outputs": [
    {
     "name": "stdout",
     "output_type": "stream",
     "text": [
      "G i Joe!\n"
     ]
    }
   ],
   "source": [
    "##The same example as above, but using a dictionary instead of a mapping table:\n",
    "\n",
    "txt = \"Good night Sam!\"\n",
    "mydict = {109: 101, 83: 74, 97: 111, 111: None, 100: None, 110: None, 103: None, 104: None, 116: None}\n",
    "print(txt.translate(mydict))"
   ]
  },
  {
   "cell_type": "markdown",
   "id": "e31b1bb6",
   "metadata": {},
   "source": [
    "## upper()\n",
    "\n",
    "The upper() method returns a string where all characters are in upper case.\n",
    "\n",
    "Symbols and Numbers are ignored."
   ]
  },
  {
   "cell_type": "code",
   "execution_count": 57,
   "id": "080410fb",
   "metadata": {},
   "outputs": [
    {
     "name": "stdout",
     "output_type": "stream",
     "text": [
      "HELLO MY FRIENDS\n"
     ]
    }
   ],
   "source": [
    "##Upper case the string:\n",
    "\n",
    "txt = \"Hello my friends\"\n",
    "\n",
    "x = txt.upper()\n",
    "\n",
    "print(x)"
   ]
  },
  {
   "cell_type": "markdown",
   "id": "26dbe838",
   "metadata": {},
   "source": [
    "## Zfill()\n",
    "\n",
    "The zfill() method adds zeros (0) at the beginning of the string, until it reaches the specified length.\n",
    "\n",
    "If the value of the len parameter is less than the length of the string, no filling is done."
   ]
  },
  {
   "cell_type": "code",
   "execution_count": 58,
   "id": "51c56659",
   "metadata": {},
   "outputs": [
    {
     "name": "stdout",
     "output_type": "stream",
     "text": [
      "0000000050\n"
     ]
    }
   ],
   "source": [
    "##Fill the string with zeros until it is 10 characters long:\n",
    "\n",
    "txt = \"50\"\n",
    "\n",
    "x = txt.zfill(10)\n",
    "\n",
    "print(x)"
   ]
  },
  {
   "cell_type": "code",
   "execution_count": 59,
   "id": "5d99c4cf",
   "metadata": {},
   "outputs": [
    {
     "name": "stdout",
     "output_type": "stream",
     "text": [
      "00000hello\n",
      "welcome to the jungle\n",
      "000010.000\n"
     ]
    }
   ],
   "source": [
    "##Fill the strings with zeros until they are 10 characters long:\n",
    "\n",
    "a = \"hello\"\n",
    "b = \"welcome to the jungle\"\n",
    "c = \"10.000\"\n",
    "\n",
    "print(a.zfill(10))\n",
    "print(b.zfill(10))\n",
    "print(c.zfill(10))"
   ]
  },
  {
   "cell_type": "code",
   "execution_count": null,
   "id": "cbd19c6f",
   "metadata": {},
   "outputs": [],
   "source": []
  }
 ],
 "metadata": {
  "kernelspec": {
   "display_name": "Python 3 (ipykernel)",
   "language": "python",
   "name": "python3"
  },
  "language_info": {
   "codemirror_mode": {
    "name": "ipython",
    "version": 3
   },
   "file_extension": ".py",
   "mimetype": "text/x-python",
   "name": "python",
   "nbconvert_exporter": "python",
   "pygments_lexer": "ipython3",
   "version": "3.9.13"
  }
 },
 "nbformat": 4,
 "nbformat_minor": 5
}
