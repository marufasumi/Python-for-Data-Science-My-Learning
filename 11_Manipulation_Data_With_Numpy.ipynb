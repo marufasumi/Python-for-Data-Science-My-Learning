{
 "cells": [
  {
   "cell_type": "markdown",
   "id": "0217971a",
   "metadata": {},
   "source": [
    "### Preprocessing with Numpy "
   ]
  },
  {
   "cell_type": "code",
   "execution_count": 3,
   "id": "4d3a4752",
   "metadata": {},
   "outputs": [],
   "source": [
    "import numpy as np"
   ]
  },
  {
   "cell_type": "markdown",
   "id": "08167672",
   "metadata": {},
   "source": [
    "#### Checking the missing values "
   ]
  },
  {
   "cell_type": "raw",
   "id": "495e667b",
   "metadata": {},
   "source": [
    "np.loadtxt()\n",
    "Outputs an error message when we try to call a text file with missing values in it\n",
    "\n",
    "np.isnan()\n",
    "Return an array with the same shape and size as the one we input\n",
    "Every individual element of the original array is replaced with a boolean(true/false)\n",
    "True =Missing value\n",
    "False = No missig value"
   ]
  },
  {
   "cell_type": "code",
   "execution_count": 3,
   "id": "0f51e459",
   "metadata": {},
   "outputs": [],
   "source": [
    "lending_co_data_numeric=np.loadtxt(\"Lending-Company-Numeric.csv\",delimiter=',')"
   ]
  },
  {
   "cell_type": "code",
   "execution_count": 5,
   "id": "82a449d6",
   "metadata": {},
   "outputs": [
    {
     "data": {
      "text/plain": [
       "array([[False, False, False, False, False, False],\n",
       "       [False, False, False, False, False, False],\n",
       "       [False, False, False, False, False, False],\n",
       "       ...,\n",
       "       [False, False, False, False, False, False],\n",
       "       [False, False, False, False, False, False],\n",
       "       [False, False, False, False, False, False]])"
      ]
     },
     "execution_count": 5,
     "metadata": {},
     "output_type": "execute_result"
    }
   ],
   "source": [
    "np.isnan(lending_co_data_numeric)"
   ]
  },
  {
   "cell_type": "raw",
   "id": "ee20e293",
   "metadata": {},
   "source": [
    "## .. means there are more rows\n",
    "true =1\n",
    "false =0\n",
    "If we add up all the individual values,(of the boolean array) the sum should equal to the total number of missing values in the original dataset"
   ]
  },
  {
   "cell_type": "code",
   "execution_count": 6,
   "id": "27e92caa",
   "metadata": {},
   "outputs": [
    {
     "data": {
      "text/plain": [
       "0"
      ]
     },
     "execution_count": 6,
     "metadata": {},
     "output_type": "execute_result"
    }
   ],
   "source": [
    "np.isnan(lending_co_data_numeric).sum() # 0 confirm our dataset has no missing value"
   ]
  },
  {
   "cell_type": "code",
   "execution_count": 11,
   "id": "1f22ac2b",
   "metadata": {},
   "outputs": [],
   "source": [
    "lending_co_data_numeric_NAN=np.genfromtxt(\"Lending-Company-Numeric-NAN.csv\",delimiter=';')"
   ]
  },
  {
   "cell_type": "code",
   "execution_count": 12,
   "id": "f6c42651",
   "metadata": {},
   "outputs": [
    {
     "data": {
      "text/plain": [
       "array([[False, False, False, False, False, False],\n",
       "       [False, False, False, False, False, False],\n",
       "       [False, False, False, False, False, False],\n",
       "       ...,\n",
       "       [ True, False, False, False, False, False],\n",
       "       [False, False, False, False, False, False],\n",
       "       [False, False, False, False, False, False]])"
      ]
     },
     "execution_count": 12,
     "metadata": {},
     "output_type": "execute_result"
    }
   ],
   "source": [
    "np.isnan(lending_co_data_numeric_NAN)"
   ]
  },
  {
   "cell_type": "code",
   "execution_count": 15,
   "id": "b45b8e2e",
   "metadata": {},
   "outputs": [
    {
     "data": {
      "text/plain": [
       "260"
      ]
     },
     "execution_count": 15,
     "metadata": {},
     "output_type": "execute_result"
    }
   ],
   "source": [
    "np.isnan(lending_co_data_numeric_NAN).sum() ## 260 missing value present in dataset"
   ]
  },
  {
   "cell_type": "code",
   "execution_count": 16,
   "id": "73877779",
   "metadata": {},
   "outputs": [],
   "source": [
    "lending_co_data_numeric_NAN=np.genfromtxt(\"Lending-Company-Numeric-NAN.csv\",delimiter=';', filling_values=0)"
   ]
  },
  {
   "cell_type": "code",
   "execution_count": 17,
   "id": "ff128f1b",
   "metadata": {},
   "outputs": [
    {
     "data": {
      "text/plain": [
       "0"
      ]
     },
     "execution_count": 17,
     "metadata": {},
     "output_type": "execute_result"
    }
   ],
   "source": [
    "np.isnan(lending_co_data_numeric_NAN).sum()"
   ]
  },
  {
   "cell_type": "code",
   "execution_count": 1,
   "id": "bbe93042",
   "metadata": {},
   "outputs": [],
   "source": [
    "# 0 cpuld be used to numerically represent something meaningful in our dataset\n",
    "#Try to fill missing values that aren't part of our dataset\n",
    "# by doing so we can later substitute all such values with sometrhing more appropriate\n",
    "# one approach to use a number greater than the highest value of the dataset : we can use nanmax()\n",
    "# For this we need to reload the dataset without 0"
   ]
  },
  {
   "cell_type": "code",
   "execution_count": 4,
   "id": "4465aa00",
   "metadata": {},
   "outputs": [],
   "source": [
    "lending_co_data_numeric_NAN=np.genfromtxt(\"Lending-Company-Numeric-NAN.csv\",delimiter=';')"
   ]
  },
  {
   "cell_type": "code",
   "execution_count": 6,
   "id": "4f387877",
   "metadata": {},
   "outputs": [],
   "source": [
    "temporary_fill= np.nanmax(lending_co_data_numeric_NAN).round(2)+1"
   ]
  },
  {
   "cell_type": "code",
   "execution_count": 8,
   "id": "077638b3",
   "metadata": {},
   "outputs": [],
   "source": [
    "lending_co_data_numeric_NAN=np.genfromtxt(\"Lending-Company-Numeric-NAN.csv\",delimiter=';', filling_values=temporary_fill)\n",
    "\n"
   ]
  },
  {
   "cell_type": "code",
   "execution_count": 9,
   "id": "b358c6b8",
   "metadata": {},
   "outputs": [
    {
     "data": {
      "text/plain": [
       "array([[False, False, False, False, False, False],\n",
       "       [False, False, False, False, False, False],\n",
       "       [False, False, False, False, False, False],\n",
       "       ...,\n",
       "       [False, False, False, False, False, False],\n",
       "       [False, False, False, False, False, False],\n",
       "       [False, False, False, False, False, False]])"
      ]
     },
     "execution_count": 9,
     "metadata": {},
     "output_type": "execute_result"
    }
   ],
   "source": [
    "np.isnan(lending_co_data_numeric_NAN)"
   ]
  },
  {
   "cell_type": "markdown",
   "id": "70981536",
   "metadata": {},
   "source": [
    "## Substitute Filler values"
   ]
  },
  {
   "cell_type": "raw",
   "id": "5bc655bc",
   "metadata": {},
   "source": [
    "Fill all the missing values with the mean\n",
    "This won't change the overall interpretation of the dataset\n",
    "All missing values would be considered average\n",
    "This approach always not valid but preferred approach"
   ]
  },
  {
   "cell_type": "code",
   "execution_count": 10,
   "id": "88091453",
   "metadata": {},
   "outputs": [
    {
     "data": {
      "text/plain": [
       "array([[ 2000.,    40.,   365.,  3121.,  4241., 13621.],\n",
       "       [ 2000.,    40.,   365.,  3061.,  4171., 15041.],\n",
       "       [ 1000.,    40.,   365.,  2160.,  3280., 15340.],\n",
       "       ...,\n",
       "       [   nan,    40.,   365.,  4201.,  5001., 16600.],\n",
       "       [ 1000.,    40.,   365.,  2080.,  3320., 15600.],\n",
       "       [ 2000.,    40.,   365.,  4601.,  4601., 16600.]])"
      ]
     },
     "execution_count": 10,
     "metadata": {},
     "output_type": "execute_result"
    }
   ],
   "source": [
    "lending_co_data_numeric_NAN=np.genfromtxt(\"Lending-Company-Numeric-NAN.csv\",delimiter=';')\n",
    "lending_co_data_numeric_NAN\n"
   ]
  },
  {
   "cell_type": "code",
   "execution_count": 11,
   "id": "78ec90ec",
   "metadata": {},
   "outputs": [],
   "source": [
    "temporary_mean =np.nanmean(lending_co_data_numeric_NAN, axis=0).round(2)# We want to keep track of the diffrent means beacuse \n",
    "# they  can cahnge after filling out the missing elements # mean for each row"
   ]
  },
  {
   "cell_type": "code",
   "execution_count": 20,
   "id": "c9529304",
   "metadata": {},
   "outputs": [
    {
     "data": {
      "text/plain": [
       "2250.25"
      ]
     },
     "execution_count": 20,
     "metadata": {},
     "output_type": "execute_result"
    }
   ],
   "source": [
    "temporary_mean [0]"
   ]
  },
  {
   "cell_type": "code",
   "execution_count": 16,
   "id": "f5f6a916",
   "metadata": {},
   "outputs": [],
   "source": [
    "temporary_fill= np.nanmax(lending_co_data_numeric_NAN).round(2)+1\n",
    "lending_co_data_numeric_NAN=np.genfromtxt(\"Lending-Company-Numeric-NAN.csv\",delimiter=';', filling_values=temporary_fill)\n"
   ]
  },
  {
   "cell_type": "code",
   "execution_count": 18,
   "id": "55dddbb0",
   "metadata": {},
   "outputs": [
    {
     "data": {
      "text/plain": [
       "64002.0"
      ]
     },
     "execution_count": 18,
     "metadata": {},
     "output_type": "execute_result"
    }
   ],
   "source": [
    "temporary_fill\n",
    "    "
   ]
  },
  {
   "cell_type": "code",
   "execution_count": 19,
   "id": "bc4051db",
   "metadata": {},
   "outputs": [
    {
     "data": {
      "text/plain": [
       "4263.25"
      ]
     },
     "execution_count": 19,
     "metadata": {},
     "output_type": "execute_result"
    }
   ],
   "source": [
    "np.mean(lending_co_data_numeric_NAN[:,0]).round(2)"
   ]
  },
  {
   "cell_type": "code",
   "execution_count": 21,
   "id": "fa718581",
   "metadata": {},
   "outputs": [
    {
     "data": {
      "text/plain": [
       "2250.25"
      ]
     },
     "execution_count": 21,
     "metadata": {},
     "output_type": "execute_result"
    }
   ],
   "source": [
    "temporary_mean [0]"
   ]
  },
  {
   "cell_type": "raw",
   "id": "53506b2a",
   "metadata": {},
   "source": [
    "np.where()\n",
    "We will try to substitute the NAN value with a value that will allign with the mean value of that column\n",
    "Whenever we add the mean of a set to itself, the mean of the new set stays the same"
   ]
  },
  {
   "cell_type": "code",
   "execution_count": 27,
   "id": "c9415280",
   "metadata": {},
   "outputs": [],
   "source": [
    "## This is the most logistic way to fill missing values\n",
    "\n",
    "lending_co_data_numeric_NAN[:,0]=np.where(lending_co_data_numeric_NAN[:,0]==temporary_fill,\n",
    "                                          temporary_mean[0],\n",
    "                                          lending_co_data_numeric_NAN[:,0])\n"
   ]
  },
  {
   "cell_type": "code",
   "execution_count": 28,
   "id": "787f2c6c",
   "metadata": {},
   "outputs": [
    {
     "data": {
      "text/plain": [
       "2250.25"
      ]
     },
     "execution_count": 28,
     "metadata": {},
     "output_type": "execute_result"
    }
   ],
   "source": [
    "# Whenever we add the mean of a set to itself, the mean of the new set stays the same\n",
    "np.mean(lending_co_data_numeric_NAN[:,0]).round(2)"
   ]
  },
  {
   "cell_type": "code",
   "execution_count": 32,
   "id": "d53b1e8b",
   "metadata": {},
   "outputs": [],
   "source": [
    "## Now we will use an iteration that goes thorugh all the columns of the dataset one by one \n",
    "# We write 1 here beacuse 1 gives us the number of columns while 0 gives us the number of rows\n",
    "for i in range(lending_co_data_numeric_NAN.shape[1]):\n",
    "    lending_co_data_numeric_NAN[:,i]=np.where(lending_co_data_numeric_NAN[:,i]==temporary_fill,\n",
    "                                          temporary_mean[i],\n",
    "                                          lending_co_data_numeric_NAN[:,i])\n"
   ]
  },
  {
   "cell_type": "code",
   "execution_count": 33,
   "id": "048bf411",
   "metadata": {},
   "outputs": [],
   "source": [
    "# np.where() can also be used to replace non missing value as well\n",
    "# e.g if we want to replace negative value\n",
    "for i in range(lending_co_data_numeric_NAN.shape[1]):\n",
    "    lending_co_data_numeric_NAN[:,i]=np.where(lending_co_data_numeric_NAN[:,i]<0,\n",
    "                                          0,\n",
    "                                          lending_co_data_numeric_NAN[:,i])\n",
    "\n"
   ]
  },
  {
   "cell_type": "markdown",
   "id": "2e1a4a1b",
   "metadata": {},
   "source": [
    "### RESHAPING ARRAYS"
   ]
  },
  {
   "cell_type": "code",
   "execution_count": 35,
   "id": "82736f08",
   "metadata": {},
   "outputs": [],
   "source": [
    "lending_co_data_numeric =np.loadtxt(\"Lending-company-Numeric.csv\", delimiter =',')"
   ]
  },
  {
   "cell_type": "code",
   "execution_count": 36,
   "id": "4fdb2041",
   "metadata": {},
   "outputs": [
    {
     "data": {
      "text/plain": [
       "array([[ 2000.,    40.,   365.,  3121.,  4241., 13621.],\n",
       "       [ 2000.,    40.,   365.,  3061.,  4171., 15041.],\n",
       "       [ 1000.,    40.,   365.,  2160.,  3280., 15340.],\n",
       "       ...,\n",
       "       [ 2000.,    40.,   365.,  4201.,  5001., 16600.],\n",
       "       [ 1000.,    40.,   365.,  2080.,  3320., 15600.],\n",
       "       [ 2000.,    40.,   365.,  4601.,  4601., 16600.]])"
      ]
     },
     "execution_count": 36,
     "metadata": {},
     "output_type": "execute_result"
    }
   ],
   "source": [
    "lending_co_data_numeric"
   ]
  },
  {
   "cell_type": "raw",
   "id": "2a414a0a",
   "metadata": {},
   "source": [
    "Why reshaping is useful?\n",
    "Certain condition about shapes and sizes need to be met\n",
    "Not always possible to store the outputs of a function as a part of an existing array(or series)\n",
    "There are certain restrictions to the shape we can give to an array, since we have a fixed amount of data available"
   ]
  },
  {
   "cell_type": "code",
   "execution_count": 37,
   "id": "deea7d16",
   "metadata": {},
   "outputs": [
    {
     "data": {
      "text/plain": [
       "(1043, 6)"
      ]
     },
     "execution_count": 37,
     "metadata": {},
     "output_type": "execute_result"
    }
   ],
   "source": [
    "lending_co_data_numeric.shape"
   ]
  },
  {
   "cell_type": "code",
   "execution_count": 38,
   "id": "3fbc42d5",
   "metadata": {},
   "outputs": [
    {
     "data": {
      "text/plain": [
       "array([[ 2000.,    40.,   365., ...,   365.,  1581.,  3041.],\n",
       "       [12277.,  2000.,    40., ...,    50.,   365.,  5350.],\n",
       "       [ 6850., 15150.,  1000., ...,  2000.,    40.,   365.],\n",
       "       [ 3101.,  4351., 16600., ..., 16600.,  2000.,    40.],\n",
       "       [  365.,  3441.,  4661., ...,  8450., 22250.,  2000.],\n",
       "       [   40.,   365.,  3701., ...,  4601.,  4601., 16600.]])"
      ]
     },
     "execution_count": 38,
     "metadata": {},
     "output_type": "execute_result"
    }
   ],
   "source": [
    "# flip the number of rows and column\n",
    "np.reshape(lending_co_data_numeric,(6,1043))"
   ]
  },
  {
   "cell_type": "code",
   "execution_count": 39,
   "id": "0db13dde",
   "metadata": {},
   "outputs": [
    {
     "data": {
      "text/plain": [
       "array([[ 2000.,  2000.,  1000., ...,  2000.,  1000.,  2000.],\n",
       "       [   40.,    40.,    40., ...,    40.,    40.,    40.],\n",
       "       [  365.,   365.,   365., ...,   365.,   365.,   365.],\n",
       "       [ 3121.,  3061.,  2160., ...,  4201.,  2080.,  4601.],\n",
       "       [ 4241.,  4171.,  3280., ...,  5001.,  3320.,  4601.],\n",
       "       [13621., 15041., 15340., ..., 16600., 15600., 16600.]])"
      ]
     },
     "execution_count": 39,
     "metadata": {},
     "output_type": "execute_result"
    }
   ],
   "source": [
    "#First row: The first 1043 values of the flattened array\n",
    "#Second row: The second 1043 values of the flattened array\n",
    "# norally np.transpose is used to flip the array\n",
    "\n",
    "np.transpose(lending_co_data_numeric)"
   ]
  },
  {
   "cell_type": "code",
   "execution_count": 40,
   "id": "0de106d2",
   "metadata": {},
   "outputs": [
    {
     "data": {
      "text/plain": [
       "array([[ 2000.,    40.,   365., ...,    50.,   365.,  5350.],\n",
       "       [ 6850., 15150.,  1000., ..., 16600.,  2000.,    40.],\n",
       "       [  365.,  3441.,  4661., ...,  4601.,  4601., 16600.]])"
      ]
     },
     "execution_count": 40,
     "metadata": {},
     "output_type": "execute_result"
    }
   ],
   "source": [
    "np.reshape(lending_co_data_numeric,(3,2086))  # (3*2086or any multiple)it should be equal to the multiple of (6*1043)"
   ]
  },
  {
   "cell_type": "code",
   "execution_count": 41,
   "id": "4ad7f5ed",
   "metadata": {},
   "outputs": [
    {
     "data": {
      "text/plain": [
       "array([[[ 2000.,    40.,   365., ...,   365.,  1581.,  3041.],\n",
       "        [12277.,  2000.,    40., ...,    50.,   365.,  5350.],\n",
       "        [ 6850., 15150.,  1000., ...,  2000.,    40.,   365.]],\n",
       "\n",
       "       [[ 3101.,  4351., 16600., ..., 16600.,  2000.,    40.],\n",
       "        [  365.,  3441.,  4661., ...,  8450., 22250.,  2000.],\n",
       "        [   40.,   365.,  3701., ...,  4601.,  4601., 16600.]]])"
      ]
     },
     "execution_count": 41,
     "metadata": {},
     "output_type": "execute_result"
    }
   ],
   "source": [
    "## Adding dimension: Useful when a method or function only takes inputs with a higher number of dimensions than the array \n",
    "#we want to plug in\n",
    "# Reshalping does not immediately alter the dataset \n",
    "\n",
    "np.reshape(lending_co_data_numeric,(2,3,1043))"
   ]
  },
  {
   "cell_type": "code",
   "execution_count": 42,
   "id": "da1d9bb5",
   "metadata": {},
   "outputs": [
    {
     "data": {
      "text/plain": [
       "array([[ 2000.,    40.,   365.,  3121.,  4241., 13621.],\n",
       "       [ 2000.,    40.,   365.,  3061.,  4171., 15041.],\n",
       "       [ 1000.,    40.,   365.,  2160.,  3280., 15340.],\n",
       "       ...,\n",
       "       [ 2000.,    40.,   365.,  4201.,  5001., 16600.],\n",
       "       [ 1000.,    40.,   365.,  2080.,  3320., 15600.],\n",
       "       [ 2000.,    40.,   365.,  4601.,  4601., 16600.]])"
      ]
     },
     "execution_count": 42,
     "metadata": {},
     "output_type": "execute_result"
    }
   ],
   "source": [
    "lending_co_data_numeric"
   ]
  },
  {
   "cell_type": "code",
   "execution_count": 43,
   "id": "181d6598",
   "metadata": {},
   "outputs": [
    {
     "data": {
      "text/plain": [
       "array([[ 2000.,    40.,   365., ...,   365.,  1581.,  3041.],\n",
       "       [12277.,  2000.,    40., ...,    50.,   365.,  5350.],\n",
       "       [ 6850., 15150.,  1000., ...,  2000.,    40.,   365.],\n",
       "       [ 3101.,  4351., 16600., ..., 16600.,  2000.,    40.],\n",
       "       [  365.,  3441.,  4661., ...,  8450., 22250.,  2000.],\n",
       "       [   40.,   365.,  3701., ...,  4601.,  4601., 16600.]])"
      ]
     },
     "execution_count": 43,
     "metadata": {},
     "output_type": "execute_result"
    }
   ],
   "source": [
    "# If we want to use rashaped array multiple times it's a good idea to store it first_2 =\n",
    "lending_co_data_numeric_2 =np.reshape(lending_co_data_numeric,(6,1043))\n",
    "lending_co_data_numeric_2"
   ]
  },
  {
   "cell_type": "markdown",
   "id": "f0d49cd0",
   "metadata": {},
   "source": [
    "### REMOVING VALUES"
   ]
  },
  {
   "cell_type": "code",
   "execution_count": 44,
   "id": "1d7b59f9",
   "metadata": {},
   "outputs": [],
   "source": [
    "lending_co_data_numeric =np.loadtxt(\"Lending-company-Numeric.csv\", delimiter =',')"
   ]
  },
  {
   "cell_type": "code",
   "execution_count": 45,
   "id": "c3c454f6",
   "metadata": {},
   "outputs": [
    {
     "data": {
      "text/plain": [
       "array([[ 2000.,    40.,   365.,  3121.,  4241., 13621.],\n",
       "       [ 2000.,    40.,   365.,  3061.,  4171., 15041.],\n",
       "       [ 1000.,    40.,   365.,  2160.,  3280., 15340.],\n",
       "       ...,\n",
       "       [ 2000.,    40.,   365.,  4201.,  5001., 16600.],\n",
       "       [ 1000.,    40.,   365.,  2080.,  3320., 15600.],\n",
       "       [ 2000.,    40.,   365.,  4601.,  4601., 16600.]])"
      ]
     },
     "execution_count": 45,
     "metadata": {},
     "output_type": "execute_result"
    }
   ],
   "source": [
    "lending_co_data_numeric"
   ]
  },
  {
   "cell_type": "code",
   "execution_count": 47,
   "id": "b7a2faca",
   "metadata": {},
   "outputs": [
    {
     "data": {
      "text/plain": [
       "(6257,)"
      ]
     },
     "execution_count": 47,
     "metadata": {},
     "output_type": "execute_result"
    }
   ],
   "source": [
    "np.delete(lending_co_data_numeric,0).shape # it will remove only the first value"
   ]
  },
  {
   "cell_type": "code",
   "execution_count": 48,
   "id": "93729ecb",
   "metadata": {},
   "outputs": [
    {
     "data": {
      "text/plain": [
       "6258"
      ]
     },
     "execution_count": 48,
     "metadata": {},
     "output_type": "execute_result"
    }
   ],
   "source": [
    "lending_co_data_numeric.size"
   ]
  },
  {
   "cell_type": "code",
   "execution_count": 49,
   "id": "701ea46b",
   "metadata": {},
   "outputs": [
    {
     "data": {
      "text/plain": [
       "array([[ 2000.,    40.,   365.,  3121.,  4241., 13621.],\n",
       "       [ 2000.,    40.,   365.,  3061.,  4171., 15041.],\n",
       "       [ 1000.,    40.,   365.,  2160.,  3280., 15340.],\n",
       "       ...,\n",
       "       [ 2000.,    40.,   365.,  4201.,  5001., 16600.],\n",
       "       [ 1000.,    40.,   365.,  2080.,  3320., 15600.],\n",
       "       [ 2000.,    40.,   365.,  4601.,  4601., 16600.]])"
      ]
     },
     "execution_count": 49,
     "metadata": {},
     "output_type": "execute_result"
    }
   ],
   "source": [
    "lending_co_data_numeric # if we want to work with new data after deleting we need to save it to a new variable"
   ]
  },
  {
   "cell_type": "code",
   "execution_count": 51,
   "id": "a0df182a",
   "metadata": {},
   "outputs": [],
   "source": [
    "# If we want to get rid of entire rows or column we can do it by passing value to the axis argument"
   ]
  },
  {
   "cell_type": "code",
   "execution_count": 52,
   "id": "30f6f7ed",
   "metadata": {},
   "outputs": [
    {
     "data": {
      "text/plain": [
       "array([[ 2000.,    40.,   365.,  3061.,  4171., 15041.],\n",
       "       [ 1000.,    40.,   365.,  2160.,  3280., 15340.],\n",
       "       [ 2000.,    40.,   365.,  3041.,  4241., 15321.],\n",
       "       ...,\n",
       "       [ 2000.,    40.,   365.,  4201.,  5001., 16600.],\n",
       "       [ 1000.,    40.,   365.,  2080.,  3320., 15600.],\n",
       "       [ 2000.,    40.,   365.,  4601.,  4601., 16600.]])"
      ]
     },
     "execution_count": 52,
     "metadata": {},
     "output_type": "execute_result"
    }
   ],
   "source": [
    "np.delete(lending_co_data_numeric,0, axis=0) # it will remove the first row of the matrix"
   ]
  },
  {
   "cell_type": "code",
   "execution_count": 53,
   "id": "0ef63675",
   "metadata": {},
   "outputs": [
    {
     "data": {
      "text/plain": [
       "array([[   40.,   365.,  3121.,  4241., 13621.],\n",
       "       [   40.,   365.,  3061.,  4171., 15041.],\n",
       "       [   40.,   365.,  2160.,  3280., 15340.],\n",
       "       ...,\n",
       "       [   40.,   365.,  4201.,  5001., 16600.],\n",
       "       [   40.,   365.,  2080.,  3320., 15600.],\n",
       "       [   40.,   365.,  4601.,  4601., 16600.]])"
      ]
     },
     "execution_count": 53,
     "metadata": {},
     "output_type": "execute_result"
    }
   ],
   "source": [
    "np.delete(lending_co_data_numeric,0, axis=1) # it will remove the first column of the matrix"
   ]
  },
  {
   "cell_type": "code",
   "execution_count": 54,
   "id": "96c75330",
   "metadata": {},
   "outputs": [
    {
     "data": {
      "text/plain": [
       "array([[ 2000.,   365.,  3121.,  4241., 13621.],\n",
       "       [ 2000.,   365.,  3061.,  4171., 15041.],\n",
       "       [ 1000.,   365.,  2160.,  3280., 15340.],\n",
       "       ...,\n",
       "       [ 2000.,   365.,  4201.,  5001., 16600.],\n",
       "       [ 1000.,   365.,  2080.,  3320., 15600.],\n",
       "       [ 2000.,   365.,  4601.,  4601., 16600.]])"
      ]
     },
     "execution_count": 54,
     "metadata": {},
     "output_type": "execute_result"
    }
   ],
   "source": [
    "np.delete(lending_co_data_numeric,1, axis=1) # it will remove the second column of the matrix"
   ]
  },
  {
   "cell_type": "code",
   "execution_count": 55,
   "id": "cb4f8933",
   "metadata": {},
   "outputs": [],
   "source": [
    "# To remove multile column we have to pass the value as a tuple/list"
   ]
  },
  {
   "cell_type": "code",
   "execution_count": 56,
   "id": "383c9e80",
   "metadata": {},
   "outputs": [
    {
     "data": {
      "text/plain": [
       "array([[  365.,  3121., 13621.],\n",
       "       [  365.,  3061., 15041.],\n",
       "       [  365.,  2160., 15340.],\n",
       "       ...,\n",
       "       [  365.,  4201., 16600.],\n",
       "       [  365.,  2080., 15600.],\n",
       "       [  365.,  4601., 16600.]])"
      ]
     },
     "execution_count": 56,
     "metadata": {},
     "output_type": "execute_result"
    }
   ],
   "source": [
    "np.delete(lending_co_data_numeric, (0,1,4), axis=1) # it will remove the 1st, 3rd and 5th column of the matrix"
   ]
  },
  {
   "cell_type": "code",
   "execution_count": 60,
   "id": "626ac1a1",
   "metadata": {},
   "outputs": [
    {
     "data": {
      "text/plain": [
       "array([[   40.,  3061., 15041.],\n",
       "       [   40.,  3041., 15321.],\n",
       "       [   50.,  3470., 13720.],\n",
       "       ...,\n",
       "       [   40.,  4240., 16600.],\n",
       "       [   40.,  4201., 16600.],\n",
       "       [   40.,  2080., 15600.]])"
      ]
     },
     "execution_count": 60,
     "metadata": {},
     "output_type": "execute_result"
    }
   ],
   "source": [
    "# To remove both rows and column simultaneously\n",
    "np.delete(np.delete(lending_co_data_numeric, [0,2,4], axis=1),[0,2,-1], axis =0)"
   ]
  },
  {
   "cell_type": "markdown",
   "id": "467e35e4",
   "metadata": {},
   "source": [
    "### Sorting Arrays "
   ]
  },
  {
   "cell_type": "raw",
   "id": "ac472ef1",
   "metadata": {},
   "source": [
    "np.sort() ndarray.sort()\n",
    "Takes an array and returns a sorted version(in ascending order)"
   ]
  },
  {
   "cell_type": "code",
   "execution_count": 64,
   "id": "10fe6a46",
   "metadata": {},
   "outputs": [],
   "source": [
    "import numpy as np"
   ]
  },
  {
   "cell_type": "code",
   "execution_count": 2,
   "id": "57133ad0",
   "metadata": {},
   "outputs": [],
   "source": [
    "lending_co_data_numeric =np.loadtxt(\"Lending-company-Numeric.csv\", delimiter =',')"
   ]
  },
  {
   "cell_type": "code",
   "execution_count": 3,
   "id": "9ffe3144",
   "metadata": {},
   "outputs": [
    {
     "data": {
      "text/plain": [
       "array([[ 2000.,    40.,   365.,  3121.,  4241., 13621.],\n",
       "       [ 2000.,    40.,   365.,  3061.,  4171., 15041.],\n",
       "       [ 1000.,    40.,   365.,  2160.,  3280., 15340.],\n",
       "       ...,\n",
       "       [ 2000.,    40.,   365.,  4201.,  5001., 16600.],\n",
       "       [ 1000.,    40.,   365.,  2080.,  3320., 15600.],\n",
       "       [ 2000.,    40.,   365.,  4601.,  4601., 16600.]])"
      ]
     },
     "execution_count": 3,
     "metadata": {},
     "output_type": "execute_result"
    }
   ],
   "source": [
    "lending_co_data_numeric"
   ]
  },
  {
   "cell_type": "code",
   "execution_count": 5,
   "id": "5a10f393",
   "metadata": {},
   "outputs": [
    {
     "data": {
      "text/plain": [
       "(1043, 6)"
      ]
     },
     "execution_count": 5,
     "metadata": {},
     "output_type": "execute_result"
    }
   ],
   "source": [
    "np.sort(lending_co_data_numeric).shape # without specifying any other arguments, default axis=-1"
   ]
  },
  {
   "cell_type": "code",
   "execution_count": 6,
   "id": "db189508",
   "metadata": {},
   "outputs": [
    {
     "data": {
      "text/plain": [
       "(1043, 6)"
      ]
     },
     "execution_count": 6,
     "metadata": {},
     "output_type": "execute_result"
    }
   ],
   "source": [
    "lending_co_data_numeric.shape # both arrays have the same shape"
   ]
  },
  {
   "cell_type": "code",
   "execution_count": 10,
   "id": "4bb949ac",
   "metadata": {},
   "outputs": [
    {
     "data": {
      "text/plain": [
       "array([[ 1000.,    35.,   365., -2870., -2870.,  -350.],\n",
       "       [ 1000.,    35.,   365., -2550., -2100.,   150.],\n",
       "       [ 1000.,    35.,   365., -2450., -2000.,  1100.],\n",
       "       ...,\n",
       "       [ 9000.,   125.,   365., 16751., 18751., 54625.],\n",
       "       [ 9000.,   165.,   365., 17650., 20001., 54625.],\n",
       "       [ 9000.,   165.,   365., 19001., 22001., 64001.]])"
      ]
     },
     "execution_count": 10,
     "metadata": {},
     "output_type": "execute_result"
    }
   ],
   "source": [
    "np.sort(lending_co_data_numeric, axis=0)"
   ]
  },
  {
   "cell_type": "code",
   "execution_count": 9,
   "id": "73fab6fa",
   "metadata": {},
   "outputs": [],
   "source": [
    "# we can tell numpy to refrain from using scientific notation\n",
    "np.set_printoptions(suppress=True) # This setting apply to our entire work rather than a single cell"
   ]
  },
  {
   "cell_type": "code",
   "execution_count": 11,
   "id": "49d60250",
   "metadata": {},
   "outputs": [
    {
     "data": {
      "text/plain": [
       "array([-2870., -2870., -2550., ..., 54625., 54625., 64001.])"
      ]
     },
     "execution_count": 11,
     "metadata": {},
     "output_type": "execute_result"
    }
   ],
   "source": [
    "np.sort(lending_co_data_numeric, axis=None) #axis =None informs the function to work with the flatted version of the 2-D input\n",
    "                                            # The flattened array is 1D then so is its sorted version"
   ]
  },
  {
   "cell_type": "code",
   "execution_count": 12,
   "id": "1a288bad",
   "metadata": {},
   "outputs": [],
   "source": [
    "#Numpy sort function doesn't have a parameter that automatically changes the order from increasing to decreasing"
   ]
  },
  {
   "cell_type": "code",
   "execution_count": 13,
   "id": "9a926c4b",
   "metadata": {},
   "outputs": [
    {
     "data": {
      "text/plain": [
       "array([[   40.,   365.,  2000.,  3121.,  4241., 13621.],\n",
       "       [   40.,   365.,  2000.,  3061.,  4171., 15041.],\n",
       "       [   40.,   365.,  1000.,  2160.,  3280., 15340.],\n",
       "       ...,\n",
       "       [   40.,   365.,  2000.,  4201.,  5001., 16600.],\n",
       "       [   40.,   365.,  1000.,  2080.,  3320., 15600.],\n",
       "       [   40.,   365.,  2000.,  4601.,  4601., 16600.]])"
      ]
     },
     "execution_count": 13,
     "metadata": {},
     "output_type": "execute_result"
    }
   ],
   "source": [
    "np.sort(lending_co_data_numeric)"
   ]
  },
  {
   "cell_type": "code",
   "execution_count": 14,
   "id": "1793b81c",
   "metadata": {},
   "outputs": [
    {
     "data": {
      "text/plain": [
       "array([[-13621.,  -4241.,  -3121.,  -2000.,   -365.,    -40.],\n",
       "       [-15041.,  -4171.,  -3061.,  -2000.,   -365.,    -40.],\n",
       "       [-15340.,  -3280.,  -2160.,  -1000.,   -365.,    -40.],\n",
       "       ...,\n",
       "       [-16600.,  -5001.,  -4201.,  -2000.,   -365.,    -40.],\n",
       "       [-15600.,  -3320.,  -2080.,  -1000.,   -365.,    -40.],\n",
       "       [-16600.,  -4601.,  -4601.,  -2000.,   -365.,    -40.]])"
      ]
     },
     "execution_count": 14,
     "metadata": {},
     "output_type": "execute_result"
    }
   ],
   "source": [
    "np.sort(-lending_co_data_numeric)# \"-\" literraly changes the sign of every individual element of the input variable\n",
    "                                # equivalent to muliplying by -1\n",
    "                                # The matrix we see in the screen isn't the origial array sorted in decreasing order\n",
    "                                # To do this we have to add another - sign"
   ]
  },
  {
   "cell_type": "code",
   "execution_count": 15,
   "id": "fd74f753",
   "metadata": {},
   "outputs": [
    {
     "data": {
      "text/plain": [
       "array([[13621.,  4241.,  3121.,  2000.,   365.,    40.],\n",
       "       [15041.,  4171.,  3061.,  2000.,   365.,    40.],\n",
       "       [15340.,  3280.,  2160.,  1000.,   365.,    40.],\n",
       "       ...,\n",
       "       [16600.,  5001.,  4201.,  2000.,   365.,    40.],\n",
       "       [15600.,  3320.,  2080.,  1000.,   365.,    40.],\n",
       "       [16600.,  4601.,  4601.,  2000.,   365.,    40.]])"
      ]
     },
     "execution_count": 15,
     "metadata": {},
     "output_type": "execute_result"
    }
   ],
   "source": [
    "-np.sort(-lending_co_data_numeric) # We have successfully sorted eaxh line of the initial matrix in Decending order"
   ]
  },
  {
   "cell_type": "code",
   "execution_count": 16,
   "id": "4f456a5d",
   "metadata": {},
   "outputs": [],
   "source": [
    "## For individal oclumn / row"
   ]
  },
  {
   "cell_type": "code",
   "execution_count": 17,
   "id": "244fbeca",
   "metadata": {},
   "outputs": [
    {
     "data": {
      "text/plain": [
       "array([[ 2000.,    40.,   365.,  3121.,  4241., 13621.],\n",
       "       [ 2000.,    40.,   365.,  3061.,  4171., 15041.],\n",
       "       [ 1000.,    40.,   365.,  2160.,  3280., 15340.],\n",
       "       ...,\n",
       "       [ 2000.,    40.,   365.,  4201.,  5001., 16600.],\n",
       "       [ 1000.,    40.,   365.,  2080.,  3320., 15600.],\n",
       "       [ 2000.,    40.,   365.,  4601.,  4601., 16600.]])"
      ]
     },
     "execution_count": 17,
     "metadata": {},
     "output_type": "execute_result"
    }
   ],
   "source": [
    "lending_co_data_numeric\n"
   ]
  },
  {
   "cell_type": "code",
   "execution_count": 18,
   "id": "4dd147eb",
   "metadata": {},
   "outputs": [
    {
     "data": {
      "text/plain": [
       "array([-2870., -2550., -2450., ..., 16751., 17650., 19001.])"
      ]
     },
     "execution_count": 18,
     "metadata": {},
     "output_type": "execute_result"
    }
   ],
   "source": [
    "np.sort(lending_co_data_numeric[:,3]) # sorting only 4th column , this does not overwrite the original array"
   ]
  },
  {
   "cell_type": "code",
   "execution_count": 19,
   "id": "df06b00f",
   "metadata": {},
   "outputs": [],
   "source": [
    "lending_co_data_numeric[:,3].sort() # This way overwrite the original array"
   ]
  },
  {
   "cell_type": "code",
   "execution_count": 20,
   "id": "c532ceeb",
   "metadata": {},
   "outputs": [
    {
     "data": {
      "text/plain": [
       "array([[ 2000.,    40.,   365., -2870.,  4241., 13621.],\n",
       "       [ 2000.,    40.,   365., -2550.,  4171., 15041.],\n",
       "       [ 1000.,    40.,   365., -2450.,  3280., 15340.],\n",
       "       ...,\n",
       "       [ 2000.,    40.,   365., 16751.,  5001., 16600.],\n",
       "       [ 1000.,    40.,   365., 17650.,  3320., 15600.],\n",
       "       [ 2000.,    40.,   365., 19001.,  4601., 16600.]])"
      ]
     },
     "execution_count": 20,
     "metadata": {},
     "output_type": "execute_result"
    }
   ],
   "source": [
    "lending_co_data_numeric"
   ]
  },
  {
   "cell_type": "code",
   "execution_count": 21,
   "id": "ca77559b",
   "metadata": {},
   "outputs": [],
   "source": [
    "lending_co_data_numeric.sort(axis=0) # To sort entire dataset"
   ]
  },
  {
   "cell_type": "code",
   "execution_count": 22,
   "id": "e38818ef",
   "metadata": {},
   "outputs": [
    {
     "data": {
      "text/plain": [
       "array([[ 1000.,    35.,   365., -2870., -2870.,  -350.],\n",
       "       [ 1000.,    35.,   365., -2550., -2100.,   150.],\n",
       "       [ 1000.,    35.,   365., -2450., -2000.,  1100.],\n",
       "       ...,\n",
       "       [ 9000.,   125.,   365., 16751., 18751., 54625.],\n",
       "       [ 9000.,   165.,   365., 17650., 20001., 54625.],\n",
       "       [ 9000.,   165.,   365., 19001., 22001., 64001.]])"
      ]
     },
     "execution_count": 22,
     "metadata": {},
     "output_type": "execute_result"
    }
   ],
   "source": [
    "lending_co_data_numeric"
   ]
  },
  {
   "cell_type": "markdown",
   "id": "7fb553fb",
   "metadata": {},
   "source": [
    "## Argument Function"
   ]
  },
  {
   "cell_type": "raw",
   "id": "7ce07af8",
   "metadata": {},
   "source": [
    "np.argsort()"
   ]
  },
  {
   "cell_type": "code",
   "execution_count": 23,
   "id": "24a881d7",
   "metadata": {},
   "outputs": [],
   "source": [
    "lending_co_data_numeric =np.loadtxt(\"Lending-company-Numeric.csv\", delimiter =',')"
   ]
  },
  {
   "cell_type": "code",
   "execution_count": 24,
   "id": "27ed8be8",
   "metadata": {},
   "outputs": [
    {
     "data": {
      "text/plain": [
       "array([[ 2000.,    40.,   365.,  3121.,  4241., 13621.],\n",
       "       [ 2000.,    40.,   365.,  3061.,  4171., 15041.],\n",
       "       [ 1000.,    40.,   365.,  2160.,  3280., 15340.],\n",
       "       ...,\n",
       "       [ 2000.,    40.,   365.,  4201.,  5001., 16600.],\n",
       "       [ 1000.,    40.,   365.,  2080.,  3320., 15600.],\n",
       "       [ 2000.,    40.,   365.,  4601.,  4601., 16600.]])"
      ]
     },
     "execution_count": 24,
     "metadata": {},
     "output_type": "execute_result"
    }
   ],
   "source": [
    "lending_co_data_numeric"
   ]
  },
  {
   "cell_type": "code",
   "execution_count": 25,
   "id": "49f753f1",
   "metadata": {},
   "outputs": [
    {
     "data": {
      "text/plain": [
       "array([[1, 2, 0, 3, 4, 5],\n",
       "       [1, 2, 0, 3, 4, 5],\n",
       "       [1, 2, 0, 3, 4, 5],\n",
       "       ...,\n",
       "       [1, 2, 0, 3, 4, 5],\n",
       "       [1, 2, 0, 3, 4, 5],\n",
       "       [1, 2, 0, 3, 4, 5]], dtype=int64)"
      ]
     },
     "execution_count": 25,
     "metadata": {},
     "output_type": "execute_result"
    }
   ],
   "source": [
    "np.argsort(lending_co_data_numeric)"
   ]
  },
  {
   "cell_type": "code",
   "execution_count": 26,
   "id": "246c64f7",
   "metadata": {},
   "outputs": [
    {
     "data": {
      "text/plain": [
       "array([[   40.,   365.,  2000.,  3121.,  4241., 13621.],\n",
       "       [   40.,   365.,  2000.,  3061.,  4171., 15041.],\n",
       "       [   40.,   365.,  1000.,  2160.,  3280., 15340.],\n",
       "       ...,\n",
       "       [   40.,   365.,  2000.,  4201.,  5001., 16600.],\n",
       "       [   40.,   365.,  1000.,  2080.,  3320., 15600.],\n",
       "       [   40.,   365.,  2000.,  4601.,  4601., 16600.]])"
      ]
     },
     "execution_count": 26,
     "metadata": {},
     "output_type": "execute_result"
    }
   ],
   "source": [
    "np.sort(lending_co_data_numeric)"
   ]
  },
  {
   "cell_type": "code",
   "execution_count": 27,
   "id": "27b9fa0b",
   "metadata": {},
   "outputs": [
    {
     "data": {
      "text/plain": [
       "array([[ 537,  443,    0,   32,   32,  482],\n",
       "       [ 639,  327,  687,  166,  166,  493],\n",
       "       [ 849,  432,  688,   85,   85,  166],\n",
       "       ...,\n",
       "       [  27,  326,  355,  568, 1019,  568],\n",
       "       [ 277,   27,  357,  718, 1033,  534],\n",
       "       [ 420,  408, 1042,  912,  912,   27]], dtype=int64)"
      ]
     },
     "execution_count": 27,
     "metadata": {},
     "output_type": "execute_result"
    }
   ],
   "source": [
    "np.argsort(lending_co_data_numeric, axis=0)"
   ]
  },
  {
   "cell_type": "code",
   "execution_count": 28,
   "id": "bfe44411",
   "metadata": {},
   "outputs": [
    {
     "data": {
      "text/plain": [
       "-350.0"
      ]
     },
     "execution_count": 28,
     "metadata": {},
     "output_type": "execute_result"
    }
   ],
   "source": [
    "lending_co_data_numeric[482,5]"
   ]
  },
  {
   "cell_type": "code",
   "execution_count": 29,
   "id": "925e8c8a",
   "metadata": {},
   "outputs": [
    {
     "data": {
      "text/plain": [
       "array([[ 1000.,    35.,   365., -2870., -2870.,  -350.],\n",
       "       [ 1000.,    35.,   365., -2550., -2100.,   150.],\n",
       "       [ 1000.,    35.,   365., -2450., -2000.,  1100.],\n",
       "       ...,\n",
       "       [ 9000.,   125.,   365., 16751., 18751., 54625.],\n",
       "       [ 9000.,   165.,   365., 17650., 20001., 54625.],\n",
       "       [ 9000.,   165.,   365., 19001., 22001., 64001.]])"
      ]
     },
     "execution_count": 29,
     "metadata": {},
     "output_type": "execute_result"
    }
   ],
   "source": [
    "np.sort(lending_co_data_numeric, axis=0)"
   ]
  },
  {
   "cell_type": "code",
   "execution_count": 30,
   "id": "77aea78a",
   "metadata": {},
   "outputs": [
    {
     "data": {
      "text/plain": [
       "array([537, 639, 849, ...,  27, 277, 420], dtype=int64)"
      ]
     },
     "execution_count": 30,
     "metadata": {},
     "output_type": "execute_result"
    }
   ],
   "source": [
    "np.argsort(lending_co_data_numeric[:,0])"
   ]
  },
  {
   "cell_type": "code",
   "execution_count": 32,
   "id": "56c55ad5",
   "metadata": {},
   "outputs": [
    {
     "data": {
      "text/plain": [
       "array([[ 1000.,    40.,   365.,  2200.,  3400., 15600.],\n",
       "       [ 1000.,    40.,   365.,  2240.,  3680., 15600.],\n",
       "       [ 1000.,    40.,   365.,  2575.,  3635., 15600.],\n",
       "       ...,\n",
       "       [ 9000.,   125.,   365., 13001., 16726., 54625.],\n",
       "       [ 9000.,   125.,   365., 10001., 10501., 24126.],\n",
       "       [ 9000.,   125.,   365., 12251., 14251., 25626.]])"
      ]
     },
     "execution_count": 32,
     "metadata": {},
     "output_type": "execute_result"
    }
   ],
   "source": [
    "lending_co_data_numeric = lending_co_data_numeric[np.argsort(lending_co_data_numeric[:,0])]\n",
    "lending_co_data_numeric # Successfully rearranged all the values based on the first position"
   ]
  },
  {
   "cell_type": "code",
   "execution_count": 33,
   "id": "24eee561",
   "metadata": {},
   "outputs": [
    {
     "data": {
      "text/plain": [
       "array([[   0,  216,    0,  106,  106,   18],\n",
       "       [ 155,  130,  687,  145,  145,    6],\n",
       "       [ 156,  176,  688,   15,   15,  145],\n",
       "       ...,\n",
       "       [1022, 1042,  355, 1038, 1026, 1040],\n",
       "       [1031, 1024,  357,  871, 1033, 1033],\n",
       "       [1042, 1023, 1042, 1035, 1035, 1023]], dtype=int64)"
      ]
     },
     "execution_count": 33,
     "metadata": {},
     "output_type": "execute_result"
    }
   ],
   "source": [
    "lending_co_data_numeric.argsort(axis=0)"
   ]
  },
  {
   "cell_type": "code",
   "execution_count": 34,
   "id": "b264867b",
   "metadata": {},
   "outputs": [
    {
     "data": {
      "text/plain": [
       "array([[ 1000.,    40.,   365.,  2200.,  3400., 15600.],\n",
       "       [ 1000.,    40.,   365.,  2240.,  3680., 15600.],\n",
       "       [ 1000.,    40.,   365.,  2575.,  3635., 15600.],\n",
       "       ...,\n",
       "       [ 9000.,   125.,   365., 13001., 16726., 54625.],\n",
       "       [ 9000.,   125.,   365., 10001., 10501., 24126.],\n",
       "       [ 9000.,   125.,   365., 12251., 14251., 25626.]])"
      ]
     },
     "execution_count": 34,
     "metadata": {},
     "output_type": "execute_result"
    }
   ],
   "source": [
    "lending_co_data_numeric"
   ]
  },
  {
   "cell_type": "markdown",
   "id": "aa6e1b58",
   "metadata": {},
   "source": [
    "### Argument Function _ WHERE "
   ]
  },
  {
   "cell_type": "raw",
   "id": "611c534b",
   "metadata": {},
   "source": [
    "np.argwhere()\n",
    "Function that return \"coordinates\" within an array are called argument function\n",
    "This function goes over the entire NDarray and checks whether the individual elements satisfy a given condition\n",
    "The output are the indices for all the individual elements where the condition is met\n",
    "The first column represents the row index and the second column represents the column index\n",
    "The default condition is to check for values diffrent from zero"
   ]
  },
  {
   "cell_type": "code",
   "execution_count": 35,
   "id": "44eb7f4b",
   "metadata": {},
   "outputs": [],
   "source": [
    "lending_co_data_numeric =np.loadtxt(\"Lending-company-Numeric.csv\", delimiter =',')"
   ]
  },
  {
   "cell_type": "code",
   "execution_count": 36,
   "id": "7a73d7c9",
   "metadata": {},
   "outputs": [
    {
     "data": {
      "text/plain": [
       "array([[ 2000.,    40.,   365.,  3121.,  4241., 13621.],\n",
       "       [ 2000.,    40.,   365.,  3061.,  4171., 15041.],\n",
       "       [ 1000.,    40.,   365.,  2160.,  3280., 15340.],\n",
       "       ...,\n",
       "       [ 2000.,    40.,   365.,  4201.,  5001., 16600.],\n",
       "       [ 1000.,    40.,   365.,  2080.,  3320., 15600.],\n",
       "       [ 2000.,    40.,   365.,  4601.,  4601., 16600.]])"
      ]
     },
     "execution_count": 36,
     "metadata": {},
     "output_type": "execute_result"
    }
   ],
   "source": [
    "lending_co_data_numeric"
   ]
  },
  {
   "cell_type": "code",
   "execution_count": 37,
   "id": "f431b0c0",
   "metadata": {},
   "outputs": [
    {
     "data": {
      "text/plain": [
       "array([[   0,    0],\n",
       "       [   0,    1],\n",
       "       [   0,    2],\n",
       "       ...,\n",
       "       [1042,    3],\n",
       "       [1042,    4],\n",
       "       [1042,    5]], dtype=int64)"
      ]
     },
     "execution_count": 37,
     "metadata": {},
     "output_type": "execute_result"
    }
   ],
   "source": [
    "np.argwhere(lending_co_data_numeric)"
   ]
  },
  {
   "cell_type": "code",
   "execution_count": 38,
   "id": "45c88fad",
   "metadata": {},
   "outputs": [
    {
     "data": {
      "text/plain": [
       "array([[116,   4],\n",
       "       [430,   3]], dtype=int64)"
      ]
     },
     "execution_count": 38,
     "metadata": {},
     "output_type": "execute_result"
    }
   ],
   "source": [
    "np.argwhere(lending_co_data_numeric==False) # This will find the location of zero in the dataset"
   ]
  },
  {
   "cell_type": "code",
   "execution_count": 39,
   "id": "8be7f823",
   "metadata": {},
   "outputs": [
    {
     "data": {
      "text/plain": [
       "array([ 1000.,    50.,   365., -1450.,     0., 13850.])"
      ]
     },
     "execution_count": 39,
     "metadata": {},
     "output_type": "execute_result"
    }
   ],
   "source": [
    "lending_co_data_numeric[116]"
   ]
  },
  {
   "cell_type": "code",
   "execution_count": 40,
   "id": "a800b623",
   "metadata": {},
   "outputs": [
    {
     "data": {
      "text/plain": [
       "array([1000.,   50.,  365.,    0.,  550., 5650.])"
      ]
     },
     "execution_count": 40,
     "metadata": {},
     "output_type": "execute_result"
    }
   ],
   "source": [
    "lending_co_data_numeric[430]"
   ]
  },
  {
   "cell_type": "code",
   "execution_count": 41,
   "id": "f509a1b0",
   "metadata": {},
   "outputs": [
    {
     "data": {
      "text/plain": [
       "array([[ 2000.,    40.,   365.,  3121.,  4241., 13621.],\n",
       "       [ 2000.,    40.,   365.,  3061.,  4171., 15041.],\n",
       "       [ 1000.,    40.,   365.,  2160.,  3280., 15340.],\n",
       "       ...,\n",
       "       [ 2000.,    40.,   365.,  4201.,  5001., 16600.],\n",
       "       [ 1000.,    40.,   365.,  2080.,  3320., 15600.],\n",
       "       [ 2000.,    40.,   365.,  4601.,  4601., 16600.]])"
      ]
     },
     "execution_count": 41,
     "metadata": {},
     "output_type": "execute_result"
    }
   ],
   "source": [
    "lending_co_data_numeric"
   ]
  },
  {
   "cell_type": "code",
   "execution_count": 42,
   "id": "de83a0f4",
   "metadata": {},
   "outputs": [
    {
     "data": {
      "text/plain": [
       "array([[   0,    0],\n",
       "       [   0,    3],\n",
       "       [   0,    4],\n",
       "       ...,\n",
       "       [1042,    3],\n",
       "       [1042,    4],\n",
       "       [1042,    5]], dtype=int64)"
      ]
     },
     "execution_count": 42,
     "metadata": {},
     "output_type": "execute_result"
    }
   ],
   "source": [
    "np.argwhere(lending_co_data_numeric>1000)"
   ]
  },
  {
   "cell_type": "code",
   "execution_count": 43,
   "id": "62a811e8",
   "metadata": {},
   "outputs": [
    {
     "data": {
      "text/plain": [
       "array([[   0,    1],\n",
       "       [   0,    2],\n",
       "       [   1,    1],\n",
       "       ...,\n",
       "       [1041,    2],\n",
       "       [1042,    1],\n",
       "       [1042,    2]], dtype=int64)"
      ]
     },
     "execution_count": 43,
     "metadata": {},
     "output_type": "execute_result"
    }
   ],
   "source": [
    "np.argwhere(lending_co_data_numeric<1000)"
   ]
  },
  {
   "cell_type": "code",
   "execution_count": 44,
   "id": "39f5fe68",
   "metadata": {},
   "outputs": [
    {
     "data": {
      "text/plain": [
       "array([[   0,    0],\n",
       "       [   0,    1],\n",
       "       [   1,    0],\n",
       "       ...,\n",
       "       [1042,    0],\n",
       "       [1042,    1],\n",
       "       [1042,    5]], dtype=int64)"
      ]
     },
     "execution_count": 44,
     "metadata": {},
     "output_type": "execute_result"
    }
   ],
   "source": [
    "np.argwhere(lending_co_data_numeric%2==0)"
   ]
  },
  {
   "cell_type": "code",
   "execution_count": 46,
   "id": "99fd6b69",
   "metadata": {},
   "outputs": [],
   "source": [
    "# We can use this function to separate only the elements that interest us and examine just them\n",
    "#This function is very similar to the filtering relatd to ocnditional slicing\n",
    "#Slicing gives us the actual values\n",
    "#np.argwhere() returns their coordinates within the array"
   ]
  },
  {
   "cell_type": "code",
   "execution_count": 47,
   "id": "907b7396",
   "metadata": {},
   "outputs": [
    {
     "data": {
      "text/plain": [
       "0"
      ]
     },
     "execution_count": 47,
     "metadata": {},
     "output_type": "execute_result"
    }
   ],
   "source": [
    "np.isnan(lending_co_data_numeric).sum() "
   ]
  },
  {
   "cell_type": "code",
   "execution_count": 50,
   "id": "563f4eae",
   "metadata": {},
   "outputs": [
    {
     "data": {
      "text/plain": [
       "array([[ 2000.,    40.,   365.,  3121.,  4241., 13621.],\n",
       "       [ 2000.,    40.,   365.,  3061.,  4171., 15041.],\n",
       "       [ 1000.,    40.,   365.,  2160.,  3280., 15340.],\n",
       "       ...,\n",
       "       [   nan,    40.,   365.,  4201.,  5001., 16600.],\n",
       "       [ 1000.,    40.,   365.,  2080.,  3320., 15600.],\n",
       "       [ 2000.,    40.,   365.,  4601.,  4601., 16600.]])"
      ]
     },
     "execution_count": 50,
     "metadata": {},
     "output_type": "execute_result"
    }
   ],
   "source": [
    "Lending_Company_Numeric_Data_NAN = np.genfromtxt(\"Lending-Company-Numeric-Data-NAN.csv\", delimiter=';')\n",
    "Lending_Company_Numeric_Data_NAN"
   ]
  },
  {
   "cell_type": "code",
   "execution_count": 51,
   "id": "dbd259e9",
   "metadata": {},
   "outputs": [
    {
     "data": {
      "text/plain": [
       "array([[False, False, False, False, False, False],\n",
       "       [False, False, False, False, False, False],\n",
       "       [False, False, False, False, False, False],\n",
       "       ...,\n",
       "       [ True, False, False, False, False, False],\n",
       "       [False, False, False, False, False, False],\n",
       "       [False, False, False, False, False, False]])"
      ]
     },
     "execution_count": 51,
     "metadata": {},
     "output_type": "execute_result"
    }
   ],
   "source": [
    "np.isnan(Lending_Company_Numeric_Data_NAN)"
   ]
  },
  {
   "cell_type": "raw",
   "id": "278329f8",
   "metadata": {},
   "source": [
    "# False =0 , The coordinates for all the missing elements of the array\n",
    "#This will provide a 2-D array with all the coordinates of the missing values\n",
    "# With the help of a single iteration we can fill all these values out\n",
    "# We will use the structure of a very simple for loop\n",
    "np.argwhere(np.isnan(Lending_Company_Numeric_Data_NAN))"
   ]
  },
  {
   "cell_type": "code",
   "execution_count": 56,
   "id": "3bfe6f6b",
   "metadata": {},
   "outputs": [
    {
     "data": {
      "text/plain": [
       "array([[  11,    3],\n",
       "       [  15,    3],\n",
       "       [  27,    3],\n",
       "       [  58,    3],\n",
       "       [  60,    4],\n",
       "       [  85,    4],\n",
       "       [ 117,    5],\n",
       "       [ 152,    1],\n",
       "       [ 152,    2],\n",
       "       [ 152,    4],\n",
       "       [ 172,    1],\n",
       "       [ 175,    1],\n",
       "       [ 175,    2],\n",
       "       [ 176,    3],\n",
       "       [ 177,    4],\n",
       "       [ 178,    5],\n",
       "       [ 211,    3],\n",
       "       [ 229,    0],\n",
       "       [ 230,    1],\n",
       "       [ 237,    1],\n",
       "       [ 247,    3],\n",
       "       [ 251,    5],\n",
       "       [ 252,    4],\n",
       "       [ 258,    1],\n",
       "       [ 260,    3],\n",
       "       [ 262,    4],\n",
       "       [ 271,    5],\n",
       "       [ 272,    4],\n",
       "       [ 284,    2],\n",
       "       [ 284,    3],\n",
       "       [ 297,    1],\n",
       "       [ 297,    2],\n",
       "       [ 300,    3],\n",
       "       [ 315,    3],\n",
       "       [ 315,    5],\n",
       "       [ 327,    4],\n",
       "       [ 336,    4],\n",
       "       [ 343,    0],\n",
       "       [ 344,    2],\n",
       "       [ 346,    2],\n",
       "       [ 363,    3],\n",
       "       [ 375,    3],\n",
       "       [ 377,    2],\n",
       "       [ 398,    5],\n",
       "       [ 416,    4],\n",
       "       [ 428,    0],\n",
       "       [ 432,    1],\n",
       "       [ 433,    3],\n",
       "       [ 434,    2],\n",
       "       [ 440,    3],\n",
       "       [ 441,    1],\n",
       "       [ 446,    2],\n",
       "       [ 455,    1],\n",
       "       [ 456,    2],\n",
       "       [ 458,    2],\n",
       "       [ 461,    3],\n",
       "       [ 467,    4],\n",
       "       [ 468,    0],\n",
       "       [ 469,    3],\n",
       "       [ 470,    0],\n",
       "       [ 481,    1],\n",
       "       [ 482,    3],\n",
       "       [ 484,    4],\n",
       "       [ 489,    0],\n",
       "       [ 493,    5],\n",
       "       [ 499,    0],\n",
       "       [ 504,    3],\n",
       "       [ 506,    1],\n",
       "       [ 517,    4],\n",
       "       [ 518,    0],\n",
       "       [ 521,    2],\n",
       "       [ 530,    5],\n",
       "       [ 532,    3],\n",
       "       [ 534,    5],\n",
       "       [ 547,    3],\n",
       "       [ 549,    5],\n",
       "       [ 553,    5],\n",
       "       [ 554,    5],\n",
       "       [ 559,    3],\n",
       "       [ 566,    0],\n",
       "       [ 566,    1],\n",
       "       [ 566,    2],\n",
       "       [ 567,    0],\n",
       "       [ 567,    1],\n",
       "       [ 567,    2],\n",
       "       [ 581,    1],\n",
       "       [ 581,    2],\n",
       "       [ 582,    1],\n",
       "       [ 582,    2],\n",
       "       [ 583,    1],\n",
       "       [ 583,    2],\n",
       "       [ 593,    3],\n",
       "       [ 594,    3],\n",
       "       [ 595,    3],\n",
       "       [ 596,    3],\n",
       "       [ 609,    4],\n",
       "       [ 609,    5],\n",
       "       [ 610,    4],\n",
       "       [ 610,    5],\n",
       "       [ 611,    4],\n",
       "       [ 611,    5],\n",
       "       [ 612,    4],\n",
       "       [ 612,    5],\n",
       "       [ 623,    2],\n",
       "       [ 623,    3],\n",
       "       [ 624,    2],\n",
       "       [ 624,    3],\n",
       "       [ 625,    2],\n",
       "       [ 625,    3],\n",
       "       [ 626,    2],\n",
       "       [ 626,    3],\n",
       "       [ 627,    2],\n",
       "       [ 627,    3],\n",
       "       [ 636,    0],\n",
       "       [ 637,    0],\n",
       "       [ 637,    4],\n",
       "       [ 637,    5],\n",
       "       [ 638,    0],\n",
       "       [ 638,    4],\n",
       "       [ 638,    5],\n",
       "       [ 639,    4],\n",
       "       [ 639,    5],\n",
       "       [ 640,    4],\n",
       "       [ 640,    5],\n",
       "       [ 641,    4],\n",
       "       [ 641,    5],\n",
       "       [ 653,    1],\n",
       "       [ 653,    2],\n",
       "       [ 653,    3],\n",
       "       [ 653,    4],\n",
       "       [ 654,    1],\n",
       "       [ 654,    2],\n",
       "       [ 654,    3],\n",
       "       [ 654,    4],\n",
       "       [ 655,    1],\n",
       "       [ 655,    2],\n",
       "       [ 655,    3],\n",
       "       [ 655,    4],\n",
       "       [ 685,    2],\n",
       "       [ 686,    0],\n",
       "       [ 701,    4],\n",
       "       [ 704,    2],\n",
       "       [ 724,    1],\n",
       "       [ 724,    2],\n",
       "       [ 730,    1],\n",
       "       [ 730,    2],\n",
       "       [ 730,    3],\n",
       "       [ 731,    1],\n",
       "       [ 731,    2],\n",
       "       [ 731,    3],\n",
       "       [ 732,    1],\n",
       "       [ 732,    2],\n",
       "       [ 732,    3],\n",
       "       [ 733,    1],\n",
       "       [ 733,    2],\n",
       "       [ 733,    3],\n",
       "       [ 742,    4],\n",
       "       [ 747,    3],\n",
       "       [ 755,    1],\n",
       "       [ 758,    1],\n",
       "       [ 760,    1],\n",
       "       [ 764,    0],\n",
       "       [ 764,    1],\n",
       "       [ 764,    2],\n",
       "       [ 764,    3],\n",
       "       [ 764,    4],\n",
       "       [ 764,    5],\n",
       "       [ 765,    3],\n",
       "       [ 775,    1],\n",
       "       [ 775,    2],\n",
       "       [ 775,    3],\n",
       "       [ 776,    1],\n",
       "       [ 776,    2],\n",
       "       [ 776,    3],\n",
       "       [ 777,    1],\n",
       "       [ 777,    2],\n",
       "       [ 777,    3],\n",
       "       [ 778,    1],\n",
       "       [ 778,    2],\n",
       "       [ 778,    3],\n",
       "       [ 787,    4],\n",
       "       [ 788,    1],\n",
       "       [ 790,    2],\n",
       "       [ 794,    3],\n",
       "       [ 795,    5],\n",
       "       [ 796,    1],\n",
       "       [ 796,    4],\n",
       "       [ 800,    0],\n",
       "       [ 801,    1],\n",
       "       [ 802,    1],\n",
       "       [ 803,    2],\n",
       "       [ 805,    0],\n",
       "       [ 809,    0],\n",
       "       [ 810,    0],\n",
       "       [ 811,    0],\n",
       "       [ 812,    1],\n",
       "       [ 820,    0],\n",
       "       [ 820,    3],\n",
       "       [ 820,    4],\n",
       "       [ 822,    2],\n",
       "       [ 823,    2],\n",
       "       [ 825,    0],\n",
       "       [ 830,    1],\n",
       "       [ 830,    2],\n",
       "       [ 836,    3],\n",
       "       [ 837,    3],\n",
       "       [ 838,    3],\n",
       "       [ 839,    4],\n",
       "       [ 843,    2],\n",
       "       [ 856,    0],\n",
       "       [ 856,    1],\n",
       "       [ 856,    3],\n",
       "       [ 856,    4],\n",
       "       [ 856,    5],\n",
       "       [ 857,    0],\n",
       "       [ 858,    1],\n",
       "       [ 870,    0],\n",
       "       [ 870,    2],\n",
       "       [ 870,    3],\n",
       "       [ 872,    0],\n",
       "       [ 873,    0],\n",
       "       [ 874,    1],\n",
       "       [ 890,    1],\n",
       "       [ 890,    2],\n",
       "       [ 890,    3],\n",
       "       [ 909,    1],\n",
       "       [ 910,    0],\n",
       "       [ 912,    0],\n",
       "       [ 912,    2],\n",
       "       [ 912,    3],\n",
       "       [ 912,    4],\n",
       "       [ 928,    1],\n",
       "       [ 928,    2],\n",
       "       [ 928,    3],\n",
       "       [ 929,    1],\n",
       "       [ 929,    2],\n",
       "       [ 929,    3],\n",
       "       [ 930,    3],\n",
       "       [ 958,    2],\n",
       "       [ 959,    3],\n",
       "       [ 960,    3],\n",
       "       [1024,    0],\n",
       "       [1024,    2],\n",
       "       [1026,    2],\n",
       "       [1026,    4],\n",
       "       [1028,    0],\n",
       "       [1028,    3],\n",
       "       [1028,    4],\n",
       "       [1029,    0],\n",
       "       [1030,    1],\n",
       "       [1030,    5],\n",
       "       [1032,    0],\n",
       "       [1032,    5],\n",
       "       [1034,    3],\n",
       "       [1035,    4],\n",
       "       [1036,    2],\n",
       "       [1037,    1],\n",
       "       [1038,    4],\n",
       "       [1039,    3],\n",
       "       [1040,    0]], dtype=int64)"
      ]
     },
     "execution_count": 56,
     "metadata": {},
     "output_type": "execute_result"
    }
   ],
   "source": [
    "np.argwhere(np.isnan(Lending_Company_Numeric_Data_NAN))"
   ]
  },
  {
   "cell_type": "raw",
   "id": "26f3fb31",
   "metadata": {},
   "source": [
    "Lending_Company_Numeric_Data_NAN[11]"
   ]
  },
  {
   "cell_type": "code",
   "execution_count": 54,
   "id": "95b0e52f",
   "metadata": {},
   "outputs": [
    {
     "data": {
      "text/plain": [
       "array([ 9000.,    nan,    nan, 12251.,    nan, 34514.])"
      ]
     },
     "execution_count": 54,
     "metadata": {},
     "output_type": "execute_result"
    }
   ],
   "source": [
    "Lending_Company_Numeric_Data_NAN[152]"
   ]
  },
  {
   "cell_type": "code",
   "execution_count": 58,
   "id": "e537f6cf",
   "metadata": {},
   "outputs": [],
   "source": [
    "for array_index in np.argwhere(np.isnan(Lending_Company_Numeric_Data_NAN)):\n",
    "    Lending_Company_Numeric_Data_NAN[array_index[0],array_index[1]]=0\n",
    "    "
   ]
  },
  {
   "cell_type": "code",
   "execution_count": 60,
   "id": "32596c99",
   "metadata": {},
   "outputs": [
    {
     "data": {
      "text/plain": [
       "array([ 9000.,     0.,     0., 12251.,     0., 34514.])"
      ]
     },
     "execution_count": 60,
     "metadata": {},
     "output_type": "execute_result"
    }
   ],
   "source": [
    "Lending_Company_Numeric_Data_NAN[152]"
   ]
  },
  {
   "cell_type": "code",
   "execution_count": 61,
   "id": "23380ff7",
   "metadata": {},
   "outputs": [],
   "source": [
    "# We successfully found another way to take care of missing entries in the data"
   ]
  },
  {
   "cell_type": "code",
   "execution_count": 62,
   "id": "7f5fc6b9",
   "metadata": {},
   "outputs": [
    {
     "data": {
      "text/plain": [
       "0"
      ]
     },
     "execution_count": 62,
     "metadata": {},
     "output_type": "execute_result"
    }
   ],
   "source": [
    "np.isnan(Lending_Company_Numeric_Data_NAN).sum()"
   ]
  },
  {
   "cell_type": "code",
   "execution_count": 63,
   "id": "f2117043",
   "metadata": {},
   "outputs": [],
   "source": [
    "# 0 indicates there are no longer missing values in this dataset"
   ]
  },
  {
   "cell_type": "markdown",
   "id": "67a2f8e5",
   "metadata": {},
   "source": [
    "### Shuffling Data "
   ]
  },
  {
   "cell_type": "raw",
   "id": "1e9cb6d5",
   "metadata": {},
   "source": [
    "=> Rearranging the parts of a dataset\n",
    "=> We do so without a fixed pattern\n",
    "=> The end goal is that a random sample would be representative of the entire dataset\n",
    "=> The entire rows of data get moved up (or down) the dataset\n",
    "=> Their content remain unchanged\n",
    "=> Data stored on the same row often refers to the same client or dateffled dataset from the previous time we shuffled\n",
    "=> With each additional shuffle, the input dataset is the shuffled before\n",
    "=> A shuffle prevail over the use of seeds\n",
    "=> We can not replicate the same shuffle twice"
   ]
  },
  {
   "cell_type": "code",
   "execution_count": 65,
   "id": "2505e756",
   "metadata": {},
   "outputs": [],
   "source": [
    "lending_co_data_numeric =np.loadtxt(\"Lending-company-Numeric.csv\", delimiter =',')"
   ]
  },
  {
   "cell_type": "code",
   "execution_count": 66,
   "id": "f6cd5fc1",
   "metadata": {},
   "outputs": [
    {
     "data": {
      "text/plain": [
       "array([[ 2000.,    40.,   365.,  3121.,  4241., 13621.],\n",
       "       [ 2000.,    40.,   365.,  3061.,  4171., 15041.],\n",
       "       [ 1000.,    40.,   365.,  2160.,  3280., 15340.],\n",
       "       ...,\n",
       "       [ 2000.,    40.,   365.,  4201.,  5001., 16600.],\n",
       "       [ 1000.,    40.,   365.,  2080.,  3320., 15600.],\n",
       "       [ 2000.,    40.,   365.,  4601.,  4601., 16600.]])"
      ]
     },
     "execution_count": 66,
     "metadata": {},
     "output_type": "execute_result"
    }
   ],
   "source": [
    "lending_co_data_numeric"
   ]
  },
  {
   "cell_type": "code",
   "execution_count": 67,
   "id": "e4c82ba3",
   "metadata": {},
   "outputs": [],
   "source": [
    "np.random.shuffle(lending_co_data_numeric)"
   ]
  },
  {
   "cell_type": "code",
   "execution_count": 68,
   "id": "7ed1f02a",
   "metadata": {},
   "outputs": [
    {
     "data": {
      "text/plain": [
       "array([[ 1000.,    50.,   365.,   350.,  1650., 10305.],\n",
       "       [ 1000.,    40.,   365.,  2080.,  2800.,  5280.],\n",
       "       [ 4000.,    50.,   365.,  5450.,  6750., 22250.],\n",
       "       ...,\n",
       "       [ 2500.,    50.,   365.,  3250.,  4750., 20750.],\n",
       "       [ 2000.,    40.,   365.,  3121.,  4501., 16381.],\n",
       "       [ 1000.,    50.,   365.,   450.,  1660., 12230.]])"
      ]
     },
     "execution_count": 68,
     "metadata": {},
     "output_type": "execute_result"
    }
   ],
   "source": [
    "lending_co_data_numeric"
   ]
  },
  {
   "cell_type": "code",
   "execution_count": 71,
   "id": "d5b76bb9",
   "metadata": {},
   "outputs": [
    {
     "data": {
      "text/plain": [
       "array([[ 2000.,    40.,   365.,  3401.,  4901., 16600.],\n",
       "       [ 1000.,    40.,   365.,  3130.,  4430., 15600.],\n",
       "       [ 2000.,    40.,   365.,  3600.,  4800., 16400.],\n",
       "       ...,\n",
       "       [ 2500.,    50.,   365.,  2250.,  3600., 11400.],\n",
       "       [ 4000.,    50.,   365.,  5780.,  6900., 22250.],\n",
       "       [ 1000.,    40.,   365.,  2130.,  3510., 14350.]])"
      ]
     },
     "execution_count": 71,
     "metadata": {},
     "output_type": "execute_result"
    }
   ],
   "source": [
    "np.random.shuffle(lending_co_data_numeric)\n",
    "lending_co_data_numeric"
   ]
  },
  {
   "cell_type": "code",
   "execution_count": 72,
   "id": "d9c68e0b",
   "metadata": {},
   "outputs": [
    {
     "data": {
      "text/plain": [
       "array([[ 2000.,    40.,   365.,  3121.,  4241., 13621.],\n",
       "       [ 2000.,    40.,   365.,  3061.,  4171., 15041.],\n",
       "       [ 1000.,    40.,   365.,  2160.,  3280., 15340.],\n",
       "       ...,\n",
       "       [ 2000.,    40.,   365.,  4201.,  5001., 16600.],\n",
       "       [ 1000.,    40.,   365.,  2080.,  3320., 15600.],\n",
       "       [ 2000.,    40.,   365.,  4601.,  4601., 16600.]])"
      ]
     },
     "execution_count": 72,
     "metadata": {},
     "output_type": "execute_result"
    }
   ],
   "source": [
    "lending_co_data_numeric =np.loadtxt(\"Lending-company-Numeric.csv\", delimiter =',')\n",
    "lending_co_data_numeric"
   ]
  },
  {
   "cell_type": "code",
   "execution_count": 73,
   "id": "a8b54c4d",
   "metadata": {},
   "outputs": [],
   "source": [
    "# whenever you are using the same function or method many times in your analysis, it's a good idea to directly import it"
   ]
  },
  {
   "cell_type": "code",
   "execution_count": 74,
   "id": "c7a43d27",
   "metadata": {},
   "outputs": [],
   "source": [
    "from numpy.random import shuffle"
   ]
  },
  {
   "cell_type": "code",
   "execution_count": 75,
   "id": "46faf553",
   "metadata": {},
   "outputs": [
    {
     "data": {
      "text/plain": [
       "array([[ 1000.,    40.,   365.,  3500.,  5000., 15600.],\n",
       "       [ 4000.,    50.,   365.,  4900.,  5650., 10100.],\n",
       "       [ 1000.,    50.,   365., -1750.,  -400., 13550.],\n",
       "       ...,\n",
       "       [ 2000.,    40.,   365.,  3041.,  4241., 16001.],\n",
       "       [ 1000.,    40.,   365.,  2130.,  3510., 14350.],\n",
       "       [ 2000.,    40.,   365.,  5201.,  5201., 16600.]])"
      ]
     },
     "execution_count": 75,
     "metadata": {},
     "output_type": "execute_result"
    }
   ],
   "source": [
    "shuffle(lending_co_data_numeric)\n",
    "lending_co_data_numeric"
   ]
  },
  {
   "cell_type": "code",
   "execution_count": 76,
   "id": "25846dfc",
   "metadata": {},
   "outputs": [],
   "source": [
    "from numpy.random import Generator as gen\n",
    "from numpy.random import PCG64 as pcg"
   ]
  },
  {
   "cell_type": "code",
   "execution_count": 79,
   "id": "82039e65",
   "metadata": {},
   "outputs": [
    {
     "data": {
      "text/plain": [
       "array([[ 2000.,    40.,   365.,  3321.,  4501., 13921.],\n",
       "       [ 2000.,    40.,   365.,  2861.,  4361., 16600.],\n",
       "       [ 1000.,    40.,   365.,  2240.,  3360., 15160.],\n",
       "       ...,\n",
       "       [ 1000.,    40.,   365.,  2380.,  3300., 14620.],\n",
       "       [ 2000.,    40.,   365.,  3681.,  4881., 16600.],\n",
       "       [ 1000.,    40.,   365.,  2105.,  3260., 13125.]])"
      ]
     },
     "execution_count": 79,
     "metadata": {},
     "output_type": "execute_result"
    }
   ],
   "source": [
    "array_RG =gen(pcg())\n",
    "array_RG.shuffle(lending_co_data_numeric)\n",
    "lending_co_data_numeric"
   ]
  },
  {
   "cell_type": "markdown",
   "id": "c42d2f8b",
   "metadata": {},
   "source": [
    "## Casting Arrays "
   ]
  },
  {
   "cell_type": "raw",
   "id": "6bbc1a7a",
   "metadata": {},
   "source": [
    "astype()\n",
    "Assign type method\n",
    "\n",
    "=> Taking an object with values of a certain datatype and creating an identical object that contains values of a diffrent datatype\n",
    "=> In numpy this means, creating a new array that stores the values of the original array under a diffrent type\n",
    "e.g we could be switching from decimal numbers to inregers or vice versa"
   ]
  },
  {
   "cell_type": "code",
   "execution_count": 80,
   "id": "c2202eca",
   "metadata": {},
   "outputs": [
    {
     "data": {
      "text/plain": [
       "array([[ 2000,    40,   365,  3321,  4501, 13921],\n",
       "       [ 2000,    40,   365,  2861,  4361, 16600],\n",
       "       [ 1000,    40,   365,  2240,  3360, 15160],\n",
       "       ...,\n",
       "       [ 1000,    40,   365,  2380,  3300, 14620],\n",
       "       [ 2000,    40,   365,  3681,  4881, 16600],\n",
       "       [ 1000,    40,   365,  2105,  3260, 13125]])"
      ]
     },
     "execution_count": 80,
     "metadata": {},
     "output_type": "execute_result"
    }
   ],
   "source": [
    "lending_co_data_numeric.astype(dtype=np.int32) # there are no decimal points "
   ]
  },
  {
   "cell_type": "code",
   "execution_count": 81,
   "id": "e377addf",
   "metadata": {},
   "outputs": [
    {
     "data": {
      "text/plain": [
       "array([['2000.0', '40.0', '365.0', '3321.0', '4501.0', '13921.0'],\n",
       "       ['2000.0', '40.0', '365.0', '2861.0', '4361.0', '16600.0'],\n",
       "       ['1000.0', '40.0', '365.0', '2240.0', '3360.0', '15160.0'],\n",
       "       ...,\n",
       "       ['1000.0', '40.0', '365.0', '2380.0', '3300.0', '14620.0'],\n",
       "       ['2000.0', '40.0', '365.0', '3681.0', '4881.0', '16600.0'],\n",
       "       ['1000.0', '40.0', '365.0', '2105.0', '3260.0', '13125.0']],\n",
       "      dtype='<U32')"
      ]
     },
     "execution_count": 81,
     "metadata": {},
     "output_type": "execute_result"
    }
   ],
   "source": [
    "# Creating an array with string values\n",
    "lending_co_data_numeric=lending_co_data_numeric.astype(dtype=np.str_)\n",
    "lending_co_data_numeric"
   ]
  },
  {
   "cell_type": "code",
   "execution_count": 82,
   "id": "639a0e65",
   "metadata": {},
   "outputs": [
    {
     "data": {
      "text/plain": [
       "numpy.ndarray"
      ]
     },
     "execution_count": 82,
     "metadata": {},
     "output_type": "execute_result"
    }
   ],
   "source": [
    "type(lending_co_data_numeric) #The dataset retains all of it's functionalities"
   ]
  },
  {
   "cell_type": "code",
   "execution_count": 83,
   "id": "2659da97",
   "metadata": {},
   "outputs": [
    {
     "ename": "ValueError",
     "evalue": "invalid literal for int() with base 10: '2000.0'",
     "output_type": "error",
     "traceback": [
      "\u001b[1;31m---------------------------------------------------------------------------\u001b[0m",
      "\u001b[1;31mValueError\u001b[0m                                Traceback (most recent call last)",
      "\u001b[1;32m~\\AppData\\Local\\Temp\\ipykernel_26088\\2478113437.py\u001b[0m in \u001b[0;36m<module>\u001b[1;34m\u001b[0m\n\u001b[1;32m----> 1\u001b[1;33m \u001b[0mlending_co_data_numeric\u001b[0m\u001b[1;33m=\u001b[0m\u001b[0mlending_co_data_numeric\u001b[0m\u001b[1;33m.\u001b[0m\u001b[0mastype\u001b[0m\u001b[1;33m(\u001b[0m\u001b[0mdtype\u001b[0m\u001b[1;33m=\u001b[0m\u001b[0mnp\u001b[0m\u001b[1;33m.\u001b[0m\u001b[0mint32\u001b[0m\u001b[1;33m)\u001b[0m\u001b[1;33m\u001b[0m\u001b[1;33m\u001b[0m\u001b[0m\n\u001b[0m",
      "\u001b[1;31mValueError\u001b[0m: invalid literal for int() with base 10: '2000.0'"
     ]
    }
   ],
   "source": [
    "lending_co_data_numeric=lending_co_data_numeric.astype(dtype=np.int32)"
   ]
  },
  {
   "cell_type": "code",
   "execution_count": 84,
   "id": "6b8977ae",
   "metadata": {},
   "outputs": [],
   "source": [
    "# . not an element recognized among integer. Numpy does not know how to cast it\n",
    "# Therefore we can't directly cast a string into integer\n",
    "# We can transform the string into float first than integer"
   ]
  },
  {
   "cell_type": "code",
   "execution_count": 87,
   "id": "9b481cd9",
   "metadata": {},
   "outputs": [
    {
     "data": {
      "text/plain": [
       "array([[ 2000.,    40.,   365.,  3321.,  4501., 13921.],\n",
       "       [ 2000.,    40.,   365.,  2861.,  4361., 16600.],\n",
       "       [ 1000.,    40.,   365.,  2240.,  3360., 15160.],\n",
       "       ...,\n",
       "       [ 1000.,    40.,   365.,  2380.,  3300., 14620.],\n",
       "       [ 2000.,    40.,   365.,  3681.,  4881., 16600.],\n",
       "       [ 1000.,    40.,   365.,  2105.,  3260., 13125.]], dtype=float32)"
      ]
     },
     "execution_count": 87,
     "metadata": {},
     "output_type": "execute_result"
    }
   ],
   "source": [
    "lending_co_data_numeric =lending_co_data_numeric.astype(dtype=np.float32)\n",
    "lending_co_data_numeric"
   ]
  },
  {
   "cell_type": "code",
   "execution_count": 88,
   "id": "46dada39",
   "metadata": {},
   "outputs": [
    {
     "data": {
      "text/plain": [
       "array([[ 2000,    40,   365,  3321,  4501, 13921],\n",
       "       [ 2000,    40,   365,  2861,  4361, 16600],\n",
       "       [ 1000,    40,   365,  2240,  3360, 15160],\n",
       "       ...,\n",
       "       [ 1000,    40,   365,  2380,  3300, 14620],\n",
       "       [ 2000,    40,   365,  3681,  4881, 16600],\n",
       "       [ 1000,    40,   365,  2105,  3260, 13125]])"
      ]
     },
     "execution_count": 88,
     "metadata": {},
     "output_type": "execute_result"
    }
   ],
   "source": [
    "lending_co_data_numeric.astype(dtype=np.int32)"
   ]
  },
  {
   "cell_type": "code",
   "execution_count": 89,
   "id": "e0d44a79",
   "metadata": {},
   "outputs": [
    {
     "data": {
      "text/plain": [
       "array([['2000.0', '40.0', '365.0', '3121.0', '4241.0', '13621.0'],\n",
       "       ['2000.0', '40.0', '365.0', '3061.0', '4171.0', '15041.0'],\n",
       "       ['1000.0', '40.0', '365.0', '2160.0', '3280.0', '15340.0'],\n",
       "       ...,\n",
       "       ['2000.0', '40.0', '365.0', '4201.0', '5001.0', '16600.0'],\n",
       "       ['1000.0', '40.0', '365.0', '2080.0', '3320.0', '15600.0'],\n",
       "       ['2000.0', '40.0', '365.0', '4601.0', '4601.0', '16600.0']],\n",
       "      dtype='<U32')"
      ]
     },
     "execution_count": 89,
     "metadata": {},
     "output_type": "execute_result"
    }
   ],
   "source": [
    "lending_co_data_numeric =np.loadtxt(\"Lending-company-Numeric.csv\", delimiter =',')\n",
    "lending_co_data_numeric=lending_co_data_numeric.astype(dtype=np.str_)\n",
    "lending_co_data_numeric"
   ]
  },
  {
   "cell_type": "code",
   "execution_count": 90,
   "id": "62182fb8",
   "metadata": {},
   "outputs": [
    {
     "data": {
      "text/plain": [
       "array([[ 2000,    40,   365,  3121,  4241, 13621],\n",
       "       [ 2000,    40,   365,  3061,  4171, 15041],\n",
       "       [ 1000,    40,   365,  2160,  3280, 15340],\n",
       "       ...,\n",
       "       [ 2000,    40,   365,  4201,  5001, 16600],\n",
       "       [ 1000,    40,   365,  2080,  3320, 15600],\n",
       "       [ 2000,    40,   365,  4601,  4601, 16600]])"
      ]
     },
     "execution_count": 90,
     "metadata": {},
     "output_type": "execute_result"
    }
   ],
   "source": [
    "lending_co_data_numeric.astype(dtype=np.float32).astype(dtype=np.int32) # does not overwrite the original array"
   ]
  },
  {
   "cell_type": "markdown",
   "id": "79802469",
   "metadata": {},
   "source": [
    "### Stripping Symbol from Arrays"
   ]
  },
  {
   "cell_type": "raw",
   "id": "e211ee08",
   "metadata": {},
   "source": [
    "=> Stripping refers to the removing  specific parts of strings\n",
    "=> Not straight up deleting the values stored in specific position rather taking away small parts\n",
    "=> that's useful beacuse it's allows us to get rid of excess data\n",
    "np.chararray.strip()"
   ]
  },
  {
   "cell_type": "code",
   "execution_count": 99,
   "id": "33ce64c6",
   "metadata": {},
   "outputs": [
    {
     "data": {
      "text/plain": [
       "array([['id_1', 'Product B', 'Location 2'],\n",
       "       ['id_2', 'Product B', 'Location 3'],\n",
       "       ['id_3', 'Product C', 'Location 5'],\n",
       "       ...,\n",
       "       ['id_413', 'Product B', 'Location 135'],\n",
       "       ['id_414', 'Product C', 'Location 200'],\n",
       "       ['id_415', 'Product A', 'Location 8']], dtype='<U12')"
      ]
     },
     "execution_count": 99,
     "metadata": {},
     "output_type": "execute_result"
    }
   ],
   "source": [
    "import numpy as np\n",
    "lending_co_total_price = np.genfromtxt(\"Lending-Company-Total-Price.csv\",\n",
    "                                       delimiter=',',\n",
    "                                       dtype= np.str_,\n",
    "                                       skip_header=1,\n",
    "                                       usecols=[1,2,4]\n",
    "                                      )\n",
    "\n",
    "lending_co_total_price "
   ]
  },
  {
   "cell_type": "code",
   "execution_count": 101,
   "id": "7331ccea",
   "metadata": {},
   "outputs": [],
   "source": [
    "# We only want the columns which contain non numeric data as we can't strip number"
   ]
  },
  {
   "cell_type": "code",
   "execution_count": 102,
   "id": "53f80ec9",
   "metadata": {},
   "outputs": [
    {
     "data": {
      "text/plain": [
       "chararray(['1', '2', '3', '4', '5', '6', '7', '8', '9', '10', '11', '12',\n",
       "           '13', '14', '15', '16', '17', '18', '19', '20', '21', '22',\n",
       "           '23', '24', '25', '26', '27', '28', '29', '30', '31', '32',\n",
       "           '33', '34', '35', '36', '37', '38', '39', '40', '41', '42',\n",
       "           '43', '44', '45', '46', '47', '48', '49', '50', '51', '52',\n",
       "           '53', '54', '55', '56', '57', '58', '59', '60', '61', '62',\n",
       "           '63', '64', '65', '66', '67', '68', '69', '70', '71', '72',\n",
       "           '73', '74', '75', '76', '77', '78', '79', '80', '81', '82',\n",
       "           '83', '84', '85', '86', '87', '88', '89', '90', '91', '92',\n",
       "           '93', '94', '95', '96', '97', '98', '99', '100', '101', '102',\n",
       "           '103', '104', '105', '106', '107', '108', '109', '110', '111',\n",
       "           '112', '113', '114', '115', '116', '117', '118', '119', '120',\n",
       "           '121', '122', '123', '124', '125', '126', '127', '128', '129',\n",
       "           '130', '131', '132', '133', '134', '135', '136', '137', '138',\n",
       "           '139', '140', '141', '142', '143', '144', '145', '146', '147',\n",
       "           '148', '149', '150', '151', '152', '153', '154', '155', '156',\n",
       "           '157', '158', '159', '160', '161', '162', '163', '164', '165',\n",
       "           '166', '167', '168', '169', '170', '171', '172', '173', '174',\n",
       "           '175', '176', '177', '178', '179', '180', '181', '182', '183',\n",
       "           '184', '185', '186', '187', '188', '189', '190', '191', '192',\n",
       "           '193', '194', '195', '196', '197', '198', '199', '200', '201',\n",
       "           '202', '203', '204', '205', '206', '207', '208', '209', '210',\n",
       "           '211', '212', '213', '214', '215', '216', '217', '218', '219',\n",
       "           '220', '221', '222', '223', '224', '225', '226', '227', '228',\n",
       "           '229', '230', '231', '232', '233', '234', '235', '236', '237',\n",
       "           '238', '239', '240', '241', '242', '243', '244', '245', '246',\n",
       "           '247', '248', '249', '250', '251', '252', '253', '254', '255',\n",
       "           '256', '257', '258', '259', '260', '261', '262', '263', '264',\n",
       "           '265', '266', '267', '268', '269', '270', '271', '272', '273',\n",
       "           '274', '275', '276', '277', '278', '279', '280', '281', '282',\n",
       "           '283', '284', '285', '286', '287', '288', '289', '290', '291',\n",
       "           '292', '293', '294', '295', '296', '297', '298', '299', '300',\n",
       "           '301', '302', '303', '304', '305', '306', '307', '308', '309',\n",
       "           '310', '311', '312', '313', '314', '315', '316', '317', '318',\n",
       "           '319', '320', '321', '322', '323', '324', '325', '326', '327',\n",
       "           '328', '329', '330', '331', '332', '333', '334', '335', '336',\n",
       "           '337', '338', '339', '340', '341', '342', '343', '344', '345',\n",
       "           '346', '347', '348', '349', '350', '351', '352', '353', '354',\n",
       "           '355', '356', '357', '358', '359', '360', '361', '362', '363',\n",
       "           '364', '365', '366', '367', '368', '369', '370', '371', '372',\n",
       "           '373', '374', '375', '376', '377', '378', '379', '380', '381',\n",
       "           '382', '383', '384', '385', '386', '387', '388', '389', '390',\n",
       "           '391', '392', '393', '394', '395', '396', '397', '398', '399',\n",
       "           '400', '401', '402', '403', '404', '405', '406', '407', '408',\n",
       "           '409', '410', '411', '412', '413', '414', '415'], dtype='<U12')"
      ]
     },
     "execution_count": 102,
     "metadata": {},
     "output_type": "execute_result"
    }
   ],
   "source": [
    "np.chararray.strip(lending_co_total_price [:,0],'id_') # from first colum remove id_# does not overwrite the array"
   ]
  },
  {
   "cell_type": "code",
   "execution_count": 103,
   "id": "99de5fd7",
   "metadata": {},
   "outputs": [
    {
     "data": {
      "text/plain": [
       "array([['id_1', 'Product B', 'Location 2'],\n",
       "       ['id_2', 'Product B', 'Location 3'],\n",
       "       ['id_3', 'Product C', 'Location 5'],\n",
       "       ...,\n",
       "       ['id_413', 'Product B', 'Location 135'],\n",
       "       ['id_414', 'Product C', 'Location 200'],\n",
       "       ['id_415', 'Product A', 'Location 8']], dtype='<U12')"
      ]
     },
     "execution_count": 103,
     "metadata": {},
     "output_type": "execute_result"
    }
   ],
   "source": [
    "np.chararray.strip(lending_co_total_price [:,0],'id_') \n",
    "np.chararray.strip(lending_co_total_price [:,1],'Product_') \n",
    "np.chararray.strip(lending_co_total_price [:,2],'Location') \n",
    "lending_co_total_price"
   ]
  },
  {
   "cell_type": "code",
   "execution_count": 148,
   "id": "d4d9b853",
   "metadata": {},
   "outputs": [
    {
     "data": {
      "text/plain": [
       "array([['1', ' B', ' 2'],\n",
       "       ['2', ' B', ' 3'],\n",
       "       ['3', ' C', ' 5'],\n",
       "       ...,\n",
       "       ['413', ' B', ' 135'],\n",
       "       ['414', ' C', ' 200'],\n",
       "       ['415', ' A', ' 8']], dtype='<U12')"
      ]
     },
     "execution_count": 148,
     "metadata": {},
     "output_type": "execute_result"
    }
   ],
   "source": [
    "lending_co_total_price[:,0] =np.chararray.strip(lending_co_total_price [:,0],'id_') \n",
    "lending_co_total_price[:,1] =np.chararray.strip(lending_co_total_price [:,1],'Product_')\n",
    "lending_co_total_price[:,2] =np.chararray.strip(lending_co_total_price [:,2],'Location') \n",
    "lending_co_total_price"
   ]
  },
  {
   "cell_type": "code",
   "execution_count": 126,
   "id": "9b32b653",
   "metadata": {},
   "outputs": [],
   "source": [
    "# we can also apply np.where() to transform the letters  in the second column into numeric values\n"
   ]
  },
  {
   "cell_type": "code",
   "execution_count": 150,
   "id": "7262df65",
   "metadata": {},
   "outputs": [
    {
     "data": {
      "text/plain": [
       "array([['1', ' B', ' 2'],\n",
       "       ['2', ' B', ' 3'],\n",
       "       ['3', ' C', ' 5'],\n",
       "       ...,\n",
       "       ['413', ' B', ' 135'],\n",
       "       ['414', ' C', ' 200'],\n",
       "       ['415', ' A', ' 8']], dtype='<U12')"
      ]
     },
     "execution_count": 150,
     "metadata": {},
     "output_type": "execute_result"
    }
   ],
   "source": [
    "\n",
    "\n",
    "# Replace values based on conditions\n",
    "lending_co_total_price[:, 1] = np.where(lending_co_total_price[:, 1] == 'A', '1', lending_co_total_price[:, 1])\n",
    "lending_co_total_price[:, 1] = np.where(lending_co_total_price[:, 1] == 'B', '2', lending_co_total_price[:, 1])\n",
    "lending_co_total_price[:, 1] = np.where(lending_co_total_price[:, 1] == 'C', '3', lending_co_total_price[:, 1])\n",
    "lending_co_total_price[:, 1] = np.where(lending_co_total_price[:, 1] == 'D', '4', lending_co_total_price[:, 1])\n",
    "lending_co_total_price[:, 1] = np.where(lending_co_total_price[:, 1] == 'E', '5', lending_co_total_price[:, 1])\n",
    "lending_co_total_price[:, 1] = np.where(lending_co_total_price[:, 1] == 'F', '6', lending_co_total_price[:, 1])\n",
    "lending_co_total_price\n"
   ]
  },
  {
   "cell_type": "code",
   "execution_count": null,
   "id": "ba46f5a2",
   "metadata": {},
   "outputs": [],
   "source": [
    "\n"
   ]
  },
  {
   "cell_type": "code",
   "execution_count": 149,
   "id": "02e3e19e",
   "metadata": {},
   "outputs": [],
   "source": [
    "#lending_co_total_price = lending_co_total_price.astype(dtype=np.int32)"
   ]
  },
  {
   "cell_type": "markdown",
   "id": "556ec598",
   "metadata": {},
   "source": [
    "### STACKING "
   ]
  },
  {
   "cell_type": "raw",
   "id": "617e6675",
   "metadata": {},
   "source": [
    "np.stack  np.vstack  np.hstack\n",
    "Stacking is the placing of multiple objects on top of one another to create a bigger (larger) object\n",
    "We can just stack arrays of matching shapes to create a larger array- a stack"
   ]
  },
  {
   "cell_type": "code",
   "execution_count": 157,
   "id": "41d024cd",
   "metadata": {},
   "outputs": [
    {
     "data": {
      "text/plain": [
       "array([[ 2000.,    40.,   365.,  3121.,  4241., 13621.],\n",
       "       [ 2000.,    40.,   365.,  3061.,  4171., 15041.],\n",
       "       [ 1000.,    40.,   365.,  2160.,  3280., 15340.],\n",
       "       ...,\n",
       "       [ 2000.,    40.,   365.,  4201.,  5001., 16600.],\n",
       "       [ 1000.,    40.,   365.,  2080.,  3320., 15600.],\n",
       "       [ 2000.,    40.,   365.,  4601.,  4601., 16600.]])"
      ]
     },
     "execution_count": 157,
     "metadata": {},
     "output_type": "execute_result"
    }
   ],
   "source": [
    "lending_co_data_numeric = np.loadtxt(\"Lending-company-Numeric.csv\",delimiter=',')\n",
    "lending_co_data_numeric"
   ]
  },
  {
   "cell_type": "code",
   "execution_count": 158,
   "id": "c2b115fe",
   "metadata": {},
   "outputs": [
    {
     "data": {
      "text/plain": [
       "array([[ 2000., 13621.,   365.,  3121.,  4241., 13621.],\n",
       "       [ 2000., 15041.,   365.,  3061.,  4171., 15041.],\n",
       "       [ 1000., 15340.,   365.,  2160.,  3280., 15340.],\n",
       "       ...,\n",
       "       [64002., 16600.,   365.,  4201.,  5001., 16600.],\n",
       "       [ 1000., 15600.,   365.,  2080.,  3320., 15600.],\n",
       "       [ 2000., 16600.,   365.,  4601.,  4601., 16600.]])"
      ]
     },
     "execution_count": 158,
     "metadata": {},
     "output_type": "execute_result"
    }
   ],
   "source": [
    "# Recall\n",
    "lending_co_data_numeric_NAN =np.genfromtxt(\"Lending-company-Numeric-NAN.csv\", delimiter=';')\n",
    "temporary_fill = np.nanmax(lending_co_data_numeric_NAN).round(2)+1\n",
    "temporary_mean =np.nanmean(lending_co_data_numeric_NAN, axis=0).round(2)\n",
    "lending_co_data_numeric_NAN =np.genfromtxt(\"Lending-company-Numeric-NAN.csv\", delimiter=';',\n",
    "                                          filling_values=temporary_fill)\n",
    "\n",
    "for i in range(lending_co_data_numeric_NAN.shape[1]):\n",
    "    lending_co_data_numeric_NAN[:,1] =np.where(lending_co_data_numeric_NAN[:,i]==temporary_fill,\n",
    "                                              temporary_mean[i],\n",
    "                                              lending_co_data_numeric_NAN[:,i])\n",
    "lending_co_data_numeric_NAN"
   ]
  },
  {
   "cell_type": "code",
   "execution_count": 161,
   "id": "1e399ea7",
   "metadata": {},
   "outputs": [
    {
     "data": {
      "text/plain": [
       "array([[2000., 2000., 1000., ..., 2000., 1000., 2000.],\n",
       "       [  40.,   40.,   40., ...,   40.,   40.,   40.]])"
      ]
     },
     "execution_count": 161,
     "metadata": {},
     "output_type": "execute_result"
    }
   ],
   "source": [
    "np.stack((lending_co_data_numeric[:,0],lending_co_data_numeric[:,1])) # first and second column of the array\n",
    "# here we stack them on top of one another"
   ]
  },
  {
   "cell_type": "code",
   "execution_count": 162,
   "id": "568fef11",
   "metadata": {},
   "outputs": [
    {
     "data": {
      "text/plain": [
       "array([[2000., 2000., 1000., ..., 2000., 1000., 2000.],\n",
       "       [  40.,   40.,   40., ...,   40.,   40.,   40.]])"
      ]
     },
     "execution_count": 162,
     "metadata": {},
     "output_type": "execute_result"
    }
   ],
   "source": [
    "np.transpose(lending_co_data_numeric[:,:2]) # first two column "
   ]
  },
  {
   "cell_type": "code",
   "execution_count": 163,
   "id": "c474c83b",
   "metadata": {},
   "outputs": [
    {
     "data": {
      "text/plain": [
       "array([[2000.,   40.],\n",
       "       [2000.,   40.],\n",
       "       [1000.,   40.],\n",
       "       ...,\n",
       "       [2000.,   40.],\n",
       "       [1000.,   40.],\n",
       "       [2000.,   40.]])"
      ]
     },
     "execution_count": 163,
     "metadata": {},
     "output_type": "execute_result"
    }
   ],
   "source": [
    "# we can stack them side by side\n",
    "# The axis determines how we stack these array\n",
    "np.stack((lending_co_data_numeric[:,0],lending_co_data_numeric[:,1]), axis=1)"
   ]
  },
  {
   "cell_type": "code",
   "execution_count": 164,
   "id": "17b2d2ee",
   "metadata": {},
   "outputs": [
    {
     "data": {
      "text/plain": [
       "array([[2000.,   40.,  365.],\n",
       "       [2000.,   40.,  365.],\n",
       "       [1000.,   40.,  365.],\n",
       "       ...,\n",
       "       [2000.,   40.,  365.],\n",
       "       [1000.,   40.,  365.],\n",
       "       [2000.,   40.,  365.]])"
      ]
     },
     "execution_count": 164,
     "metadata": {},
     "output_type": "execute_result"
    }
   ],
   "source": [
    "# We can stack multiple elements rather than 2 at a time\n",
    "np.stack((lending_co_data_numeric[:,0],lending_co_data_numeric[:,1],lending_co_data_numeric[:,2]), axis=1)"
   ]
  },
  {
   "cell_type": "raw",
   "id": "2670899f",
   "metadata": {},
   "source": [
    "np.vstack\n",
    "vstack= vertical stack\n",
    "The function stacks 2-D arrays vertically\n",
    "palces the fisrt array on the top of the second one, hence results in a longer array\n"
   ]
  },
  {
   "cell_type": "code",
   "execution_count": 165,
   "id": "f881b808",
   "metadata": {},
   "outputs": [
    {
     "data": {
      "text/plain": [
       "(1043, 6)"
      ]
     },
     "execution_count": 165,
     "metadata": {},
     "output_type": "execute_result"
    }
   ],
   "source": [
    "lending_co_data_numeric.shape"
   ]
  },
  {
   "cell_type": "code",
   "execution_count": 166,
   "id": "4fccaa7f",
   "metadata": {},
   "outputs": [
    {
     "data": {
      "text/plain": [
       "(1043, 6)"
      ]
     },
     "execution_count": 166,
     "metadata": {},
     "output_type": "execute_result"
    }
   ],
   "source": [
    "lending_co_data_numeric_NAN.shape"
   ]
  },
  {
   "cell_type": "code",
   "execution_count": 171,
   "id": "b83b1d1c",
   "metadata": {},
   "outputs": [
    {
     "data": {
      "text/plain": [
       "array([[ 2000.,    40.,   365.,  3121.,  4241., 13621.],\n",
       "       [ 2000.,    40.,   365.,  3061.,  4171., 15041.],\n",
       "       [ 1000.,    40.,   365.,  2160.,  3280., 15340.],\n",
       "       ...,\n",
       "       [64002., 16600.,   365.,  4201.,  5001., 16600.],\n",
       "       [ 1000., 15600.,   365.,  2080.,  3320., 15600.],\n",
       "       [ 2000., 16600.,   365.,  4601.,  4601., 16600.]])"
      ]
     },
     "execution_count": 171,
     "metadata": {},
     "output_type": "execute_result"
    }
   ],
   "source": [
    "np.vstack((lending_co_data_numeric,lending_co_data_numeric_NAN))"
   ]
  },
  {
   "cell_type": "code",
   "execution_count": 170,
   "id": "084e656a",
   "metadata": {},
   "outputs": [
    {
     "data": {
      "text/plain": [
       "(2086, 6)"
      ]
     },
     "execution_count": 170,
     "metadata": {},
     "output_type": "execute_result"
    }
   ],
   "source": [
    "np.vstack((lending_co_data_numeric,lending_co_data_numeric_NAN)).shape"
   ]
  },
  {
   "cell_type": "raw",
   "id": "53b2826d",
   "metadata": {},
   "source": [
    "np.hstack\n",
    "h stack = horizontal stack\n",
    "stack values horizontally\n",
    "The result should be a wider array"
   ]
  },
  {
   "cell_type": "code",
   "execution_count": 172,
   "id": "f8dec6f5",
   "metadata": {},
   "outputs": [
    {
     "data": {
      "text/plain": [
       "array([[ 2000.,    40.,   365., ...,  3121.,  4241., 13621.],\n",
       "       [ 2000.,    40.,   365., ...,  3061.,  4171., 15041.],\n",
       "       [ 1000.,    40.,   365., ...,  2160.,  3280., 15340.],\n",
       "       ...,\n",
       "       [ 2000.,    40.,   365., ...,  4201.,  5001., 16600.],\n",
       "       [ 1000.,    40.,   365., ...,  2080.,  3320., 15600.],\n",
       "       [ 2000.,    40.,   365., ...,  4601.,  4601., 16600.]])"
      ]
     },
     "execution_count": 172,
     "metadata": {},
     "output_type": "execute_result"
    }
   ],
   "source": [
    "np.hstack((lending_co_data_numeric,lending_co_data_numeric_NAN))"
   ]
  },
  {
   "cell_type": "code",
   "execution_count": 173,
   "id": "ef3353a6",
   "metadata": {},
   "outputs": [
    {
     "data": {
      "text/plain": [
       "(1043, 12)"
      ]
     },
     "execution_count": 173,
     "metadata": {},
     "output_type": "execute_result"
    }
   ],
   "source": [
    "np.hstack((lending_co_data_numeric,lending_co_data_numeric_NAN)).shape"
   ]
  },
  {
   "cell_type": "raw",
   "id": "894c2ea0",
   "metadata": {},
   "source": [
    "np.dstack()\n",
    "A litlle different\n",
    "d stack = depth stack\n",
    "we stack arrays in the third dimension\n",
    "We stack arrays in the third dimension\n",
    "Returns an array of a higher dimension"
   ]
  },
  {
   "cell_type": "code",
   "execution_count": 174,
   "id": "6bcd4ba6",
   "metadata": {},
   "outputs": [
    {
     "data": {
      "text/plain": [
       "array([[[ 2000.,  2000.],\n",
       "        [   40., 13621.],\n",
       "        [  365.,   365.],\n",
       "        [ 3121.,  3121.],\n",
       "        [ 4241.,  4241.],\n",
       "        [13621., 13621.]],\n",
       "\n",
       "       [[ 2000.,  2000.],\n",
       "        [   40., 15041.],\n",
       "        [  365.,   365.],\n",
       "        [ 3061.,  3061.],\n",
       "        [ 4171.,  4171.],\n",
       "        [15041., 15041.]],\n",
       "\n",
       "       [[ 1000.,  1000.],\n",
       "        [   40., 15340.],\n",
       "        [  365.,   365.],\n",
       "        [ 2160.,  2160.],\n",
       "        [ 3280.,  3280.],\n",
       "        [15340., 15340.]],\n",
       "\n",
       "       ...,\n",
       "\n",
       "       [[ 2000., 64002.],\n",
       "        [   40., 16600.],\n",
       "        [  365.,   365.],\n",
       "        [ 4201.,  4201.],\n",
       "        [ 5001.,  5001.],\n",
       "        [16600., 16600.]],\n",
       "\n",
       "       [[ 1000.,  1000.],\n",
       "        [   40., 15600.],\n",
       "        [  365.,   365.],\n",
       "        [ 2080.,  2080.],\n",
       "        [ 3320.,  3320.],\n",
       "        [15600., 15600.]],\n",
       "\n",
       "       [[ 2000.,  2000.],\n",
       "        [   40., 16600.],\n",
       "        [  365.,   365.],\n",
       "        [ 4601.,  4601.],\n",
       "        [ 4601.,  4601.],\n",
       "        [16600., 16600.]]])"
      ]
     },
     "execution_count": 174,
     "metadata": {},
     "output_type": "execute_result"
    }
   ],
   "source": [
    "np.dstack((lending_co_data_numeric,lending_co_data_numeric_NAN))"
   ]
  },
  {
   "cell_type": "code",
   "execution_count": 175,
   "id": "6da4eb77",
   "metadata": {},
   "outputs": [
    {
     "data": {
      "text/plain": [
       "(1043, 6, 2)"
      ]
     },
     "execution_count": 175,
     "metadata": {},
     "output_type": "execute_result"
    }
   ],
   "source": [
    "np.dstack((lending_co_data_numeric,lending_co_data_numeric_NAN)).shape"
   ]
  },
  {
   "cell_type": "code",
   "execution_count": 176,
   "id": "0261e4bf",
   "metadata": {},
   "outputs": [
    {
     "data": {
      "text/plain": [
       "array([[ 2000.,  2000.],\n",
       "       [   40., 13621.],\n",
       "       [  365.,   365.],\n",
       "       [ 3121.,  3121.],\n",
       "       [ 4241.,  4241.],\n",
       "       [13621., 13621.]])"
      ]
     },
     "execution_count": 176,
     "metadata": {},
     "output_type": "execute_result"
    }
   ],
   "source": [
    "np.dstack((lending_co_data_numeric,lending_co_data_numeric_NAN))[0]"
   ]
  },
  {
   "cell_type": "code",
   "execution_count": 177,
   "id": "6d881a9e",
   "metadata": {},
   "outputs": [
    {
     "data": {
      "text/plain": [
       "array([ 2000.,    40.,   365.,  3121.,  4241., 13621.])"
      ]
     },
     "execution_count": 177,
     "metadata": {},
     "output_type": "execute_result"
    }
   ],
   "source": [
    "# The first represent the row\n",
    "# the following code represent we are slicing all the columns with a row index 0 and depth index 0\n",
    "# The first row of the original dataset variable\n",
    "# that means the third index represent which array the values were pulled from\n",
    "\n",
    "np.dstack((lending_co_data_numeric,lending_co_data_numeric_NAN))[0,:,0]"
   ]
  },
  {
   "cell_type": "code",
   "execution_count": 178,
   "id": "c9f6668f",
   "metadata": {},
   "outputs": [],
   "source": [
    "# We can replicate it's output with the np.stack function\n",
    "# because the stack function always returns an output that is exactly 1 dimension more than it's input\n",
    "# since np.dstack() works along the \"third\" axis, the two function works identically (for 1-D and 2-d arrays)\n",
    "# The two functions are only ever equivalent for inputs of up to 2 dimensions"
   ]
  },
  {
   "cell_type": "code",
   "execution_count": 179,
   "id": "e7fad201",
   "metadata": {},
   "outputs": [
    {
     "data": {
      "text/plain": [
       "array([[[ 2000.,  2000.],\n",
       "        [   40., 13621.],\n",
       "        [  365.,   365.],\n",
       "        [ 3121.,  3121.],\n",
       "        [ 4241.,  4241.],\n",
       "        [13621., 13621.]],\n",
       "\n",
       "       [[ 2000.,  2000.],\n",
       "        [   40., 15041.],\n",
       "        [  365.,   365.],\n",
       "        [ 3061.,  3061.],\n",
       "        [ 4171.,  4171.],\n",
       "        [15041., 15041.]],\n",
       "\n",
       "       [[ 1000.,  1000.],\n",
       "        [   40., 15340.],\n",
       "        [  365.,   365.],\n",
       "        [ 2160.,  2160.],\n",
       "        [ 3280.,  3280.],\n",
       "        [15340., 15340.]],\n",
       "\n",
       "       ...,\n",
       "\n",
       "       [[ 2000., 64002.],\n",
       "        [   40., 16600.],\n",
       "        [  365.,   365.],\n",
       "        [ 4201.,  4201.],\n",
       "        [ 5001.,  5001.],\n",
       "        [16600., 16600.]],\n",
       "\n",
       "       [[ 1000.,  1000.],\n",
       "        [   40., 15600.],\n",
       "        [  365.,   365.],\n",
       "        [ 2080.,  2080.],\n",
       "        [ 3320.,  3320.],\n",
       "        [15600., 15600.]],\n",
       "\n",
       "       [[ 2000.,  2000.],\n",
       "        [   40., 16600.],\n",
       "        [  365.,   365.],\n",
       "        [ 4601.,  4601.],\n",
       "        [ 4601.,  4601.],\n",
       "        [16600., 16600.]]])"
      ]
     },
     "execution_count": 179,
     "metadata": {},
     "output_type": "execute_result"
    }
   ],
   "source": [
    "np.stack((lending_co_data_numeric,lending_co_data_numeric_NAN), axis=-1)"
   ]
  },
  {
   "cell_type": "markdown",
   "id": "657738bb",
   "metadata": {},
   "source": [
    "### Concatenating Arrays"
   ]
  },
  {
   "cell_type": "raw",
   "id": "7a53aefb",
   "metadata": {},
   "source": [
    "=> concatenating is the linking together objects in a chain\n",
    "=> creating a new larger array by merging existing smaller arrays along a given axis\n",
    "=> the inputs and outputs of the np.concatenate() function always have the same number of dimensions\n",
    "=> differs from stacking because even though we are storing the values of both arrays, we are still confined to 1 dimension\n",
    "=> np.concatenate () works exactly like np.hstack(), np.vstack(), np.dstack(), depending on the input and axis arguments\n",
    "np.hstack() => np.conctenae((), axis=0)\n",
    "np.vstack() => np.conctenae((), axis=0)\n",
    "np.dstack() => np.conctenae((), axis=0)"
   ]
  },
  {
   "cell_type": "code",
   "execution_count": 180,
   "id": "22621380",
   "metadata": {},
   "outputs": [
    {
     "data": {
      "text/plain": [
       "array([[ 2000.,    40.,   365.,  3121.,  4241., 13621.],\n",
       "       [ 2000.,    40.,   365.,  3061.,  4171., 15041.],\n",
       "       [ 1000.,    40.,   365.,  2160.,  3280., 15340.],\n",
       "       ...,\n",
       "       [ 2000.,    40.,   365.,  4201.,  5001., 16600.],\n",
       "       [ 1000.,    40.,   365.,  2080.,  3320., 15600.],\n",
       "       [ 2000.,    40.,   365.,  4601.,  4601., 16600.]])"
      ]
     },
     "execution_count": 180,
     "metadata": {},
     "output_type": "execute_result"
    }
   ],
   "source": [
    "lending_co_data_numeric = np.loadtxt(\"Lending-company-Numeric.csv\",delimiter=',')\n",
    "lending_co_data_numeric"
   ]
  },
  {
   "cell_type": "code",
   "execution_count": 181,
   "id": "9c4255a2",
   "metadata": {},
   "outputs": [
    {
     "data": {
      "text/plain": [
       "array([ 2000.,    40.,   365.,  3121.,  4241., 13621.,  2000.,    40.,\n",
       "         365.,  3061.,  4171., 15041.])"
      ]
     },
     "execution_count": 181,
     "metadata": {},
     "output_type": "execute_result"
    }
   ],
   "source": [
    "np.concatenate((lending_co_data_numeric[0,:],lending_co_data_numeric[1,:])) # add first two rows"
   ]
  },
  {
   "cell_type": "code",
   "execution_count": 182,
   "id": "87c8200c",
   "metadata": {},
   "outputs": [
    {
     "data": {
      "text/plain": [
       "array([[ 2000., 13621.,   365.,  3121.,  4241., 13621.],\n",
       "       [ 2000., 15041.,   365.,  3061.,  4171., 15041.],\n",
       "       [ 1000., 15340.,   365.,  2160.,  3280., 15340.],\n",
       "       ...,\n",
       "       [64002., 16600.,   365.,  4201.,  5001., 16600.],\n",
       "       [ 1000., 15600.,   365.,  2080.,  3320., 15600.],\n",
       "       [ 2000., 16600.,   365.,  4601.,  4601., 16600.]])"
      ]
     },
     "execution_count": 182,
     "metadata": {},
     "output_type": "execute_result"
    }
   ],
   "source": [
    "# Recall\n",
    "lending_co_data_numeric_NAN =np.genfromtxt(\"Lending-company-Numeric-NAN.csv\", delimiter=';')\n",
    "temporary_fill = np.nanmax(lending_co_data_numeric_NAN).round(2)+1\n",
    "temporary_mean =np.nanmean(lending_co_data_numeric_NAN, axis=0).round(2)\n",
    "lending_co_data_numeric_NAN =np.genfromtxt(\"Lending-company-Numeric-NAN.csv\", delimiter=';',\n",
    "                                          filling_values=temporary_fill)\n",
    "\n",
    "for i in range(lending_co_data_numeric_NAN.shape[1]):\n",
    "    lending_co_data_numeric_NAN[:,1] =np.where(lending_co_data_numeric_NAN[:,i]==temporary_fill,\n",
    "                                              temporary_mean[i],\n",
    "                                              lending_co_data_numeric_NAN[:,i])\n",
    "lending_co_data_numeric_NAN"
   ]
  },
  {
   "cell_type": "code",
   "execution_count": 183,
   "id": "72dbe1e6",
   "metadata": {},
   "outputs": [
    {
     "data": {
      "text/plain": [
       "array([[ 2000.,    40.,   365.,  3121.,  4241., 13621.],\n",
       "       [ 2000.,    40.,   365.,  3061.,  4171., 15041.],\n",
       "       [ 1000.,    40.,   365.,  2160.,  3280., 15340.],\n",
       "       ...,\n",
       "       [64002., 16600.,   365.,  4201.,  5001., 16600.],\n",
       "       [ 1000., 15600.,   365.,  2080.,  3320., 15600.],\n",
       "       [ 2000., 16600.,   365.,  4601.,  4601., 16600.]])"
      ]
     },
     "execution_count": 183,
     "metadata": {},
     "output_type": "execute_result"
    }
   ],
   "source": [
    "np.concatenate((lending_co_data_numeric,lending_co_data_numeric_NAN)) # we have concanetated the second dataset at the bottom of the first"
   ]
  },
  {
   "cell_type": "raw",
   "id": "f9535ca5",
   "metadata": {},
   "source": [
    "## Concatenating inputs of diffrent shapes\n",
    "=>If the two arrays are 1-dimensional, they don't need to hold the same number of elements since the output is 1-dimensional as well them.But only if their dimensions match for the axis we're concatenating along.\n",
    "=> If we have arrays of the same dimensions, but diffrent shapes, we can still concatenate"
   ]
  },
  {
   "cell_type": "code",
   "execution_count": 185,
   "id": "2253ab49",
   "metadata": {},
   "outputs": [
    {
     "data": {
      "text/plain": [
       "array([2000.,   40.,  365., ..., 2000., 1000., 2000.])"
      ]
     },
     "execution_count": 185,
     "metadata": {},
     "output_type": "execute_result"
    }
   ],
   "source": [
    "np.concatenate((lending_co_data_numeric[0,:],lending_co_data_numeric[:,0]))"
   ]
  },
  {
   "cell_type": "code",
   "execution_count": 187,
   "id": "1d5377bc",
   "metadata": {},
   "outputs": [
    {
     "data": {
      "text/plain": [
       "array([[ 2000.,    40.,   365., ...,  4241., 13621.,  2000.],\n",
       "       [ 2000.,    40.,   365., ...,  4171., 15041.,  2000.],\n",
       "       [ 1000.,    40.,   365., ...,  3280., 15340.,  1000.],\n",
       "       ...,\n",
       "       [ 2000.,    40.,   365., ...,  5001., 16600.,  2000.],\n",
       "       [ 1000.,    40.,   365., ...,  3320., 15600.,  1000.],\n",
       "       [ 2000.,    40.,   365., ...,  4601., 16600.,  2000.]])"
      ]
     },
     "execution_count": 187,
     "metadata": {},
     "output_type": "execute_result"
    }
   ],
   "source": [
    "np.concatenate((lending_co_data_numeric,lending_co_data_numeric[:,:1]), axis=1)"
   ]
  },
  {
   "cell_type": "markdown",
   "id": "1debfd84",
   "metadata": {},
   "source": [
    "## Find Unique Values in Arrays "
   ]
  },
  {
   "cell_type": "raw",
   "id": "024b34c5",
   "metadata": {},
   "source": [
    "np.unique()\n",
    "=>Takes an array as an input and creates another array that contains all the diffrent values from the first one\n",
    "=> Any value can feature only once in the np.unique() outputII values A<a\n",
    "=> Sring values are arranged in alphabetic order\n",
    "=> Arranged based on their ASC"
   ]
  },
  {
   "cell_type": "code",
   "execution_count": 188,
   "id": "ee2c2133",
   "metadata": {},
   "outputs": [
    {
     "data": {
      "text/plain": [
       "array([[ 2000.,    40.,   365.,  3121.,  4241., 13621.],\n",
       "       [ 2000.,    40.,   365.,  3061.,  4171., 15041.],\n",
       "       [ 1000.,    40.,   365.,  2160.,  3280., 15340.],\n",
       "       ...,\n",
       "       [ 2000.,    40.,   365.,  4201.,  5001., 16600.],\n",
       "       [ 1000.,    40.,   365.,  2080.,  3320., 15600.],\n",
       "       [ 2000.,    40.,   365.,  4601.,  4601., 16600.]])"
      ]
     },
     "execution_count": 188,
     "metadata": {},
     "output_type": "execute_result"
    }
   ],
   "source": [
    "lending_co_data_numeric = np.loadtxt(\"Lending-company-Numeric.csv\",delimiter=',')\n",
    "lending_co_data_numeric"
   ]
  },
  {
   "cell_type": "code",
   "execution_count": 189,
   "id": "47dd0eb5",
   "metadata": {},
   "outputs": [
    {
     "data": {
      "text/plain": [
       "array([-2870., -2550., -2450., ..., 52751., 54625., 64001.])"
      ]
     },
     "execution_count": 189,
     "metadata": {},
     "output_type": "execute_result"
    }
   ],
   "source": [
    "np.unique(lending_co_data_numeric)"
   ]
  },
  {
   "cell_type": "code",
   "execution_count": 190,
   "id": "06425147",
   "metadata": {},
   "outputs": [
    {
     "data": {
      "text/plain": [
       "array([ 35.,  40.,  50., 125., 165.])"
      ]
     },
     "execution_count": 190,
     "metadata": {},
     "output_type": "execute_result"
    }
   ],
   "source": [
    "# Unique value for the second column\n",
    "np.unique(lending_co_data_numeric[:,1])"
   ]
  },
  {
   "cell_type": "code",
   "execution_count": 191,
   "id": "962a72cb",
   "metadata": {},
   "outputs": [
    {
     "data": {
      "text/plain": [
       "(array([ 35.,  40.,  50., 125., 165.]),\n",
       " array([  4, 567, 451,  19,   2], dtype=int64))"
      ]
     },
     "execution_count": 191,
     "metadata": {},
     "output_type": "execute_result"
    }
   ],
   "source": [
    "#Count how many times present\n",
    "# Unique value for the second column\n",
    "# First array shows unique value\n",
    "# Second array shows how frequency of the value\n",
    "np.unique(lending_co_data_numeric[:,1], return_counts=True)"
   ]
  },
  {
   "cell_type": "code",
   "execution_count": 192,
   "id": "492a2ff3",
   "metadata": {},
   "outputs": [
    {
     "data": {
      "text/plain": [
       "(array([ 35.,  40.,  50., 125., 165.]),\n",
       " array([327,   0,   4,  19,  27], dtype=int64),\n",
       " array([  4, 567, 451,  19,   2], dtype=int64))"
      ]
     },
     "execution_count": 192,
     "metadata": {},
     "output_type": "execute_result"
    }
   ],
   "source": [
    "# we can also determine where it appears first\n",
    "#second array\n",
    "#The array with the 0 is the index array\n",
    "np.unique(lending_co_data_numeric[:,1], return_counts=True, return_index=True)"
   ]
  },
  {
   "cell_type": "code",
   "execution_count": null,
   "id": "b25b2f88",
   "metadata": {},
   "outputs": [],
   "source": []
  }
 ],
 "metadata": {
  "kernelspec": {
   "display_name": "Python 3 (ipykernel)",
   "language": "python",
   "name": "python3"
  },
  "language_info": {
   "codemirror_mode": {
    "name": "ipython",
    "version": 3
   },
   "file_extension": ".py",
   "mimetype": "text/x-python",
   "name": "python",
   "nbconvert_exporter": "python",
   "pygments_lexer": "ipython3",
   "version": "3.9.13"
  }
 },
 "nbformat": 4,
 "nbformat_minor": 5
}
