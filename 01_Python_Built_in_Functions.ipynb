{
 "cells": [
  {
   "cell_type": "markdown",
   "id": "c9102558",
   "metadata": {},
   "source": [
    "# PYTHON IN BUILT FUNCTIONS"
   ]
  },
  {
   "cell_type": "markdown",
   "id": "25eede82",
   "metadata": {},
   "source": [
    "# W3 school Link\n",
    "\n",
    "https://www.w3schools.com/python/python_ref_functions.asp"
   ]
  },
  {
   "cell_type": "markdown",
   "id": "9ab99117",
   "metadata": {},
   "source": [
    "## abs()\n",
    "\n",
    "Return the absoulte value of a number"
   ]
  },
  {
   "cell_type": "code",
   "execution_count": 2,
   "id": "65bf01de",
   "metadata": {},
   "outputs": [
    {
     "data": {
      "text/plain": [
       "7.25"
      ]
     },
     "execution_count": 2,
     "metadata": {},
     "output_type": "execute_result"
    }
   ],
   "source": [
    "abs(-7.25)"
   ]
  },
  {
   "cell_type": "markdown",
   "id": "c556233d",
   "metadata": {},
   "source": [
    "## all()\n",
    "\n",
    "Returns true if all items of an iterable object is True otherwise it returns False.\n",
    "\n",
    "If the iterable object is empty it also returns True.\n",
    "\n",
    "Iterable object: list.tuple,dictionary"
   ]
  },
  {
   "cell_type": "code",
   "execution_count": 3,
   "id": "f2896a53",
   "metadata": {},
   "outputs": [
    {
     "data": {
      "text/plain": [
       "False"
      ]
     },
     "execution_count": 3,
     "metadata": {},
     "output_type": "execute_result"
    }
   ],
   "source": [
    "mylist=[0,1,1]  # 1---> true, 0----> false\n",
    "all(mylist)"
   ]
  },
  {
   "cell_type": "code",
   "execution_count": 5,
   "id": "c746f4ed",
   "metadata": {},
   "outputs": [
    {
     "data": {
      "text/plain": [
       "False"
      ]
     },
     "execution_count": 5,
     "metadata": {},
     "output_type": "execute_result"
    }
   ],
   "source": [
    "mylist=[0,0,0]\n",
    "all(mylist)"
   ]
  },
  {
   "cell_type": "markdown",
   "id": "07e142f6",
   "metadata": {},
   "source": [
    "## any()\n",
    "\n",
    "Returns True if any item of an iterable object is True,Otherwise it returns False\n",
    "\n",
    "If the iterable object is empty it also returns False."
   ]
  },
  {
   "cell_type": "code",
   "execution_count": 6,
   "id": "a823d449",
   "metadata": {},
   "outputs": [
    {
     "data": {
      "text/plain": [
       "True"
      ]
     },
     "execution_count": 6,
     "metadata": {},
     "output_type": "execute_result"
    }
   ],
   "source": [
    "mylist=[0,1,1]\n",
    "any(mylist)"
   ]
  },
  {
   "cell_type": "markdown",
   "id": "6a2244c0",
   "metadata": {},
   "source": [
    "## callable ()\n",
    "\n",
    "Returns True if the specified object is callable, otherwise returns false.\n"
   ]
  },
  {
   "cell_type": "code",
   "execution_count": 7,
   "id": "ab3f76f7",
   "metadata": {},
   "outputs": [
    {
     "name": "stdout",
     "output_type": "stream",
     "text": [
      "True\n"
     ]
    }
   ],
   "source": [
    "# check if a function is callable\n",
    "def x():\n",
    "    a=5\n",
    "print(callable(x))"
   ]
  },
  {
   "cell_type": "markdown",
   "id": "ec0dc46e",
   "metadata": {},
   "source": [
    "## chr()\n",
    "\n",
    "Returns the charecter from a specified unicode."
   ]
  },
  {
   "cell_type": "code",
   "execution_count": 8,
   "id": "7e6cacce",
   "metadata": {},
   "outputs": [],
   "source": [
    "## Get the charecter that represents the unicode 97\n",
    "x=chr(97)"
   ]
  },
  {
   "cell_type": "code",
   "execution_count": 9,
   "id": "77ecca1d",
   "metadata": {},
   "outputs": [
    {
     "data": {
      "text/plain": [
       "'a'"
      ]
     },
     "execution_count": 9,
     "metadata": {},
     "output_type": "execute_result"
    }
   ],
   "source": [
    "x"
   ]
  },
  {
   "cell_type": "markdown",
   "id": "9ec97adc",
   "metadata": {},
   "source": [
    "## complex()\n",
    "\n",
    "Returns a complex number"
   ]
  },
  {
   "cell_type": "code",
   "execution_count": 10,
   "id": "26c7d5d4",
   "metadata": {},
   "outputs": [
    {
     "data": {
      "text/plain": [
       "(3+5j)"
      ]
     },
     "execution_count": 10,
     "metadata": {},
     "output_type": "execute_result"
    }
   ],
   "source": [
    "## convert the number 3 and imaginary number 5 into a complex number\n",
    "\n",
    "x=complex(3,5)\n",
    "x"
   ]
  },
  {
   "cell_type": "markdown",
   "id": "bcf8404a",
   "metadata": {},
   "source": [
    "## dict()\n",
    "\n",
    "Returns a dictionary(Array).\n",
    "\n",
    "Creates a dictionary"
   ]
  },
  {
   "cell_type": "code",
   "execution_count": 11,
   "id": "62eaa647",
   "metadata": {},
   "outputs": [
    {
     "data": {
      "text/plain": [
       "{'name': 'john', 'age': 36, 'country': 'Norway'}"
      ]
     },
     "execution_count": 11,
     "metadata": {},
     "output_type": "execute_result"
    }
   ],
   "source": [
    "x =dict(name= \"john\", age=36, country=\"Norway\")\n",
    "x"
   ]
  },
  {
   "cell_type": "markdown",
   "id": "6cb363eb",
   "metadata": {},
   "source": [
    "## dir()\n",
    "\n",
    "Returns a list of all properties and methods of the specified object, without the values.\n",
    "\n"
   ]
  },
  {
   "cell_type": "code",
   "execution_count": 15,
   "id": "4acf6ba4",
   "metadata": {},
   "outputs": [
    {
     "name": "stdout",
     "output_type": "stream",
     "text": [
      "['__class__', '__delattr__', '__dict__', '__dir__', '__doc__', '__eq__', '__format__', '__ge__', '__getattribute__', '__gt__', '__hash__', '__init__', '__init_subclass__', '__le__', '__lt__', '__module__', '__ne__', '__new__', '__reduce__', '__reduce_ex__', '__repr__', '__setattr__', '__sizeof__', '__str__', '__subclasshook__', '__weakref__', 'age', 'country', 'name']\n"
     ]
    }
   ],
   "source": [
    "class Person:\n",
    "    def __init__(self):\n",
    "        self.name = \"John\"\n",
    "        self.age = 36\n",
    "        self.country = \"Norway\"\n",
    "\n",
    "person = Person()\n",
    "print(dir(person))\n"
   ]
  },
  {
   "cell_type": "markdown",
   "id": "4d1803b0",
   "metadata": {},
   "source": [
    "## divmod()\n",
    "\n",
    "Returns quotient and the remainder when argument1 is divided by argument2."
   ]
  },
  {
   "cell_type": "code",
   "execution_count": 17,
   "id": "57990161",
   "metadata": {},
   "outputs": [
    {
     "data": {
      "text/plain": [
       "(2, 1)"
      ]
     },
     "execution_count": 17,
     "metadata": {},
     "output_type": "execute_result"
    }
   ],
   "source": [
    "## Dispaly the quotient and the remainder of 5 divided by 2\n",
    "divmod(5,2)"
   ]
  },
  {
   "cell_type": "markdown",
   "id": "c505a990",
   "metadata": {},
   "source": [
    "\n",
    "## enumerate()\n",
    "\n",
    "Takes a collection as an argument and return it as an enumerate object.\n",
    "\n",
    "The enumerte() function adds a counter as the key of the enumerate object."
   ]
  },
  {
   "cell_type": "code",
   "execution_count": 20,
   "id": "4b33e765",
   "metadata": {},
   "outputs": [],
   "source": [
    "x=('apple','banana','cherry')\n",
    "   \n",
    "y = enumerate(x)"
   ]
  },
  {
   "cell_type": "code",
   "execution_count": 21,
   "id": "32f7dd38",
   "metadata": {},
   "outputs": [
    {
     "data": {
      "text/plain": [
       "<enumerate at 0x2380cd157c0>"
      ]
     },
     "execution_count": 21,
     "metadata": {},
     "output_type": "execute_result"
    }
   ],
   "source": [
    "y"
   ]
  },
  {
   "cell_type": "markdown",
   "id": "773f2d1a",
   "metadata": {},
   "source": [
    "## filter(function, iterable)\n",
    "\n",
    "Use a filter function to exclude items in an iterable object"
   ]
  },
  {
   "cell_type": "code",
   "execution_count": 23,
   "id": "a411fe67",
   "metadata": {},
   "outputs": [
    {
     "name": "stdout",
     "output_type": "stream",
     "text": [
      "18\n",
      "24\n",
      "32\n"
     ]
    }
   ],
   "source": [
    "## Filter the array and return a new array with only the values equal to or above 18\n",
    "ages =[5,12,17,18,24,32]\n",
    "\n",
    "def myFunc(x):\n",
    "    if x<18:\n",
    "        return False\n",
    "    else:\n",
    "        return True\n",
    "    \n",
    "adults = filter(myFunc,ages)\n",
    "\n",
    "for i in adults:\n",
    "    print(i)"
   ]
  },
  {
   "cell_type": "markdown",
   "id": "a45dd460",
   "metadata": {},
   "source": [
    "## float()\n",
    "\n",
    "Returns a floating point number.\n",
    "\n"
   ]
  },
  {
   "cell_type": "code",
   "execution_count": 26,
   "id": "2d568fb0",
   "metadata": {},
   "outputs": [
    {
     "data": {
      "text/plain": [
       "3.0"
      ]
     },
     "execution_count": 26,
     "metadata": {},
     "output_type": "execute_result"
    }
   ],
   "source": [
    "## Convert the number 3 into a floating point number.\n",
    "\n",
    "x= float(3)\n",
    "x"
   ]
  },
  {
   "cell_type": "markdown",
   "id": "69b48302",
   "metadata": {},
   "source": [
    "## format()\n",
    "\n",
    "Format a specified value."
   ]
  },
  {
   "cell_type": "raw",
   "id": "568b5d7b",
   "metadata": {},
   "source": [
    "\n",
    "Parameter\tDescription\n",
    "value\tA value of any format\n",
    "format\tThe format you want to format the value into.\n",
    "Legal values:\n",
    "'<' - Left aligns the result (within the available space)\n",
    "'>' - Right aligns the result (within the available space)\n",
    "'^' - Center aligns the result (within the available space)\n",
    "'=' - Places the sign to the left most position\n",
    "'+' - Use a plus sign to indicate if the result is positive or negative\n",
    "'-' - Use a minus sign for negative values only\n",
    "' ' - Use a leading space for positive numbers\n",
    "',' - Use a comma as a thousand separator\n",
    "'_' - Use a underscore as a thousand separator\n",
    "'b' - Binary format\n",
    "'c' - Converts the value into the corresponding unicode character\n",
    "'d' - Decimal format\n",
    "'e' - Scientific format, with a lower case e\n",
    "'E' - Scientific format, with an upper case E\n",
    "'f' - Fix point number format\n",
    "'F' - Fix point number format, upper case\n",
    "'g' - General format\n",
    "'G' - General format (using a upper case E for scientific notations)\n",
    "'o' - Octal format\n",
    "'x' - Hex format, lower case\n",
    "'X' - Hex format, upper case\n",
    "'n' - Number format\n",
    "'%' - Percentage format\n",
    "More Examples\n",
    "Example\n",
    "Format 255 into a hexadecimal value:\n",
    "\n",
    "x = format(255, 'x')"
   ]
  },
  {
   "cell_type": "code",
   "execution_count": 27,
   "id": "b5d3b551",
   "metadata": {},
   "outputs": [
    {
     "data": {
      "text/plain": [
       "'50.000000%'"
      ]
     },
     "execution_count": 27,
     "metadata": {},
     "output_type": "execute_result"
    }
   ],
   "source": [
    "# Format the number 0.5 into a percentage value\n",
    "x= format(0.5, '%')\n",
    "x"
   ]
  },
  {
   "cell_type": "markdown",
   "id": "9fb195b0",
   "metadata": {},
   "source": [
    "## globals()\n",
    "\n",
    "Display the current global symbol tables as a dictionary."
   ]
  },
  {
   "cell_type": "code",
   "execution_count": 32,
   "id": "2e4fa882",
   "metadata": {},
   "outputs": [
    {
     "data": {
      "text/plain": [
       "{'__name__': '__main__',\n",
       " '__doc__': 'Automatically created module for IPython interactive environment',\n",
       " '__package__': None,\n",
       " '__loader__': None,\n",
       " '__spec__': None,\n",
       " '__builtin__': <module 'builtins' (built-in)>,\n",
       " '__builtins__': <module 'builtins' (built-in)>,\n",
       " '_ih': ['',\n",
       "  '## abs()\\n\\nReturn the absoulte value of a number',\n",
       "  'abs(-7.25)',\n",
       "  'mylist=[0,1,1]\\nall(mylist)',\n",
       "  'mylist=[1,1,1]\\nall(mylist)',\n",
       "  'mylist=[0,0,0]\\nall(mylist)',\n",
       "  'mylist=[0,1,1]\\nany(mylist)',\n",
       "  '# check if a function is callable\\ndef x():\\n    a=5\\nprint(callable(x))',\n",
       "  '## Get the charecter that represents the unicode 97\\nx=chr(97)',\n",
       "  'x',\n",
       "  '## convert the number 3 and imaginary number 5 into a complex number\\n\\nx=complex(3,5)\\nx',\n",
       "  'x =dict(name= \"john\", age=36, country=\"Norway\")\\nx',\n",
       "  '## dir()\\n\\nReturns a list of all properties and methods of the specified object, without the values.',\n",
       "  'Class Person:\\n    name =\"John\"\\n    age =36\\n    country =norway\\n    \\nprint(dir(person))',\n",
       "  'Class Person{\\n    name =\"John\"\\n    age =36\\n    country =norway\\n}\\nprint(dir(person))',\n",
       "  'class Person:\\n    def __init__(self):\\n        self.name = \"John\"\\n        self.age = 36\\n        self.country = \"Norway\"\\n\\nperson = Person()\\nprint(dir(person))',\n",
       "  '## divmod()\\n\\nReturns quotient and the remainder when argument1 is divided by argument2.',\n",
       "  '## Dispaly the quotient and the remainder of 5 divided by 2\\ndivmod(5,2)',\n",
       "  '## enumareate()\\n\\nTakes a collection as an argument and return it as an enumerate object.\\n\\nThe enumerte() function adds a counter as the key of the enumerate object.',\n",
       "  \"x=('apple,'banana','cherry')\\n   \\ny = enumerate(x)\",\n",
       "  \"x=('apple','banana','cherry')\\n   \\ny = enumerate(x)\",\n",
       "  'y',\n",
       "  '## filter(function, iterable)\\n\\nUse a filter function to exclude items in an iterable object',\n",
       "  '## Filter the array and return a new array with only the values equal to or above 18\\nages =[5,12,17,18,24,32]\\n\\ndef myFunc(x):\\n    if x<18:\\n        return False\\n    else:\\n        return True\\n    \\nadults = filter(myFunc,ages)\\n\\nfor i in adults:\\n    print(i)',\n",
       "  '## float()\\n\\nReturns a floating point number.',\n",
       "  '## Convert the number 3 into a floating point number.\\n\\nx= float(3)',\n",
       "  '## Convert the number 3 into a floating point number.\\n\\nx= float(3)\\nx',\n",
       "  \"# Format the number 0.5 into a percentage value\\nx= format(0.5, '%')\\nx\",\n",
       "  '## globals()\\n\\nDisplay the current global symbol tables as a dictionary.',\n",
       "  '## Display the global symbol table\\n\\nx= globals()\\nx',\n",
       "  '## Display the global symbol table\\n\\nglobals()',\n",
       "  '## Display the global symbol table\\n\\nprint(globals())',\n",
       "  '## Display the global symbol table\\n\\nglobals()'],\n",
       " '_oh': {2: 7.25,\n",
       "  3: False,\n",
       "  4: True,\n",
       "  5: False,\n",
       "  6: True,\n",
       "  9: 'a',\n",
       "  10: (3+5j),\n",
       "  11: {'name': 'john', 'age': 36, 'country': 'Norway'},\n",
       "  17: (2, 1),\n",
       "  21: <enumerate at 0x2380cd157c0>,\n",
       "  26: 3.0,\n",
       "  27: '50.000000%',\n",
       "  29: {...},\n",
       "  30: {...}},\n",
       " '_dh': ['C:\\\\Users\\\\13612\\\\0001_Problem_Solving\\\\02_Python_W3_School'],\n",
       " 'In': ['',\n",
       "  '## abs()\\n\\nReturn the absoulte value of a number',\n",
       "  'abs(-7.25)',\n",
       "  'mylist=[0,1,1]\\nall(mylist)',\n",
       "  'mylist=[1,1,1]\\nall(mylist)',\n",
       "  'mylist=[0,0,0]\\nall(mylist)',\n",
       "  'mylist=[0,1,1]\\nany(mylist)',\n",
       "  '# check if a function is callable\\ndef x():\\n    a=5\\nprint(callable(x))',\n",
       "  '## Get the charecter that represents the unicode 97\\nx=chr(97)',\n",
       "  'x',\n",
       "  '## convert the number 3 and imaginary number 5 into a complex number\\n\\nx=complex(3,5)\\nx',\n",
       "  'x =dict(name= \"john\", age=36, country=\"Norway\")\\nx',\n",
       "  '## dir()\\n\\nReturns a list of all properties and methods of the specified object, without the values.',\n",
       "  'Class Person:\\n    name =\"John\"\\n    age =36\\n    country =norway\\n    \\nprint(dir(person))',\n",
       "  'Class Person{\\n    name =\"John\"\\n    age =36\\n    country =norway\\n}\\nprint(dir(person))',\n",
       "  'class Person:\\n    def __init__(self):\\n        self.name = \"John\"\\n        self.age = 36\\n        self.country = \"Norway\"\\n\\nperson = Person()\\nprint(dir(person))',\n",
       "  '## divmod()\\n\\nReturns quotient and the remainder when argument1 is divided by argument2.',\n",
       "  '## Dispaly the quotient and the remainder of 5 divided by 2\\ndivmod(5,2)',\n",
       "  '## enumareate()\\n\\nTakes a collection as an argument and return it as an enumerate object.\\n\\nThe enumerte() function adds a counter as the key of the enumerate object.',\n",
       "  \"x=('apple,'banana','cherry')\\n   \\ny = enumerate(x)\",\n",
       "  \"x=('apple','banana','cherry')\\n   \\ny = enumerate(x)\",\n",
       "  'y',\n",
       "  '## filter(function, iterable)\\n\\nUse a filter function to exclude items in an iterable object',\n",
       "  '## Filter the array and return a new array with only the values equal to or above 18\\nages =[5,12,17,18,24,32]\\n\\ndef myFunc(x):\\n    if x<18:\\n        return False\\n    else:\\n        return True\\n    \\nadults = filter(myFunc,ages)\\n\\nfor i in adults:\\n    print(i)',\n",
       "  '## float()\\n\\nReturns a floating point number.',\n",
       "  '## Convert the number 3 into a floating point number.\\n\\nx= float(3)',\n",
       "  '## Convert the number 3 into a floating point number.\\n\\nx= float(3)\\nx',\n",
       "  \"# Format the number 0.5 into a percentage value\\nx= format(0.5, '%')\\nx\",\n",
       "  '## globals()\\n\\nDisplay the current global symbol tables as a dictionary.',\n",
       "  '## Display the global symbol table\\n\\nx= globals()\\nx',\n",
       "  '## Display the global symbol table\\n\\nglobals()',\n",
       "  '## Display the global symbol table\\n\\nprint(globals())',\n",
       "  '## Display the global symbol table\\n\\nglobals()'],\n",
       " 'Out': {2: 7.25,\n",
       "  3: False,\n",
       "  4: True,\n",
       "  5: False,\n",
       "  6: True,\n",
       "  9: 'a',\n",
       "  10: (3+5j),\n",
       "  11: {'name': 'john', 'age': 36, 'country': 'Norway'},\n",
       "  17: (2, 1),\n",
       "  21: <enumerate at 0x2380cd157c0>,\n",
       "  26: 3.0,\n",
       "  27: '50.000000%',\n",
       "  29: {...},\n",
       "  30: {...}},\n",
       " 'get_ipython': <bound method InteractiveShell.get_ipython of <ipykernel.zmqshell.ZMQInteractiveShell object at 0x000002380C93E4C0>>,\n",
       " 'exit': <IPython.core.autocall.ZMQExitAutocall at 0x2380c8558b0>,\n",
       " 'quit': <IPython.core.autocall.ZMQExitAutocall at 0x2380c8558b0>,\n",
       " '_': {...},\n",
       " '__': {...},\n",
       " '___': '50.000000%',\n",
       " '_i': '## Display the global symbol table\\n\\nprint(globals())',\n",
       " '_ii': '## Display the global symbol table\\n\\nglobals()',\n",
       " '_iii': '## Display the global symbol table\\n\\nx= globals()\\nx',\n",
       " '_i1': '## abs()\\n\\nReturn the absoulte value of a number',\n",
       " '_i2': 'abs(-7.25)',\n",
       " '_2': 7.25,\n",
       " '_i3': 'mylist=[0,1,1]\\nall(mylist)',\n",
       " 'mylist': [0, 1, 1],\n",
       " '_3': False,\n",
       " '_i4': 'mylist=[1,1,1]\\nall(mylist)',\n",
       " '_4': True,\n",
       " '_i5': 'mylist=[0,0,0]\\nall(mylist)',\n",
       " '_5': False,\n",
       " '_i6': 'mylist=[0,1,1]\\nany(mylist)',\n",
       " '_6': True,\n",
       " '_i7': '# check if a function is callable\\ndef x():\\n    a=5\\nprint(callable(x))',\n",
       " 'x': {...},\n",
       " '_i8': '## Get the charecter that represents the unicode 97\\nx=chr(97)',\n",
       " '_i9': 'x',\n",
       " '_9': 'a',\n",
       " '_i10': '## convert the number 3 and imaginary number 5 into a complex number\\n\\nx=complex(3,5)\\nx',\n",
       " '_10': (3+5j),\n",
       " '_i11': 'x =dict(name= \"john\", age=36, country=\"Norway\")\\nx',\n",
       " '_11': {'name': 'john', 'age': 36, 'country': 'Norway'},\n",
       " '_i12': '## dir()\\n\\nReturns a list of all properties and methods of the specified object, without the values.',\n",
       " '_i13': 'Class Person:\\n    name =\"John\"\\n    age =36\\n    country =norway\\n    \\nprint(dir(person))',\n",
       " '_i14': 'Class Person{\\n    name =\"John\"\\n    age =36\\n    country =norway\\n}\\nprint(dir(person))',\n",
       " '_i15': 'class Person:\\n    def __init__(self):\\n        self.name = \"John\"\\n        self.age = 36\\n        self.country = \"Norway\"\\n\\nperson = Person()\\nprint(dir(person))',\n",
       " 'Person': __main__.Person,\n",
       " 'person': <__main__.Person at 0x2380ccd7ac0>,\n",
       " '_i16': '## divmod()\\n\\nReturns quotient and the remainder when argument1 is divided by argument2.',\n",
       " '_i17': '## Dispaly the quotient and the remainder of 5 divided by 2\\ndivmod(5,2)',\n",
       " '_17': (2, 1),\n",
       " '_i18': '## enumareate()\\n\\nTakes a collection as an argument and return it as an enumerate object.\\n\\nThe enumerte() function adds a counter as the key of the enumerate object.',\n",
       " '_i19': \"x=('apple,'banana','cherry')\\n   \\ny = enumerate(x)\",\n",
       " '_i20': \"x=('apple','banana','cherry')\\n   \\ny = enumerate(x)\",\n",
       " 'y': <enumerate at 0x2380cd157c0>,\n",
       " '_i21': 'y',\n",
       " '_21': <enumerate at 0x2380cd157c0>,\n",
       " '_i22': '## filter(function, iterable)\\n\\nUse a filter function to exclude items in an iterable object',\n",
       " '_i23': '## Filter the array and return a new array with only the values equal to or above 18\\nages =[5,12,17,18,24,32]\\n\\ndef myFunc(x):\\n    if x<18:\\n        return False\\n    else:\\n        return True\\n    \\nadults = filter(myFunc,ages)\\n\\nfor i in adults:\\n    print(i)',\n",
       " 'ages': [5, 12, 17, 18, 24, 32],\n",
       " 'myFunc': <function __main__.myFunc(x)>,\n",
       " 'adults': <filter at 0x2380cd35c10>,\n",
       " 'i': 32,\n",
       " '_i24': '## float()\\n\\nReturns a floating point number.',\n",
       " '_i25': '## Convert the number 3 into a floating point number.\\n\\nx= float(3)',\n",
       " '_i26': '## Convert the number 3 into a floating point number.\\n\\nx= float(3)\\nx',\n",
       " '_26': 3.0,\n",
       " '_i27': \"# Format the number 0.5 into a percentage value\\nx= format(0.5, '%')\\nx\",\n",
       " '_27': '50.000000%',\n",
       " '_i28': '## globals()\\n\\nDisplay the current global symbol tables as a dictionary.',\n",
       " '_i29': '## Display the global symbol table\\n\\nx= globals()\\nx',\n",
       " '_29': {...},\n",
       " '_i30': '## Display the global symbol table\\n\\nglobals()',\n",
       " '_30': {...},\n",
       " '_i31': '## Display the global symbol table\\n\\nprint(globals())',\n",
       " '_i32': '## Display the global symbol table\\n\\nglobals()'}"
      ]
     },
     "execution_count": 32,
     "metadata": {},
     "output_type": "execute_result"
    }
   ],
   "source": [
    "## Display the global symbol table\n",
    "\n",
    "globals()\n"
   ]
  },
  {
   "cell_type": "markdown",
   "id": "66a2024b",
   "metadata": {},
   "source": [
    "## hashattr(obj, attr)\n",
    "\n",
    "Returns true if a specified object has the specified attribute.\n"
   ]
  },
  {
   "cell_type": "code",
   "execution_count": 35,
   "id": "44d94b3b",
   "metadata": {},
   "outputs": [
    {
     "data": {
      "text/plain": [
       "True"
      ]
     },
     "execution_count": 35,
     "metadata": {},
     "output_type": "execute_result"
    }
   ],
   "source": [
    "class Person:\n",
    "    def __init__(self):\n",
    "        self.name = \"John\"\n",
    "        self.age = 36\n",
    "        self.country = \"Norway\"\n",
    "\n",
    "person = Person()\n",
    "x=hasattr(person,'age')\n",
    "\n",
    "x"
   ]
  },
  {
   "cell_type": "markdown",
   "id": "4c70ac21",
   "metadata": {},
   "source": [
    "## hash()\n",
    "\n",
    "Returns the hash value of a specified object."
   ]
  },
  {
   "cell_type": "markdown",
   "id": "0d160066",
   "metadata": {},
   "source": [
    "## hex()\n",
    "\n",
    "Convert a number into hexadecimal value."
   ]
  },
  {
   "cell_type": "code",
   "execution_count": 36,
   "id": "e75a58af",
   "metadata": {},
   "outputs": [
    {
     "data": {
      "text/plain": [
       "'0xff'"
      ]
     },
     "execution_count": 36,
     "metadata": {},
     "output_type": "execute_result"
    }
   ],
   "source": [
    "## Convert 255 into hexadecimal value\n",
    "\n",
    "hex(255)"
   ]
  },
  {
   "cell_type": "markdown",
   "id": "e0a0e9df",
   "metadata": {},
   "source": [
    "## id()\n",
    "\n",
    "returns the id of an object."
   ]
  },
  {
   "cell_type": "code",
   "execution_count": 37,
   "id": "f2caa18d",
   "metadata": {},
   "outputs": [],
   "source": [
    "x =('apple','banana','cherry')\n",
    "\n",
    "y= id(x)"
   ]
  },
  {
   "cell_type": "code",
   "execution_count": 38,
   "id": "46714478",
   "metadata": {},
   "outputs": [
    {
     "data": {
      "text/plain": [
       "2439751387264"
      ]
     },
     "execution_count": 38,
     "metadata": {},
     "output_type": "execute_result"
    }
   ],
   "source": [
    "y"
   ]
  },
  {
   "cell_type": "markdown",
   "id": "bcd2b48c",
   "metadata": {},
   "source": [
    "## input()\n",
    "\n",
    "Allowing user input."
   ]
  },
  {
   "cell_type": "code",
   "execution_count": 39,
   "id": "52d57415",
   "metadata": {},
   "outputs": [
    {
     "name": "stdout",
     "output_type": "stream",
     "text": [
      "Enter your name\n",
      "Marufa\n",
      "Hello Marufa\n"
     ]
    }
   ],
   "source": [
    "print('Enter your name')\n",
    "\n",
    "x=input()\n",
    "\n",
    "print('Hello', x)"
   ]
  },
  {
   "cell_type": "markdown",
   "id": "07974bff",
   "metadata": {},
   "source": [
    "## isinstance(object,type)\n",
    "\n",
    "The isinstance() function retrurn True if the specified object is of the specified type, otherwise False.\n",
    "\n",
    "If the type parameter is a tuple, this function will return True, if the object is one of the type in the tuple."
   ]
  },
  {
   "cell_type": "code",
   "execution_count": 40,
   "id": "a8a1d92e",
   "metadata": {},
   "outputs": [
    {
     "data": {
      "text/plain": [
       "True"
      ]
     },
     "execution_count": 40,
     "metadata": {},
     "output_type": "execute_result"
    }
   ],
   "source": [
    "## check if the number 5 is an integer\n",
    "\n",
    "x = isinstance(5,int)\n",
    "x"
   ]
  },
  {
   "cell_type": "markdown",
   "id": "2a1270b8",
   "metadata": {},
   "source": [
    "## iter(obj, sentinel)\n",
    "\n",
    "The iter function returns an iterator object."
   ]
  },
  {
   "cell_type": "code",
   "execution_count": 41,
   "id": "b1be48ac",
   "metadata": {},
   "outputs": [
    {
     "name": "stdout",
     "output_type": "stream",
     "text": [
      "apple\n",
      "banana\n",
      "cherry\n"
     ]
    }
   ],
   "source": [
    "x =iter(['apple','banana','cherry'])\n",
    "\n",
    "print(next(x))\n",
    "print(next(x))\n",
    "print(next(x))\n"
   ]
  },
  {
   "cell_type": "markdown",
   "id": "f5f04fbe",
   "metadata": {},
   "source": [
    "## len()\n",
    "\n",
    "Returns the length of an object."
   ]
  },
  {
   "cell_type": "code",
   "execution_count": 42,
   "id": "e036f036",
   "metadata": {},
   "outputs": [
    {
     "data": {
      "text/plain": [
       "3"
      ]
     },
     "execution_count": 42,
     "metadata": {},
     "output_type": "execute_result"
    }
   ],
   "source": [
    "mylist =['apple','banana','cherry']\n",
    "\n",
    "x= len(mylist)\n",
    "\n",
    "x"
   ]
  },
  {
   "cell_type": "markdown",
   "id": "b45aceec",
   "metadata": {},
   "source": [
    "## list()\n",
    "\n",
    "returns a list"
   ]
  },
  {
   "cell_type": "code",
   "execution_count": 43,
   "id": "b25e5f01",
   "metadata": {},
   "outputs": [
    {
     "data": {
      "text/plain": [
       "['apple', 'bananna', 'cherry']"
      ]
     },
     "execution_count": 43,
     "metadata": {},
     "output_type": "execute_result"
    }
   ],
   "source": [
    "x= list(('apple','bananna','cherry'))\n",
    "x"
   ]
  },
  {
   "cell_type": "markdown",
   "id": "377b8c81",
   "metadata": {},
   "source": [
    "## map()\n",
    "\n",
    "The map() function executes a specified function for each item in an iterable. The item is sent to the function as a parameter.\n"
   ]
  },
  {
   "cell_type": "raw",
   "id": "c51eda58",
   "metadata": {},
   "source": [
    "\n",
    "Syntax\n",
    "\n",
    "map(function, iterables)\n",
    "Parameter Values\n",
    "Parameter\tDescription\n",
    "function\tRequired. The function to execute for each item\n",
    "iterable\tRequired. A sequence, collection or an iterator object. You can send as many iterables as you like, just make sure the function has one parameter for each iterable."
   ]
  },
  {
   "cell_type": "code",
   "execution_count": 50,
   "id": "fa01e0b6",
   "metadata": {},
   "outputs": [
    {
     "name": "stdout",
     "output_type": "stream",
     "text": [
      "5\n",
      "6\n",
      "6\n"
     ]
    }
   ],
   "source": [
    "## Calculate the length of each word in the tuple\n",
    "\n",
    "def myFunc(n):\n",
    "    return len(n)\n",
    "    \n",
    "x=map(myFunc,('apple','banana','cherry'))\n",
    "\n",
    "for i in x:\n",
    "    print(i)"
   ]
  },
  {
   "cell_type": "code",
   "execution_count": 53,
   "id": "097e3bf4",
   "metadata": {},
   "outputs": [
    {
     "name": "stdout",
     "output_type": "stream",
     "text": [
      "['appleorange', 'bananalemon', 'cherrypineapple']\n"
     ]
    }
   ],
   "source": [
    "## make new fruits by sending to iterable objects into the functions\n",
    "def myFunc(a,b):\n",
    "    return a+b\n",
    "\n",
    "x= map(myFunc,('apple','banana','cherry'),('orange','lemon','pineapple'))\n",
    "\n",
    "## convert the map into list for readibility\n",
    "\n",
    "print(list(x))\n"
   ]
  },
  {
   "cell_type": "markdown",
   "id": "88d652e5",
   "metadata": {},
   "source": [
    "## max()\n",
    "\n",
    "returns the largest item of the iterable."
   ]
  },
  {
   "cell_type": "code",
   "execution_count": 56,
   "id": "cde9a115",
   "metadata": {},
   "outputs": [
    {
     "data": {
      "text/plain": [
       "10"
      ]
     },
     "execution_count": 56,
     "metadata": {},
     "output_type": "execute_result"
    }
   ],
   "source": [
    "x= max(5,10)\n",
    "x"
   ]
  },
  {
   "cell_type": "markdown",
   "id": "012366fe",
   "metadata": {},
   "source": [
    "## min()\n",
    "\n",
    "returns the smallest item of the iterable.\n"
   ]
  },
  {
   "cell_type": "code",
   "execution_count": 58,
   "id": "124245fa",
   "metadata": {},
   "outputs": [
    {
     "data": {
      "text/plain": [
       "5"
      ]
     },
     "execution_count": 58,
     "metadata": {},
     "output_type": "execute_result"
    }
   ],
   "source": [
    "x =min(5,10)\n",
    "x"
   ]
  },
  {
   "cell_type": "markdown",
   "id": "dd983a09",
   "metadata": {},
   "source": [
    "## next()\n",
    "\n",
    "Returns the next item in an iterable."
   ]
  },
  {
   "cell_type": "code",
   "execution_count": 61,
   "id": "22e849bf",
   "metadata": {},
   "outputs": [
    {
     "name": "stdout",
     "output_type": "stream",
     "text": [
      "apple\n",
      "banana\n",
      "cherry\n"
     ]
    }
   ],
   "source": [
    "## create an iterator and print the items one by one\n",
    "\n",
    "x =iter(['apple','banana','cherry'])\n",
    "print(next(x))\n",
    "print(next(x))\n",
    "print(next(x))"
   ]
  },
  {
   "cell_type": "markdown",
   "id": "878c18a2",
   "metadata": {},
   "source": [
    "## object()\n",
    "\n",
    "Returns a new object.\n",
    "\n",
    "you can not add method or properties to this new object.\n",
    "\n",
    "The object is the base for all classes."
   ]
  },
  {
   "cell_type": "code",
   "execution_count": 62,
   "id": "c3e1bd07",
   "metadata": {},
   "outputs": [],
   "source": [
    "## Create an empty object\n",
    "x=object()"
   ]
  },
  {
   "cell_type": "code",
   "execution_count": 63,
   "id": "bfeebb9a",
   "metadata": {},
   "outputs": [
    {
     "data": {
      "text/plain": [
       "<object at 0x2380cb60aa0>"
      ]
     },
     "execution_count": 63,
     "metadata": {},
     "output_type": "execute_result"
    }
   ],
   "source": [
    "x"
   ]
  },
  {
   "cell_type": "markdown",
   "id": "c337f339",
   "metadata": {},
   "source": [
    "## oct()\n",
    "\n",
    "convert a number into an octal"
   ]
  },
  {
   "cell_type": "code",
   "execution_count": 64,
   "id": "ede10f7a",
   "metadata": {},
   "outputs": [],
   "source": [
    "## convert the number 12 into an octal value\n",
    "\n",
    "x= oct(12)"
   ]
  },
  {
   "cell_type": "code",
   "execution_count": 65,
   "id": "49c9ca42",
   "metadata": {},
   "outputs": [
    {
     "data": {
      "text/plain": [
       "'0o14'"
      ]
     },
     "execution_count": 65,
     "metadata": {},
     "output_type": "execute_result"
    }
   ],
   "source": [
    "x"
   ]
  },
  {
   "cell_type": "markdown",
   "id": "a18a36de",
   "metadata": {},
   "source": [
    "## open()\n",
    "\n",
    "open a file and return a file object.\n"
   ]
  },
  {
   "cell_type": "code",
   "execution_count": 68,
   "id": "f997f09a",
   "metadata": {},
   "outputs": [
    {
     "name": "stdout",
     "output_type": "stream",
     "text": [
      "Hello world\n"
     ]
    }
   ],
   "source": [
    "f = open(\"demofile.txt\",'r')\n",
    "print(f.read())"
   ]
  },
  {
   "cell_type": "markdown",
   "id": "f19a77d4",
   "metadata": {},
   "source": [
    "## ord()\n",
    "\n",
    "Convert to an integer ther reperesent the unicode of the specified charecter."
   ]
  },
  {
   "cell_type": "code",
   "execution_count": 69,
   "id": "9f0b1407",
   "metadata": {},
   "outputs": [
    {
     "data": {
      "text/plain": [
       "104"
      ]
     },
     "execution_count": 69,
     "metadata": {},
     "output_type": "execute_result"
    }
   ],
   "source": [
    "x= ord(\"h\")\n",
    "x"
   ]
  },
  {
   "cell_type": "markdown",
   "id": "8ae38c82",
   "metadata": {},
   "source": [
    "## pow()\n",
    "\n",
    "Returns the value of x to the power of y."
   ]
  },
  {
   "cell_type": "code",
   "execution_count": 70,
   "id": "ff83d472",
   "metadata": {},
   "outputs": [
    {
     "data": {
      "text/plain": [
       "64"
      ]
     },
     "execution_count": 70,
     "metadata": {},
     "output_type": "execute_result"
    }
   ],
   "source": [
    "x =pow(4,3)\n",
    "x"
   ]
  },
  {
   "cell_type": "markdown",
   "id": "d66481e3",
   "metadata": {},
   "source": [
    "## range()\n",
    "\n",
    "Returns a sequence of numbers starting from 0 and increment by 1(y default)"
   ]
  },
  {
   "cell_type": "code",
   "execution_count": 71,
   "id": "ec1a173e",
   "metadata": {},
   "outputs": [
    {
     "name": "stdout",
     "output_type": "stream",
     "text": [
      "0\n",
      "1\n",
      "2\n",
      "3\n",
      "4\n",
      "5\n"
     ]
    }
   ],
   "source": [
    "x = range(6)\n",
    "for i in x:\n",
    "    print(i)"
   ]
  },
  {
   "cell_type": "markdown",
   "id": "d693316f",
   "metadata": {},
   "source": [
    "## reveresed()\n",
    "\n",
    "Returns a reversed iterator object.\n"
   ]
  },
  {
   "cell_type": "code",
   "execution_count": 76,
   "id": "a0fdcd26",
   "metadata": {},
   "outputs": [
    {
     "name": "stdout",
     "output_type": "stream",
     "text": [
      "<list_reverseiterator object at 0x000002380ED34E50>\n",
      "d\n",
      "c\n",
      "b\n",
      "a\n"
     ]
    }
   ],
   "source": [
    "## Reverse the sequence of a list and print each item.\n",
    "x = [\"a\",\"b\",\"c\",\"d\"]\n",
    "rev_x = reversed(x)\n",
    "\n",
    "print(rev_x)\n",
    "for i in rev_x:\n",
    "    print(i)"
   ]
  },
  {
   "cell_type": "markdown",
   "id": "189003b1",
   "metadata": {},
   "source": [
    "## round()\n",
    "\n",
    "Round a number"
   ]
  },
  {
   "cell_type": "code",
   "execution_count": 77,
   "id": "7bfa97ec",
   "metadata": {},
   "outputs": [
    {
     "data": {
      "text/plain": [
       "5.61"
      ]
     },
     "execution_count": 77,
     "metadata": {},
     "output_type": "execute_result"
    }
   ],
   "source": [
    "## Round a number to only two decimals\n",
    "\n",
    "x= round(5.6093838,2)\n",
    "x"
   ]
  },
  {
   "cell_type": "markdown",
   "id": "76c9160b",
   "metadata": {},
   "source": [
    "## set()\n",
    "\n",
    "Returns a new set object."
   ]
  },
  {
   "cell_type": "code",
   "execution_count": 78,
   "id": "37780f63",
   "metadata": {},
   "outputs": [
    {
     "data": {
      "text/plain": [
       "{'apple', 'banana', 'cherry'}"
      ]
     },
     "execution_count": 78,
     "metadata": {},
     "output_type": "execute_result"
    }
   ],
   "source": [
    "x = set(('apple','apple','banana','cherry'))\n",
    "x"
   ]
  },
  {
   "cell_type": "markdown",
   "id": "0a363920",
   "metadata": {},
   "source": [
    "## setattr()\n",
    "\n",
    "Sets an attribute of an object.\n"
   ]
  },
  {
   "cell_type": "code",
   "execution_count": 80,
   "id": "270a7516",
   "metadata": {},
   "outputs": [
    {
     "name": "stdout",
     "output_type": "stream",
     "text": [
      "40\n"
     ]
    }
   ],
   "source": [
    "## Change the value of the age property of the person object\n",
    "\n",
    "class Person:\n",
    "    def __init__(self):\n",
    "        self.name = \"John\"\n",
    "        self.age = 36\n",
    "        self.country = \"Norway\"\n",
    "\n",
    "person = Person()\n",
    "\n",
    "setattr(person,'age',40)\n",
    "print(person.age)\n"
   ]
  },
  {
   "cell_type": "markdown",
   "id": "abefe120",
   "metadata": {},
   "source": [
    "## slice()\n",
    "\n",
    "Returns a slice object."
   ]
  },
  {
   "cell_type": "code",
   "execution_count": 82,
   "id": "1dfc7f64",
   "metadata": {},
   "outputs": [
    {
     "name": "stdout",
     "output_type": "stream",
     "text": [
      "('c', 'd')\n"
     ]
    }
   ],
   "source": [
    "a = ('a','b','c','d','e','f','g')\n",
    "x= slice(2,4,1)\n",
    "print(a[x])"
   ]
  },
  {
   "cell_type": "markdown",
   "id": "3d8f62e8",
   "metadata": {},
   "source": [
    "## sorted()\n",
    "\n",
    "Returns a sorted list.\n"
   ]
  },
  {
   "cell_type": "code",
   "execution_count": 83,
   "id": "a634bf3c",
   "metadata": {},
   "outputs": [
    {
     "data": {
      "text/plain": [
       "['a', 'b', 'c', 'd']"
      ]
     },
     "execution_count": 83,
     "metadata": {},
     "output_type": "execute_result"
    }
   ],
   "source": [
    "## sort a tuple\n",
    "x= ('b','d','a','c')\n",
    "y=sorted(x)\n",
    "y"
   ]
  },
  {
   "cell_type": "markdown",
   "id": "d9c5e543",
   "metadata": {},
   "source": [
    "## str()\n",
    "\n",
    "Return a string object.\n"
   ]
  },
  {
   "cell_type": "code",
   "execution_count": 84,
   "id": "6666ec20",
   "metadata": {},
   "outputs": [
    {
     "data": {
      "text/plain": [
       "'3.5'"
      ]
     },
     "execution_count": 84,
     "metadata": {},
     "output_type": "execute_result"
    }
   ],
   "source": [
    "## convert the number 3.5 into  a string\n",
    "x =str(3.5)\n",
    "x"
   ]
  },
  {
   "cell_type": "markdown",
   "id": "f7dc63ff",
   "metadata": {},
   "source": [
    "## sum()\n",
    "\n",
    "Sum the items of an iterator."
   ]
  },
  {
   "cell_type": "code",
   "execution_count": 85,
   "id": "a3a1c80b",
   "metadata": {},
   "outputs": [
    {
     "data": {
      "text/plain": [
       "21"
      ]
     },
     "execution_count": 85,
     "metadata": {},
     "output_type": "execute_result"
    }
   ],
   "source": [
    "a=(1,2,3,4,5,6)\n",
    "x=sum(a)\n",
    "x"
   ]
  },
  {
   "cell_type": "markdown",
   "id": "e4bd62f0",
   "metadata": {},
   "source": [
    "## tuple()\n",
    "\n",
    "Returns a tuple.\n"
   ]
  },
  {
   "cell_type": "code",
   "execution_count": 86,
   "id": "69893f15",
   "metadata": {},
   "outputs": [
    {
     "data": {
      "text/plain": [
       "(1, 2, 3, 4, 5, 6)"
      ]
     },
     "execution_count": 86,
     "metadata": {},
     "output_type": "execute_result"
    }
   ],
   "source": [
    "x=[1,2,3,4,5,6]\n",
    "y=tuple(x)\n",
    "y"
   ]
  },
  {
   "cell_type": "markdown",
   "id": "a4f80c3d",
   "metadata": {},
   "source": [
    "## type()\n",
    "\n",
    "Returns the type of an object"
   ]
  },
  {
   "cell_type": "code",
   "execution_count": 88,
   "id": "3db289a6",
   "metadata": {},
   "outputs": [
    {
     "name": "stdout",
     "output_type": "stream",
     "text": [
      "<class 'tuple'>\n",
      "<class 'str'>\n",
      "<class 'int'>\n"
     ]
    }
   ],
   "source": [
    "a=('apple','banana','cherry')\n",
    "b='Hello'\n",
    "c=1\n",
    "\n",
    "print(type(a))\n",
    "print(type(b))\n",
    "print(type(c))"
   ]
  },
  {
   "cell_type": "markdown",
   "id": "7f5c2aa2",
   "metadata": {},
   "source": [
    "## vars()\n",
    "\n",
    "Returns the __dict__ property of an object."
   ]
  },
  {
   "cell_type": "code",
   "execution_count": 89,
   "id": "060afb1b",
   "metadata": {},
   "outputs": [
    {
     "data": {
      "text/plain": [
       "{'name': 'John', 'age': 36, 'country': 'Norway'}"
      ]
     },
     "execution_count": 89,
     "metadata": {},
     "output_type": "execute_result"
    }
   ],
   "source": [
    "## Change the value of the age property of the person object\n",
    "\n",
    "class Person:\n",
    "    def __init__(self):\n",
    "        self.name = \"John\"\n",
    "        self.age = 36\n",
    "        self.country = \"Norway\"\n",
    "\n",
    "person = Person()\n",
    "\n",
    "x=vars(person)\n",
    "x\n"
   ]
  },
  {
   "cell_type": "markdown",
   "id": "75493ac9",
   "metadata": {},
   "source": [
    "## zip()\n",
    "\n",
    "Returns an iterator from two or more iterator."
   ]
  },
  {
   "cell_type": "code",
   "execution_count": 91,
   "id": "9189d7e7",
   "metadata": {},
   "outputs": [
    {
     "name": "stdout",
     "output_type": "stream",
     "text": [
      "('John', 'jhenny')\n",
      "('charles', 'sumi')\n",
      "('mike', 'Akhi')\n"
     ]
    }
   ],
   "source": [
    "## Join two tiples together\n",
    "\n",
    "a=('John','charles','mike')\n",
    "b=('jhenny','sumi','Akhi')\n",
    "\n",
    "x=zip(a,b)\n",
    "for i in x:\n",
    "    print(i)"
   ]
  },
  {
   "cell_type": "code",
   "execution_count": 92,
   "id": "27a32807",
   "metadata": {},
   "outputs": [
    {
     "name": "stdout",
     "output_type": "stream",
     "text": [
      "('John', 'jhenny')\n",
      "('charles', 'sumi')\n",
      "('mike', 'Akhi')\n"
     ]
    }
   ],
   "source": [
    "## if one tuples contain more items than these items are ignored.\n",
    "\n",
    "a=('John','charles','mike')\n",
    "b=('jhenny','sumi','Akhi','vicky')\n",
    "x=zip(a,b)\n",
    "for i in x:\n",
    "    print(i)"
   ]
  },
  {
   "cell_type": "code",
   "execution_count": null,
   "id": "bf3e427b",
   "metadata": {},
   "outputs": [],
   "source": []
  }
 ],
 "metadata": {
  "kernelspec": {
   "display_name": "Python 3 (ipykernel)",
   "language": "python",
   "name": "python3"
  },
  "language_info": {
   "codemirror_mode": {
    "name": "ipython",
    "version": 3
   },
   "file_extension": ".py",
   "mimetype": "text/x-python",
   "name": "python",
   "nbconvert_exporter": "python",
   "pygments_lexer": "ipython3",
   "version": "3.9.13"
  }
 },
 "nbformat": 4,
 "nbformat_minor": 5
}
