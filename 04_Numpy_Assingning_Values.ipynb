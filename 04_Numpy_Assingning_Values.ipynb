{
 "cells": [
  {
   "cell_type": "code",
   "execution_count": 3,
   "id": "434fab95",
   "metadata": {},
   "outputs": [],
   "source": [
    "import numpy as np"
   ]
  },
  {
   "cell_type": "markdown",
   "id": "3934638e",
   "metadata": {},
   "source": [
    "ASSIGNING VALUES"
   ]
  },
  {
   "cell_type": "code",
   "execution_count": 2,
   "id": "5e42d39a",
   "metadata": {},
   "outputs": [
    {
     "data": {
      "text/plain": [
       "array([[1, 2, 3],\n",
       "       [4, 5, 6]])"
      ]
     },
     "execution_count": 2,
     "metadata": {},
     "output_type": "execute_result"
    }
   ],
   "source": [
    "array_a =np.array([[1,2,3],[4,5,6]])\n",
    "array_a"
   ]
  },
  {
   "cell_type": "code",
   "execution_count": 3,
   "id": "d2417685",
   "metadata": {},
   "outputs": [
    {
     "data": {
      "text/plain": [
       "array([[1, 2, 9],\n",
       "       [4, 5, 6]])"
      ]
     },
     "execution_count": 3,
     "metadata": {},
     "output_type": "execute_result"
    }
   ],
   "source": [
    "## Changing the value of 3rd element in first row(3)\n",
    "array_a[0,2]=9\n",
    "array_a"
   ]
  },
  {
   "cell_type": "code",
   "execution_count": 4,
   "id": "9ce174ee",
   "metadata": {},
   "outputs": [
    {
     "data": {
      "text/plain": [
       "array([[9, 9, 9],\n",
       "       [4, 5, 6]])"
      ]
     },
     "execution_count": 4,
     "metadata": {},
     "output_type": "execute_result"
    }
   ],
   "source": [
    "# We can also change entire vectors within an array\n",
    "array_a[0]=9\n",
    "array_a"
   ]
  },
  {
   "cell_type": "code",
   "execution_count": 6,
   "id": "3ed9398e",
   "metadata": {},
   "outputs": [
    {
     "data": {
      "text/plain": [
       "array([[9, 9, 9],\n",
       "       [9, 5, 6]])"
      ]
     },
     "execution_count": 6,
     "metadata": {},
     "output_type": "execute_result"
    }
   ],
   "source": [
    "array_a[:,0]=9\n",
    "array_a"
   ]
  },
  {
   "cell_type": "code",
   "execution_count": 7,
   "id": "a5463771",
   "metadata": {},
   "outputs": [],
   "source": [
    "# if we want to assign diffrent values in diffrent position\n",
    "list_a =[8,7,8]\n",
    "array_a[0] =list_a  # first row of the array is equal to list_a"
   ]
  },
  {
   "cell_type": "code",
   "execution_count": 8,
   "id": "f2d5411d",
   "metadata": {},
   "outputs": [
    {
     "data": {
      "text/plain": [
       "array([[8, 7, 8],\n",
       "       [9, 5, 6]])"
      ]
     },
     "execution_count": 8,
     "metadata": {},
     "output_type": "execute_result"
    }
   ],
   "source": [
    "array_a"
   ]
  },
  {
   "cell_type": "raw",
   "id": "8ae20e3f",
   "metadata": {},
   "source": []
  },
  {
   "cell_type": "code",
   "execution_count": 9,
   "id": "d9749e4f",
   "metadata": {},
   "outputs": [
    {
     "data": {
      "text/plain": [
       "numpy.ndarray"
      ]
     },
     "execution_count": 9,
     "metadata": {},
     "output_type": "execute_result"
    }
   ],
   "source": [
    "type(array_a[0])"
   ]
  },
  {
   "cell_type": "code",
   "execution_count": 10,
   "id": "0b5f8357",
   "metadata": {},
   "outputs": [],
   "source": [
    "# change the entire array with a single value\n",
    "array_a[:]=9"
   ]
  },
  {
   "cell_type": "code",
   "execution_count": 11,
   "id": "70b5664e",
   "metadata": {},
   "outputs": [
    {
     "data": {
      "text/plain": [
       "array([[9, 9, 9],\n",
       "       [9, 9, 9]])"
      ]
     },
     "execution_count": 11,
     "metadata": {},
     "output_type": "execute_result"
    }
   ],
   "source": [
    "array_a"
   ]
  },
  {
   "cell_type": "markdown",
   "id": "6e59a731",
   "metadata": {},
   "source": [
    "ELEMENT WISE PROPERTIES\n",
    "\n",
    "Whatever mathematetical computation we are conducting we are doing it to each element of the array.\n",
    "The main purpose of an array is to perform coputational operation"
   ]
  },
  {
   "cell_type": "code",
   "execution_count": 16,
   "id": "2752e64b",
   "metadata": {},
   "outputs": [
    {
     "data": {
      "text/plain": [
       "array([7, 8, 9])"
      ]
     },
     "execution_count": 16,
     "metadata": {},
     "output_type": "execute_result"
    }
   ],
   "source": [
    "array_a1=np.array([7,8,9])\n",
    "array_a1"
   ]
  },
  {
   "cell_type": "code",
   "execution_count": 13,
   "id": "b4cd77f5",
   "metadata": {},
   "outputs": [
    {
     "data": {
      "text/plain": [
       "array([[1, 2, 3],\n",
       "       [4, 5, 6]])"
      ]
     },
     "execution_count": 13,
     "metadata": {},
     "output_type": "execute_result"
    }
   ],
   "source": [
    "array_b=np.array([[1,2,3],[4,5,6]])\n",
    "array_b\n"
   ]
  },
  {
   "cell_type": "code",
   "execution_count": 21,
   "id": "59cd3890",
   "metadata": {},
   "outputs": [
    {
     "data": {
      "text/plain": [
       "array([11, 12, 13])"
      ]
     },
     "execution_count": 21,
     "metadata": {},
     "output_type": "execute_result"
    }
   ],
   "source": [
    "array_a1 + 4\n"
   ]
  },
  {
   "cell_type": "code",
   "execution_count": 19,
   "id": "a1b4fc9b",
   "metadata": {},
   "outputs": [
    {
     "data": {
      "text/plain": [
       "array([7, 8, 9])"
      ]
     },
     "execution_count": 19,
     "metadata": {},
     "output_type": "execute_result"
    }
   ],
   "source": [
    "array_a1"
   ]
  },
  {
   "cell_type": "code",
   "execution_count": 20,
   "id": "af4e594e",
   "metadata": {},
   "outputs": [
    {
     "data": {
      "text/plain": [
       "array([ 9, 10, 11])"
      ]
     },
     "execution_count": 20,
     "metadata": {},
     "output_type": "execute_result"
    }
   ],
   "source": [
    "array_a1 + 2"
   ]
  },
  {
   "cell_type": "code",
   "execution_count": 22,
   "id": "504d34a6",
   "metadata": {},
   "outputs": [
    {
     "data": {
      "text/plain": [
       "array([[3, 4, 5],\n",
       "       [6, 7, 8]])"
      ]
     },
     "execution_count": 22,
     "metadata": {},
     "output_type": "execute_result"
    }
   ],
   "source": [
    "array_b+2"
   ]
  },
  {
   "cell_type": "code",
   "execution_count": 23,
   "id": "905b35dc",
   "metadata": {},
   "outputs": [],
   "source": [
    "#In case of list it will concanetate\n",
    "\n",
    "list_a = [1,2,3]"
   ]
  },
  {
   "cell_type": "code",
   "execution_count": 25,
   "id": "0ccab761",
   "metadata": {},
   "outputs": [
    {
     "data": {
      "text/plain": [
       "[1, 2, 3, 2]"
      ]
     },
     "execution_count": 25,
     "metadata": {},
     "output_type": "execute_result"
    }
   ],
   "source": [
    "list_a + [2]"
   ]
  },
  {
   "cell_type": "code",
   "execution_count": 28,
   "id": "c5558839",
   "metadata": {},
   "outputs": [
    {
     "data": {
      "text/plain": [
       "array([ 8, 10, 12])"
      ]
     },
     "execution_count": 28,
     "metadata": {},
     "output_type": "execute_result"
    }
   ],
   "source": [
    "# Two diffrent array\n",
    "# each individual element is added up with it's corresponding counterpart from the other array/elementwise addition\n",
    "# The shape of the array must be compatible. The lenght of the 1-D array must match the \"length\" of the 2-D array.\n",
    "# The order in which we write array is important\n",
    "\n",
    "array_a + array_b[0]"
   ]
  },
  {
   "cell_type": "code",
   "execution_count": 29,
   "id": "fff2606d",
   "metadata": {},
   "outputs": [
    {
     "data": {
      "text/plain": [
       "array([7, 8, 9])"
      ]
     },
     "execution_count": 29,
     "metadata": {},
     "output_type": "execute_result"
    }
   ],
   "source": [
    "array_a"
   ]
  },
  {
   "cell_type": "code",
   "execution_count": 30,
   "id": "64e982d2",
   "metadata": {},
   "outputs": [
    {
     "data": {
      "text/plain": [
       "array([[1, 2, 3],\n",
       "       [4, 5, 6]])"
      ]
     },
     "execution_count": 30,
     "metadata": {},
     "output_type": "execute_result"
    }
   ],
   "source": [
    "array_b"
   ]
  },
  {
   "cell_type": "code",
   "execution_count": 31,
   "id": "11046dee",
   "metadata": {},
   "outputs": [
    {
     "data": {
      "text/plain": [
       "array([11, 13, 15])"
      ]
     },
     "execution_count": 31,
     "metadata": {},
     "output_type": "execute_result"
    }
   ],
   "source": [
    "array_a + array_b[1] # 2nd row"
   ]
  },
  {
   "cell_type": "code",
   "execution_count": 33,
   "id": "5a34a29c",
   "metadata": {},
   "outputs": [
    {
     "data": {
      "text/plain": [
       "array([6, 6, 6])"
      ]
     },
     "execution_count": 33,
     "metadata": {},
     "output_type": "execute_result"
    }
   ],
   "source": [
    "array_a -array_b[0]"
   ]
  },
  {
   "cell_type": "code",
   "execution_count": 34,
   "id": "43883ead",
   "metadata": {},
   "outputs": [
    {
     "data": {
      "text/plain": [
       "array([3, 3, 3])"
      ]
     },
     "execution_count": 34,
     "metadata": {},
     "output_type": "execute_result"
    }
   ],
   "source": [
    "array_a - array_b[1]"
   ]
  },
  {
   "cell_type": "code",
   "execution_count": 35,
   "id": "bb929f8b",
   "metadata": {},
   "outputs": [
    {
     "data": {
      "text/plain": [
       "array([ 7, 16, 27])"
      ]
     },
     "execution_count": 35,
     "metadata": {},
     "output_type": "execute_result"
    }
   ],
   "source": [
    "array_a * array_b[0]"
   ]
  },
  {
   "cell_type": "code",
   "execution_count": 36,
   "id": "9fac6bb4",
   "metadata": {},
   "outputs": [
    {
     "data": {
      "text/plain": [
       "array([28, 40, 54])"
      ]
     },
     "execution_count": 36,
     "metadata": {},
     "output_type": "execute_result"
    }
   ],
   "source": [
    "array_a *array_b[1]"
   ]
  },
  {
   "cell_type": "code",
   "execution_count": 37,
   "id": "8cccff61",
   "metadata": {},
   "outputs": [
    {
     "data": {
      "text/plain": [
       "array([7., 4., 3.])"
      ]
     },
     "execution_count": 37,
     "metadata": {},
     "output_type": "execute_result"
    }
   ],
   "source": [
    "array_a / array_b[0]"
   ]
  },
  {
   "cell_type": "markdown",
   "id": "2aebd0d4",
   "metadata": {},
   "source": [
    "DataTypes Supported by Numpy"
   ]
  },
  {
   "cell_type": "code",
   "execution_count": 1,
   "id": "fdae40bf",
   "metadata": {},
   "outputs": [],
   "source": [
    "# Arrays can contain number. All the numerical datatypes supported by C\n",
    "# We can specify the the type of our dataset using dtype\n",
    "#Two ways to declare data type  dtype=\"data_type/float16\" or dtype=np.data_type/float16"
   ]
  },
  {
   "cell_type": "code",
   "execution_count": 4,
   "id": "5698e94b",
   "metadata": {},
   "outputs": [
    {
     "data": {
      "text/plain": [
       "array([[1, 2, 3],\n",
       "       [4, 5, 6]])"
      ]
     },
     "execution_count": 4,
     "metadata": {},
     "output_type": "execute_result"
    }
   ],
   "source": [
    "array_a =np.array([[1,2,3],[4,5,6]])\n",
    "array_a"
   ]
  },
  {
   "cell_type": "code",
   "execution_count": 7,
   "id": "2066be46",
   "metadata": {},
   "outputs": [
    {
     "data": {
      "text/plain": [
       "array([[1., 2., 3.],\n",
       "       [4., 5., 6.]], dtype=float16)"
      ]
     },
     "execution_count": 7,
     "metadata": {},
     "output_type": "execute_result"
    }
   ],
   "source": [
    "array_a =np.array([[1,2,3],[4,5,6]], dtype=np.float16)\n",
    "array_a"
   ]
  },
  {
   "cell_type": "code",
   "execution_count": 8,
   "id": "18be4b3f",
   "metadata": {},
   "outputs": [
    {
     "data": {
      "text/plain": [
       "array([[1.+0.j, 2.+0.j, 3.+0.j],\n",
       "       [4.+0.j, 5.+0.j, 6.+0.j]], dtype=complex64)"
      ]
     },
     "execution_count": 8,
     "metadata": {},
     "output_type": "execute_result"
    }
   ],
   "source": [
    "# With complex number\n",
    "array_a =np.array([[1,2,3],[4,5,6]], dtype=np.complex64)\n",
    "array_a"
   ]
  },
  {
   "cell_type": "code",
   "execution_count": 9,
   "id": "e44d37c3",
   "metadata": {},
   "outputs": [
    {
     "name": "stderr",
     "output_type": "stream",
     "text": [
      "C:\\Users\\13612\\AppData\\Local\\Temp\\ipykernel_17056\\1833267392.py:1: DeprecationWarning: `np.bool` is a deprecated alias for the builtin `bool`. To silence this warning, use `bool` by itself. Doing this will not modify any behavior and is safe. If you specifically wanted the numpy scalar type, use `np.bool_` here.\n",
      "Deprecated in NumPy 1.20; for more details and guidance: https://numpy.org/devdocs/release/1.20.0-notes.html#deprecations\n",
      "  narray_a =np.array([[1,2,3],[4,5,6]], dtype=np.bool)\n"
     ]
    },
    {
     "data": {
      "text/plain": [
       "array([[1.+0.j, 2.+0.j, 3.+0.j],\n",
       "       [4.+0.j, 5.+0.j, 6.+0.j]], dtype=complex64)"
      ]
     },
     "execution_count": 9,
     "metadata": {},
     "output_type": "execute_result"
    }
   ],
   "source": [
    "narray_a =np.array([[1,2,3],[4,5,6]], dtype=np.bool)\n",
    "array_a"
   ]
  },
  {
   "cell_type": "code",
   "execution_count": 10,
   "id": "0588b4d2",
   "metadata": {},
   "outputs": [
    {
     "name": "stderr",
     "output_type": "stream",
     "text": [
      "C:\\Users\\13612\\AppData\\Local\\Temp\\ipykernel_17056\\1163112924.py:1: DeprecationWarning: `np.str` is a deprecated alias for the builtin `str`. To silence this warning, use `str` by itself. Doing this will not modify any behavior and is safe. If you specifically wanted the numpy scalar type, use `np.str_` here.\n",
      "Deprecated in NumPy 1.20; for more details and guidance: https://numpy.org/devdocs/release/1.20.0-notes.html#deprecations\n",
      "  array_a =np.array([[1,2,3],[4,5,6]], dtype=np.str)\n"
     ]
    },
    {
     "data": {
      "text/plain": [
       "array([['1', '2', '3'],\n",
       "       ['4', '5', '6']], dtype='<U1')"
      ]
     },
     "execution_count": 10,
     "metadata": {},
     "output_type": "execute_result"
    }
   ],
   "source": [
    "array_a =np.array([[1,2,3],[4,5,6]], dtype=np.str)\n",
    "array_a"
   ]
  },
  {
   "cell_type": "code",
   "execution_count": null,
   "id": "74b47641",
   "metadata": {},
   "outputs": [],
   "source": []
  }
 ],
 "metadata": {
  "kernelspec": {
   "display_name": "Python 3 (ipykernel)",
   "language": "python",
   "name": "python3"
  },
  "language_info": {
   "codemirror_mode": {
    "name": "ipython",
    "version": 3
   },
   "file_extension": ".py",
   "mimetype": "text/x-python",
   "name": "python",
   "nbconvert_exporter": "python",
   "pygments_lexer": "ipython3",
   "version": "3.9.13"
  }
 },
 "nbformat": 4,
 "nbformat_minor": 5
}
