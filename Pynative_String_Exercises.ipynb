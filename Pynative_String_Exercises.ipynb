{
 "cells": [
  {
   "cell_type": "markdown",
   "id": "0b9a07cc",
   "metadata": {},
   "source": [
    "## Exercise 1A: Create a string made of the first, middle and last character\n",
    "\n",
    "Write a program to create a new string made of an input string’s first, middle, and last character.\n",
    "\n",
    "Given:\n",
    "\n",
    "str1 = \"James\"\n",
    "\n",
    "Expected Output:\n",
    "    \n",
    "Jms\n",
    "    "
   ]
  },
  {
   "cell_type": "code",
   "execution_count": 16,
   "id": "1db1a9e7",
   "metadata": {},
   "outputs": [],
   "source": [
    "## Create a function that take string as an input\n",
    "def mix_char(txt):\n",
    "    \n",
    "## get the first char \n",
    "    res = txt[0]\n",
    "\n",
    "## get the middle charecter and add it to res\n",
    "\n",
    "    l=len(txt)\n",
    "    mi = int(len(txt)/2) ## index : int is used to convert 2.5 into 2\n",
    "\n",
    "    res = res + txt[mi]\n",
    "\n",
    "## get the last charecter and add it to res\n",
    "\n",
    "    res = res + txt[l-1]\n",
    "\n",
    "    return res\n"
   ]
  },
  {
   "cell_type": "code",
   "execution_count": 18,
   "id": "dd7402f5",
   "metadata": {},
   "outputs": [
    {
     "data": {
      "text/plain": [
       "'afk'"
      ]
     },
     "execution_count": 18,
     "metadata": {},
     "output_type": "execute_result"
    }
   ],
   "source": [
    "mix_char(\"abcdefghijk\")"
   ]
  },
  {
   "cell_type": "markdown",
   "id": "786d6b91",
   "metadata": {},
   "source": [
    "\n",
    "## Exercise 1B: Create a string made of the middle three characters\n",
    "\n",
    "Write a program to create a new string made of the middle three characters of an input string.\n",
    "\n",
    "Given:\n",
    "    \n",
    "Case 1\n",
    "\n",
    "str1 = \"JhonDipPeta\"\n",
    "\n",
    "Output\n",
    "\n",
    "Dip\n",
    "\n",
    "\n",
    "Case 2\n",
    "\n",
    "str2 = \"JaSonAy\"\n",
    "\n",
    "Output\n",
    "\n",
    "Son"
   ]
  },
  {
   "cell_type": "code",
   "execution_count": 20,
   "id": "df42ddf9",
   "metadata": {},
   "outputs": [],
   "source": [
    "## Create a funcrion that will take a string as an input\n",
    "## find the middle charecter by dividing the mi= length/2 add it to a res\n",
    "## find char before and after middle charecter and add it to res\n",
    "\n",
    "# use string slicing to get result characters\n",
    "    #res = str1[mi - 1:mi + 2]\n",
    "\n",
    "def mid_3_char(str1):\n",
    "    l = len(str1)\n",
    "    mi = int(l/2)\n",
    "    \n",
    "    res =str1[mi-1] + str1[mi]+str1[mi+1]\n",
    "    \n",
    "    return res\n",
    "    "
   ]
  },
  {
   "cell_type": "code",
   "execution_count": 21,
   "id": "b21a7b7e",
   "metadata": {},
   "outputs": [
    {
     "data": {
      "text/plain": [
       "'Dip'"
      ]
     },
     "execution_count": 21,
     "metadata": {},
     "output_type": "execute_result"
    }
   ],
   "source": [
    "mid_3_char(\"JhonDipPeta\")"
   ]
  },
  {
   "cell_type": "markdown",
   "id": "c2eabb4c",
   "metadata": {},
   "source": [
    "## Exercise 2: Append new string in the middle of a given string\n",
    "\n",
    "Given two strings, s1 and s2. Write a program to create a new string s3 by appending s2 in the middle of s1.\n",
    "\n",
    "Given:\n",
    "\n",
    "s1 = \"Ault\"\n",
    "\n",
    "s2 = \"Kelly\"\n",
    "\n",
    "Expected Output:\n",
    "    \n",
    "AuKellylt"
   ]
  },
  {
   "cell_type": "code",
   "execution_count": 22,
   "id": "6ffba6b5",
   "metadata": {},
   "outputs": [],
   "source": [
    "## Find the middle index char\n",
    "## slice the char before middle index \n",
    "## add the second string to it\n",
    "## add after middle index chars with it"
   ]
  },
  {
   "cell_type": "code",
   "execution_count": 23,
   "id": "d3bd7412",
   "metadata": {},
   "outputs": [],
   "source": [
    "def mix_char(str1,str2):\n",
    "    l = len(str1)\n",
    "    mi = int(l/2)\n",
    "    mix_char= str1[:mi]+str2+ str1[mi:]\n",
    "    return mix_char"
   ]
  },
  {
   "cell_type": "code",
   "execution_count": 24,
   "id": "eddc6332",
   "metadata": {},
   "outputs": [
    {
     "data": {
      "text/plain": [
       "'AuKellylt'"
      ]
     },
     "execution_count": 24,
     "metadata": {},
     "output_type": "execute_result"
    }
   ],
   "source": [
    "mix_char(\"Ault\",\"Kelly\")"
   ]
  },
  {
   "cell_type": "markdown",
   "id": "a4eb6087",
   "metadata": {},
   "source": [
    "## Exercise 3: Create a new string made of the first, middle, and last characters of each input string\n",
    "\n",
    "Given two strings, s1 and s2, write a program to return a new string made of s1 and s2’s first, middle, and last characters.\n",
    "\n",
    "Given:\n",
    "\n",
    "s1 = \"America\"\n",
    "\n",
    "s2 = \"Japan\"\n",
    "\n",
    "Expected Output:\n",
    "\n",
    "AJrpan"
   ]
  },
  {
   "cell_type": "code",
   "execution_count": 25,
   "id": "4d2321f6",
   "metadata": {},
   "outputs": [],
   "source": [
    "## find  first char of both string s[0] ans add it to a variable\n",
    "## find middle char of both string by using length and add it\n",
    "## find last char of both string s[-1] and add it"
   ]
  },
  {
   "cell_type": "code",
   "execution_count": 28,
   "id": "0e9fb4e8",
   "metadata": {},
   "outputs": [],
   "source": [
    "def mix_strings(s1,s2):\n",
    "    s1_first = s1[0]\n",
    "    s2_first =s2[0]\n",
    "    \n",
    "    res =s1_first+s2_first\n",
    "    \n",
    "    s1_mi = s1[int(len(s1)/2)]\n",
    "    s2_mi = s2[int(len(s2)/2)]\n",
    "    \n",
    "    res = res+ s1_mi +s2_mi\n",
    "    \n",
    "    s1_last =s1[len(s1)-1]\n",
    "    s2_last = s2[len(s2)-1]\n",
    "    \n",
    "    res = res +s1_last+s2_last\n",
    "    \n",
    "    return res"
   ]
  },
  {
   "cell_type": "code",
   "execution_count": 29,
   "id": "2044ebfa",
   "metadata": {},
   "outputs": [
    {
     "data": {
      "text/plain": [
       "'AJrpan'"
      ]
     },
     "execution_count": 29,
     "metadata": {},
     "output_type": "execute_result"
    }
   ],
   "source": [
    "mix_strings(\"America\",\"Japan\")"
   ]
  },
  {
   "cell_type": "markdown",
   "id": "4bf1bfdd",
   "metadata": {},
   "source": [
    "## Exercise 4: Arrange string characters such that lowercase letters should come first\n",
    "\n",
    "Given string contains a combination of the lower and upper case letters. Write a program to arrange the characters of a string \n",
    "\n",
    "so that all lowercase letters should come first.\n",
    "\n",
    "Given:\n",
    "\n",
    "str1 = PyNaTive\n",
    "\n",
    "Expected Output:\n",
    "\n",
    "yaivePNT"
   ]
  },
  {
   "cell_type": "code",
   "execution_count": null,
   "id": "bf7968a1",
   "metadata": {},
   "outputs": [],
   "source": [
    "## iterate throuh the string\n",
    "## check if it is a laower case and added it to a list\n",
    "## check if it is upper case added to another list\n",
    "## add two variales"
   ]
  },
  {
   "cell_type": "code",
   "execution_count": 30,
   "id": "0eafb9b0",
   "metadata": {},
   "outputs": [],
   "source": [
    "def lower_first(str1):\n",
    "    lower=[]\n",
    "    upper=[]\n",
    "    for char in str1:\n",
    "        if char.islower():\n",
    "            lower.append(char)\n",
    "        else:\n",
    "            upper.append(char)\n",
    "    sorted_str = ''.join(lower+upper)\n",
    "    return sorted_str"
   ]
  },
  {
   "cell_type": "code",
   "execution_count": 31,
   "id": "8059babc",
   "metadata": {},
   "outputs": [
    {
     "data": {
      "text/plain": [
       "'yaivePNT'"
      ]
     },
     "execution_count": 31,
     "metadata": {},
     "output_type": "execute_result"
    }
   ],
   "source": [
    "lower_first('PyNaTive')"
   ]
  },
  {
   "cell_type": "markdown",
   "id": "0541c45d",
   "metadata": {},
   "source": [
    "## Exercise 5: Count all letters, digits, and special symbols from a given string\n",
    "\n",
    "Given:\n",
    "\n",
    "str1 = \"P@#yn26at^&i5ve\"\n",
    "\n",
    "Expected Outcome:\n",
    "\n",
    "Total counts of chars, digits, and symbols \n",
    "\n",
    "Chars = 8 \n",
    "\n",
    "Digits = 3 \n",
    "\n",
    "Symbol = 4"
   ]
  },
  {
   "cell_type": "code",
   "execution_count": 32,
   "id": "c5c93872",
   "metadata": {},
   "outputs": [],
   "source": [
    "## iterate through the string\n",
    "## check if it is a letter, digit or symbol  and increase the count"
   ]
  },
  {
   "cell_type": "code",
   "execution_count": 37,
   "id": "6d36d50e",
   "metadata": {},
   "outputs": [],
   "source": [
    "def check_count(str1):\n",
    "    alpha_count =0\n",
    "    digit_count =0\n",
    "    symbol_count=0\n",
    "    \n",
    "    for i in str1:\n",
    "        if i.isalpha():\n",
    "            alpha_count+=1\n",
    "        elif i.isdigit():\n",
    "            digit_count +=1\n",
    "        else:\n",
    "            symbol_count+=1\n",
    "            \n",
    "    print('Chars=',alpha_count,' Digits =',digit_count,'Symbols=', symbol_count)"
   ]
  },
  {
   "cell_type": "code",
   "execution_count": 38,
   "id": "b2f0e661",
   "metadata": {},
   "outputs": [
    {
     "name": "stdout",
     "output_type": "stream",
     "text": [
      "Chars= 8  Digits = 3 Symbols= 4\n"
     ]
    }
   ],
   "source": [
    "check_count( \"P@#yn26at^&i5ve\")"
   ]
  },
  {
   "cell_type": "markdown",
   "id": "45c6ecb0",
   "metadata": {},
   "source": [
    "## Exercise 6: Create a mixed String using the following rules\n",
    "\n",
    "Given two strings, s1 and s2. Write a program to create a new string s3 made of the first char of s1, then the last char of s2, Next, the second char of s1 and second last char of s2, and so on. Any leftover chars go at the end of the result.\n",
    "\n",
    "Given:\n",
    "\n",
    "s1 = \"Abc\"\n",
    "\n",
    "s2 = \"Xyz\"\n",
    "\n",
    "Expected Output:\n",
    "\n",
    "AzbycX"
   ]
  },
  {
   "cell_type": "code",
   "execution_count": 1,
   "id": "069f1902",
   "metadata": {},
   "outputs": [],
   "source": [
    "## Create an empty string to store the new string\n",
    "## Determine the lengths of both strings to iterate through the string\n",
    "## iterate through the strings by matching their lengths\n",
    "## range should be the maximum langth btewwen these two string"
   ]
  },
  {
   "cell_type": "code",
   "execution_count": 2,
   "id": "69df5705",
   "metadata": {},
   "outputs": [],
   "source": [
    "def mix_strings(str1, str2):\n",
    "    new_str =''\n",
    "# Determine the lengths of s1 and s2  \n",
    "    l1 =len(str1)\n",
    "    l2 =len(str2)\n",
    "    max_length= max(l1,l2)\n",
    "# Iterate through each index up to the length of the longer string    \n",
    "    for i in range(max_length):\n",
    "# Add the character from s1 if it exists at this index\n",
    "        if i<l1:\n",
    "            new_str+= str1[i]\n",
    "# Add the character from s2 if it exists at this index            \n",
    "        if i<l2:\n",
    "            new_str+=str2[-(i+1)]\n",
    "    return new_str"
   ]
  },
  {
   "cell_type": "code",
   "execution_count": 4,
   "id": "fc519f23",
   "metadata": {},
   "outputs": [
    {
     "data": {
      "text/plain": [
       "'azbycxxw'"
      ]
     },
     "execution_count": 4,
     "metadata": {},
     "output_type": "execute_result"
    }
   ],
   "source": [
    "mix_strings('abc','wxxyz')"
   ]
  },
  {
   "cell_type": "markdown",
   "id": "e93b60bb",
   "metadata": {},
   "source": [
    "## Exercise 7: String characters balance Test\n",
    "\n",
    "Write a program to check if two strings are balanced. For example, strings s1 and s2 are balanced if all the characters in the \n",
    "\n",
    "s1 are present in s2. The character’s position doesn’t matter.\n",
    "\n",
    "Given:\n",
    "\n",
    "Case 1:\n",
    "\n",
    "s1 = \"Yn\"\n",
    "\n",
    "s2 = \"PYnative\"\n",
    "\n",
    "Expected Output:\n",
    "\n",
    "True\n",
    "\n",
    "Case 2:\n",
    "\n",
    "s1 = \"Ynf\"\n",
    "\n",
    "s2 = \"PYnative\"\n",
    "\n",
    "Expected Output:\n",
    "\n",
    "False"
   ]
  },
  {
   "cell_type": "code",
   "execution_count": 7,
   "id": "78bba76d",
   "metadata": {},
   "outputs": [],
   "source": [
    "## First Solution:\n",
    "\n",
    "def balanced_string(str1,str2):\n",
    "    flag = True\n",
    "    for char in str1:\n",
    "        if char in str2:\n",
    "            continue\n",
    "        else:\n",
    "            flag = False\n",
    "    return flag\n",
    "        "
   ]
  },
  {
   "cell_type": "code",
   "execution_count": 8,
   "id": "c0996df6",
   "metadata": {},
   "outputs": [
    {
     "data": {
      "text/plain": [
       "False"
      ]
     },
     "execution_count": 8,
     "metadata": {},
     "output_type": "execute_result"
    }
   ],
   "source": [
    "balanced_string(\"Ynf\",\"PYnative\")"
   ]
  },
  {
   "cell_type": "code",
   "execution_count": 9,
   "id": "630ca3b7",
   "metadata": {},
   "outputs": [],
   "source": [
    "## using inbuilt string function\n",
    "\n",
    "def blanced_string(str1,str2):\n",
    "    set_1 = set(str1)\n",
    "    set_2 = set(str2)\n",
    "    \n",
    "    return set_1.issubset(str2)\n",
    "    "
   ]
  },
  {
   "cell_type": "code",
   "execution_count": 10,
   "id": "87f56843",
   "metadata": {},
   "outputs": [
    {
     "data": {
      "text/plain": [
       "False"
      ]
     },
     "execution_count": 10,
     "metadata": {},
     "output_type": "execute_result"
    }
   ],
   "source": [
    "blanced_string(\"Ynf\",\"PYnative\")\n"
   ]
  },
  {
   "cell_type": "markdown",
   "id": "d5aa8533",
   "metadata": {},
   "source": [
    "## Write a program to find all occurrences of “USA” in a given string ignoring the case.\n",
    "\n",
    "Given:\n",
    "\n",
    "str1 = \"Welcome to USA. usa awesome, isn't it?\"\n",
    "\n",
    "Expected Outcome:\n",
    "\n",
    "The USA count is: 2"
   ]
  },
  {
   "cell_type": "code",
   "execution_count": 15,
   "id": "41100c46",
   "metadata": {},
   "outputs": [
    {
     "data": {
      "text/plain": [
       "2"
      ]
     },
     "execution_count": 15,
     "metadata": {},
     "output_type": "execute_result"
    }
   ],
   "source": [
    "str1 = \"Welcome to USA. usa awesome, isn't it?\"\n",
    "\n",
    "sub_string = \"USA\"\n",
    "\n",
    "## convert string input string into lower case\n",
    "temp_string = str1.lower()\n",
    "\n",
    "## count sub_string by convertiing it into lower case\n",
    "\n",
    "total_count = temp_string.count(sub_string.lower())\n",
    "\n",
    "total_count\n"
   ]
  },
  {
   "cell_type": "markdown",
   "id": "331d3f0e",
   "metadata": {},
   "source": [
    "## Exercise 9: Calculate the sum and average of the digits present in a string\n",
    "\n",
    "Given a string s1, write a program to return the sum and average of the digits that appear in the string, ignoring all other characters.\n",
    "\n",
    "Given:\n",
    "\n",
    "str1 = \"PYnative29@#8496\"\n",
    "\n",
    "Expected Outcome:\n",
    "\n",
    "Sum is: 38 Average is  6.333333333333333"
   ]
  },
  {
   "cell_type": "code",
   "execution_count": 16,
   "id": "f3e09329",
   "metadata": {},
   "outputs": [],
   "source": [
    "## Iterate through the string and check if it is a digit\n",
    "## add it to a variable and add\n",
    "## finally calculate average\n"
   ]
  },
  {
   "cell_type": "code",
   "execution_count": 22,
   "id": "7cf04535",
   "metadata": {},
   "outputs": [],
   "source": [
    "def return_sum(str1):\n",
    "    sum_digit =0\n",
    "    count_dig =0\n",
    "    for i in str1:\n",
    "        if i.isdigit(): ## check if it is a digit/not\n",
    "            sum_digit+=int(i) # add the digit to the sum\n",
    "            count_dig+=1 ## increase the count\n",
    "            \n",
    "    if count_dig==0:   ## handle if no digit found\n",
    "        \n",
    "        return \"No digit founds\"\n",
    "    \n",
    "    average = sum_digit/count_dig  ## calculate the average\n",
    "    \n",
    "    return sum_digit, average\n",
    "               \n",
    "        "
   ]
  },
  {
   "cell_type": "code",
   "execution_count": 23,
   "id": "7175e03b",
   "metadata": {},
   "outputs": [
    {
     "data": {
      "text/plain": [
       "(38, 6.333333333333333)"
      ]
     },
     "execution_count": 23,
     "metadata": {},
     "output_type": "execute_result"
    }
   ],
   "source": [
    "return_sum(\"PYnative29@#8496\")"
   ]
  },
  {
   "cell_type": "markdown",
   "id": "be5a35e3",
   "metadata": {},
   "source": [
    "## Exercise 10: Write a program to count occurrences of all characters within a string\n",
    "\n",
    "Given:\n",
    "\n",
    "str1 = \"Apple\"\n",
    "\n",
    "Expected Outcome:\n",
    "\n",
    "{'A': 1, 'p': 2, 'l': 1, 'e': 1}"
   ]
  },
  {
   "cell_type": "code",
   "execution_count": 36,
   "id": "8df08687",
   "metadata": {},
   "outputs": [],
   "source": [
    "def char_count(str1):\n",
    "    char_dic={}\n",
    "    \n",
    "    for i in str1:\n",
    "        if i in char_dic:\n",
    "            char_dic[i]+=1\n",
    "        else:\n",
    "            char_dic[i]=1\n",
    "            \n",
    "            \n",
    "    return char_dic\n",
    "            \n",
    "    \n",
    "        "
   ]
  },
  {
   "cell_type": "code",
   "execution_count": 37,
   "id": "9f6e9084",
   "metadata": {},
   "outputs": [
    {
     "data": {
      "text/plain": [
       "{'A': 1, 'p': 2, 'l': 1, 'e': 1}"
      ]
     },
     "execution_count": 37,
     "metadata": {},
     "output_type": "execute_result"
    }
   ],
   "source": [
    "char_count('Apple')\n"
   ]
  },
  {
   "cell_type": "raw",
   "id": "b84bbc29",
   "metadata": {},
   "source": [
    "Adding the character to the dictionary with a count of 1 ensures that the dictionary contains all unique characters present in the string, along with their counts. This step is necessary because the goal is to count the occurrences of all characters within the string, including characters that have not yet been encountered in the loop.\n",
    "\n",
    "When we encounter a character for the first time, it means that its count is 1. So, we initialize its count to 1 when adding it to the dictionary. Later, if we encounter the same character again, we will increment its count in the dictionary.\n",
    "\n",
    "By including all characters in the dictionary (whether encountered once or multiple times), we can accurately count the occurrences of each character in the string and store this information for later use or analysis."
   ]
  },
  {
   "cell_type": "markdown",
   "id": "ca22df2d",
   "metadata": {},
   "source": [
    "## Exercise 11: Reverse a given string\n",
    "\n",
    "Given:\n",
    "\n",
    "str1 = \"PYnative\"\n",
    "\n",
    "Expected Output:\n",
    "\n",
    "evitanYP"
   ]
  },
  {
   "cell_type": "code",
   "execution_count": 41,
   "id": "af095ce2",
   "metadata": {},
   "outputs": [],
   "source": [
    "## using in built reversed function\n",
    "def rev_string(str1):\n",
    "    return ''.join(reversed(str1))"
   ]
  },
  {
   "cell_type": "code",
   "execution_count": 42,
   "id": "2f298123",
   "metadata": {},
   "outputs": [
    {
     "data": {
      "text/plain": [
       "'evitanYP'"
      ]
     },
     "execution_count": 42,
     "metadata": {},
     "output_type": "execute_result"
    }
   ],
   "source": [
    "rev_string(\"PYnative\")"
   ]
  },
  {
   "cell_type": "code",
   "execution_count": 47,
   "id": "36aa06be",
   "metadata": {},
   "outputs": [
    {
     "name": "stdout",
     "output_type": "stream",
     "text": [
      "Reversed string is evitanYP\n"
     ]
    }
   ],
   "source": [
    "## using string slicing\n",
    "str1 = \"PYnative\"\n",
    "str1 = str1[::-1]\n",
    "print('Reversed string is',str1)"
   ]
  },
  {
   "cell_type": "markdown",
   "id": "32157c8f",
   "metadata": {},
   "source": [
    "## Exercise 12: Find the last position of a given substring\n",
    "\n",
    "Write a program to find the last position of a substring “Emma” in a given string.\n",
    "\n",
    "Given:\n",
    "\n",
    "str1 = \"Emma is a data scientist who knows Python. Emma works at google.\"\n",
    "\n",
    "Expected Output:\n",
    "\n",
    "Last occurrence of Emma starts at index 43"
   ]
  },
  {
   "cell_type": "code",
   "execution_count": 48,
   "id": "d105b66d",
   "metadata": {},
   "outputs": [
    {
     "data": {
      "text/plain": [
       "43"
      ]
     },
     "execution_count": 48,
     "metadata": {},
     "output_type": "execute_result"
    }
   ],
   "source": [
    "## using in-built method\n",
    "str1 = \"Emma is a data scientist who knows Python. Emma works at google.\"\n",
    "\n",
    "last_index = str1.rfind(\"Emma\")\n",
    "last_index"
   ]
  },
  {
   "cell_type": "markdown",
   "id": "cbc7811b",
   "metadata": {},
   "source": [
    "## Exercise 13: Split a string on hyphens\n",
    "\n",
    "Write a program to split a given string on hyphens and display each substring.\n",
    "\n",
    "Given:\n",
    "\n",
    "str1 = Emma-is-a-data-scientist\n",
    "\n",
    "Expected Output:\n",
    "\n",
    "Displaying each substring\n",
    "\n",
    "Emma\n",
    "\n",
    "is\n",
    "\n",
    "a\n",
    "\n",
    "data\n",
    "\n",
    "scientist"
   ]
  },
  {
   "cell_type": "code",
   "execution_count": 50,
   "id": "834af249",
   "metadata": {},
   "outputs": [
    {
     "name": "stdout",
     "output_type": "stream",
     "text": [
      "Emma\n",
      "is\n",
      "a\n",
      "data\n",
      "scientist\n"
     ]
    }
   ],
   "source": [
    "## spilt the string using split method , it will return a list\n",
    "## iterate through the string\n",
    "str1 = \"Emma-is-a-data-scientist\"\n",
    "new_str = str1.split('-')  \n",
    "\n",
    "for i in new_str:\n",
    "    print(i)"
   ]
  },
  {
   "cell_type": "markdown",
   "id": "713bd3f8",
   "metadata": {},
   "source": [
    "## Exercise 14: Remove empty strings from a list of strings\n",
    "\n",
    "Given:\n",
    "\n",
    "str_list = [\"Emma\", \"Jon\", \"\", \"Kelly\", None, \"Eric\", \"\"]\n",
    "\n",
    "Expected Output:\n",
    "\n",
    "Original list of sting\n",
    "\n",
    "['Emma', 'Jon', '', 'Kelly', None, 'Eric', '']\n",
    "\n",
    "After removing empty strings\n",
    "\n",
    "['Emma', 'Jon', 'Kelly', 'Eric']"
   ]
  },
  {
   "cell_type": "code",
   "execution_count": 55,
   "id": "6794ad68",
   "metadata": {},
   "outputs": [
    {
     "data": {
      "text/plain": [
       "['Emma', 'Jon', 'Kelly', 'Eric']"
      ]
     },
     "execution_count": 55,
     "metadata": {},
     "output_type": "execute_result"
    }
   ],
   "source": [
    "str_list = [\"Emma\", \"Jon\", \"\", \"Kelly\", None, \"Eric\", \"\"]\n",
    "\n",
    "new_str =list(filter(bool,str_list))\n",
    "\n",
    "new_str\n"
   ]
  },
  {
   "cell_type": "code",
   "execution_count": 56,
   "id": "c1019c6f",
   "metadata": {},
   "outputs": [
    {
     "name": "stdout",
     "output_type": "stream",
     "text": [
      "['Emma', 'Jon', 'Kelly', 'Eric']\n"
     ]
    }
   ],
   "source": [
    "## Second way\n",
    "str_list = [\"Emma\", \"Jon\", \"\", \"Kelly\", None, \"Eric\", \"\"]\n",
    "res_list = []\n",
    "for s in str_list:\n",
    "    # check for non empty string\n",
    "    if s:\n",
    "        res_list.append(s)\n",
    "print(res_list)"
   ]
  },
  {
   "cell_type": "raw",
   "id": "00677744",
   "metadata": {},
   "source": [
    "Inside the loop, there is an if statement: if s:\n",
    "This condition checks if the current element s evaluates to True. In Python, empty strings (\"\") and None evaluate to False in a boolean context, while non-empty strings evaluate to True. So, this condition effectively checks if s is a non-empty string or not."
   ]
  },
  {
   "cell_type": "markdown",
   "id": "cadd1dcc",
   "metadata": {},
   "source": [
    "## Exercise 15: Remove special symbols / punctuation from a string\n",
    "\n",
    "Given:\n",
    "\n",
    "str1 = \"/*Jon is @developer & musician\"\n",
    "\n",
    "Expected Output:\n",
    "\n",
    "\"Jon is developer musician\""
   ]
  },
  {
   "cell_type": "code",
   "execution_count": 3,
   "id": "d3913aa7",
   "metadata": {},
   "outputs": [
    {
     "data": {
      "text/plain": [
       "'Jon is developer  musician'"
      ]
     },
     "execution_count": 3,
     "metadata": {},
     "output_type": "execute_result"
    }
   ],
   "source": [
    "## The string.punctuation constant contain all special symbols.\n",
    "import string\n",
    "str1 = \"/*Jon is @developer & musician\"\n",
    "new_str= str1.translate(str.maketrans('','',string.punctuation))\n",
    "new_str"
   ]
  },
  {
   "cell_type": "markdown",
   "id": "27e68b82",
   "metadata": {},
   "source": [
    "## Exercise 16: Removal all characters from a string except integers\n",
    "\n",
    "Given:\n",
    "\n",
    "str1 = 'I am 25 years and 10 months old'\n",
    "\n",
    "Expected Output:\n",
    "\n",
    "2510"
   ]
  },
  {
   "cell_type": "code",
   "execution_count": 8,
   "id": "7b114c11",
   "metadata": {},
   "outputs": [
    {
     "name": "stdout",
     "output_type": "stream",
     "text": [
      "2510\n"
     ]
    }
   ],
   "source": [
    "## Initiate an empty tring\n",
    "## Iterate through the string\n",
    "## check if it is a digit  or not by using isdigit()\n",
    "## added to the empty string\n",
    "## return the string\n",
    "\n",
    "str1 = 'I am 25 years and 10 months old'\n",
    "\n",
    "# Initialize an empty string to store digits\n",
    "res = ''\n",
    "\n",
    "# Iterate through each character in the string\n",
    "for char in str1:\n",
    "    # Check if the character is a digit\n",
    "    if char.isdigit():\n",
    "        # Append the digit to the result string\n",
    "        res += char\n",
    "\n",
    "print(res)\n"
   ]
  },
  {
   "cell_type": "code",
   "execution_count": 9,
   "id": "db0fb756",
   "metadata": {},
   "outputs": [],
   "source": [
    "def chek_digit(str1):\n",
    "    res =''\n",
    "    for char in str1:\n",
    "        if char.isdigit():\n",
    "            res+=char\n",
    "    return res\n",
    "    "
   ]
  },
  {
   "cell_type": "code",
   "execution_count": 10,
   "id": "68875124",
   "metadata": {},
   "outputs": [
    {
     "data": {
      "text/plain": [
       "'2510'"
      ]
     },
     "execution_count": 10,
     "metadata": {},
     "output_type": "execute_result"
    }
   ],
   "source": [
    "chek_digit('I am 25 years and 10 months old')"
   ]
  },
  {
   "cell_type": "markdown",
   "id": "9b3975d6",
   "metadata": {},
   "source": [
    "## Exercise 17: Find words with both alphabets and numbers\n",
    "    \n",
    "Write a program to find words with both alphabets and numbers from an input string.\n",
    "\n",
    "Given:\n",
    "    \n",
    "    str1 = \"Emma25 is Data scientist50 and AI Expert\"\n",
    "    \n",
    "Expected Output:\n",
    "\n",
    "Emma25\n",
    "\n",
    "scientist50"
   ]
  },
  {
   "cell_type": "code",
   "execution_count": null,
   "id": "9b64a0b1",
   "metadata": {},
   "outputs": [],
   "source": [
    "\n",
    "str1 = \"Emma25 is Data scientist50 and AI Expert\"\n",
    "print(\"The original string is : \" + str1)\n",
    "\n",
    "res = []\n",
    "# split string on whitespace\n",
    "temp = str1.split()\n",
    "\n",
    "# Words with both alphabets and numbers\n",
    "# isdigit() for numbers + isalpha() for alphabets\n",
    "# use any() to check each character\n",
    "\n",
    "for item in temp:\n",
    "    if any(char.isalpha() for char in item) and any(char.isdigit() for char in item):\n",
    "        res.append(item)\n",
    "\n",
    "print(\"Displaying words with alphabets and numbers\")\n",
    "for i in res:\n",
    "    print(i)\n",
    "\n"
   ]
  },
  {
   "cell_type": "markdown",
   "id": "bbd79107",
   "metadata": {},
   "source": [
    "\n",
    "## Exercise 18: Replace each special symbol with # in the following string\n",
    "\n",
    "Given:\n",
    "\n",
    "str1 = '/*Jon is @developer & musician!!'\n",
    "\n",
    "Expected Output:\n",
    "\n",
    "##Jon is #developer # musician##\n"
   ]
  },
  {
   "cell_type": "code",
   "execution_count": 25,
   "id": "a1129172",
   "metadata": {},
   "outputs": [
    {
     "name": "stdout",
     "output_type": "stream",
     "text": [
      "The original string is :  /*Jon is @developer & musician!!\n",
      "The strings after replacement :  ##Jon is #developer # musician##\n"
     ]
    }
   ],
   "source": [
    "import string\n",
    "\n",
    "str1 = '/*Jon is @developer & musician!!'\n",
    "print(\"The original string is : \", str1)\n",
    "\n",
    "# Replace punctuations with #\n",
    "replace_char = '#'\n",
    "\n",
    "# string.punctuation to get the list of all special symbols\n",
    "for char in string.punctuation:\n",
    "    str1 = str1.replace(char, replace_char)\n",
    "\n",
    "print(\"The strings after replacement : \", str1)\n"
   ]
  },
  {
   "cell_type": "code",
   "execution_count": null,
   "id": "bad42152",
   "metadata": {},
   "outputs": [],
   "source": []
  }
 ],
 "metadata": {
  "kernelspec": {
   "display_name": "Python 3 (ipykernel)",
   "language": "python",
   "name": "python3"
  },
  "language_info": {
   "codemirror_mode": {
    "name": "ipython",
    "version": 3
   },
   "file_extension": ".py",
   "mimetype": "text/x-python",
   "name": "python",
   "nbconvert_exporter": "python",
   "pygments_lexer": "ipython3",
   "version": "3.9.13"
  }
 },
 "nbformat": 4,
 "nbformat_minor": 5
}
